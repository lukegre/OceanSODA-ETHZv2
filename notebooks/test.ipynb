{
 "cells": [
  {
   "cell_type": "code",
   "execution_count": 1,
   "metadata": {},
   "outputs": [
    {
     "name": "stderr",
     "output_type": "stream",
     "text": [
      "/Users/luke/Git/OceanSODA-ETHZv2/.venv/lib/python3.12/site-packages/tqdm/auto.py:21: TqdmWarning: IProgress not found. Please update jupyter and ipywidgets. See https://ipywidgets.readthedocs.io/en/stable/user_install.html\n",
      "  from .autonotebook import tqdm as notebook_tqdm\n"
     ]
    },
    {
     "data": {
      "text/plain": [
       "1"
      ]
     },
     "execution_count": 1,
     "metadata": {},
     "output_type": "execute_result"
    }
   ],
   "source": [
    "%load_ext autoreload\n",
    "%autoreload 2\n",
    "\n",
    "import sys\n",
    "import pathlib\n",
    "\n",
    "import numpy as np\n",
    "import pandas as pd\n",
    "import xarray as xr\n",
    "import copernicusmarine\n",
    "from loguru import logger\n",
    "from tqdm.dask import TqdmCallback as ProgressBar\n",
    "\n",
    "import oceansoda_ethzv2 as ocn\n",
    "import oceansoda_ethzv2.data.utils.processors as p\n",
    "import oceansoda_ethzv2.data.utils.checker as checker\n",
    "from oceansoda_ethzv2.data.soda import SODADataset\n",
    "from oceansoda_ethzv2.data import occci\n",
    "from oceansoda_ethzv2.data.utils import config\n",
    "\n",
    "logger.remove()\n",
    "logger.add(sys.stdout, level='TRACE')"
   ]
  },
  {
   "cell_type": "code",
   "execution_count": 2,
   "metadata": {},
   "outputs": [],
   "source": [
    "catalog = config.read_dataset_config('./cmems_datasets.yaml')"
   ]
  },
  {
   "cell_type": "code",
   "execution_count": 3,
   "metadata": {},
   "outputs": [],
   "source": [
    "if 1:\n",
    "    oc = occci.OCCCIDataset(**catalog['ftp']['occci'])\n",
    "    # oc.write_timestep_to_disk(2020, 1)"
   ]
  },
  {
   "cell_type": "code",
   "execution_count": 4,
   "metadata": {},
   "outputs": [],
   "source": [
    "soda = ocn.data.soda.SODADataset(**catalog['soda']['soda_3_15_2'])\n",
    "\n",
    "# %time soda.write_timestep_to_disk(2019, 0)\n",
    "# %time soda.write_timestep_to_disk(2019, 1)"
   ]
  },
  {
   "cell_type": "code",
   "execution_count": 5,
   "metadata": {},
   "outputs": [],
   "source": [
    "if 1:\n",
    "    era5 = ocn.data.era5.ERA5Dataset(catalog['era5']['gcs_zarr'])\n",
    "    # era5.write_timestep_to_disk(2019, 0)"
   ]
  },
  {
   "cell_type": "code",
   "execution_count": 6,
   "metadata": {},
   "outputs": [
    {
     "name": "stdout",
     "output_type": "stream",
     "text": [
      "\u001b[32m2025-05-26 17:44:36.650\u001b[0m | \u001b[1mINFO    \u001b[0m | \u001b[36moceansoda_ethzv2.data.cmems\u001b[0m:\u001b[36mauthenticate\u001b[0m:\u001b[36m102\u001b[0m - \u001b[1mSuccessfully authenticated with CMEMS using provided credentials, and persisted credentials.\u001b[0m\n"
     ]
    }
   ],
   "source": [
    "if 1:\n",
    "    cmems = ocn.data.cmems.CMEMSCatalog(catalog['cmems'])\n",
    "    # duacs = cmems.datasets['duacs']\n",
    "    # duacs.write_timestep_to_disk(2020, 0)"
   ]
  },
  {
   "cell_type": "code",
   "execution_count": null,
   "metadata": {},
   "outputs": [],
   "source": [
    "out"
   ]
  }
 ],
 "metadata": {
  "kernelspec": {
   "display_name": ".venv",
   "language": "python",
   "name": "python3"
  },
  "language_info": {
   "codemirror_mode": {
    "name": "ipython",
    "version": 3
   },
   "file_extension": ".py",
   "mimetype": "text/x-python",
   "name": "python",
   "nbconvert_exporter": "python",
   "pygments_lexer": "ipython3",
   "version": "3.12.8"
  }
 },
 "nbformat": 4,
 "nbformat_minor": 2
}
