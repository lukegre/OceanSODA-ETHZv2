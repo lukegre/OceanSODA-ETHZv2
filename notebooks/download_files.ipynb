{
 "cells": [
  {
   "cell_type": "code",
   "execution_count": 2,
   "metadata": {
    "execution": {
     "iopub.execute_input": "2025-05-30T09:53:11.441312Z",
     "iopub.status.busy": "2025-05-30T09:53:11.440717Z",
     "iopub.status.idle": "2025-05-30T09:53:11.551001Z",
     "shell.execute_reply": "2025-05-30T09:53:11.549101Z",
     "shell.execute_reply.started": "2025-05-30T09:53:11.441261Z"
    }
   },
   "outputs": [
    {
     "name": "stdout",
     "output_type": "stream",
     "text": [
      "The autoreload extension is already loaded. To reload it, use:\n",
      "  %reload_ext autoreload\n"
     ]
    },
    {
     "data": {
      "text/plain": [
       "2"
      ]
     },
     "execution_count": 2,
     "metadata": {},
     "output_type": "execute_result"
    }
   ],
   "source": [
    "%load_ext autoreload\n",
    "%autoreload 2\n",
    "\n",
    "import sys\n",
    "import pathlib\n",
    "\n",
    "import numpy as np\n",
    "import pandas as pd\n",
    "import xarray as xr\n",
    "from tqdm.dask import TqdmCallback as ProgressBar\n",
    "import oceansoda_ethzv2 as ocn\n",
    "from oceansoda_ethzv2.data.utils import config\n",
    "from loguru import logger\n",
    "\n",
    "logger.remove()\n",
    "logger.add(sys.stdout, level='DEBUG')\n",
    "logger.add('./dataset_download.log', level='DEBUG')"
   ]
  },
  {
   "cell_type": "markdown",
   "metadata": {},
   "source": [
    "# Downloading data"
   ]
  },
  {
   "cell_type": "code",
   "execution_count": 65,
   "metadata": {
    "execution": {
     "iopub.execute_input": "2025-05-30T10:32:09.406974Z",
     "iopub.status.busy": "2025-05-30T10:32:09.406352Z",
     "iopub.status.idle": "2025-05-30T10:32:09.592046Z",
     "shell.execute_reply": "2025-05-30T10:32:09.590632Z",
     "shell.execute_reply.started": "2025-05-30T10:32:09.406923Z"
    }
   },
   "outputs": [],
   "source": [
    "catalog = config.read_dataset_config('dataset_sources.yaml')\n",
    "datasets = dict(\n",
    "    # sst_cci = ocn.data.HTTPDailyDataset(**catalog['ceda']['sstcci']),     # sst\n",
    "    # sss_cci = ocn.data.HTTPDailyDataset(**catalog['ceda']['ssscci']),     # sss\n",
    "    # chl_cci = ocn.data.OCCCIDataset(**catalog['ftp']['occci']),           # chl\n",
    "    # soda = ocn.data.SODADataset(**catalog['soda']['soda_3_15_2']),        # mld / sss  --- note, using local files - throws error otherwise\n",
    "    # ssh_duacs = ocn.data.CMEMSDataset(catalog['cmems']['duacs']),         # ssh\n",
    "    # cmems_multiobs = ocn.data.CMEMSDataset(catalog['cmems']['multiobs']),   # sss\n",
    "    # cmems_multiobs = ocn.data.CMEMSDataset(catalog['cmems']['multiobs']),   # sss\n",
    "    # era5 = ocn.data.era5.ERA5Dataset(catalog['era5']['gcs_zarr']),        # wind /press\n",
    "    # sst_noaa = ocn.data.HTTPDailyDataset(**catalog['ceda']['sst_noaa'])   # sst filler\n",
    ")"
   ]
  },
  {
   "cell_type": "code",
   "execution_count": 70,
   "metadata": {
    "execution": {
     "iopub.execute_input": "2025-05-30T10:33:54.502157Z",
     "iopub.status.busy": "2025-05-30T10:33:54.501496Z",
     "iopub.status.idle": "2025-05-30T10:33:54.552150Z",
     "shell.execute_reply": "2025-05-30T10:33:54.550266Z",
     "shell.execute_reply.started": "2025-05-30T10:33:54.502107Z"
    }
   },
   "outputs": [],
   "source": [
    "multiobs = datasets['cmems_multiobs']"
   ]
  },
  {
   "cell_type": "code",
   "execution_count": 84,
   "metadata": {
    "execution": {
     "iopub.execute_input": "2025-05-30T11:46:36.858971Z",
     "iopub.status.busy": "2025-05-30T11:46:36.857513Z",
     "iopub.status.idle": "2025-05-30T11:46:37.019449Z",
     "shell.execute_reply": "2025-05-30T11:46:37.017118Z",
     "shell.execute_reply.started": "2025-05-30T11:46:36.858893Z"
    }
   },
   "outputs": [
    {
     "data": {
      "text/html": [
       "<div><svg style=\"position: absolute; width: 0; height: 0; overflow: hidden\">\n",
       "<defs>\n",
       "<symbol id=\"icon-database\" viewBox=\"0 0 32 32\">\n",
       "<path d=\"M16 0c-8.837 0-16 2.239-16 5v4c0 2.761 7.163 5 16 5s16-2.239 16-5v-4c0-2.761-7.163-5-16-5z\"></path>\n",
       "<path d=\"M16 17c-8.837 0-16-2.239-16-5v6c0 2.761 7.163 5 16 5s16-2.239 16-5v-6c0 2.761-7.163 5-16 5z\"></path>\n",
       "<path d=\"M16 26c-8.837 0-16-2.239-16-5v6c0 2.761 7.163 5 16 5s16-2.239 16-5v-6c0 2.761-7.163 5-16 5z\"></path>\n",
       "</symbol>\n",
       "<symbol id=\"icon-file-text2\" viewBox=\"0 0 32 32\">\n",
       "<path d=\"M28.681 7.159c-0.694-0.947-1.662-2.053-2.724-3.116s-2.169-2.030-3.116-2.724c-1.612-1.182-2.393-1.319-2.841-1.319h-15.5c-1.378 0-2.5 1.121-2.5 2.5v27c0 1.378 1.122 2.5 2.5 2.5h23c1.378 0 2.5-1.122 2.5-2.5v-19.5c0-0.448-0.137-1.23-1.319-2.841zM24.543 5.457c0.959 0.959 1.712 1.825 2.268 2.543h-4.811v-4.811c0.718 0.556 1.584 1.309 2.543 2.268zM28 29.5c0 0.271-0.229 0.5-0.5 0.5h-23c-0.271 0-0.5-0.229-0.5-0.5v-27c0-0.271 0.229-0.5 0.5-0.5 0 0 15.499-0 15.5 0v7c0 0.552 0.448 1 1 1h7v19.5z\"></path>\n",
       "<path d=\"M23 26h-14c-0.552 0-1-0.448-1-1s0.448-1 1-1h14c0.552 0 1 0.448 1 1s-0.448 1-1 1z\"></path>\n",
       "<path d=\"M23 22h-14c-0.552 0-1-0.448-1-1s0.448-1 1-1h14c0.552 0 1 0.448 1 1s-0.448 1-1 1z\"></path>\n",
       "<path d=\"M23 18h-14c-0.552 0-1-0.448-1-1s0.448-1 1-1h14c0.552 0 1 0.448 1 1s-0.448 1-1 1z\"></path>\n",
       "</symbol>\n",
       "</defs>\n",
       "</svg>\n",
       "<style>/* CSS stylesheet for displaying xarray objects in jupyterlab.\n",
       " *\n",
       " */\n",
       "\n",
       ":root {\n",
       "  --xr-font-color0: var(--jp-content-font-color0, rgba(0, 0, 0, 1));\n",
       "  --xr-font-color2: var(--jp-content-font-color2, rgba(0, 0, 0, 0.54));\n",
       "  --xr-font-color3: var(--jp-content-font-color3, rgba(0, 0, 0, 0.38));\n",
       "  --xr-border-color: var(--jp-border-color2, #e0e0e0);\n",
       "  --xr-disabled-color: var(--jp-layout-color3, #bdbdbd);\n",
       "  --xr-background-color: var(--jp-layout-color0, white);\n",
       "  --xr-background-color-row-even: var(--jp-layout-color1, white);\n",
       "  --xr-background-color-row-odd: var(--jp-layout-color2, #eeeeee);\n",
       "}\n",
       "\n",
       "html[theme=\"dark\"],\n",
       "html[data-theme=\"dark\"],\n",
       "body[data-theme=\"dark\"],\n",
       "body.vscode-dark {\n",
       "  --xr-font-color0: rgba(255, 255, 255, 1);\n",
       "  --xr-font-color2: rgba(255, 255, 255, 0.54);\n",
       "  --xr-font-color3: rgba(255, 255, 255, 0.38);\n",
       "  --xr-border-color: #1f1f1f;\n",
       "  --xr-disabled-color: #515151;\n",
       "  --xr-background-color: #111111;\n",
       "  --xr-background-color-row-even: #111111;\n",
       "  --xr-background-color-row-odd: #313131;\n",
       "}\n",
       "\n",
       ".xr-wrap {\n",
       "  display: block !important;\n",
       "  min-width: 300px;\n",
       "  max-width: 700px;\n",
       "}\n",
       "\n",
       ".xr-text-repr-fallback {\n",
       "  /* fallback to plain text repr when CSS is not injected (untrusted notebook) */\n",
       "  display: none;\n",
       "}\n",
       "\n",
       ".xr-header {\n",
       "  padding-top: 6px;\n",
       "  padding-bottom: 6px;\n",
       "  margin-bottom: 4px;\n",
       "  border-bottom: solid 1px var(--xr-border-color);\n",
       "}\n",
       "\n",
       ".xr-header > div,\n",
       ".xr-header > ul {\n",
       "  display: inline;\n",
       "  margin-top: 0;\n",
       "  margin-bottom: 0;\n",
       "}\n",
       "\n",
       ".xr-obj-type,\n",
       ".xr-array-name {\n",
       "  margin-left: 2px;\n",
       "  margin-right: 10px;\n",
       "}\n",
       "\n",
       ".xr-obj-type {\n",
       "  color: var(--xr-font-color2);\n",
       "}\n",
       "\n",
       ".xr-sections {\n",
       "  padding-left: 0 !important;\n",
       "  display: grid;\n",
       "  grid-template-columns: 150px auto auto 1fr 0 20px 0 20px;\n",
       "}\n",
       "\n",
       ".xr-section-item {\n",
       "  display: contents;\n",
       "}\n",
       "\n",
       ".xr-section-item input {\n",
       "  display: inline-block;\n",
       "  opacity: 0;\n",
       "  height: 0;\n",
       "}\n",
       "\n",
       ".xr-section-item input + label {\n",
       "  color: var(--xr-disabled-color);\n",
       "}\n",
       "\n",
       ".xr-section-item input:enabled + label {\n",
       "  cursor: pointer;\n",
       "  color: var(--xr-font-color2);\n",
       "}\n",
       "\n",
       ".xr-section-item input:focus + label {\n",
       "  border: 2px solid var(--xr-font-color0);\n",
       "}\n",
       "\n",
       ".xr-section-item input:enabled + label:hover {\n",
       "  color: var(--xr-font-color0);\n",
       "}\n",
       "\n",
       ".xr-section-summary {\n",
       "  grid-column: 1;\n",
       "  color: var(--xr-font-color2);\n",
       "  font-weight: 500;\n",
       "}\n",
       "\n",
       ".xr-section-summary > span {\n",
       "  display: inline-block;\n",
       "  padding-left: 0.5em;\n",
       "}\n",
       "\n",
       ".xr-section-summary-in:disabled + label {\n",
       "  color: var(--xr-font-color2);\n",
       "}\n",
       "\n",
       ".xr-section-summary-in + label:before {\n",
       "  display: inline-block;\n",
       "  content: \"►\";\n",
       "  font-size: 11px;\n",
       "  width: 15px;\n",
       "  text-align: center;\n",
       "}\n",
       "\n",
       ".xr-section-summary-in:disabled + label:before {\n",
       "  color: var(--xr-disabled-color);\n",
       "}\n",
       "\n",
       ".xr-section-summary-in:checked + label:before {\n",
       "  content: \"▼\";\n",
       "}\n",
       "\n",
       ".xr-section-summary-in:checked + label > span {\n",
       "  display: none;\n",
       "}\n",
       "\n",
       ".xr-section-summary,\n",
       ".xr-section-inline-details {\n",
       "  padding-top: 4px;\n",
       "  padding-bottom: 4px;\n",
       "}\n",
       "\n",
       ".xr-section-inline-details {\n",
       "  grid-column: 2 / -1;\n",
       "}\n",
       "\n",
       ".xr-section-details {\n",
       "  display: none;\n",
       "  grid-column: 1 / -1;\n",
       "  margin-bottom: 5px;\n",
       "}\n",
       "\n",
       ".xr-section-summary-in:checked ~ .xr-section-details {\n",
       "  display: contents;\n",
       "}\n",
       "\n",
       ".xr-array-wrap {\n",
       "  grid-column: 1 / -1;\n",
       "  display: grid;\n",
       "  grid-template-columns: 20px auto;\n",
       "}\n",
       "\n",
       ".xr-array-wrap > label {\n",
       "  grid-column: 1;\n",
       "  vertical-align: top;\n",
       "}\n",
       "\n",
       ".xr-preview {\n",
       "  color: var(--xr-font-color3);\n",
       "}\n",
       "\n",
       ".xr-array-preview,\n",
       ".xr-array-data {\n",
       "  padding: 0 5px !important;\n",
       "  grid-column: 2;\n",
       "}\n",
       "\n",
       ".xr-array-data,\n",
       ".xr-array-in:checked ~ .xr-array-preview {\n",
       "  display: none;\n",
       "}\n",
       "\n",
       ".xr-array-in:checked ~ .xr-array-data,\n",
       ".xr-array-preview {\n",
       "  display: inline-block;\n",
       "}\n",
       "\n",
       ".xr-dim-list {\n",
       "  display: inline-block !important;\n",
       "  list-style: none;\n",
       "  padding: 0 !important;\n",
       "  margin: 0;\n",
       "}\n",
       "\n",
       ".xr-dim-list li {\n",
       "  display: inline-block;\n",
       "  padding: 0;\n",
       "  margin: 0;\n",
       "}\n",
       "\n",
       ".xr-dim-list:before {\n",
       "  content: \"(\";\n",
       "}\n",
       "\n",
       ".xr-dim-list:after {\n",
       "  content: \")\";\n",
       "}\n",
       "\n",
       ".xr-dim-list li:not(:last-child):after {\n",
       "  content: \",\";\n",
       "  padding-right: 5px;\n",
       "}\n",
       "\n",
       ".xr-has-index {\n",
       "  font-weight: bold;\n",
       "}\n",
       "\n",
       ".xr-var-list,\n",
       ".xr-var-item {\n",
       "  display: contents;\n",
       "}\n",
       "\n",
       ".xr-var-item > div,\n",
       ".xr-var-item label,\n",
       ".xr-var-item > .xr-var-name span {\n",
       "  background-color: var(--xr-background-color-row-even);\n",
       "  margin-bottom: 0;\n",
       "}\n",
       "\n",
       ".xr-var-item > .xr-var-name:hover span {\n",
       "  padding-right: 5px;\n",
       "}\n",
       "\n",
       ".xr-var-list > li:nth-child(odd) > div,\n",
       ".xr-var-list > li:nth-child(odd) > label,\n",
       ".xr-var-list > li:nth-child(odd) > .xr-var-name span {\n",
       "  background-color: var(--xr-background-color-row-odd);\n",
       "}\n",
       "\n",
       ".xr-var-name {\n",
       "  grid-column: 1;\n",
       "}\n",
       "\n",
       ".xr-var-dims {\n",
       "  grid-column: 2;\n",
       "}\n",
       "\n",
       ".xr-var-dtype {\n",
       "  grid-column: 3;\n",
       "  text-align: right;\n",
       "  color: var(--xr-font-color2);\n",
       "}\n",
       "\n",
       ".xr-var-preview {\n",
       "  grid-column: 4;\n",
       "}\n",
       "\n",
       ".xr-index-preview {\n",
       "  grid-column: 2 / 5;\n",
       "  color: var(--xr-font-color2);\n",
       "}\n",
       "\n",
       ".xr-var-name,\n",
       ".xr-var-dims,\n",
       ".xr-var-dtype,\n",
       ".xr-preview,\n",
       ".xr-attrs dt {\n",
       "  white-space: nowrap;\n",
       "  overflow: hidden;\n",
       "  text-overflow: ellipsis;\n",
       "  padding-right: 10px;\n",
       "}\n",
       "\n",
       ".xr-var-name:hover,\n",
       ".xr-var-dims:hover,\n",
       ".xr-var-dtype:hover,\n",
       ".xr-attrs dt:hover {\n",
       "  overflow: visible;\n",
       "  width: auto;\n",
       "  z-index: 1;\n",
       "}\n",
       "\n",
       ".xr-var-attrs,\n",
       ".xr-var-data,\n",
       ".xr-index-data {\n",
       "  display: none;\n",
       "  background-color: var(--xr-background-color) !important;\n",
       "  padding-bottom: 5px !important;\n",
       "}\n",
       "\n",
       ".xr-var-attrs-in:checked ~ .xr-var-attrs,\n",
       ".xr-var-data-in:checked ~ .xr-var-data,\n",
       ".xr-index-data-in:checked ~ .xr-index-data {\n",
       "  display: block;\n",
       "}\n",
       "\n",
       ".xr-var-data > table {\n",
       "  float: right;\n",
       "}\n",
       "\n",
       ".xr-var-name span,\n",
       ".xr-var-data,\n",
       ".xr-index-name div,\n",
       ".xr-index-data,\n",
       ".xr-attrs {\n",
       "  padding-left: 25px !important;\n",
       "}\n",
       "\n",
       ".xr-attrs,\n",
       ".xr-var-attrs,\n",
       ".xr-var-data,\n",
       ".xr-index-data {\n",
       "  grid-column: 1 / -1;\n",
       "}\n",
       "\n",
       "dl.xr-attrs {\n",
       "  padding: 0;\n",
       "  margin: 0;\n",
       "  display: grid;\n",
       "  grid-template-columns: 125px auto;\n",
       "}\n",
       "\n",
       ".xr-attrs dt,\n",
       ".xr-attrs dd {\n",
       "  padding: 0;\n",
       "  margin: 0;\n",
       "  float: left;\n",
       "  padding-right: 10px;\n",
       "  width: auto;\n",
       "}\n",
       "\n",
       ".xr-attrs dt {\n",
       "  font-weight: normal;\n",
       "  grid-column: 1;\n",
       "}\n",
       "\n",
       ".xr-attrs dt:hover span {\n",
       "  display: inline-block;\n",
       "  background: var(--xr-background-color);\n",
       "  padding-right: 10px;\n",
       "}\n",
       "\n",
       ".xr-attrs dd {\n",
       "  grid-column: 2;\n",
       "  white-space: pre-wrap;\n",
       "  word-break: break-all;\n",
       "}\n",
       "\n",
       ".xr-icon-database,\n",
       ".xr-icon-file-text2,\n",
       ".xr-no-icon {\n",
       "  display: inline-block;\n",
       "  vertical-align: middle;\n",
       "  width: 1em;\n",
       "  height: 1.5em !important;\n",
       "  stroke-width: 0;\n",
       "  stroke: currentColor;\n",
       "  fill: currentColor;\n",
       "}\n",
       "</style><pre class='xr-text-repr-fallback'>&lt;xarray.Dataset&gt; Size: 8MB\n",
       "Dimensions:                    (time: 1, lat: 720, lon: 1440)\n",
       "Coordinates:\n",
       "  * time                       (time) datetime64[ns] 8B 2024-01-04T12:00:00\n",
       "  * lat                        (lat) float64 6kB -89.88 -89.62 ... 89.62 89.88\n",
       "  * lon                        (lon) float64 12kB -179.9 -179.6 ... 179.6 179.9\n",
       "Data variables:\n",
       "    sss_multiobs               (time, lat, lon) float32 4MB dask.array&lt;chunksize=(1, 720, 1440), meta=np.ndarray&gt;\n",
       "    flag_multiobs              (time) float32 4B dask.array&lt;chunksize=(1,), meta=np.ndarray&gt;\n",
       "    sss_multiobs_sigma_regrid  (time, lat, lon) float32 4MB dask.array&lt;chunksize=(1, 720, 1440), meta=np.ndarray&gt;\n",
       "Attributes:\n",
       "    title:                    Global Analysed Sea Surface Salinity and Density\n",
       "    references:               Buongiorno Nardelli, B., R. Droghei, and R. San...\n",
       "    institution:              CNR\n",
       "    Conventions:              CF-1.7\n",
       "    contact:                  servicedesk.cmems@mercator-ocean.eu\n",
       "    processing_renamed_vars:  {&#x27;latitude&#x27;: &#x27;lat&#x27;, &#x27;longitude&#x27;: &#x27;lon&#x27;, &#x27;sos&#x27;: ...\n",
       "    processing_coarsen_grid:  {&#x27;boundary&#x27;: &#x27;pad&#x27;, &#x27;time&#x27;: 8, &#x27;lat&#x27;: 2, &#x27;lon&#x27;: 2}</pre><div class='xr-wrap' style='display:none'><div class='xr-header'><div class='xr-obj-type'>xarray.Dataset</div></div><ul class='xr-sections'><li class='xr-section-item'><input id='section-a4e044f0-d083-4257-8e24-5a712b13e885' class='xr-section-summary-in' type='checkbox' disabled ><label for='section-a4e044f0-d083-4257-8e24-5a712b13e885' class='xr-section-summary'  title='Expand/collapse section'>Dimensions:</label><div class='xr-section-inline-details'><ul class='xr-dim-list'><li><span class='xr-has-index'>time</span>: 1</li><li><span class='xr-has-index'>lat</span>: 720</li><li><span class='xr-has-index'>lon</span>: 1440</li></ul></div><div class='xr-section-details'></div></li><li class='xr-section-item'><input id='section-5e0cebe0-3026-405a-af99-81086f537b55' class='xr-section-summary-in' type='checkbox'  checked><label for='section-5e0cebe0-3026-405a-af99-81086f537b55' class='xr-section-summary' >Coordinates: <span>(3)</span></label><div class='xr-section-inline-details'></div><div class='xr-section-details'><ul class='xr-var-list'><li class='xr-var-item'><div class='xr-var-name'><span class='xr-has-index'>time</span></div><div class='xr-var-dims'>(time)</div><div class='xr-var-dtype'>datetime64[ns]</div><div class='xr-var-preview xr-preview'>2024-01-04T12:00:00</div><input id='attrs-75763a32-4dc2-425e-8f0c-ec99e0a47e59' class='xr-var-attrs-in' type='checkbox' ><label for='attrs-75763a32-4dc2-425e-8f0c-ec99e0a47e59' title='Show/Hide attributes'><svg class='icon xr-icon-file-text2'><use xlink:href='#icon-file-text2'></use></svg></label><input id='data-6a4175a7-181d-4369-8430-be6d4fd168e9' class='xr-var-data-in' type='checkbox'><label for='data-6a4175a7-181d-4369-8430-be6d4fd168e9' title='Show/Hide data repr'><svg class='icon xr-icon-database'><use xlink:href='#icon-database'></use></svg></label><div class='xr-var-attrs'><dl class='xr-attrs'><dt><span>standard_name :</span></dt><dd>time</dd><dt><span>axis :</span></dt><dd>T</dd><dt><span>unit_long :</span></dt><dd>Hours Since 1950-01-01</dd><dt><span>long_name :</span></dt><dd>Time</dd></dl></div><div class='xr-var-data'><pre>array([&#x27;2024-01-04T12:00:00.000000000&#x27;], dtype=&#x27;datetime64[ns]&#x27;)</pre></div></li><li class='xr-var-item'><div class='xr-var-name'><span class='xr-has-index'>lat</span></div><div class='xr-var-dims'>(lat)</div><div class='xr-var-dtype'>float64</div><div class='xr-var-preview xr-preview'>-89.88 -89.62 ... 89.62 89.88</div><input id='attrs-f9ce0ff6-c1d8-431c-a962-2af99953bd3f' class='xr-var-attrs-in' type='checkbox' ><label for='attrs-f9ce0ff6-c1d8-431c-a962-2af99953bd3f' title='Show/Hide attributes'><svg class='icon xr-icon-file-text2'><use xlink:href='#icon-file-text2'></use></svg></label><input id='data-463fa098-2742-451f-9041-88cdb92cc13c' class='xr-var-data-in' type='checkbox'><label for='data-463fa098-2742-451f-9041-88cdb92cc13c' title='Show/Hide data repr'><svg class='icon xr-icon-database'><use xlink:href='#icon-database'></use></svg></label><div class='xr-var-attrs'><dl class='xr-attrs'><dt><span>standard_name :</span></dt><dd>latitude</dd><dt><span>axis :</span></dt><dd>Y</dd><dt><span>units :</span></dt><dd>degrees_north</dd></dl></div><div class='xr-var-data'><pre>array([-89.875, -89.625, -89.375, ...,  89.375,  89.625,  89.875], shape=(720,))</pre></div></li><li class='xr-var-item'><div class='xr-var-name'><span class='xr-has-index'>lon</span></div><div class='xr-var-dims'>(lon)</div><div class='xr-var-dtype'>float64</div><div class='xr-var-preview xr-preview'>-179.9 -179.6 ... 179.6 179.9</div><input id='attrs-c4b83fcf-0ba0-41b3-809b-ddc27683c6af' class='xr-var-attrs-in' type='checkbox' ><label for='attrs-c4b83fcf-0ba0-41b3-809b-ddc27683c6af' title='Show/Hide attributes'><svg class='icon xr-icon-file-text2'><use xlink:href='#icon-file-text2'></use></svg></label><input id='data-d348f6c3-82fd-4e31-9c0c-88f67ce12d90' class='xr-var-data-in' type='checkbox'><label for='data-d348f6c3-82fd-4e31-9c0c-88f67ce12d90' title='Show/Hide data repr'><svg class='icon xr-icon-database'><use xlink:href='#icon-database'></use></svg></label><div class='xr-var-attrs'><dl class='xr-attrs'><dt><span>standard_name :</span></dt><dd>longitude</dd><dt><span>axis :</span></dt><dd>X</dd><dt><span>units :</span></dt><dd>degrees_east</dd></dl></div><div class='xr-var-data'><pre>array([-179.875, -179.625, -179.375, ...,  179.375,  179.625,  179.875],\n",
       "      shape=(1440,))</pre></div></li></ul></div></li><li class='xr-section-item'><input id='section-21b654e4-c185-4d7d-a4e4-81f714e7bc0e' class='xr-section-summary-in' type='checkbox'  checked><label for='section-21b654e4-c185-4d7d-a4e4-81f714e7bc0e' class='xr-section-summary' >Data variables: <span>(3)</span></label><div class='xr-section-inline-details'></div><div class='xr-section-details'><ul class='xr-var-list'><li class='xr-var-item'><div class='xr-var-name'><span>sss_multiobs</span></div><div class='xr-var-dims'>(time, lat, lon)</div><div class='xr-var-dtype'>float32</div><div class='xr-var-preview xr-preview'>dask.array&lt;chunksize=(1, 720, 1440), meta=np.ndarray&gt;</div><input id='attrs-64f0017f-b255-4794-9842-74e67a06fb5f' class='xr-var-attrs-in' type='checkbox' ><label for='attrs-64f0017f-b255-4794-9842-74e67a06fb5f' title='Show/Hide attributes'><svg class='icon xr-icon-file-text2'><use xlink:href='#icon-file-text2'></use></svg></label><input id='data-052309e4-bb80-4717-929d-9c01627553a0' class='xr-var-data-in' type='checkbox'><label for='data-052309e4-bb80-4717-929d-9c01627553a0' title='Show/Hide data repr'><svg class='icon xr-icon-database'><use xlink:href='#icon-database'></use></svg></label><div class='xr-var-attrs'><dl class='xr-attrs'><dt><span>long_name :</span></dt><dd>sea surface salinity</dd><dt><span>standard_name :</span></dt><dd>sea_surface_salinity</dd><dt><span>units :</span></dt><dd>.001</dd></dl></div><div class='xr-var-data'><table>\n",
       "    <tr>\n",
       "        <td>\n",
       "            <table style=\"border-collapse: collapse;\">\n",
       "                <thead>\n",
       "                    <tr>\n",
       "                        <td> </td>\n",
       "                        <th> Array </th>\n",
       "                        <th> Chunk </th>\n",
       "                    </tr>\n",
       "                </thead>\n",
       "                <tbody>\n",
       "                    \n",
       "                    <tr>\n",
       "                        <th> Bytes </th>\n",
       "                        <td> 3.96 MiB </td>\n",
       "                        <td> 3.96 MiB </td>\n",
       "                    </tr>\n",
       "                    \n",
       "                    <tr>\n",
       "                        <th> Shape </th>\n",
       "                        <td> (1, 720, 1440) </td>\n",
       "                        <td> (1, 720, 1440) </td>\n",
       "                    </tr>\n",
       "                    <tr>\n",
       "                        <th> Dask graph </th>\n",
       "                        <td colspan=\"2\"> 1 chunks in 31 graph layers </td>\n",
       "                    </tr>\n",
       "                    <tr>\n",
       "                        <th> Data type </th>\n",
       "                        <td colspan=\"2\"> float32 numpy.ndarray </td>\n",
       "                    </tr>\n",
       "                </tbody>\n",
       "            </table>\n",
       "        </td>\n",
       "        <td>\n",
       "        <svg width=\"194\" height=\"124\" style=\"stroke:rgb(0,0,0);stroke-width:1\" >\n",
       "\n",
       "  <!-- Horizontal lines -->\n",
       "  <line x1=\"10\" y1=\"0\" x2=\"24\" y2=\"14\" style=\"stroke-width:2\" />\n",
       "  <line x1=\"10\" y1=\"60\" x2=\"24\" y2=\"74\" style=\"stroke-width:2\" />\n",
       "\n",
       "  <!-- Vertical lines -->\n",
       "  <line x1=\"10\" y1=\"0\" x2=\"10\" y2=\"60\" style=\"stroke-width:2\" />\n",
       "  <line x1=\"24\" y1=\"14\" x2=\"24\" y2=\"74\" style=\"stroke-width:2\" />\n",
       "\n",
       "  <!-- Colored Rectangle -->\n",
       "  <polygon points=\"10.0,0.0 24.9485979497544,14.948597949754403 24.9485979497544,74.9485979497544 10.0,60.0\" style=\"fill:#ECB172A0;stroke-width:0\"/>\n",
       "\n",
       "  <!-- Horizontal lines -->\n",
       "  <line x1=\"10\" y1=\"0\" x2=\"130\" y2=\"0\" style=\"stroke-width:2\" />\n",
       "  <line x1=\"24\" y1=\"14\" x2=\"144\" y2=\"14\" style=\"stroke-width:2\" />\n",
       "\n",
       "  <!-- Vertical lines -->\n",
       "  <line x1=\"10\" y1=\"0\" x2=\"24\" y2=\"14\" style=\"stroke-width:2\" />\n",
       "  <line x1=\"130\" y1=\"0\" x2=\"144\" y2=\"14\" style=\"stroke-width:2\" />\n",
       "\n",
       "  <!-- Colored Rectangle -->\n",
       "  <polygon points=\"10.0,0.0 130.0,0.0 144.9485979497544,14.948597949754403 24.9485979497544,14.948597949754403\" style=\"fill:#ECB172A0;stroke-width:0\"/>\n",
       "\n",
       "  <!-- Horizontal lines -->\n",
       "  <line x1=\"24\" y1=\"14\" x2=\"144\" y2=\"14\" style=\"stroke-width:2\" />\n",
       "  <line x1=\"24\" y1=\"74\" x2=\"144\" y2=\"74\" style=\"stroke-width:2\" />\n",
       "\n",
       "  <!-- Vertical lines -->\n",
       "  <line x1=\"24\" y1=\"14\" x2=\"24\" y2=\"74\" style=\"stroke-width:2\" />\n",
       "  <line x1=\"144\" y1=\"14\" x2=\"144\" y2=\"74\" style=\"stroke-width:2\" />\n",
       "\n",
       "  <!-- Colored Rectangle -->\n",
       "  <polygon points=\"24.9485979497544,14.948597949754403 144.9485979497544,14.948597949754403 144.9485979497544,74.9485979497544 24.9485979497544,74.9485979497544\" style=\"fill:#ECB172A0;stroke-width:0\"/>\n",
       "\n",
       "  <!-- Text -->\n",
       "  <text x=\"84.948598\" y=\"94.948598\" font-size=\"1.0rem\" font-weight=\"100\" text-anchor=\"middle\" >1440</text>\n",
       "  <text x=\"164.948598\" y=\"44.948598\" font-size=\"1.0rem\" font-weight=\"100\" text-anchor=\"middle\" transform=\"rotate(-90,164.948598,44.948598)\">720</text>\n",
       "  <text x=\"7.474299\" y=\"87.474299\" font-size=\"1.0rem\" font-weight=\"100\" text-anchor=\"middle\" transform=\"rotate(45,7.474299,87.474299)\">1</text>\n",
       "</svg>\n",
       "        </td>\n",
       "    </tr>\n",
       "</table></div></li><li class='xr-var-item'><div class='xr-var-name'><span>flag_multiobs</span></div><div class='xr-var-dims'>(time)</div><div class='xr-var-dtype'>float32</div><div class='xr-var-preview xr-preview'>dask.array&lt;chunksize=(1,), meta=np.ndarray&gt;</div><input id='attrs-bf4d4b34-e128-478a-b2c5-4ce7c0eb3538' class='xr-var-attrs-in' type='checkbox' disabled><label for='attrs-bf4d4b34-e128-478a-b2c5-4ce7c0eb3538' title='Show/Hide attributes'><svg class='icon xr-icon-file-text2'><use xlink:href='#icon-file-text2'></use></svg></label><input id='data-9bb9896e-e592-4bd3-907f-c2cf4d15e80d' class='xr-var-data-in' type='checkbox'><label for='data-9bb9896e-e592-4bd3-907f-c2cf4d15e80d' title='Show/Hide data repr'><svg class='icon xr-icon-database'><use xlink:href='#icon-database'></use></svg></label><div class='xr-var-attrs'><dl class='xr-attrs'></dl></div><div class='xr-var-data'><table>\n",
       "    <tr>\n",
       "        <td>\n",
       "            <table style=\"border-collapse: collapse;\">\n",
       "                <thead>\n",
       "                    <tr>\n",
       "                        <td> </td>\n",
       "                        <th> Array </th>\n",
       "                        <th> Chunk </th>\n",
       "                    </tr>\n",
       "                </thead>\n",
       "                <tbody>\n",
       "                    \n",
       "                    <tr>\n",
       "                        <th> Bytes </th>\n",
       "                        <td> 4 B </td>\n",
       "                        <td> 4 B </td>\n",
       "                    </tr>\n",
       "                    \n",
       "                    <tr>\n",
       "                        <th> Shape </th>\n",
       "                        <td> (1,) </td>\n",
       "                        <td> (1,) </td>\n",
       "                    </tr>\n",
       "                    <tr>\n",
       "                        <th> Dask graph </th>\n",
       "                        <td colspan=\"2\"> 1 chunks in 8 graph layers </td>\n",
       "                    </tr>\n",
       "                    <tr>\n",
       "                        <th> Data type </th>\n",
       "                        <td colspan=\"2\"> float32 numpy.ndarray </td>\n",
       "                    </tr>\n",
       "                </tbody>\n",
       "            </table>\n",
       "        </td>\n",
       "        <td>\n",
       "        <svg width=\"170\" height=\"170\" style=\"stroke:rgb(0,0,0);stroke-width:1\" >\n",
       "\n",
       "  <!-- Horizontal lines -->\n",
       "  <line x1=\"0\" y1=\"0\" x2=\"120\" y2=\"0\" style=\"stroke-width:2\" />\n",
       "  <line x1=\"0\" y1=\"120\" x2=\"120\" y2=\"120\" style=\"stroke-width:2\" />\n",
       "\n",
       "  <!-- Vertical lines -->\n",
       "  <line x1=\"0\" y1=\"0\" x2=\"0\" y2=\"120\" style=\"stroke-width:2\" />\n",
       "  <line x1=\"120\" y1=\"0\" x2=\"120\" y2=\"120\" style=\"stroke-width:2\" />\n",
       "\n",
       "  <!-- Colored Rectangle -->\n",
       "  <polygon points=\"0.0,0.0 120.0,0.0 120.0,120.0 0.0,120.0\" style=\"fill:#ECB172A0;stroke-width:0\"/>\n",
       "\n",
       "  <!-- Text -->\n",
       "  <text x=\"60.000000\" y=\"140.000000\" font-size=\"1.0rem\" font-weight=\"100\" text-anchor=\"middle\" >1</text>\n",
       "  <text x=\"140.000000\" y=\"60.000000\" font-size=\"1.0rem\" font-weight=\"100\" text-anchor=\"middle\" transform=\"rotate(0,140.000000,60.000000)\">1</text>\n",
       "</svg>\n",
       "        </td>\n",
       "    </tr>\n",
       "</table></div></li><li class='xr-var-item'><div class='xr-var-name'><span>sss_multiobs_sigma_regrid</span></div><div class='xr-var-dims'>(time, lat, lon)</div><div class='xr-var-dtype'>float32</div><div class='xr-var-preview xr-preview'>dask.array&lt;chunksize=(1, 720, 1440), meta=np.ndarray&gt;</div><input id='attrs-4c2f40c8-565b-48bb-b79d-6cd76a49298c' class='xr-var-attrs-in' type='checkbox' ><label for='attrs-4c2f40c8-565b-48bb-b79d-6cd76a49298c' title='Show/Hide attributes'><svg class='icon xr-icon-file-text2'><use xlink:href='#icon-file-text2'></use></svg></label><input id='data-1454cefa-b867-43c1-a496-40563d59acad' class='xr-var-data-in' type='checkbox'><label for='data-1454cefa-b867-43c1-a496-40563d59acad' title='Show/Hide data repr'><svg class='icon xr-icon-database'><use xlink:href='#icon-database'></use></svg></label><div class='xr-var-attrs'><dl class='xr-attrs'><dt><span>long_name :</span></dt><dd>sea surface salinity</dd><dt><span>standard_name :</span></dt><dd>sea_surface_salinity</dd><dt><span>units :</span></dt><dd>.001</dd></dl></div><div class='xr-var-data'><table>\n",
       "    <tr>\n",
       "        <td>\n",
       "            <table style=\"border-collapse: collapse;\">\n",
       "                <thead>\n",
       "                    <tr>\n",
       "                        <td> </td>\n",
       "                        <th> Array </th>\n",
       "                        <th> Chunk </th>\n",
       "                    </tr>\n",
       "                </thead>\n",
       "                <tbody>\n",
       "                    \n",
       "                    <tr>\n",
       "                        <th> Bytes </th>\n",
       "                        <td> 3.96 MiB </td>\n",
       "                        <td> 3.96 MiB </td>\n",
       "                    </tr>\n",
       "                    \n",
       "                    <tr>\n",
       "                        <th> Shape </th>\n",
       "                        <td> (1, 720, 1440) </td>\n",
       "                        <td> (1, 720, 1440) </td>\n",
       "                    </tr>\n",
       "                    <tr>\n",
       "                        <th> Dask graph </th>\n",
       "                        <td colspan=\"2\"> 1 chunks in 32 graph layers </td>\n",
       "                    </tr>\n",
       "                    <tr>\n",
       "                        <th> Data type </th>\n",
       "                        <td colspan=\"2\"> float32 numpy.ndarray </td>\n",
       "                    </tr>\n",
       "                </tbody>\n",
       "            </table>\n",
       "        </td>\n",
       "        <td>\n",
       "        <svg width=\"194\" height=\"124\" style=\"stroke:rgb(0,0,0);stroke-width:1\" >\n",
       "\n",
       "  <!-- Horizontal lines -->\n",
       "  <line x1=\"10\" y1=\"0\" x2=\"24\" y2=\"14\" style=\"stroke-width:2\" />\n",
       "  <line x1=\"10\" y1=\"60\" x2=\"24\" y2=\"74\" style=\"stroke-width:2\" />\n",
       "\n",
       "  <!-- Vertical lines -->\n",
       "  <line x1=\"10\" y1=\"0\" x2=\"10\" y2=\"60\" style=\"stroke-width:2\" />\n",
       "  <line x1=\"24\" y1=\"14\" x2=\"24\" y2=\"74\" style=\"stroke-width:2\" />\n",
       "\n",
       "  <!-- Colored Rectangle -->\n",
       "  <polygon points=\"10.0,0.0 24.9485979497544,14.948597949754403 24.9485979497544,74.9485979497544 10.0,60.0\" style=\"fill:#ECB172A0;stroke-width:0\"/>\n",
       "\n",
       "  <!-- Horizontal lines -->\n",
       "  <line x1=\"10\" y1=\"0\" x2=\"130\" y2=\"0\" style=\"stroke-width:2\" />\n",
       "  <line x1=\"24\" y1=\"14\" x2=\"144\" y2=\"14\" style=\"stroke-width:2\" />\n",
       "\n",
       "  <!-- Vertical lines -->\n",
       "  <line x1=\"10\" y1=\"0\" x2=\"24\" y2=\"14\" style=\"stroke-width:2\" />\n",
       "  <line x1=\"130\" y1=\"0\" x2=\"144\" y2=\"14\" style=\"stroke-width:2\" />\n",
       "\n",
       "  <!-- Colored Rectangle -->\n",
       "  <polygon points=\"10.0,0.0 130.0,0.0 144.9485979497544,14.948597949754403 24.9485979497544,14.948597949754403\" style=\"fill:#ECB172A0;stroke-width:0\"/>\n",
       "\n",
       "  <!-- Horizontal lines -->\n",
       "  <line x1=\"24\" y1=\"14\" x2=\"144\" y2=\"14\" style=\"stroke-width:2\" />\n",
       "  <line x1=\"24\" y1=\"74\" x2=\"144\" y2=\"74\" style=\"stroke-width:2\" />\n",
       "\n",
       "  <!-- Vertical lines -->\n",
       "  <line x1=\"24\" y1=\"14\" x2=\"24\" y2=\"74\" style=\"stroke-width:2\" />\n",
       "  <line x1=\"144\" y1=\"14\" x2=\"144\" y2=\"74\" style=\"stroke-width:2\" />\n",
       "\n",
       "  <!-- Colored Rectangle -->\n",
       "  <polygon points=\"24.9485979497544,14.948597949754403 144.9485979497544,14.948597949754403 144.9485979497544,74.9485979497544 24.9485979497544,74.9485979497544\" style=\"fill:#ECB172A0;stroke-width:0\"/>\n",
       "\n",
       "  <!-- Text -->\n",
       "  <text x=\"84.948598\" y=\"94.948598\" font-size=\"1.0rem\" font-weight=\"100\" text-anchor=\"middle\" >1440</text>\n",
       "  <text x=\"164.948598\" y=\"44.948598\" font-size=\"1.0rem\" font-weight=\"100\" text-anchor=\"middle\" transform=\"rotate(-90,164.948598,44.948598)\">720</text>\n",
       "  <text x=\"7.474299\" y=\"87.474299\" font-size=\"1.0rem\" font-weight=\"100\" text-anchor=\"middle\" transform=\"rotate(45,7.474299,87.474299)\">1</text>\n",
       "</svg>\n",
       "        </td>\n",
       "    </tr>\n",
       "</table></div></li></ul></div></li><li class='xr-section-item'><input id='section-b3735a34-bf47-4de1-bf83-b9d0784c2983' class='xr-section-summary-in' type='checkbox'  ><label for='section-b3735a34-bf47-4de1-bf83-b9d0784c2983' class='xr-section-summary' >Indexes: <span>(3)</span></label><div class='xr-section-inline-details'></div><div class='xr-section-details'><ul class='xr-var-list'><li class='xr-var-item'><div class='xr-index-name'><div>time</div></div><div class='xr-index-preview'>PandasIndex</div><input type='checkbox' disabled/><label></label><input id='index-e7ca5f76-998f-4ca2-bba4-4468f7c6b2c5' class='xr-index-data-in' type='checkbox'/><label for='index-e7ca5f76-998f-4ca2-bba4-4468f7c6b2c5' title='Show/Hide index repr'><svg class='icon xr-icon-database'><use xlink:href='#icon-database'></use></svg></label><div class='xr-index-data'><pre>PandasIndex(DatetimeIndex([&#x27;2024-01-04 12:00:00&#x27;], dtype=&#x27;datetime64[ns]&#x27;, name=&#x27;time&#x27;, freq=None))</pre></div></li><li class='xr-var-item'><div class='xr-index-name'><div>lat</div></div><div class='xr-index-preview'>PandasIndex</div><input type='checkbox' disabled/><label></label><input id='index-4a495bf3-f29f-4451-afc5-97757a9de186' class='xr-index-data-in' type='checkbox'/><label for='index-4a495bf3-f29f-4451-afc5-97757a9de186' title='Show/Hide index repr'><svg class='icon xr-icon-database'><use xlink:href='#icon-database'></use></svg></label><div class='xr-index-data'><pre>PandasIndex(Index([-89.875, -89.625, -89.375, -89.125, -88.875, -88.625, -88.375, -88.125,\n",
       "       -87.875, -87.625,\n",
       "       ...\n",
       "        87.625,  87.875,  88.125,  88.375,  88.625,  88.875,  89.125,  89.375,\n",
       "        89.625,  89.875],\n",
       "      dtype=&#x27;float64&#x27;, name=&#x27;lat&#x27;, length=720))</pre></div></li><li class='xr-var-item'><div class='xr-index-name'><div>lon</div></div><div class='xr-index-preview'>PandasIndex</div><input type='checkbox' disabled/><label></label><input id='index-115114fb-f4fe-409b-9417-a94d74f0b690' class='xr-index-data-in' type='checkbox'/><label for='index-115114fb-f4fe-409b-9417-a94d74f0b690' title='Show/Hide index repr'><svg class='icon xr-icon-database'><use xlink:href='#icon-database'></use></svg></label><div class='xr-index-data'><pre>PandasIndex(Index([-179.875, -179.625, -179.375, -179.125, -178.875, -178.625, -178.375,\n",
       "       -178.125, -177.875, -177.625,\n",
       "       ...\n",
       "        177.625,  177.875,  178.125,  178.375,  178.625,  178.875,  179.125,\n",
       "        179.375,  179.625,  179.875],\n",
       "      dtype=&#x27;float64&#x27;, name=&#x27;lon&#x27;, length=1440))</pre></div></li></ul></div></li><li class='xr-section-item'><input id='section-af7e9f9b-d38d-4aa5-95ac-bd753c62ddf5' class='xr-section-summary-in' type='checkbox'  checked><label for='section-af7e9f9b-d38d-4aa5-95ac-bd753c62ddf5' class='xr-section-summary' >Attributes: <span>(7)</span></label><div class='xr-section-inline-details'></div><div class='xr-section-details'><dl class='xr-attrs'><dt><span>title :</span></dt><dd>Global Analysed Sea Surface Salinity and Density</dd><dt><span>references :</span></dt><dd>Buongiorno Nardelli, B., R. Droghei, and R. Santoleri (2016), Multi-dimensional interpolation of SMOS sea surface salinity with surface temperature and in situ salinity data, Remote Sens. Environ., doi:10.1016/j.rse.2015.12.052.;Sammartino, M., Aronica, S., Santoleri, S., and B. Buongiorno Nardelli, (2022), Retrieving Mediterranean Sea Surface Salinity Distribution and Interannual Trends from Multi-Sensor Satellite and In Situ Data, Remote Sens., doi.org/10.3390/rs14102502.</dd><dt><span>institution :</span></dt><dd>CNR</dd><dt><span>Conventions :</span></dt><dd>CF-1.7</dd><dt><span>contact :</span></dt><dd>servicedesk.cmems@mercator-ocean.eu</dd><dt><span>processing_renamed_vars :</span></dt><dd>{&#x27;latitude&#x27;: &#x27;lat&#x27;, &#x27;longitude&#x27;: &#x27;lon&#x27;, &#x27;sos&#x27;: &#x27;sss_multiobs&#x27;}</dd><dt><span>processing_coarsen_grid :</span></dt><dd>{&#x27;boundary&#x27;: &#x27;pad&#x27;, &#x27;time&#x27;: 8, &#x27;lat&#x27;: 2, &#x27;lon&#x27;: 2}</dd></dl></div></li></ul></div></div>"
      ],
      "text/plain": [
       "<xarray.Dataset> Size: 8MB\n",
       "Dimensions:                    (time: 1, lat: 720, lon: 1440)\n",
       "Coordinates:\n",
       "  * time                       (time) datetime64[ns] 8B 2024-01-04T12:00:00\n",
       "  * lat                        (lat) float64 6kB -89.88 -89.62 ... 89.62 89.88\n",
       "  * lon                        (lon) float64 12kB -179.9 -179.6 ... 179.6 179.9\n",
       "Data variables:\n",
       "    sss_multiobs               (time, lat, lon) float32 4MB dask.array<chunksize=(1, 720, 1440), meta=np.ndarray>\n",
       "    flag_multiobs              (time) float32 4B dask.array<chunksize=(1,), meta=np.ndarray>\n",
       "    sss_multiobs_sigma_regrid  (time, lat, lon) float32 4MB dask.array<chunksize=(1, 720, 1440), meta=np.ndarray>\n",
       "Attributes:\n",
       "    title:                    Global Analysed Sea Surface Salinity and Density\n",
       "    references:               Buongiorno Nardelli, B., R. Droghei, and R. San...\n",
       "    institution:              CNR\n",
       "    Conventions:              CF-1.7\n",
       "    contact:                  servicedesk.cmems@mercator-ocean.eu\n",
       "    processing_renamed_vars:  {'latitude': 'lat', 'longitude': 'lon', 'sos': ...\n",
       "    processing_coarsen_grid:  {'boundary': 'pad', 'time': 8, 'lat': 2, 'lon': 2}"
      ]
     },
     "execution_count": 84,
     "metadata": {},
     "output_type": "execute_result"
    }
   ],
   "source": [
    "multiobs.get_timestep(2024, 0)"
   ]
  },
  {
   "cell_type": "code",
   "execution_count": 85,
   "metadata": {
    "execution": {
     "iopub.execute_input": "2025-05-30T11:48:54.583086Z",
     "iopub.status.busy": "2025-05-30T11:48:54.582407Z",
     "iopub.status.idle": "2025-05-30T12:09:18.017317Z",
     "shell.execute_reply": "2025-05-30T12:09:18.015168Z",
     "shell.execute_reply.started": "2025-05-30T11:48:54.583042Z"
    },
    "scrolled": true
   },
   "outputs": [
    {
     "name": "stdout",
     "output_type": "stream",
     "text": [
      "\u001b[32m2025-05-30 13:49:00.286\u001b[0m | \u001b[33m\u001b[1mWARNING \u001b[0m | \u001b[36moceansoda_ethzv2.data.utils.checker\u001b[0m:\u001b[36mfix_timestep\u001b[0m:\u001b[36m240\u001b[0m - \u001b[33m\u001b[1mTime fixed. Time coordinate 2024-01-04 12:00:00 did not match expected time 2024-01-05 00:00:00. Adjusted to 2024-01-05 00:00:00.\u001b[0m\n",
      "\u001b[32m2025-05-30 13:49:00.289\u001b[0m | \u001b[33m\u001b[1mWARNING \u001b[0m | \u001b[36moceansoda_ethzv2.data.utils.checker\u001b[0m:\u001b[36madd_time_bnds\u001b[0m:\u001b[36m70\u001b[0m - \u001b[33m\u001b[1mTime bounds are missing, adding them.\u001b[0m\n",
      "\u001b[32m2025-05-30 13:49:00.302\u001b[0m | \u001b[1mINFO    \u001b[0m | \u001b[36moceansoda_ethzv2.data.utils.zarr_utils\u001b[0m:\u001b[36msave_to_zarr\u001b[0m:\u001b[36m321\u001b[0m - \u001b[1mStarting to write ../data/8D_025/sss_multiobs-8D_025.zarr for time 2024-01-05 00:00:00\u001b[0m\n"
     ]
    },
    {
     "name": "stderr",
     "output_type": "stream",
     "text": [
      "Saving ../data/8D_025/sss_multiobs-8D_025.zarr/2024:2024-01-05 00:00: 100%|██████████| 194/194 [00:09<00:00, 19.71it/s] "
     ]
    },
    {
     "name": "stdout",
     "output_type": "stream",
     "text": [
      "\u001b[32m2025-05-30 13:49:10.684\u001b[0m | \u001b[32m\u001b[1mSUCCESS \u001b[0m | \u001b[36moceansoda_ethzv2.data.utils.zarr_utils\u001b[0m:\u001b[36msave_to_zarr\u001b[0m:\u001b[36m329\u001b[0m - \u001b[32m\u001b[1mSaved to: ../data/8D_025/sss_multiobs-8D_025.zarr/2024:2024-01-05 00:00\u001b[0m\n",
      "\u001b[32m2025-05-30 13:49:10.696\u001b[0m | \u001b[33m\u001b[1mWARNING \u001b[0m | \u001b[36moceansoda_ethzv2.data.utils.zarr_utils\u001b[0m:\u001b[36msave_to_zarr\u001b[0m:\u001b[36m311\u001b[0m - \u001b[33m\u001b[1mSkipping saving: Given timestep [year=2024, index=0] already exists in ../data/8D_025/flag_multiobs-8D_025.zarr/2024\u001b[0m\n",
      "\u001b[32m2025-05-30 13:49:10.699\u001b[0m | \u001b[1mINFO    \u001b[0m | \u001b[36moceansoda_ethzv2.data.utils.zarr_utils\u001b[0m:\u001b[36msave_to_zarr\u001b[0m:\u001b[36m321\u001b[0m - \u001b[1mStarting to write ../data/8D_025/sss_multiobs_sigma_regrid-8D_025.zarr for time 2024-01-05 00:00:00\u001b[0m\n"
     ]
    },
    {
     "name": "stderr",
     "output_type": "stream",
     "text": [
      "\n",
      "Saving ../data/8D_025/sss_multiobs_sigma_regrid-8D_025.zarr/2024:2024-01-05 00:00: 100%|██████████| 194/194 [00:20<00:00,  9.69it/s] "
     ]
    },
    {
     "name": "stdout",
     "output_type": "stream",
     "text": [
      "\u001b[32m2025-05-30 13:49:31.509\u001b[0m | \u001b[32m\u001b[1mSUCCESS \u001b[0m | \u001b[36moceansoda_ethzv2.data.utils.zarr_utils\u001b[0m:\u001b[36msave_to_zarr\u001b[0m:\u001b[36m329\u001b[0m - \u001b[32m\u001b[1mSaved to: ../data/8D_025/sss_multiobs_sigma_regrid-8D_025.zarr/2024:2024-01-05 00:00\u001b[0m\n"
     ]
    },
    {
     "name": "stderr",
     "output_type": "stream",
     "text": [
      "\n"
     ]
    },
    {
     "name": "stdout",
     "output_type": "stream",
     "text": [
      "\u001b[32m2025-05-30 13:49:45.261\u001b[0m | \u001b[33m\u001b[1mWARNING \u001b[0m | \u001b[36moceansoda_ethzv2.data.utils.checker\u001b[0m:\u001b[36mfix_timestep\u001b[0m:\u001b[36m240\u001b[0m - \u001b[33m\u001b[1mTime fixed. Time coordinate 2024-01-12 12:00:00 did not match expected time 2024-01-13 00:00:00. Adjusted to 2024-01-13 00:00:00.\u001b[0m\n",
      "\u001b[32m2025-05-30 13:49:45.262\u001b[0m | \u001b[33m\u001b[1mWARNING \u001b[0m | \u001b[36moceansoda_ethzv2.data.utils.checker\u001b[0m:\u001b[36madd_time_bnds\u001b[0m:\u001b[36m70\u001b[0m - \u001b[33m\u001b[1mTime bounds are missing, adding them.\u001b[0m\n",
      "\u001b[32m2025-05-30 13:49:45.277\u001b[0m | \u001b[1mINFO    \u001b[0m | \u001b[36moceansoda_ethzv2.data.utils.zarr_utils\u001b[0m:\u001b[36msave_to_zarr\u001b[0m:\u001b[36m321\u001b[0m - \u001b[1mStarting to write ../data/8D_025/sss_multiobs-8D_025.zarr for time 2024-01-13 00:00:00\u001b[0m\n"
     ]
    },
    {
     "name": "stderr",
     "output_type": "stream",
     "text": [
      "Saving ../data/8D_025/sss_multiobs-8D_025.zarr/2024:2024-01-13 00:00: 100%|██████████| 194/194 [00:08<00:00, 24.24it/s] "
     ]
    },
    {
     "name": "stdout",
     "output_type": "stream",
     "text": [
      "\u001b[32m2025-05-30 13:49:53.434\u001b[0m | \u001b[32m\u001b[1mSUCCESS \u001b[0m | \u001b[36moceansoda_ethzv2.data.utils.zarr_utils\u001b[0m:\u001b[36msave_to_zarr\u001b[0m:\u001b[36m329\u001b[0m - \u001b[32m\u001b[1mSaved to: ../data/8D_025/sss_multiobs-8D_025.zarr/2024:2024-01-13 00:00\u001b[0m\n",
      "\u001b[32m2025-05-30 13:49:53.450\u001b[0m | \u001b[1mINFO    \u001b[0m | \u001b[36moceansoda_ethzv2.data.utils.zarr_utils\u001b[0m:\u001b[36msave_to_zarr\u001b[0m:\u001b[36m321\u001b[0m - \u001b[1mStarting to write ../data/8D_025/flag_multiobs-8D_025.zarr for time 2024-01-13 00:00:00\u001b[0m\n"
     ]
    },
    {
     "name": "stderr",
     "output_type": "stream",
     "text": [
      "\n",
      "Saving ../data/8D_025/flag_multiobs-8D_025.zarr/2024:2024-01-13 00:00: 100%|██████████| 20/20 [00:00<00:00, 1820.64it/s]"
     ]
    },
    {
     "name": "stdout",
     "output_type": "stream",
     "text": [
      "\u001b[32m2025-05-30 13:49:53.496\u001b[0m | \u001b[32m\u001b[1mSUCCESS \u001b[0m | \u001b[36moceansoda_ethzv2.data.utils.zarr_utils\u001b[0m:\u001b[36msave_to_zarr\u001b[0m:\u001b[36m329\u001b[0m - \u001b[32m\u001b[1mSaved to: ../data/8D_025/flag_multiobs-8D_025.zarr/2024:2024-01-13 00:00\u001b[0m\n",
      "\u001b[32m2025-05-30 13:49:53.513\u001b[0m | \u001b[1mINFO    \u001b[0m | \u001b[36moceansoda_ethzv2.data.utils.zarr_utils\u001b[0m:\u001b[36msave_to_zarr\u001b[0m:\u001b[36m321\u001b[0m - \u001b[1mStarting to write ../data/8D_025/sss_multiobs_sigma_regrid-8D_025.zarr for time 2024-01-13 00:00:00\u001b[0m\n"
     ]
    },
    {
     "name": "stderr",
     "output_type": "stream",
     "text": [
      "\n",
      "Saving ../data/8D_025/sss_multiobs_sigma_regrid-8D_025.zarr/2024:2024-01-13 00:00: 100%|██████████| 194/194 [00:16<00:00, 11.44it/s] "
     ]
    },
    {
     "name": "stdout",
     "output_type": "stream",
     "text": [
      "\u001b[32m2025-05-30 13:50:10.679\u001b[0m | \u001b[32m\u001b[1mSUCCESS \u001b[0m | \u001b[36moceansoda_ethzv2.data.utils.zarr_utils\u001b[0m:\u001b[36msave_to_zarr\u001b[0m:\u001b[36m329\u001b[0m - \u001b[32m\u001b[1mSaved to: ../data/8D_025/sss_multiobs_sigma_regrid-8D_025.zarr/2024:2024-01-13 00:00\u001b[0m\n"
     ]
    },
    {
     "name": "stderr",
     "output_type": "stream",
     "text": [
      "\n"
     ]
    },
    {
     "name": "stdout",
     "output_type": "stream",
     "text": [
      "\u001b[32m2025-05-30 13:50:16.440\u001b[0m | \u001b[33m\u001b[1mWARNING \u001b[0m | \u001b[36moceansoda_ethzv2.data.utils.checker\u001b[0m:\u001b[36mfix_timestep\u001b[0m:\u001b[36m240\u001b[0m - \u001b[33m\u001b[1mTime fixed. Time coordinate 2024-01-20 12:00:00 did not match expected time 2024-01-21 00:00:00. Adjusted to 2024-01-21 00:00:00.\u001b[0m\n",
      "\u001b[32m2025-05-30 13:50:16.442\u001b[0m | \u001b[33m\u001b[1mWARNING \u001b[0m | \u001b[36moceansoda_ethzv2.data.utils.checker\u001b[0m:\u001b[36madd_time_bnds\u001b[0m:\u001b[36m70\u001b[0m - \u001b[33m\u001b[1mTime bounds are missing, adding them.\u001b[0m\n",
      "\u001b[32m2025-05-30 13:50:16.463\u001b[0m | \u001b[1mINFO    \u001b[0m | \u001b[36moceansoda_ethzv2.data.utils.zarr_utils\u001b[0m:\u001b[36msave_to_zarr\u001b[0m:\u001b[36m321\u001b[0m - \u001b[1mStarting to write ../data/8D_025/sss_multiobs-8D_025.zarr for time 2024-01-21 00:00:00\u001b[0m\n"
     ]
    },
    {
     "name": "stderr",
     "output_type": "stream",
     "text": [
      "Saving ../data/8D_025/sss_multiobs-8D_025.zarr/2024:2024-01-21 00:00: 100%|██████████| 194/194 [00:09<00:00, 20.48it/s] "
     ]
    },
    {
     "name": "stdout",
     "output_type": "stream",
     "text": [
      "\u001b[32m2025-05-30 13:50:26.098\u001b[0m | \u001b[32m\u001b[1mSUCCESS \u001b[0m | \u001b[36moceansoda_ethzv2.data.utils.zarr_utils\u001b[0m:\u001b[36msave_to_zarr\u001b[0m:\u001b[36m329\u001b[0m - \u001b[32m\u001b[1mSaved to: ../data/8D_025/sss_multiobs-8D_025.zarr/2024:2024-01-21 00:00\u001b[0m\n",
      "\u001b[32m2025-05-30 13:50:26.115\u001b[0m | \u001b[1mINFO    \u001b[0m | \u001b[36moceansoda_ethzv2.data.utils.zarr_utils\u001b[0m:\u001b[36msave_to_zarr\u001b[0m:\u001b[36m321\u001b[0m - \u001b[1mStarting to write ../data/8D_025/flag_multiobs-8D_025.zarr for time 2024-01-21 00:00:00\u001b[0m\n"
     ]
    },
    {
     "name": "stderr",
     "output_type": "stream",
     "text": [
      "\n",
      "Saving ../data/8D_025/flag_multiobs-8D_025.zarr/2024:2024-01-21 00:00: 100%|██████████| 20/20 [00:00<00:00, 1767.51it/s]"
     ]
    },
    {
     "name": "stdout",
     "output_type": "stream",
     "text": [
      "\u001b[32m2025-05-30 13:50:26.160\u001b[0m | \u001b[32m\u001b[1mSUCCESS \u001b[0m | \u001b[36moceansoda_ethzv2.data.utils.zarr_utils\u001b[0m:\u001b[36msave_to_zarr\u001b[0m:\u001b[36m329\u001b[0m - \u001b[32m\u001b[1mSaved to: ../data/8D_025/flag_multiobs-8D_025.zarr/2024:2024-01-21 00:00\u001b[0m\n",
      "\u001b[32m2025-05-30 13:50:26.179\u001b[0m | \u001b[1mINFO    \u001b[0m | \u001b[36moceansoda_ethzv2.data.utils.zarr_utils\u001b[0m:\u001b[36msave_to_zarr\u001b[0m:\u001b[36m321\u001b[0m - \u001b[1mStarting to write ../data/8D_025/sss_multiobs_sigma_regrid-8D_025.zarr for time 2024-01-21 00:00:00\u001b[0m\n"
     ]
    },
    {
     "name": "stderr",
     "output_type": "stream",
     "text": [
      "\n",
      "Saving ../data/8D_025/sss_multiobs_sigma_regrid-8D_025.zarr/2024:2024-01-21 00:00: 100%|██████████| 194/194 [00:18<00:00, 10.77it/s]"
     ]
    },
    {
     "name": "stdout",
     "output_type": "stream",
     "text": [
      "\u001b[32m2025-05-30 13:50:44.406\u001b[0m | \u001b[32m\u001b[1mSUCCESS \u001b[0m | \u001b[36moceansoda_ethzv2.data.utils.zarr_utils\u001b[0m:\u001b[36msave_to_zarr\u001b[0m:\u001b[36m329\u001b[0m - \u001b[32m\u001b[1mSaved to: ../data/8D_025/sss_multiobs_sigma_regrid-8D_025.zarr/2024:2024-01-21 00:00\u001b[0m\n"
     ]
    },
    {
     "name": "stderr",
     "output_type": "stream",
     "text": [
      "\n"
     ]
    },
    {
     "name": "stdout",
     "output_type": "stream",
     "text": [
      "\u001b[32m2025-05-30 13:50:49.058\u001b[0m | \u001b[33m\u001b[1mWARNING \u001b[0m | \u001b[36moceansoda_ethzv2.data.utils.checker\u001b[0m:\u001b[36mfix_timestep\u001b[0m:\u001b[36m240\u001b[0m - \u001b[33m\u001b[1mTime fixed. Time coordinate 2024-01-28 12:00:00 did not match expected time 2024-01-29 00:00:00. Adjusted to 2024-01-29 00:00:00.\u001b[0m\n",
      "\u001b[32m2025-05-30 13:50:49.060\u001b[0m | \u001b[33m\u001b[1mWARNING \u001b[0m | \u001b[36moceansoda_ethzv2.data.utils.checker\u001b[0m:\u001b[36madd_time_bnds\u001b[0m:\u001b[36m70\u001b[0m - \u001b[33m\u001b[1mTime bounds are missing, adding them.\u001b[0m\n",
      "\u001b[32m2025-05-30 13:50:49.079\u001b[0m | \u001b[1mINFO    \u001b[0m | \u001b[36moceansoda_ethzv2.data.utils.zarr_utils\u001b[0m:\u001b[36msave_to_zarr\u001b[0m:\u001b[36m321\u001b[0m - \u001b[1mStarting to write ../data/8D_025/sss_multiobs-8D_025.zarr for time 2024-01-29 00:00:00\u001b[0m\n"
     ]
    },
    {
     "name": "stderr",
     "output_type": "stream",
     "text": [
      "Saving ../data/8D_025/sss_multiobs-8D_025.zarr/2024:2024-01-29 00:00: 100%|██████████| 194/194 [00:06<00:00, 30.96it/s] "
     ]
    },
    {
     "name": "stdout",
     "output_type": "stream",
     "text": [
      "\u001b[32m2025-05-30 13:50:55.530\u001b[0m | \u001b[32m\u001b[1mSUCCESS \u001b[0m | \u001b[36moceansoda_ethzv2.data.utils.zarr_utils\u001b[0m:\u001b[36msave_to_zarr\u001b[0m:\u001b[36m329\u001b[0m - \u001b[32m\u001b[1mSaved to: ../data/8D_025/sss_multiobs-8D_025.zarr/2024:2024-01-29 00:00\u001b[0m\n",
      "\u001b[32m2025-05-30 13:50:55.547\u001b[0m | \u001b[1mINFO    \u001b[0m | \u001b[36moceansoda_ethzv2.data.utils.zarr_utils\u001b[0m:\u001b[36msave_to_zarr\u001b[0m:\u001b[36m321\u001b[0m - \u001b[1mStarting to write ../data/8D_025/flag_multiobs-8D_025.zarr for time 2024-01-29 00:00:00\u001b[0m\n"
     ]
    },
    {
     "name": "stderr",
     "output_type": "stream",
     "text": [
      "\n",
      "Saving ../data/8D_025/flag_multiobs-8D_025.zarr/2024:2024-01-29 00:00: 100%|██████████| 20/20 [00:00<00:00, 1578.56it/s]"
     ]
    },
    {
     "name": "stdout",
     "output_type": "stream",
     "text": [
      "\u001b[32m2025-05-30 13:50:55.594\u001b[0m | \u001b[32m\u001b[1mSUCCESS \u001b[0m | \u001b[36moceansoda_ethzv2.data.utils.zarr_utils\u001b[0m:\u001b[36msave_to_zarr\u001b[0m:\u001b[36m329\u001b[0m - \u001b[32m\u001b[1mSaved to: ../data/8D_025/flag_multiobs-8D_025.zarr/2024:2024-01-29 00:00\u001b[0m\n",
      "\u001b[32m2025-05-30 13:50:55.627\u001b[0m | \u001b[1mINFO    \u001b[0m | \u001b[36moceansoda_ethzv2.data.utils.zarr_utils\u001b[0m:\u001b[36msave_to_zarr\u001b[0m:\u001b[36m321\u001b[0m - \u001b[1mStarting to write ../data/8D_025/sss_multiobs_sigma_regrid-8D_025.zarr for time 2024-01-29 00:00:00\u001b[0m\n"
     ]
    },
    {
     "name": "stderr",
     "output_type": "stream",
     "text": [
      "\n",
      "Saving ../data/8D_025/sss_multiobs_sigma_regrid-8D_025.zarr/2024:2024-01-29 00:00: 100%|██████████| 194/194 [00:16<00:00, 12.08it/s]"
     ]
    },
    {
     "name": "stdout",
     "output_type": "stream",
     "text": [
      "\u001b[32m2025-05-30 13:51:11.902\u001b[0m | \u001b[32m\u001b[1mSUCCESS \u001b[0m | \u001b[36moceansoda_ethzv2.data.utils.zarr_utils\u001b[0m:\u001b[36msave_to_zarr\u001b[0m:\u001b[36m329\u001b[0m - \u001b[32m\u001b[1mSaved to: ../data/8D_025/sss_multiobs_sigma_regrid-8D_025.zarr/2024:2024-01-29 00:00\u001b[0m\n"
     ]
    },
    {
     "name": "stderr",
     "output_type": "stream",
     "text": [
      "\n"
     ]
    },
    {
     "name": "stdout",
     "output_type": "stream",
     "text": [
      "\u001b[32m2025-05-30 13:51:21.197\u001b[0m | \u001b[33m\u001b[1mWARNING \u001b[0m | \u001b[36moceansoda_ethzv2.data.utils.checker\u001b[0m:\u001b[36mfix_timestep\u001b[0m:\u001b[36m240\u001b[0m - \u001b[33m\u001b[1mTime fixed. Time coordinate 2024-02-05 12:00:00 did not match expected time 2024-02-06 00:00:00. Adjusted to 2024-02-06 00:00:00.\u001b[0m\n",
      "\u001b[32m2025-05-30 13:51:21.200\u001b[0m | \u001b[33m\u001b[1mWARNING \u001b[0m | \u001b[36moceansoda_ethzv2.data.utils.checker\u001b[0m:\u001b[36madd_time_bnds\u001b[0m:\u001b[36m70\u001b[0m - \u001b[33m\u001b[1mTime bounds are missing, adding them.\u001b[0m\n",
      "\u001b[32m2025-05-30 13:51:21.222\u001b[0m | \u001b[1mINFO    \u001b[0m | \u001b[36moceansoda_ethzv2.data.utils.zarr_utils\u001b[0m:\u001b[36msave_to_zarr\u001b[0m:\u001b[36m321\u001b[0m - \u001b[1mStarting to write ../data/8D_025/sss_multiobs-8D_025.zarr for time 2024-02-06 00:00:00\u001b[0m\n"
     ]
    },
    {
     "name": "stderr",
     "output_type": "stream",
     "text": [
      "Saving ../data/8D_025/sss_multiobs-8D_025.zarr/2024:2024-02-06 00:00: 100%|██████████| 194/194 [00:05<00:00, 37.77it/s] "
     ]
    },
    {
     "name": "stdout",
     "output_type": "stream",
     "text": [
      "\u001b[32m2025-05-30 13:51:26.546\u001b[0m | \u001b[32m\u001b[1mSUCCESS \u001b[0m | \u001b[36moceansoda_ethzv2.data.utils.zarr_utils\u001b[0m:\u001b[36msave_to_zarr\u001b[0m:\u001b[36m329\u001b[0m - \u001b[32m\u001b[1mSaved to: ../data/8D_025/sss_multiobs-8D_025.zarr/2024:2024-02-06 00:00\u001b[0m\n",
      "\u001b[32m2025-05-30 13:51:26.562\u001b[0m | \u001b[1mINFO    \u001b[0m | \u001b[36moceansoda_ethzv2.data.utils.zarr_utils\u001b[0m:\u001b[36msave_to_zarr\u001b[0m:\u001b[36m321\u001b[0m - \u001b[1mStarting to write ../data/8D_025/flag_multiobs-8D_025.zarr for time 2024-02-06 00:00:00\u001b[0m\n"
     ]
    },
    {
     "name": "stderr",
     "output_type": "stream",
     "text": [
      "\n",
      "Saving ../data/8D_025/flag_multiobs-8D_025.zarr/2024:2024-02-06 00:00: 100%|██████████| 20/20 [00:00<00:00, 1797.97it/s]"
     ]
    },
    {
     "name": "stdout",
     "output_type": "stream",
     "text": [
      "\u001b[32m2025-05-30 13:51:26.627\u001b[0m | \u001b[32m\u001b[1mSUCCESS \u001b[0m | \u001b[36moceansoda_ethzv2.data.utils.zarr_utils\u001b[0m:\u001b[36msave_to_zarr\u001b[0m:\u001b[36m329\u001b[0m - \u001b[32m\u001b[1mSaved to: ../data/8D_025/flag_multiobs-8D_025.zarr/2024:2024-02-06 00:00\u001b[0m\n",
      "\u001b[32m2025-05-30 13:51:26.644\u001b[0m | \u001b[1mINFO    \u001b[0m | \u001b[36moceansoda_ethzv2.data.utils.zarr_utils\u001b[0m:\u001b[36msave_to_zarr\u001b[0m:\u001b[36m321\u001b[0m - \u001b[1mStarting to write ../data/8D_025/sss_multiobs_sigma_regrid-8D_025.zarr for time 2024-02-06 00:00:00\u001b[0m\n"
     ]
    },
    {
     "name": "stderr",
     "output_type": "stream",
     "text": [
      "\n",
      "Saving ../data/8D_025/sss_multiobs_sigma_regrid-8D_025.zarr/2024:2024-02-06 00:00: 100%|██████████| 194/194 [00:14<00:00, 13.47it/s] "
     ]
    },
    {
     "name": "stdout",
     "output_type": "stream",
     "text": [
      "\u001b[32m2025-05-30 13:51:41.252\u001b[0m | \u001b[32m\u001b[1mSUCCESS \u001b[0m | \u001b[36moceansoda_ethzv2.data.utils.zarr_utils\u001b[0m:\u001b[36msave_to_zarr\u001b[0m:\u001b[36m329\u001b[0m - \u001b[32m\u001b[1mSaved to: ../data/8D_025/sss_multiobs_sigma_regrid-8D_025.zarr/2024:2024-02-06 00:00\u001b[0m\n"
     ]
    },
    {
     "name": "stderr",
     "output_type": "stream",
     "text": [
      "\n"
     ]
    },
    {
     "name": "stdout",
     "output_type": "stream",
     "text": [
      "\u001b[32m2025-05-30 13:51:48.351\u001b[0m | \u001b[33m\u001b[1mWARNING \u001b[0m | \u001b[36moceansoda_ethzv2.data.utils.checker\u001b[0m:\u001b[36mfix_timestep\u001b[0m:\u001b[36m240\u001b[0m - \u001b[33m\u001b[1mTime fixed. Time coordinate 2024-02-13 12:00:00 did not match expected time 2024-02-14 00:00:00. Adjusted to 2024-02-14 00:00:00.\u001b[0m\n",
      "\u001b[32m2025-05-30 13:51:48.353\u001b[0m | \u001b[33m\u001b[1mWARNING \u001b[0m | \u001b[36moceansoda_ethzv2.data.utils.checker\u001b[0m:\u001b[36madd_time_bnds\u001b[0m:\u001b[36m70\u001b[0m - \u001b[33m\u001b[1mTime bounds are missing, adding them.\u001b[0m\n",
      "\u001b[32m2025-05-30 13:51:48.371\u001b[0m | \u001b[1mINFO    \u001b[0m | \u001b[36moceansoda_ethzv2.data.utils.zarr_utils\u001b[0m:\u001b[36msave_to_zarr\u001b[0m:\u001b[36m321\u001b[0m - \u001b[1mStarting to write ../data/8D_025/sss_multiobs-8D_025.zarr for time 2024-02-14 00:00:00\u001b[0m\n"
     ]
    },
    {
     "name": "stderr",
     "output_type": "stream",
     "text": [
      "Saving ../data/8D_025/sss_multiobs-8D_025.zarr/2024:2024-02-14 00:00: 100%|██████████| 194/194 [00:06<00:00, 32.05it/s] "
     ]
    },
    {
     "name": "stdout",
     "output_type": "stream",
     "text": [
      "\u001b[32m2025-05-30 13:51:54.595\u001b[0m | \u001b[32m\u001b[1mSUCCESS \u001b[0m | \u001b[36moceansoda_ethzv2.data.utils.zarr_utils\u001b[0m:\u001b[36msave_to_zarr\u001b[0m:\u001b[36m329\u001b[0m - \u001b[32m\u001b[1mSaved to: ../data/8D_025/sss_multiobs-8D_025.zarr/2024:2024-02-14 00:00\u001b[0m\n",
      "\u001b[32m2025-05-30 13:51:54.611\u001b[0m | \u001b[1mINFO    \u001b[0m | \u001b[36moceansoda_ethzv2.data.utils.zarr_utils\u001b[0m:\u001b[36msave_to_zarr\u001b[0m:\u001b[36m321\u001b[0m - \u001b[1mStarting to write ../data/8D_025/flag_multiobs-8D_025.zarr for time 2024-02-14 00:00:00\u001b[0m\n"
     ]
    },
    {
     "name": "stderr",
     "output_type": "stream",
     "text": [
      "\n",
      "Saving ../data/8D_025/flag_multiobs-8D_025.zarr/2024:2024-02-14 00:00: 100%|██████████| 20/20 [00:00<00:00, 1797.66it/s]"
     ]
    },
    {
     "name": "stdout",
     "output_type": "stream",
     "text": [
      "\u001b[32m2025-05-30 13:51:54.653\u001b[0m | \u001b[32m\u001b[1mSUCCESS \u001b[0m | \u001b[36moceansoda_ethzv2.data.utils.zarr_utils\u001b[0m:\u001b[36msave_to_zarr\u001b[0m:\u001b[36m329\u001b[0m - \u001b[32m\u001b[1mSaved to: ../data/8D_025/flag_multiobs-8D_025.zarr/2024:2024-02-14 00:00\u001b[0m\n",
      "\u001b[32m2025-05-30 13:51:54.669\u001b[0m | \u001b[1mINFO    \u001b[0m | \u001b[36moceansoda_ethzv2.data.utils.zarr_utils\u001b[0m:\u001b[36msave_to_zarr\u001b[0m:\u001b[36m321\u001b[0m - \u001b[1mStarting to write ../data/8D_025/sss_multiobs_sigma_regrid-8D_025.zarr for time 2024-02-14 00:00:00\u001b[0m\n"
     ]
    },
    {
     "name": "stderr",
     "output_type": "stream",
     "text": [
      "\n",
      "Saving ../data/8D_025/sss_multiobs_sigma_regrid-8D_025.zarr/2024:2024-02-14 00:00: 100%|██████████| 194/194 [00:14<00:00, 13.46it/s] "
     ]
    },
    {
     "name": "stdout",
     "output_type": "stream",
     "text": [
      "\u001b[32m2025-05-30 13:52:09.289\u001b[0m | \u001b[32m\u001b[1mSUCCESS \u001b[0m | \u001b[36moceansoda_ethzv2.data.utils.zarr_utils\u001b[0m:\u001b[36msave_to_zarr\u001b[0m:\u001b[36m329\u001b[0m - \u001b[32m\u001b[1mSaved to: ../data/8D_025/sss_multiobs_sigma_regrid-8D_025.zarr/2024:2024-02-14 00:00\u001b[0m\n"
     ]
    },
    {
     "name": "stderr",
     "output_type": "stream",
     "text": [
      "\n"
     ]
    },
    {
     "name": "stdout",
     "output_type": "stream",
     "text": [
      "\u001b[32m2025-05-30 13:52:13.303\u001b[0m | \u001b[33m\u001b[1mWARNING \u001b[0m | \u001b[36moceansoda_ethzv2.data.utils.checker\u001b[0m:\u001b[36mfix_timestep\u001b[0m:\u001b[36m240\u001b[0m - \u001b[33m\u001b[1mTime fixed. Time coordinate 2024-02-21 12:00:00 did not match expected time 2024-02-22 00:00:00. Adjusted to 2024-02-22 00:00:00.\u001b[0m\n",
      "\u001b[32m2025-05-30 13:52:13.305\u001b[0m | \u001b[33m\u001b[1mWARNING \u001b[0m | \u001b[36moceansoda_ethzv2.data.utils.checker\u001b[0m:\u001b[36madd_time_bnds\u001b[0m:\u001b[36m70\u001b[0m - \u001b[33m\u001b[1mTime bounds are missing, adding them.\u001b[0m\n",
      "\u001b[32m2025-05-30 13:52:13.326\u001b[0m | \u001b[1mINFO    \u001b[0m | \u001b[36moceansoda_ethzv2.data.utils.zarr_utils\u001b[0m:\u001b[36msave_to_zarr\u001b[0m:\u001b[36m321\u001b[0m - \u001b[1mStarting to write ../data/8D_025/sss_multiobs-8D_025.zarr for time 2024-02-22 00:00:00\u001b[0m\n"
     ]
    },
    {
     "name": "stderr",
     "output_type": "stream",
     "text": [
      "Saving ../data/8D_025/sss_multiobs-8D_025.zarr/2024:2024-02-22 00:00: 100%|██████████| 194/194 [00:06<00:00, 30.09it/s]"
     ]
    },
    {
     "name": "stdout",
     "output_type": "stream",
     "text": [
      "\u001b[32m2025-05-30 13:52:19.948\u001b[0m | \u001b[32m\u001b[1mSUCCESS \u001b[0m | \u001b[36moceansoda_ethzv2.data.utils.zarr_utils\u001b[0m:\u001b[36msave_to_zarr\u001b[0m:\u001b[36m329\u001b[0m - \u001b[32m\u001b[1mSaved to: ../data/8D_025/sss_multiobs-8D_025.zarr/2024:2024-02-22 00:00\u001b[0m\n",
      "\u001b[32m2025-05-30 13:52:19.964\u001b[0m | \u001b[1mINFO    \u001b[0m | \u001b[36moceansoda_ethzv2.data.utils.zarr_utils\u001b[0m:\u001b[36msave_to_zarr\u001b[0m:\u001b[36m321\u001b[0m - \u001b[1mStarting to write ../data/8D_025/flag_multiobs-8D_025.zarr for time 2024-02-22 00:00:00\u001b[0m\n"
     ]
    },
    {
     "name": "stderr",
     "output_type": "stream",
     "text": [
      "\n",
      "Saving ../data/8D_025/flag_multiobs-8D_025.zarr/2024:2024-02-22 00:00: 100%|██████████| 20/20 [00:00<00:00, 1683.14it/s]"
     ]
    },
    {
     "name": "stdout",
     "output_type": "stream",
     "text": [
      "\u001b[32m2025-05-30 13:52:20.008\u001b[0m | \u001b[32m\u001b[1mSUCCESS \u001b[0m | \u001b[36moceansoda_ethzv2.data.utils.zarr_utils\u001b[0m:\u001b[36msave_to_zarr\u001b[0m:\u001b[36m329\u001b[0m - \u001b[32m\u001b[1mSaved to: ../data/8D_025/flag_multiobs-8D_025.zarr/2024:2024-02-22 00:00\u001b[0m\n",
      "\u001b[32m2025-05-30 13:52:20.027\u001b[0m | \u001b[1mINFO    \u001b[0m | \u001b[36moceansoda_ethzv2.data.utils.zarr_utils\u001b[0m:\u001b[36msave_to_zarr\u001b[0m:\u001b[36m321\u001b[0m - \u001b[1mStarting to write ../data/8D_025/sss_multiobs_sigma_regrid-8D_025.zarr for time 2024-02-22 00:00:00\u001b[0m\n"
     ]
    },
    {
     "name": "stderr",
     "output_type": "stream",
     "text": [
      "\n",
      "Saving ../data/8D_025/sss_multiobs_sigma_regrid-8D_025.zarr/2024:2024-02-22 00:00: 100%|██████████| 194/194 [00:13<00:00, 13.95it/s]"
     ]
    },
    {
     "name": "stdout",
     "output_type": "stream",
     "text": [
      "\u001b[32m2025-05-30 13:52:34.128\u001b[0m | \u001b[32m\u001b[1mSUCCESS \u001b[0m | \u001b[36moceansoda_ethzv2.data.utils.zarr_utils\u001b[0m:\u001b[36msave_to_zarr\u001b[0m:\u001b[36m329\u001b[0m - \u001b[32m\u001b[1mSaved to: ../data/8D_025/sss_multiobs_sigma_regrid-8D_025.zarr/2024:2024-02-22 00:00\u001b[0m\n"
     ]
    },
    {
     "name": "stderr",
     "output_type": "stream",
     "text": [
      "\n"
     ]
    },
    {
     "name": "stdout",
     "output_type": "stream",
     "text": [
      "\u001b[32m2025-05-30 13:52:38.100\u001b[0m | \u001b[33m\u001b[1mWARNING \u001b[0m | \u001b[36moceansoda_ethzv2.data.utils.checker\u001b[0m:\u001b[36mfix_timestep\u001b[0m:\u001b[36m240\u001b[0m - \u001b[33m\u001b[1mTime fixed. Time coordinate 2024-02-29 12:00:00 did not match expected time 2024-03-01 00:00:00. Adjusted to 2024-03-01 00:00:00.\u001b[0m\n",
      "\u001b[32m2025-05-30 13:52:38.102\u001b[0m | \u001b[33m\u001b[1mWARNING \u001b[0m | \u001b[36moceansoda_ethzv2.data.utils.checker\u001b[0m:\u001b[36madd_time_bnds\u001b[0m:\u001b[36m70\u001b[0m - \u001b[33m\u001b[1mTime bounds are missing, adding them.\u001b[0m\n",
      "\u001b[32m2025-05-30 13:52:38.122\u001b[0m | \u001b[1mINFO    \u001b[0m | \u001b[36moceansoda_ethzv2.data.utils.zarr_utils\u001b[0m:\u001b[36msave_to_zarr\u001b[0m:\u001b[36m321\u001b[0m - \u001b[1mStarting to write ../data/8D_025/sss_multiobs-8D_025.zarr for time 2024-03-01 00:00:00\u001b[0m\n"
     ]
    },
    {
     "name": "stderr",
     "output_type": "stream",
     "text": [
      "Saving ../data/8D_025/sss_multiobs-8D_025.zarr/2024:2024-03-01 00:00: 100%|██████████| 194/194 [00:06<00:00, 29.71it/s]"
     ]
    },
    {
     "name": "stdout",
     "output_type": "stream",
     "text": [
      "\u001b[32m2025-05-30 13:52:44.820\u001b[0m | \u001b[32m\u001b[1mSUCCESS \u001b[0m | \u001b[36moceansoda_ethzv2.data.utils.zarr_utils\u001b[0m:\u001b[36msave_to_zarr\u001b[0m:\u001b[36m329\u001b[0m - \u001b[32m\u001b[1mSaved to: ../data/8D_025/sss_multiobs-8D_025.zarr/2024:2024-03-01 00:00\u001b[0m\n",
      "\u001b[32m2025-05-30 13:52:44.836\u001b[0m | \u001b[1mINFO    \u001b[0m | \u001b[36moceansoda_ethzv2.data.utils.zarr_utils\u001b[0m:\u001b[36msave_to_zarr\u001b[0m:\u001b[36m321\u001b[0m - \u001b[1mStarting to write ../data/8D_025/flag_multiobs-8D_025.zarr for time 2024-03-01 00:00:00\u001b[0m\n"
     ]
    },
    {
     "name": "stderr",
     "output_type": "stream",
     "text": [
      "\n",
      "Saving ../data/8D_025/flag_multiobs-8D_025.zarr/2024:2024-03-01 00:00: 100%|██████████| 20/20 [00:00<00:00, 1793.82it/s]"
     ]
    },
    {
     "name": "stdout",
     "output_type": "stream",
     "text": [
      "\u001b[32m2025-05-30 13:52:44.902\u001b[0m | \u001b[32m\u001b[1mSUCCESS \u001b[0m | \u001b[36moceansoda_ethzv2.data.utils.zarr_utils\u001b[0m:\u001b[36msave_to_zarr\u001b[0m:\u001b[36m329\u001b[0m - \u001b[32m\u001b[1mSaved to: ../data/8D_025/flag_multiobs-8D_025.zarr/2024:2024-03-01 00:00\u001b[0m\n",
      "\u001b[32m2025-05-30 13:52:44.920\u001b[0m | \u001b[1mINFO    \u001b[0m | \u001b[36moceansoda_ethzv2.data.utils.zarr_utils\u001b[0m:\u001b[36msave_to_zarr\u001b[0m:\u001b[36m321\u001b[0m - \u001b[1mStarting to write ../data/8D_025/sss_multiobs_sigma_regrid-8D_025.zarr for time 2024-03-01 00:00:00\u001b[0m\n"
     ]
    },
    {
     "name": "stderr",
     "output_type": "stream",
     "text": [
      "\n",
      "Saving ../data/8D_025/sss_multiobs_sigma_regrid-8D_025.zarr/2024:2024-03-01 00:00: 100%|██████████| 194/194 [00:13<00:00, 14.39it/s]"
     ]
    },
    {
     "name": "stdout",
     "output_type": "stream",
     "text": [
      "\u001b[32m2025-05-30 13:52:58.598\u001b[0m | \u001b[32m\u001b[1mSUCCESS \u001b[0m | \u001b[36moceansoda_ethzv2.data.utils.zarr_utils\u001b[0m:\u001b[36msave_to_zarr\u001b[0m:\u001b[36m329\u001b[0m - \u001b[32m\u001b[1mSaved to: ../data/8D_025/sss_multiobs_sigma_regrid-8D_025.zarr/2024:2024-03-01 00:00\u001b[0m\n"
     ]
    },
    {
     "name": "stderr",
     "output_type": "stream",
     "text": [
      "\n"
     ]
    },
    {
     "name": "stdout",
     "output_type": "stream",
     "text": [
      "\u001b[32m2025-05-30 13:53:06.347\u001b[0m | \u001b[33m\u001b[1mWARNING \u001b[0m | \u001b[36moceansoda_ethzv2.data.utils.checker\u001b[0m:\u001b[36mfix_timestep\u001b[0m:\u001b[36m240\u001b[0m - \u001b[33m\u001b[1mTime fixed. Time coordinate 2024-03-08 12:00:00 did not match expected time 2024-03-09 00:00:00. Adjusted to 2024-03-09 00:00:00.\u001b[0m\n",
      "\u001b[32m2025-05-30 13:53:06.349\u001b[0m | \u001b[33m\u001b[1mWARNING \u001b[0m | \u001b[36moceansoda_ethzv2.data.utils.checker\u001b[0m:\u001b[36madd_time_bnds\u001b[0m:\u001b[36m70\u001b[0m - \u001b[33m\u001b[1mTime bounds are missing, adding them.\u001b[0m\n",
      "\u001b[32m2025-05-30 13:53:06.368\u001b[0m | \u001b[1mINFO    \u001b[0m | \u001b[36moceansoda_ethzv2.data.utils.zarr_utils\u001b[0m:\u001b[36msave_to_zarr\u001b[0m:\u001b[36m321\u001b[0m - \u001b[1mStarting to write ../data/8D_025/sss_multiobs-8D_025.zarr for time 2024-03-09 00:00:00\u001b[0m\n"
     ]
    },
    {
     "name": "stderr",
     "output_type": "stream",
     "text": [
      "Saving ../data/8D_025/sss_multiobs-8D_025.zarr/2024:2024-03-09 00:00: 100%|██████████| 194/194 [00:04<00:00, 40.33it/s]"
     ]
    },
    {
     "name": "stdout",
     "output_type": "stream",
     "text": [
      "\u001b[32m2025-05-30 13:53:11.523\u001b[0m | \u001b[32m\u001b[1mSUCCESS \u001b[0m | \u001b[36moceansoda_ethzv2.data.utils.zarr_utils\u001b[0m:\u001b[36msave_to_zarr\u001b[0m:\u001b[36m329\u001b[0m - \u001b[32m\u001b[1mSaved to: ../data/8D_025/sss_multiobs-8D_025.zarr/2024:2024-03-09 00:00\u001b[0m\n",
      "\u001b[32m2025-05-30 13:53:11.539\u001b[0m | \u001b[1mINFO    \u001b[0m | \u001b[36moceansoda_ethzv2.data.utils.zarr_utils\u001b[0m:\u001b[36msave_to_zarr\u001b[0m:\u001b[36m321\u001b[0m - \u001b[1mStarting to write ../data/8D_025/flag_multiobs-8D_025.zarr for time 2024-03-09 00:00:00\u001b[0m\n"
     ]
    },
    {
     "name": "stderr",
     "output_type": "stream",
     "text": [
      "\n",
      "Saving ../data/8D_025/flag_multiobs-8D_025.zarr/2024:2024-03-09 00:00: 100%|██████████| 20/20 [00:00<00:00, 2237.98it/s]"
     ]
    },
    {
     "name": "stdout",
     "output_type": "stream",
     "text": [
      "\u001b[32m2025-05-30 13:53:11.580\u001b[0m | \u001b[32m\u001b[1mSUCCESS \u001b[0m | \u001b[36moceansoda_ethzv2.data.utils.zarr_utils\u001b[0m:\u001b[36msave_to_zarr\u001b[0m:\u001b[36m329\u001b[0m - \u001b[32m\u001b[1mSaved to: ../data/8D_025/flag_multiobs-8D_025.zarr/2024:2024-03-09 00:00\u001b[0m\n",
      "\u001b[32m2025-05-30 13:53:11.598\u001b[0m | \u001b[1mINFO    \u001b[0m | \u001b[36moceansoda_ethzv2.data.utils.zarr_utils\u001b[0m:\u001b[36msave_to_zarr\u001b[0m:\u001b[36m321\u001b[0m - \u001b[1mStarting to write ../data/8D_025/sss_multiobs_sigma_regrid-8D_025.zarr for time 2024-03-09 00:00:00\u001b[0m\n"
     ]
    },
    {
     "name": "stderr",
     "output_type": "stream",
     "text": [
      "\n",
      "Saving ../data/8D_025/sss_multiobs_sigma_regrid-8D_025.zarr/2024:2024-03-09 00:00: 100%|██████████| 194/194 [00:13<00:00, 13.98it/s]"
     ]
    },
    {
     "name": "stdout",
     "output_type": "stream",
     "text": [
      "\u001b[32m2025-05-30 13:53:25.682\u001b[0m | \u001b[32m\u001b[1mSUCCESS \u001b[0m | \u001b[36moceansoda_ethzv2.data.utils.zarr_utils\u001b[0m:\u001b[36msave_to_zarr\u001b[0m:\u001b[36m329\u001b[0m - \u001b[32m\u001b[1mSaved to: ../data/8D_025/sss_multiobs_sigma_regrid-8D_025.zarr/2024:2024-03-09 00:00\u001b[0m\n"
     ]
    },
    {
     "name": "stderr",
     "output_type": "stream",
     "text": [
      "\n"
     ]
    },
    {
     "name": "stdout",
     "output_type": "stream",
     "text": [
      "\u001b[32m2025-05-30 13:53:30.385\u001b[0m | \u001b[33m\u001b[1mWARNING \u001b[0m | \u001b[36moceansoda_ethzv2.data.utils.checker\u001b[0m:\u001b[36mfix_timestep\u001b[0m:\u001b[36m240\u001b[0m - \u001b[33m\u001b[1mTime fixed. Time coordinate 2024-03-16 12:00:00 did not match expected time 2024-03-17 00:00:00. Adjusted to 2024-03-17 00:00:00.\u001b[0m\n",
      "\u001b[32m2025-05-30 13:53:30.387\u001b[0m | \u001b[33m\u001b[1mWARNING \u001b[0m | \u001b[36moceansoda_ethzv2.data.utils.checker\u001b[0m:\u001b[36madd_time_bnds\u001b[0m:\u001b[36m70\u001b[0m - \u001b[33m\u001b[1mTime bounds are missing, adding them.\u001b[0m\n",
      "\u001b[32m2025-05-30 13:53:30.405\u001b[0m | \u001b[1mINFO    \u001b[0m | \u001b[36moceansoda_ethzv2.data.utils.zarr_utils\u001b[0m:\u001b[36msave_to_zarr\u001b[0m:\u001b[36m321\u001b[0m - \u001b[1mStarting to write ../data/8D_025/sss_multiobs-8D_025.zarr for time 2024-03-17 00:00:00\u001b[0m\n"
     ]
    },
    {
     "name": "stderr",
     "output_type": "stream",
     "text": [
      "Saving ../data/8D_025/sss_multiobs-8D_025.zarr/2024:2024-03-17 00:00: 100%|██████████| 194/194 [00:05<00:00, 36.40it/s]"
     ]
    },
    {
     "name": "stdout",
     "output_type": "stream",
     "text": [
      "\u001b[32m2025-05-30 13:53:35.891\u001b[0m | \u001b[32m\u001b[1mSUCCESS \u001b[0m | \u001b[36moceansoda_ethzv2.data.utils.zarr_utils\u001b[0m:\u001b[36msave_to_zarr\u001b[0m:\u001b[36m329\u001b[0m - \u001b[32m\u001b[1mSaved to: ../data/8D_025/sss_multiobs-8D_025.zarr/2024:2024-03-17 00:00\u001b[0m\n",
      "\u001b[32m2025-05-30 13:53:35.907\u001b[0m | \u001b[1mINFO    \u001b[0m | \u001b[36moceansoda_ethzv2.data.utils.zarr_utils\u001b[0m:\u001b[36msave_to_zarr\u001b[0m:\u001b[36m321\u001b[0m - \u001b[1mStarting to write ../data/8D_025/flag_multiobs-8D_025.zarr for time 2024-03-17 00:00:00\u001b[0m\n"
     ]
    },
    {
     "name": "stderr",
     "output_type": "stream",
     "text": [
      "\n",
      "Saving ../data/8D_025/flag_multiobs-8D_025.zarr/2024:2024-03-17 00:00: 100%|██████████| 20/20 [00:00<00:00, 1963.30it/s]"
     ]
    },
    {
     "name": "stdout",
     "output_type": "stream",
     "text": [
      "\u001b[32m2025-05-30 13:53:35.951\u001b[0m | \u001b[32m\u001b[1mSUCCESS \u001b[0m | \u001b[36moceansoda_ethzv2.data.utils.zarr_utils\u001b[0m:\u001b[36msave_to_zarr\u001b[0m:\u001b[36m329\u001b[0m - \u001b[32m\u001b[1mSaved to: ../data/8D_025/flag_multiobs-8D_025.zarr/2024:2024-03-17 00:00\u001b[0m\n",
      "\u001b[32m2025-05-30 13:53:35.967\u001b[0m | \u001b[1mINFO    \u001b[0m | \u001b[36moceansoda_ethzv2.data.utils.zarr_utils\u001b[0m:\u001b[36msave_to_zarr\u001b[0m:\u001b[36m321\u001b[0m - \u001b[1mStarting to write ../data/8D_025/sss_multiobs_sigma_regrid-8D_025.zarr for time 2024-03-17 00:00:00\u001b[0m\n"
     ]
    },
    {
     "name": "stderr",
     "output_type": "stream",
     "text": [
      "\n",
      "Saving ../data/8D_025/sss_multiobs_sigma_regrid-8D_025.zarr/2024:2024-03-17 00:00: 100%|██████████| 194/194 [00:13<00:00, 14.68it/s]"
     ]
    },
    {
     "name": "stdout",
     "output_type": "stream",
     "text": [
      "\u001b[32m2025-05-30 13:53:49.390\u001b[0m | \u001b[32m\u001b[1mSUCCESS \u001b[0m | \u001b[36moceansoda_ethzv2.data.utils.zarr_utils\u001b[0m:\u001b[36msave_to_zarr\u001b[0m:\u001b[36m329\u001b[0m - \u001b[32m\u001b[1mSaved to: ../data/8D_025/sss_multiobs_sigma_regrid-8D_025.zarr/2024:2024-03-17 00:00\u001b[0m\n"
     ]
    },
    {
     "name": "stderr",
     "output_type": "stream",
     "text": [
      "\n"
     ]
    },
    {
     "name": "stdout",
     "output_type": "stream",
     "text": [
      "\u001b[32m2025-05-30 13:53:53.922\u001b[0m | \u001b[33m\u001b[1mWARNING \u001b[0m | \u001b[36moceansoda_ethzv2.data.utils.checker\u001b[0m:\u001b[36mfix_timestep\u001b[0m:\u001b[36m240\u001b[0m - \u001b[33m\u001b[1mTime fixed. Time coordinate 2024-03-24 12:00:00 did not match expected time 2024-03-25 00:00:00. Adjusted to 2024-03-25 00:00:00.\u001b[0m\n",
      "\u001b[32m2025-05-30 13:53:53.924\u001b[0m | \u001b[33m\u001b[1mWARNING \u001b[0m | \u001b[36moceansoda_ethzv2.data.utils.checker\u001b[0m:\u001b[36madd_time_bnds\u001b[0m:\u001b[36m70\u001b[0m - \u001b[33m\u001b[1mTime bounds are missing, adding them.\u001b[0m\n",
      "\u001b[32m2025-05-30 13:53:53.944\u001b[0m | \u001b[1mINFO    \u001b[0m | \u001b[36moceansoda_ethzv2.data.utils.zarr_utils\u001b[0m:\u001b[36msave_to_zarr\u001b[0m:\u001b[36m321\u001b[0m - \u001b[1mStarting to write ../data/8D_025/sss_multiobs-8D_025.zarr for time 2024-03-25 00:00:00\u001b[0m\n"
     ]
    },
    {
     "name": "stderr",
     "output_type": "stream",
     "text": [
      "Saving ../data/8D_025/sss_multiobs-8D_025.zarr/2024:2024-03-25 00:00: 100%|██████████| 194/194 [00:04<00:00, 46.61it/s]"
     ]
    },
    {
     "name": "stdout",
     "output_type": "stream",
     "text": [
      "\u001b[32m2025-05-30 13:53:58.279\u001b[0m | \u001b[32m\u001b[1mSUCCESS \u001b[0m | \u001b[36moceansoda_ethzv2.data.utils.zarr_utils\u001b[0m:\u001b[36msave_to_zarr\u001b[0m:\u001b[36m329\u001b[0m - \u001b[32m\u001b[1mSaved to: ../data/8D_025/sss_multiobs-8D_025.zarr/2024:2024-03-25 00:00\u001b[0m\n",
      "\u001b[32m2025-05-30 13:53:58.294\u001b[0m | \u001b[1mINFO    \u001b[0m | \u001b[36moceansoda_ethzv2.data.utils.zarr_utils\u001b[0m:\u001b[36msave_to_zarr\u001b[0m:\u001b[36m321\u001b[0m - \u001b[1mStarting to write ../data/8D_025/flag_multiobs-8D_025.zarr for time 2024-03-25 00:00:00\u001b[0m\n"
     ]
    },
    {
     "name": "stderr",
     "output_type": "stream",
     "text": [
      "\n",
      "Saving ../data/8D_025/flag_multiobs-8D_025.zarr/2024:2024-03-25 00:00: 100%|██████████| 20/20 [00:00<00:00, 1841.75it/s]"
     ]
    },
    {
     "name": "stdout",
     "output_type": "stream",
     "text": [
      "\u001b[32m2025-05-30 13:53:58.335\u001b[0m | \u001b[32m\u001b[1mSUCCESS \u001b[0m | \u001b[36moceansoda_ethzv2.data.utils.zarr_utils\u001b[0m:\u001b[36msave_to_zarr\u001b[0m:\u001b[36m329\u001b[0m - \u001b[32m\u001b[1mSaved to: ../data/8D_025/flag_multiobs-8D_025.zarr/2024:2024-03-25 00:00\u001b[0m\n",
      "\u001b[32m2025-05-30 13:53:58.352\u001b[0m | \u001b[1mINFO    \u001b[0m | \u001b[36moceansoda_ethzv2.data.utils.zarr_utils\u001b[0m:\u001b[36msave_to_zarr\u001b[0m:\u001b[36m321\u001b[0m - \u001b[1mStarting to write ../data/8D_025/sss_multiobs_sigma_regrid-8D_025.zarr for time 2024-03-25 00:00:00\u001b[0m\n"
     ]
    },
    {
     "name": "stderr",
     "output_type": "stream",
     "text": [
      "\n",
      "Saving ../data/8D_025/sss_multiobs_sigma_regrid-8D_025.zarr/2024:2024-03-25 00:00: 100%|██████████| 194/194 [00:12<00:00, 15.53it/s]"
     ]
    },
    {
     "name": "stdout",
     "output_type": "stream",
     "text": [
      "\u001b[32m2025-05-30 13:54:14.817\u001b[0m | \u001b[32m\u001b[1mSUCCESS \u001b[0m | \u001b[36moceansoda_ethzv2.data.utils.zarr_utils\u001b[0m:\u001b[36msave_to_zarr\u001b[0m:\u001b[36m329\u001b[0m - \u001b[32m\u001b[1mSaved to: ../data/8D_025/sss_multiobs_sigma_regrid-8D_025.zarr/2024:2024-03-25 00:00\u001b[0m\n"
     ]
    },
    {
     "name": "stderr",
     "output_type": "stream",
     "text": [
      "\n"
     ]
    },
    {
     "name": "stdout",
     "output_type": "stream",
     "text": [
      "\u001b[32m2025-05-30 13:54:18.995\u001b[0m | \u001b[33m\u001b[1mWARNING \u001b[0m | \u001b[36moceansoda_ethzv2.data.utils.checker\u001b[0m:\u001b[36mfix_timestep\u001b[0m:\u001b[36m240\u001b[0m - \u001b[33m\u001b[1mTime fixed. Time coordinate 2024-04-01 12:00:00 did not match expected time 2024-04-02 00:00:00. Adjusted to 2024-04-02 00:00:00.\u001b[0m\n",
      "\u001b[32m2025-05-30 13:54:18.997\u001b[0m | \u001b[33m\u001b[1mWARNING \u001b[0m | \u001b[36moceansoda_ethzv2.data.utils.checker\u001b[0m:\u001b[36madd_time_bnds\u001b[0m:\u001b[36m70\u001b[0m - \u001b[33m\u001b[1mTime bounds are missing, adding them.\u001b[0m\n",
      "\u001b[32m2025-05-30 13:54:19.019\u001b[0m | \u001b[1mINFO    \u001b[0m | \u001b[36moceansoda_ethzv2.data.utils.zarr_utils\u001b[0m:\u001b[36msave_to_zarr\u001b[0m:\u001b[36m321\u001b[0m - \u001b[1mStarting to write ../data/8D_025/sss_multiobs-8D_025.zarr for time 2024-04-02 00:00:00\u001b[0m\n"
     ]
    },
    {
     "name": "stderr",
     "output_type": "stream",
     "text": [
      "Saving ../data/8D_025/sss_multiobs-8D_025.zarr/2024:2024-04-02 00:00: 100%|██████████| 194/194 [00:05<00:00, 38.62it/s]"
     ]
    },
    {
     "name": "stdout",
     "output_type": "stream",
     "text": [
      "\u001b[32m2025-05-30 13:54:24.222\u001b[0m | \u001b[32m\u001b[1mSUCCESS \u001b[0m | \u001b[36moceansoda_ethzv2.data.utils.zarr_utils\u001b[0m:\u001b[36msave_to_zarr\u001b[0m:\u001b[36m329\u001b[0m - \u001b[32m\u001b[1mSaved to: ../data/8D_025/sss_multiobs-8D_025.zarr/2024:2024-04-02 00:00\u001b[0m\n",
      "\u001b[32m2025-05-30 13:54:24.241\u001b[0m | \u001b[1mINFO    \u001b[0m | \u001b[36moceansoda_ethzv2.data.utils.zarr_utils\u001b[0m:\u001b[36msave_to_zarr\u001b[0m:\u001b[36m321\u001b[0m - \u001b[1mStarting to write ../data/8D_025/flag_multiobs-8D_025.zarr for time 2024-04-02 00:00:00\u001b[0m\n"
     ]
    },
    {
     "name": "stderr",
     "output_type": "stream",
     "text": [
      "\n",
      "Saving ../data/8D_025/flag_multiobs-8D_025.zarr/2024:2024-04-02 00:00: 100%|██████████| 20/20 [00:00<00:00, 1665.70it/s]"
     ]
    },
    {
     "name": "stdout",
     "output_type": "stream",
     "text": [
      "\u001b[32m2025-05-30 13:54:24.284\u001b[0m | \u001b[32m\u001b[1mSUCCESS \u001b[0m | \u001b[36moceansoda_ethzv2.data.utils.zarr_utils\u001b[0m:\u001b[36msave_to_zarr\u001b[0m:\u001b[36m329\u001b[0m - \u001b[32m\u001b[1mSaved to: ../data/8D_025/flag_multiobs-8D_025.zarr/2024:2024-04-02 00:00\u001b[0m\n",
      "\u001b[32m2025-05-30 13:54:24.301\u001b[0m | \u001b[1mINFO    \u001b[0m | \u001b[36moceansoda_ethzv2.data.utils.zarr_utils\u001b[0m:\u001b[36msave_to_zarr\u001b[0m:\u001b[36m321\u001b[0m - \u001b[1mStarting to write ../data/8D_025/sss_multiobs_sigma_regrid-8D_025.zarr for time 2024-04-02 00:00:00\u001b[0m\n"
     ]
    },
    {
     "name": "stderr",
     "output_type": "stream",
     "text": [
      "\n",
      "Saving ../data/8D_025/sss_multiobs_sigma_regrid-8D_025.zarr/2024:2024-04-02 00:00: 100%|██████████| 194/194 [00:13<00:00, 14.65it/s]"
     ]
    },
    {
     "name": "stdout",
     "output_type": "stream",
     "text": [
      "\u001b[32m2025-05-30 13:54:37.745\u001b[0m | \u001b[32m\u001b[1mSUCCESS \u001b[0m | \u001b[36moceansoda_ethzv2.data.utils.zarr_utils\u001b[0m:\u001b[36msave_to_zarr\u001b[0m:\u001b[36m329\u001b[0m - \u001b[32m\u001b[1mSaved to: ../data/8D_025/sss_multiobs_sigma_regrid-8D_025.zarr/2024:2024-04-02 00:00\u001b[0m\n"
     ]
    },
    {
     "name": "stderr",
     "output_type": "stream",
     "text": [
      "\n"
     ]
    },
    {
     "name": "stdout",
     "output_type": "stream",
     "text": [
      "\u001b[32m2025-05-30 13:54:46.488\u001b[0m | \u001b[33m\u001b[1mWARNING \u001b[0m | \u001b[36moceansoda_ethzv2.data.utils.checker\u001b[0m:\u001b[36mfix_timestep\u001b[0m:\u001b[36m240\u001b[0m - \u001b[33m\u001b[1mTime fixed. Time coordinate 2024-04-09 12:00:00 did not match expected time 2024-04-10 00:00:00. Adjusted to 2024-04-10 00:00:00.\u001b[0m\n",
      "\u001b[32m2025-05-30 13:54:46.489\u001b[0m | \u001b[33m\u001b[1mWARNING \u001b[0m | \u001b[36moceansoda_ethzv2.data.utils.checker\u001b[0m:\u001b[36madd_time_bnds\u001b[0m:\u001b[36m70\u001b[0m - \u001b[33m\u001b[1mTime bounds are missing, adding them.\u001b[0m\n",
      "\u001b[32m2025-05-30 13:54:46.509\u001b[0m | \u001b[1mINFO    \u001b[0m | \u001b[36moceansoda_ethzv2.data.utils.zarr_utils\u001b[0m:\u001b[36msave_to_zarr\u001b[0m:\u001b[36m321\u001b[0m - \u001b[1mStarting to write ../data/8D_025/sss_multiobs-8D_025.zarr for time 2024-04-10 00:00:00\u001b[0m\n"
     ]
    },
    {
     "name": "stderr",
     "output_type": "stream",
     "text": [
      "Saving ../data/8D_025/sss_multiobs-8D_025.zarr/2024:2024-04-10 00:00: 100%|██████████| 194/194 [00:04<00:00, 42.47it/s] "
     ]
    },
    {
     "name": "stdout",
     "output_type": "stream",
     "text": [
      "\u001b[32m2025-05-30 13:54:55.018\u001b[0m | \u001b[32m\u001b[1mSUCCESS \u001b[0m | \u001b[36moceansoda_ethzv2.data.utils.zarr_utils\u001b[0m:\u001b[36msave_to_zarr\u001b[0m:\u001b[36m329\u001b[0m - \u001b[32m\u001b[1mSaved to: ../data/8D_025/sss_multiobs-8D_025.zarr/2024:2024-04-10 00:00\u001b[0m\n",
      "\u001b[32m2025-05-30 13:54:55.035\u001b[0m | \u001b[1mINFO    \u001b[0m | \u001b[36moceansoda_ethzv2.data.utils.zarr_utils\u001b[0m:\u001b[36msave_to_zarr\u001b[0m:\u001b[36m321\u001b[0m - \u001b[1mStarting to write ../data/8D_025/flag_multiobs-8D_025.zarr for time 2024-04-10 00:00:00\u001b[0m\n"
     ]
    },
    {
     "name": "stderr",
     "output_type": "stream",
     "text": [
      "\n",
      "Saving ../data/8D_025/flag_multiobs-8D_025.zarr/2024:2024-04-10 00:00: 100%|██████████| 20/20 [00:00<00:00, 1547.17it/s]"
     ]
    },
    {
     "name": "stdout",
     "output_type": "stream",
     "text": [
      "\u001b[32m2025-05-30 13:54:55.079\u001b[0m | \u001b[32m\u001b[1mSUCCESS \u001b[0m | \u001b[36moceansoda_ethzv2.data.utils.zarr_utils\u001b[0m:\u001b[36msave_to_zarr\u001b[0m:\u001b[36m329\u001b[0m - \u001b[32m\u001b[1mSaved to: ../data/8D_025/flag_multiobs-8D_025.zarr/2024:2024-04-10 00:00\u001b[0m\n",
      "\u001b[32m2025-05-30 13:54:55.096\u001b[0m | \u001b[1mINFO    \u001b[0m | \u001b[36moceansoda_ethzv2.data.utils.zarr_utils\u001b[0m:\u001b[36msave_to_zarr\u001b[0m:\u001b[36m321\u001b[0m - \u001b[1mStarting to write ../data/8D_025/sss_multiobs_sigma_regrid-8D_025.zarr for time 2024-04-10 00:00:00\u001b[0m\n"
     ]
    },
    {
     "name": "stderr",
     "output_type": "stream",
     "text": [
      "\n",
      "Saving ../data/8D_025/sss_multiobs_sigma_regrid-8D_025.zarr/2024:2024-04-10 00:00: 100%|██████████| 194/194 [00:13<00:00, 14.35it/s] "
     ]
    },
    {
     "name": "stdout",
     "output_type": "stream",
     "text": [
      "\u001b[32m2025-05-30 13:55:08.818\u001b[0m | \u001b[32m\u001b[1mSUCCESS \u001b[0m | \u001b[36moceansoda_ethzv2.data.utils.zarr_utils\u001b[0m:\u001b[36msave_to_zarr\u001b[0m:\u001b[36m329\u001b[0m - \u001b[32m\u001b[1mSaved to: ../data/8D_025/sss_multiobs_sigma_regrid-8D_025.zarr/2024:2024-04-10 00:00\u001b[0m\n"
     ]
    },
    {
     "name": "stderr",
     "output_type": "stream",
     "text": [
      "\n"
     ]
    },
    {
     "name": "stdout",
     "output_type": "stream",
     "text": [
      "\u001b[32m2025-05-30 13:55:12.851\u001b[0m | \u001b[33m\u001b[1mWARNING \u001b[0m | \u001b[36moceansoda_ethzv2.data.utils.checker\u001b[0m:\u001b[36mfix_timestep\u001b[0m:\u001b[36m240\u001b[0m - \u001b[33m\u001b[1mTime fixed. Time coordinate 2024-04-17 12:00:00 did not match expected time 2024-04-18 00:00:00. Adjusted to 2024-04-18 00:00:00.\u001b[0m\n",
      "\u001b[32m2025-05-30 13:55:12.853\u001b[0m | \u001b[33m\u001b[1mWARNING \u001b[0m | \u001b[36moceansoda_ethzv2.data.utils.checker\u001b[0m:\u001b[36madd_time_bnds\u001b[0m:\u001b[36m70\u001b[0m - \u001b[33m\u001b[1mTime bounds are missing, adding them.\u001b[0m\n",
      "\u001b[32m2025-05-30 13:55:12.873\u001b[0m | \u001b[1mINFO    \u001b[0m | \u001b[36moceansoda_ethzv2.data.utils.zarr_utils\u001b[0m:\u001b[36msave_to_zarr\u001b[0m:\u001b[36m321\u001b[0m - \u001b[1mStarting to write ../data/8D_025/sss_multiobs-8D_025.zarr for time 2024-04-18 00:00:00\u001b[0m\n"
     ]
    },
    {
     "name": "stderr",
     "output_type": "stream",
     "text": [
      "Saving ../data/8D_025/sss_multiobs-8D_025.zarr/2024:2024-04-18 00:00: 100%|██████████| 194/194 [00:04<00:00, 42.81it/s] "
     ]
    },
    {
     "name": "stdout",
     "output_type": "stream",
     "text": [
      "\u001b[32m2025-05-30 13:55:17.573\u001b[0m | \u001b[32m\u001b[1mSUCCESS \u001b[0m | \u001b[36moceansoda_ethzv2.data.utils.zarr_utils\u001b[0m:\u001b[36msave_to_zarr\u001b[0m:\u001b[36m329\u001b[0m - \u001b[32m\u001b[1mSaved to: ../data/8D_025/sss_multiobs-8D_025.zarr/2024:2024-04-18 00:00\u001b[0m\n",
      "\u001b[32m2025-05-30 13:55:17.589\u001b[0m | \u001b[1mINFO    \u001b[0m | \u001b[36moceansoda_ethzv2.data.utils.zarr_utils\u001b[0m:\u001b[36msave_to_zarr\u001b[0m:\u001b[36m321\u001b[0m - \u001b[1mStarting to write ../data/8D_025/flag_multiobs-8D_025.zarr for time 2024-04-18 00:00:00\u001b[0m\n"
     ]
    },
    {
     "name": "stderr",
     "output_type": "stream",
     "text": [
      "\n",
      "Saving ../data/8D_025/flag_multiobs-8D_025.zarr/2024:2024-04-18 00:00: 100%|██████████| 20/20 [00:00<00:00, 1913.15it/s]"
     ]
    },
    {
     "name": "stdout",
     "output_type": "stream",
     "text": [
      "\u001b[32m2025-05-30 13:55:17.631\u001b[0m | \u001b[32m\u001b[1mSUCCESS \u001b[0m | \u001b[36moceansoda_ethzv2.data.utils.zarr_utils\u001b[0m:\u001b[36msave_to_zarr\u001b[0m:\u001b[36m329\u001b[0m - \u001b[32m\u001b[1mSaved to: ../data/8D_025/flag_multiobs-8D_025.zarr/2024:2024-04-18 00:00\u001b[0m\n",
      "\u001b[32m2025-05-30 13:55:17.648\u001b[0m | \u001b[1mINFO    \u001b[0m | \u001b[36moceansoda_ethzv2.data.utils.zarr_utils\u001b[0m:\u001b[36msave_to_zarr\u001b[0m:\u001b[36m321\u001b[0m - \u001b[1mStarting to write ../data/8D_025/sss_multiobs_sigma_regrid-8D_025.zarr for time 2024-04-18 00:00:00\u001b[0m\n"
     ]
    },
    {
     "name": "stderr",
     "output_type": "stream",
     "text": [
      "\n",
      "Saving ../data/8D_025/sss_multiobs_sigma_regrid-8D_025.zarr/2024:2024-04-18 00:00: 100%|██████████| 194/194 [00:12<00:00, 15.43it/s] "
     ]
    },
    {
     "name": "stdout",
     "output_type": "stream",
     "text": [
      "\u001b[32m2025-05-30 13:55:30.428\u001b[0m | \u001b[32m\u001b[1mSUCCESS \u001b[0m | \u001b[36moceansoda_ethzv2.data.utils.zarr_utils\u001b[0m:\u001b[36msave_to_zarr\u001b[0m:\u001b[36m329\u001b[0m - \u001b[32m\u001b[1mSaved to: ../data/8D_025/sss_multiobs_sigma_regrid-8D_025.zarr/2024:2024-04-18 00:00\u001b[0m\n"
     ]
    },
    {
     "name": "stderr",
     "output_type": "stream",
     "text": [
      "\n"
     ]
    },
    {
     "name": "stdout",
     "output_type": "stream",
     "text": [
      "\u001b[32m2025-05-30 13:55:34.417\u001b[0m | \u001b[33m\u001b[1mWARNING \u001b[0m | \u001b[36moceansoda_ethzv2.data.utils.checker\u001b[0m:\u001b[36mfix_timestep\u001b[0m:\u001b[36m240\u001b[0m - \u001b[33m\u001b[1mTime fixed. Time coordinate 2024-04-25 12:00:00 did not match expected time 2024-04-26 00:00:00. Adjusted to 2024-04-26 00:00:00.\u001b[0m\n",
      "\u001b[32m2025-05-30 13:55:34.419\u001b[0m | \u001b[33m\u001b[1mWARNING \u001b[0m | \u001b[36moceansoda_ethzv2.data.utils.checker\u001b[0m:\u001b[36madd_time_bnds\u001b[0m:\u001b[36m70\u001b[0m - \u001b[33m\u001b[1mTime bounds are missing, adding them.\u001b[0m\n",
      "\u001b[32m2025-05-30 13:55:34.440\u001b[0m | \u001b[1mINFO    \u001b[0m | \u001b[36moceansoda_ethzv2.data.utils.zarr_utils\u001b[0m:\u001b[36msave_to_zarr\u001b[0m:\u001b[36m321\u001b[0m - \u001b[1mStarting to write ../data/8D_025/sss_multiobs-8D_025.zarr for time 2024-04-26 00:00:00\u001b[0m\n"
     ]
    },
    {
     "name": "stderr",
     "output_type": "stream",
     "text": [
      "Saving ../data/8D_025/sss_multiobs-8D_025.zarr/2024:2024-04-26 00:00: 100%|██████████| 194/194 [00:04<00:00, 47.98it/s]"
     ]
    },
    {
     "name": "stdout",
     "output_type": "stream",
     "text": [
      "\u001b[32m2025-05-30 13:55:42.710\u001b[0m | \u001b[32m\u001b[1mSUCCESS \u001b[0m | \u001b[36moceansoda_ethzv2.data.utils.zarr_utils\u001b[0m:\u001b[36msave_to_zarr\u001b[0m:\u001b[36m329\u001b[0m - \u001b[32m\u001b[1mSaved to: ../data/8D_025/sss_multiobs-8D_025.zarr/2024:2024-04-26 00:00\u001b[0m\n",
      "\u001b[32m2025-05-30 13:55:42.727\u001b[0m | \u001b[1mINFO    \u001b[0m | \u001b[36moceansoda_ethzv2.data.utils.zarr_utils\u001b[0m:\u001b[36msave_to_zarr\u001b[0m:\u001b[36m321\u001b[0m - \u001b[1mStarting to write ../data/8D_025/flag_multiobs-8D_025.zarr for time 2024-04-26 00:00:00\u001b[0m\n"
     ]
    },
    {
     "name": "stderr",
     "output_type": "stream",
     "text": [
      "\n",
      "Saving ../data/8D_025/flag_multiobs-8D_025.zarr/2024:2024-04-26 00:00: 100%|██████████| 20/20 [00:00<00:00, 1623.12it/s]"
     ]
    },
    {
     "name": "stdout",
     "output_type": "stream",
     "text": [
      "\u001b[32m2025-05-30 13:55:42.774\u001b[0m | \u001b[32m\u001b[1mSUCCESS \u001b[0m | \u001b[36moceansoda_ethzv2.data.utils.zarr_utils\u001b[0m:\u001b[36msave_to_zarr\u001b[0m:\u001b[36m329\u001b[0m - \u001b[32m\u001b[1mSaved to: ../data/8D_025/flag_multiobs-8D_025.zarr/2024:2024-04-26 00:00\u001b[0m\n",
      "\u001b[32m2025-05-30 13:55:42.792\u001b[0m | \u001b[1mINFO    \u001b[0m | \u001b[36moceansoda_ethzv2.data.utils.zarr_utils\u001b[0m:\u001b[36msave_to_zarr\u001b[0m:\u001b[36m321\u001b[0m - \u001b[1mStarting to write ../data/8D_025/sss_multiobs_sigma_regrid-8D_025.zarr for time 2024-04-26 00:00:00\u001b[0m\n"
     ]
    },
    {
     "name": "stderr",
     "output_type": "stream",
     "text": [
      "\n",
      "Saving ../data/8D_025/sss_multiobs_sigma_regrid-8D_025.zarr/2024:2024-04-26 00:00: 100%|██████████| 194/194 [00:12<00:00, 15.43it/s] "
     ]
    },
    {
     "name": "stdout",
     "output_type": "stream",
     "text": [
      "\u001b[32m2025-05-30 13:56:00.229\u001b[0m | \u001b[32m\u001b[1mSUCCESS \u001b[0m | \u001b[36moceansoda_ethzv2.data.utils.zarr_utils\u001b[0m:\u001b[36msave_to_zarr\u001b[0m:\u001b[36m329\u001b[0m - \u001b[32m\u001b[1mSaved to: ../data/8D_025/sss_multiobs_sigma_regrid-8D_025.zarr/2024:2024-04-26 00:00\u001b[0m\n"
     ]
    },
    {
     "name": "stderr",
     "output_type": "stream",
     "text": [
      "\n"
     ]
    },
    {
     "name": "stdout",
     "output_type": "stream",
     "text": [
      "\u001b[32m2025-05-30 13:56:07.961\u001b[0m | \u001b[33m\u001b[1mWARNING \u001b[0m | \u001b[36moceansoda_ethzv2.data.utils.checker\u001b[0m:\u001b[36mfix_timestep\u001b[0m:\u001b[36m240\u001b[0m - \u001b[33m\u001b[1mTime fixed. Time coordinate 2024-05-03 12:00:00 did not match expected time 2024-05-04 00:00:00. Adjusted to 2024-05-04 00:00:00.\u001b[0m\n",
      "\u001b[32m2025-05-30 13:56:07.963\u001b[0m | \u001b[33m\u001b[1mWARNING \u001b[0m | \u001b[36moceansoda_ethzv2.data.utils.checker\u001b[0m:\u001b[36madd_time_bnds\u001b[0m:\u001b[36m70\u001b[0m - \u001b[33m\u001b[1mTime bounds are missing, adding them.\u001b[0m\n",
      "\u001b[32m2025-05-30 13:56:07.998\u001b[0m | \u001b[1mINFO    \u001b[0m | \u001b[36moceansoda_ethzv2.data.utils.zarr_utils\u001b[0m:\u001b[36msave_to_zarr\u001b[0m:\u001b[36m321\u001b[0m - \u001b[1mStarting to write ../data/8D_025/sss_multiobs-8D_025.zarr for time 2024-05-04 00:00:00\u001b[0m\n"
     ]
    },
    {
     "name": "stderr",
     "output_type": "stream",
     "text": [
      "Saving ../data/8D_025/sss_multiobs-8D_025.zarr/2024:2024-05-04 00:00: 100%|██████████| 194/194 [00:04<00:00, 45.57it/s] "
     ]
    },
    {
     "name": "stdout",
     "output_type": "stream",
     "text": [
      "\u001b[32m2025-05-30 13:56:12.449\u001b[0m | \u001b[32m\u001b[1mSUCCESS \u001b[0m | \u001b[36moceansoda_ethzv2.data.utils.zarr_utils\u001b[0m:\u001b[36msave_to_zarr\u001b[0m:\u001b[36m329\u001b[0m - \u001b[32m\u001b[1mSaved to: ../data/8D_025/sss_multiobs-8D_025.zarr/2024:2024-05-04 00:00\u001b[0m\n",
      "\u001b[32m2025-05-30 13:56:12.466\u001b[0m | \u001b[1mINFO    \u001b[0m | \u001b[36moceansoda_ethzv2.data.utils.zarr_utils\u001b[0m:\u001b[36msave_to_zarr\u001b[0m:\u001b[36m321\u001b[0m - \u001b[1mStarting to write ../data/8D_025/flag_multiobs-8D_025.zarr for time 2024-05-04 00:00:00\u001b[0m\n"
     ]
    },
    {
     "name": "stderr",
     "output_type": "stream",
     "text": [
      "\n",
      "Saving ../data/8D_025/flag_multiobs-8D_025.zarr/2024:2024-05-04 00:00: 100%|██████████| 20/20 [00:00<00:00, 1868.62it/s]"
     ]
    },
    {
     "name": "stdout",
     "output_type": "stream",
     "text": [
      "\u001b[32m2025-05-30 13:56:12.508\u001b[0m | \u001b[32m\u001b[1mSUCCESS \u001b[0m | \u001b[36moceansoda_ethzv2.data.utils.zarr_utils\u001b[0m:\u001b[36msave_to_zarr\u001b[0m:\u001b[36m329\u001b[0m - \u001b[32m\u001b[1mSaved to: ../data/8D_025/flag_multiobs-8D_025.zarr/2024:2024-05-04 00:00\u001b[0m\n",
      "\u001b[32m2025-05-30 13:56:12.527\u001b[0m | \u001b[1mINFO    \u001b[0m | \u001b[36moceansoda_ethzv2.data.utils.zarr_utils\u001b[0m:\u001b[36msave_to_zarr\u001b[0m:\u001b[36m321\u001b[0m - \u001b[1mStarting to write ../data/8D_025/sss_multiobs_sigma_regrid-8D_025.zarr for time 2024-05-04 00:00:00\u001b[0m\n"
     ]
    },
    {
     "name": "stderr",
     "output_type": "stream",
     "text": [
      "\n",
      "Saving ../data/8D_025/sss_multiobs_sigma_regrid-8D_025.zarr/2024:2024-05-04 00:00: 100%|██████████| 194/194 [00:13<00:00, 14.38it/s]"
     ]
    },
    {
     "name": "stdout",
     "output_type": "stream",
     "text": [
      "\u001b[32m2025-05-30 13:56:26.222\u001b[0m | \u001b[32m\u001b[1mSUCCESS \u001b[0m | \u001b[36moceansoda_ethzv2.data.utils.zarr_utils\u001b[0m:\u001b[36msave_to_zarr\u001b[0m:\u001b[36m329\u001b[0m - \u001b[32m\u001b[1mSaved to: ../data/8D_025/sss_multiobs_sigma_regrid-8D_025.zarr/2024:2024-05-04 00:00\u001b[0m\n"
     ]
    },
    {
     "name": "stderr",
     "output_type": "stream",
     "text": [
      "\n"
     ]
    },
    {
     "name": "stdout",
     "output_type": "stream",
     "text": [
      "\u001b[32m2025-05-30 13:56:34.300\u001b[0m | \u001b[33m\u001b[1mWARNING \u001b[0m | \u001b[36moceansoda_ethzv2.data.utils.checker\u001b[0m:\u001b[36mfix_timestep\u001b[0m:\u001b[36m240\u001b[0m - \u001b[33m\u001b[1mTime fixed. Time coordinate 2024-05-11 12:00:00 did not match expected time 2024-05-12 00:00:00. Adjusted to 2024-05-12 00:00:00.\u001b[0m\n",
      "\u001b[32m2025-05-30 13:56:34.302\u001b[0m | \u001b[33m\u001b[1mWARNING \u001b[0m | \u001b[36moceansoda_ethzv2.data.utils.checker\u001b[0m:\u001b[36madd_time_bnds\u001b[0m:\u001b[36m70\u001b[0m - \u001b[33m\u001b[1mTime bounds are missing, adding them.\u001b[0m\n",
      "\u001b[32m2025-05-30 13:56:34.323\u001b[0m | \u001b[1mINFO    \u001b[0m | \u001b[36moceansoda_ethzv2.data.utils.zarr_utils\u001b[0m:\u001b[36msave_to_zarr\u001b[0m:\u001b[36m321\u001b[0m - \u001b[1mStarting to write ../data/8D_025/sss_multiobs-8D_025.zarr for time 2024-05-12 00:00:00\u001b[0m\n"
     ]
    },
    {
     "name": "stderr",
     "output_type": "stream",
     "text": [
      "Saving ../data/8D_025/sss_multiobs-8D_025.zarr/2024:2024-05-12 00:00: 100%|██████████| 194/194 [00:04<00:00, 44.50it/s] "
     ]
    },
    {
     "name": "stdout",
     "output_type": "stream",
     "text": [
      "\u001b[32m2025-05-30 13:56:38.854\u001b[0m | \u001b[32m\u001b[1mSUCCESS \u001b[0m | \u001b[36moceansoda_ethzv2.data.utils.zarr_utils\u001b[0m:\u001b[36msave_to_zarr\u001b[0m:\u001b[36m329\u001b[0m - \u001b[32m\u001b[1mSaved to: ../data/8D_025/sss_multiobs-8D_025.zarr/2024:2024-05-12 00:00\u001b[0m\n",
      "\u001b[32m2025-05-30 13:56:38.874\u001b[0m | \u001b[1mINFO    \u001b[0m | \u001b[36moceansoda_ethzv2.data.utils.zarr_utils\u001b[0m:\u001b[36msave_to_zarr\u001b[0m:\u001b[36m321\u001b[0m - \u001b[1mStarting to write ../data/8D_025/flag_multiobs-8D_025.zarr for time 2024-05-12 00:00:00\u001b[0m\n"
     ]
    },
    {
     "name": "stderr",
     "output_type": "stream",
     "text": [
      "\n",
      "Saving ../data/8D_025/flag_multiobs-8D_025.zarr/2024:2024-05-12 00:00: 100%|██████████| 20/20 [00:00<00:00, 1867.21it/s]"
     ]
    },
    {
     "name": "stdout",
     "output_type": "stream",
     "text": [
      "\u001b[32m2025-05-30 13:56:38.917\u001b[0m | \u001b[32m\u001b[1mSUCCESS \u001b[0m | \u001b[36moceansoda_ethzv2.data.utils.zarr_utils\u001b[0m:\u001b[36msave_to_zarr\u001b[0m:\u001b[36m329\u001b[0m - \u001b[32m\u001b[1mSaved to: ../data/8D_025/flag_multiobs-8D_025.zarr/2024:2024-05-12 00:00\u001b[0m\n",
      "\u001b[32m2025-05-30 13:56:38.936\u001b[0m | \u001b[1mINFO    \u001b[0m | \u001b[36moceansoda_ethzv2.data.utils.zarr_utils\u001b[0m:\u001b[36msave_to_zarr\u001b[0m:\u001b[36m321\u001b[0m - \u001b[1mStarting to write ../data/8D_025/sss_multiobs_sigma_regrid-8D_025.zarr for time 2024-05-12 00:00:00\u001b[0m\n"
     ]
    },
    {
     "name": "stderr",
     "output_type": "stream",
     "text": [
      "\n",
      "Saving ../data/8D_025/sss_multiobs_sigma_regrid-8D_025.zarr/2024:2024-05-12 00:00: 100%|██████████| 194/194 [00:12<00:00, 15.48it/s]"
     ]
    },
    {
     "name": "stdout",
     "output_type": "stream",
     "text": [
      "\u001b[32m2025-05-30 13:56:51.678\u001b[0m | \u001b[32m\u001b[1mSUCCESS \u001b[0m | \u001b[36moceansoda_ethzv2.data.utils.zarr_utils\u001b[0m:\u001b[36msave_to_zarr\u001b[0m:\u001b[36m329\u001b[0m - \u001b[32m\u001b[1mSaved to: ../data/8D_025/sss_multiobs_sigma_regrid-8D_025.zarr/2024:2024-05-12 00:00\u001b[0m\n"
     ]
    },
    {
     "name": "stderr",
     "output_type": "stream",
     "text": [
      "\n"
     ]
    },
    {
     "name": "stdout",
     "output_type": "stream",
     "text": [
      "\u001b[32m2025-05-30 13:56:56.187\u001b[0m | \u001b[33m\u001b[1mWARNING \u001b[0m | \u001b[36moceansoda_ethzv2.data.utils.checker\u001b[0m:\u001b[36mfix_timestep\u001b[0m:\u001b[36m240\u001b[0m - \u001b[33m\u001b[1mTime fixed. Time coordinate 2024-05-19 12:00:00 did not match expected time 2024-05-20 00:00:00. Adjusted to 2024-05-20 00:00:00.\u001b[0m\n",
      "\u001b[32m2025-05-30 13:56:56.189\u001b[0m | \u001b[33m\u001b[1mWARNING \u001b[0m | \u001b[36moceansoda_ethzv2.data.utils.checker\u001b[0m:\u001b[36madd_time_bnds\u001b[0m:\u001b[36m70\u001b[0m - \u001b[33m\u001b[1mTime bounds are missing, adding them.\u001b[0m\n",
      "\u001b[32m2025-05-30 13:56:56.210\u001b[0m | \u001b[1mINFO    \u001b[0m | \u001b[36moceansoda_ethzv2.data.utils.zarr_utils\u001b[0m:\u001b[36msave_to_zarr\u001b[0m:\u001b[36m321\u001b[0m - \u001b[1mStarting to write ../data/8D_025/sss_multiobs-8D_025.zarr for time 2024-05-20 00:00:00\u001b[0m\n"
     ]
    },
    {
     "name": "stderr",
     "output_type": "stream",
     "text": [
      "Saving ../data/8D_025/sss_multiobs-8D_025.zarr/2024:2024-05-20 00:00: 100%|██████████| 194/194 [00:04<00:00, 39.69it/s]"
     ]
    },
    {
     "name": "stdout",
     "output_type": "stream",
     "text": [
      "\u001b[32m2025-05-30 13:57:01.262\u001b[0m | \u001b[32m\u001b[1mSUCCESS \u001b[0m | \u001b[36moceansoda_ethzv2.data.utils.zarr_utils\u001b[0m:\u001b[36msave_to_zarr\u001b[0m:\u001b[36m329\u001b[0m - \u001b[32m\u001b[1mSaved to: ../data/8D_025/sss_multiobs-8D_025.zarr/2024:2024-05-20 00:00\u001b[0m\n",
      "\u001b[32m2025-05-30 13:57:01.281\u001b[0m | \u001b[1mINFO    \u001b[0m | \u001b[36moceansoda_ethzv2.data.utils.zarr_utils\u001b[0m:\u001b[36msave_to_zarr\u001b[0m:\u001b[36m321\u001b[0m - \u001b[1mStarting to write ../data/8D_025/flag_multiobs-8D_025.zarr for time 2024-05-20 00:00:00\u001b[0m\n"
     ]
    },
    {
     "name": "stderr",
     "output_type": "stream",
     "text": [
      "\n",
      "Saving ../data/8D_025/flag_multiobs-8D_025.zarr/2024:2024-05-20 00:00: 100%|██████████| 20/20 [00:00<00:00, 1795.85it/s]"
     ]
    },
    {
     "name": "stdout",
     "output_type": "stream",
     "text": [
      "\u001b[32m2025-05-30 13:57:01.326\u001b[0m | \u001b[32m\u001b[1mSUCCESS \u001b[0m | \u001b[36moceansoda_ethzv2.data.utils.zarr_utils\u001b[0m:\u001b[36msave_to_zarr\u001b[0m:\u001b[36m329\u001b[0m - \u001b[32m\u001b[1mSaved to: ../data/8D_025/flag_multiobs-8D_025.zarr/2024:2024-05-20 00:00\u001b[0m\n",
      "\u001b[32m2025-05-30 13:57:01.347\u001b[0m | \u001b[1mINFO    \u001b[0m | \u001b[36moceansoda_ethzv2.data.utils.zarr_utils\u001b[0m:\u001b[36msave_to_zarr\u001b[0m:\u001b[36m321\u001b[0m - \u001b[1mStarting to write ../data/8D_025/sss_multiobs_sigma_regrid-8D_025.zarr for time 2024-05-20 00:00:00\u001b[0m\n"
     ]
    },
    {
     "name": "stderr",
     "output_type": "stream",
     "text": [
      "\n",
      "Saving ../data/8D_025/sss_multiobs_sigma_regrid-8D_025.zarr/2024:2024-05-20 00:00: 100%|██████████| 194/194 [00:09<00:00, 20.23it/s]"
     ]
    },
    {
     "name": "stdout",
     "output_type": "stream",
     "text": [
      "\u001b[32m2025-05-30 13:57:11.137\u001b[0m | \u001b[32m\u001b[1mSUCCESS \u001b[0m | \u001b[36moceansoda_ethzv2.data.utils.zarr_utils\u001b[0m:\u001b[36msave_to_zarr\u001b[0m:\u001b[36m329\u001b[0m - \u001b[32m\u001b[1mSaved to: ../data/8D_025/sss_multiobs_sigma_regrid-8D_025.zarr/2024:2024-05-20 00:00\u001b[0m\n"
     ]
    },
    {
     "name": "stderr",
     "output_type": "stream",
     "text": [
      "\n"
     ]
    },
    {
     "name": "stdout",
     "output_type": "stream",
     "text": [
      "\u001b[32m2025-05-30 13:57:14.285\u001b[0m | \u001b[33m\u001b[1mWARNING \u001b[0m | \u001b[36moceansoda_ethzv2.data.utils.checker\u001b[0m:\u001b[36mfix_timestep\u001b[0m:\u001b[36m240\u001b[0m - \u001b[33m\u001b[1mTime fixed. Time coordinate 2024-05-27 12:00:00 did not match expected time 2024-05-28 00:00:00. Adjusted to 2024-05-28 00:00:00.\u001b[0m\n",
      "\u001b[32m2025-05-30 13:57:14.287\u001b[0m | \u001b[33m\u001b[1mWARNING \u001b[0m | \u001b[36moceansoda_ethzv2.data.utils.checker\u001b[0m:\u001b[36madd_time_bnds\u001b[0m:\u001b[36m70\u001b[0m - \u001b[33m\u001b[1mTime bounds are missing, adding them.\u001b[0m\n",
      "\u001b[32m2025-05-30 13:57:14.307\u001b[0m | \u001b[1mINFO    \u001b[0m | \u001b[36moceansoda_ethzv2.data.utils.zarr_utils\u001b[0m:\u001b[36msave_to_zarr\u001b[0m:\u001b[36m321\u001b[0m - \u001b[1mStarting to write ../data/8D_025/sss_multiobs-8D_025.zarr for time 2024-05-28 00:00:00\u001b[0m\n"
     ]
    },
    {
     "name": "stderr",
     "output_type": "stream",
     "text": [
      "Saving ../data/8D_025/sss_multiobs-8D_025.zarr/2024:2024-05-28 00:00: 100%|██████████| 194/194 [00:03<00:00, 50.13it/s]"
     ]
    },
    {
     "name": "stdout",
     "output_type": "stream",
     "text": [
      "\u001b[32m2025-05-30 13:57:18.342\u001b[0m | \u001b[32m\u001b[1mSUCCESS \u001b[0m | \u001b[36moceansoda_ethzv2.data.utils.zarr_utils\u001b[0m:\u001b[36msave_to_zarr\u001b[0m:\u001b[36m329\u001b[0m - \u001b[32m\u001b[1mSaved to: ../data/8D_025/sss_multiobs-8D_025.zarr/2024:2024-05-28 00:00\u001b[0m\n",
      "\u001b[32m2025-05-30 13:57:18.360\u001b[0m | \u001b[1mINFO    \u001b[0m | \u001b[36moceansoda_ethzv2.data.utils.zarr_utils\u001b[0m:\u001b[36msave_to_zarr\u001b[0m:\u001b[36m321\u001b[0m - \u001b[1mStarting to write ../data/8D_025/flag_multiobs-8D_025.zarr for time 2024-05-28 00:00:00\u001b[0m\n"
     ]
    },
    {
     "name": "stderr",
     "output_type": "stream",
     "text": [
      "\n",
      "Saving ../data/8D_025/flag_multiobs-8D_025.zarr/2024:2024-05-28 00:00: 100%|██████████| 20/20 [00:00<00:00, 1869.95it/s]"
     ]
    },
    {
     "name": "stdout",
     "output_type": "stream",
     "text": [
      "\u001b[32m2025-05-30 13:57:18.404\u001b[0m | \u001b[32m\u001b[1mSUCCESS \u001b[0m | \u001b[36moceansoda_ethzv2.data.utils.zarr_utils\u001b[0m:\u001b[36msave_to_zarr\u001b[0m:\u001b[36m329\u001b[0m - \u001b[32m\u001b[1mSaved to: ../data/8D_025/flag_multiobs-8D_025.zarr/2024:2024-05-28 00:00\u001b[0m\n",
      "\u001b[32m2025-05-30 13:57:18.423\u001b[0m | \u001b[1mINFO    \u001b[0m | \u001b[36moceansoda_ethzv2.data.utils.zarr_utils\u001b[0m:\u001b[36msave_to_zarr\u001b[0m:\u001b[36m321\u001b[0m - \u001b[1mStarting to write ../data/8D_025/sss_multiobs_sigma_regrid-8D_025.zarr for time 2024-05-28 00:00:00\u001b[0m\n"
     ]
    },
    {
     "name": "stderr",
     "output_type": "stream",
     "text": [
      "\n",
      "Saving ../data/8D_025/sss_multiobs_sigma_regrid-8D_025.zarr/2024:2024-05-28 00:00: 100%|██████████| 194/194 [00:11<00:00, 16.47it/s]"
     ]
    },
    {
     "name": "stdout",
     "output_type": "stream",
     "text": [
      "\u001b[32m2025-05-30 13:57:30.409\u001b[0m | \u001b[32m\u001b[1mSUCCESS \u001b[0m | \u001b[36moceansoda_ethzv2.data.utils.zarr_utils\u001b[0m:\u001b[36msave_to_zarr\u001b[0m:\u001b[36m329\u001b[0m - \u001b[32m\u001b[1mSaved to: ../data/8D_025/sss_multiobs_sigma_regrid-8D_025.zarr/2024:2024-05-28 00:00\u001b[0m\n"
     ]
    },
    {
     "name": "stderr",
     "output_type": "stream",
     "text": [
      "\n"
     ]
    },
    {
     "name": "stdout",
     "output_type": "stream",
     "text": [
      "\u001b[32m2025-05-30 13:57:34.284\u001b[0m | \u001b[33m\u001b[1mWARNING \u001b[0m | \u001b[36moceansoda_ethzv2.data.utils.checker\u001b[0m:\u001b[36mfix_timestep\u001b[0m:\u001b[36m240\u001b[0m - \u001b[33m\u001b[1mTime fixed. Time coordinate 2024-06-04 12:00:00 did not match expected time 2024-06-05 00:00:00. Adjusted to 2024-06-05 00:00:00.\u001b[0m\n",
      "\u001b[32m2025-05-30 13:57:34.285\u001b[0m | \u001b[33m\u001b[1mWARNING \u001b[0m | \u001b[36moceansoda_ethzv2.data.utils.checker\u001b[0m:\u001b[36madd_time_bnds\u001b[0m:\u001b[36m70\u001b[0m - \u001b[33m\u001b[1mTime bounds are missing, adding them.\u001b[0m\n",
      "\u001b[32m2025-05-30 13:57:34.298\u001b[0m | \u001b[1mINFO    \u001b[0m | \u001b[36moceansoda_ethzv2.data.utils.zarr_utils\u001b[0m:\u001b[36msave_to_zarr\u001b[0m:\u001b[36m321\u001b[0m - \u001b[1mStarting to write ../data/8D_025/sss_multiobs-8D_025.zarr for time 2024-06-05 00:00:00\u001b[0m\n"
     ]
    },
    {
     "name": "stderr",
     "output_type": "stream",
     "text": [
      "Saving ../data/8D_025/sss_multiobs-8D_025.zarr/2024:2024-06-05 00:00: 100%|██████████| 194/194 [00:04<00:00, 42.40it/s]"
     ]
    },
    {
     "name": "stdout",
     "output_type": "stream",
     "text": [
      "\u001b[32m2025-05-30 13:57:43.768\u001b[0m | \u001b[32m\u001b[1mSUCCESS \u001b[0m | \u001b[36moceansoda_ethzv2.data.utils.zarr_utils\u001b[0m:\u001b[36msave_to_zarr\u001b[0m:\u001b[36m329\u001b[0m - \u001b[32m\u001b[1mSaved to: ../data/8D_025/sss_multiobs-8D_025.zarr/2024:2024-06-05 00:00\u001b[0m\n",
      "\u001b[32m2025-05-30 13:57:43.785\u001b[0m | \u001b[1mINFO    \u001b[0m | \u001b[36moceansoda_ethzv2.data.utils.zarr_utils\u001b[0m:\u001b[36msave_to_zarr\u001b[0m:\u001b[36m321\u001b[0m - \u001b[1mStarting to write ../data/8D_025/flag_multiobs-8D_025.zarr for time 2024-06-05 00:00:00\u001b[0m\n"
     ]
    },
    {
     "name": "stderr",
     "output_type": "stream",
     "text": [
      "\n",
      "Saving ../data/8D_025/flag_multiobs-8D_025.zarr/2024:2024-06-05 00:00: 100%|██████████| 20/20 [00:00<00:00, 1923.99it/s]"
     ]
    },
    {
     "name": "stdout",
     "output_type": "stream",
     "text": [
      "\u001b[32m2025-05-30 13:57:43.843\u001b[0m | \u001b[32m\u001b[1mSUCCESS \u001b[0m | \u001b[36moceansoda_ethzv2.data.utils.zarr_utils\u001b[0m:\u001b[36msave_to_zarr\u001b[0m:\u001b[36m329\u001b[0m - \u001b[32m\u001b[1mSaved to: ../data/8D_025/flag_multiobs-8D_025.zarr/2024:2024-06-05 00:00\u001b[0m\n",
      "\u001b[32m2025-05-30 13:57:43.862\u001b[0m | \u001b[1mINFO    \u001b[0m | \u001b[36moceansoda_ethzv2.data.utils.zarr_utils\u001b[0m:\u001b[36msave_to_zarr\u001b[0m:\u001b[36m321\u001b[0m - \u001b[1mStarting to write ../data/8D_025/sss_multiobs_sigma_regrid-8D_025.zarr for time 2024-06-05 00:00:00\u001b[0m\n"
     ]
    },
    {
     "name": "stderr",
     "output_type": "stream",
     "text": [
      "\n",
      "Saving ../data/8D_025/sss_multiobs_sigma_regrid-8D_025.zarr/2024:2024-06-05 00:00: 100%|██████████| 194/194 [00:11<00:00, 17.35it/s]"
     ]
    },
    {
     "name": "stdout",
     "output_type": "stream",
     "text": [
      "\u001b[32m2025-05-30 13:57:55.257\u001b[0m | \u001b[32m\u001b[1mSUCCESS \u001b[0m | \u001b[36moceansoda_ethzv2.data.utils.zarr_utils\u001b[0m:\u001b[36msave_to_zarr\u001b[0m:\u001b[36m329\u001b[0m - \u001b[32m\u001b[1mSaved to: ../data/8D_025/sss_multiobs_sigma_regrid-8D_025.zarr/2024:2024-06-05 00:00\u001b[0m\n"
     ]
    },
    {
     "name": "stderr",
     "output_type": "stream",
     "text": [
      "\n"
     ]
    },
    {
     "name": "stdout",
     "output_type": "stream",
     "text": [
      "\u001b[32m2025-05-30 13:57:58.956\u001b[0m | \u001b[33m\u001b[1mWARNING \u001b[0m | \u001b[36moceansoda_ethzv2.data.utils.checker\u001b[0m:\u001b[36mfix_timestep\u001b[0m:\u001b[36m240\u001b[0m - \u001b[33m\u001b[1mTime fixed. Time coordinate 2024-06-12 12:00:00 did not match expected time 2024-06-13 00:00:00. Adjusted to 2024-06-13 00:00:00.\u001b[0m\n",
      "\u001b[32m2025-05-30 13:57:58.958\u001b[0m | \u001b[33m\u001b[1mWARNING \u001b[0m | \u001b[36moceansoda_ethzv2.data.utils.checker\u001b[0m:\u001b[36madd_time_bnds\u001b[0m:\u001b[36m70\u001b[0m - \u001b[33m\u001b[1mTime bounds are missing, adding them.\u001b[0m\n",
      "\u001b[32m2025-05-30 13:57:58.978\u001b[0m | \u001b[1mINFO    \u001b[0m | \u001b[36moceansoda_ethzv2.data.utils.zarr_utils\u001b[0m:\u001b[36msave_to_zarr\u001b[0m:\u001b[36m321\u001b[0m - \u001b[1mStarting to write ../data/8D_025/sss_multiobs-8D_025.zarr for time 2024-06-13 00:00:00\u001b[0m\n"
     ]
    },
    {
     "name": "stderr",
     "output_type": "stream",
     "text": [
      "Saving ../data/8D_025/sss_multiobs-8D_025.zarr/2024:2024-06-13 00:00: 100%|██████████| 194/194 [00:05<00:00, 34.72it/s]"
     ]
    },
    {
     "name": "stdout",
     "output_type": "stream",
     "text": [
      "\u001b[32m2025-05-30 13:58:04.778\u001b[0m | \u001b[32m\u001b[1mSUCCESS \u001b[0m | \u001b[36moceansoda_ethzv2.data.utils.zarr_utils\u001b[0m:\u001b[36msave_to_zarr\u001b[0m:\u001b[36m329\u001b[0m - \u001b[32m\u001b[1mSaved to: ../data/8D_025/sss_multiobs-8D_025.zarr/2024:2024-06-13 00:00\u001b[0m\n",
      "\u001b[32m2025-05-30 13:58:04.796\u001b[0m | \u001b[1mINFO    \u001b[0m | \u001b[36moceansoda_ethzv2.data.utils.zarr_utils\u001b[0m:\u001b[36msave_to_zarr\u001b[0m:\u001b[36m321\u001b[0m - \u001b[1mStarting to write ../data/8D_025/flag_multiobs-8D_025.zarr for time 2024-06-13 00:00:00\u001b[0m\n"
     ]
    },
    {
     "name": "stderr",
     "output_type": "stream",
     "text": [
      "\n",
      "Saving ../data/8D_025/flag_multiobs-8D_025.zarr/2024:2024-06-13 00:00: 100%|██████████| 20/20 [00:00<00:00, 1840.54it/s]"
     ]
    },
    {
     "name": "stdout",
     "output_type": "stream",
     "text": [
      "\u001b[32m2025-05-30 13:58:04.837\u001b[0m | \u001b[32m\u001b[1mSUCCESS \u001b[0m | \u001b[36moceansoda_ethzv2.data.utils.zarr_utils\u001b[0m:\u001b[36msave_to_zarr\u001b[0m:\u001b[36m329\u001b[0m - \u001b[32m\u001b[1mSaved to: ../data/8D_025/flag_multiobs-8D_025.zarr/2024:2024-06-13 00:00\u001b[0m\n",
      "\u001b[32m2025-05-30 13:58:04.857\u001b[0m | \u001b[1mINFO    \u001b[0m | \u001b[36moceansoda_ethzv2.data.utils.zarr_utils\u001b[0m:\u001b[36msave_to_zarr\u001b[0m:\u001b[36m321\u001b[0m - \u001b[1mStarting to write ../data/8D_025/sss_multiobs_sigma_regrid-8D_025.zarr for time 2024-06-13 00:00:00\u001b[0m\n"
     ]
    },
    {
     "name": "stderr",
     "output_type": "stream",
     "text": [
      "\n",
      "Saving ../data/8D_025/sss_multiobs_sigma_regrid-8D_025.zarr/2024:2024-06-13 00:00: 100%|██████████| 194/194 [00:16<00:00, 11.98it/s]"
     ]
    },
    {
     "name": "stdout",
     "output_type": "stream",
     "text": [
      "\u001b[32m2025-05-30 13:58:21.249\u001b[0m | \u001b[32m\u001b[1mSUCCESS \u001b[0m | \u001b[36moceansoda_ethzv2.data.utils.zarr_utils\u001b[0m:\u001b[36msave_to_zarr\u001b[0m:\u001b[36m329\u001b[0m - \u001b[32m\u001b[1mSaved to: ../data/8D_025/sss_multiobs_sigma_regrid-8D_025.zarr/2024:2024-06-13 00:00\u001b[0m\n"
     ]
    },
    {
     "name": "stderr",
     "output_type": "stream",
     "text": [
      "\n"
     ]
    },
    {
     "name": "stdout",
     "output_type": "stream",
     "text": [
      "\u001b[32m2025-05-30 13:58:25.508\u001b[0m | \u001b[33m\u001b[1mWARNING \u001b[0m | \u001b[36moceansoda_ethzv2.data.utils.checker\u001b[0m:\u001b[36mfix_timestep\u001b[0m:\u001b[36m240\u001b[0m - \u001b[33m\u001b[1mTime fixed. Time coordinate 2024-06-20 12:00:00 did not match expected time 2024-06-21 00:00:00. Adjusted to 2024-06-21 00:00:00.\u001b[0m\n",
      "\u001b[32m2025-05-30 13:58:25.510\u001b[0m | \u001b[33m\u001b[1mWARNING \u001b[0m | \u001b[36moceansoda_ethzv2.data.utils.checker\u001b[0m:\u001b[36madd_time_bnds\u001b[0m:\u001b[36m70\u001b[0m - \u001b[33m\u001b[1mTime bounds are missing, adding them.\u001b[0m\n",
      "\u001b[32m2025-05-30 13:58:25.530\u001b[0m | \u001b[1mINFO    \u001b[0m | \u001b[36moceansoda_ethzv2.data.utils.zarr_utils\u001b[0m:\u001b[36msave_to_zarr\u001b[0m:\u001b[36m321\u001b[0m - \u001b[1mStarting to write ../data/8D_025/sss_multiobs-8D_025.zarr for time 2024-06-21 00:00:00\u001b[0m\n"
     ]
    },
    {
     "name": "stderr",
     "output_type": "stream",
     "text": [
      "Saving ../data/8D_025/sss_multiobs-8D_025.zarr/2024:2024-06-21 00:00: 100%|██████████| 194/194 [00:21<00:00,  9.16it/s]"
     ]
    },
    {
     "name": "stdout",
     "output_type": "stream",
     "text": [
      "\u001b[32m2025-05-30 13:58:46.889\u001b[0m | \u001b[32m\u001b[1mSUCCESS \u001b[0m | \u001b[36moceansoda_ethzv2.data.utils.zarr_utils\u001b[0m:\u001b[36msave_to_zarr\u001b[0m:\u001b[36m329\u001b[0m - \u001b[32m\u001b[1mSaved to: ../data/8D_025/sss_multiobs-8D_025.zarr/2024:2024-06-21 00:00\u001b[0m\n"
     ]
    },
    {
     "name": "stderr",
     "output_type": "stream",
     "text": [
      "\n"
     ]
    },
    {
     "name": "stdout",
     "output_type": "stream",
     "text": [
      "\u001b[32m2025-05-30 13:58:46.906\u001b[0m | \u001b[1mINFO    \u001b[0m | \u001b[36moceansoda_ethzv2.data.utils.zarr_utils\u001b[0m:\u001b[36msave_to_zarr\u001b[0m:\u001b[36m321\u001b[0m - \u001b[1mStarting to write ../data/8D_025/flag_multiobs-8D_025.zarr for time 2024-06-21 00:00:00\u001b[0m\n"
     ]
    },
    {
     "name": "stderr",
     "output_type": "stream",
     "text": [
      "Saving ../data/8D_025/flag_multiobs-8D_025.zarr/2024:2024-06-21 00:00: 100%|██████████| 20/20 [00:00<00:00, 1864.63it/s]"
     ]
    },
    {
     "name": "stdout",
     "output_type": "stream",
     "text": [
      "\u001b[32m2025-05-30 13:58:46.949\u001b[0m | \u001b[32m\u001b[1mSUCCESS \u001b[0m | \u001b[36moceansoda_ethzv2.data.utils.zarr_utils\u001b[0m:\u001b[36msave_to_zarr\u001b[0m:\u001b[36m329\u001b[0m - \u001b[32m\u001b[1mSaved to: ../data/8D_025/flag_multiobs-8D_025.zarr/2024:2024-06-21 00:00\u001b[0m\n",
      "\u001b[32m2025-05-30 13:58:46.969\u001b[0m | \u001b[1mINFO    \u001b[0m | \u001b[36moceansoda_ethzv2.data.utils.zarr_utils\u001b[0m:\u001b[36msave_to_zarr\u001b[0m:\u001b[36m321\u001b[0m - \u001b[1mStarting to write ../data/8D_025/sss_multiobs_sigma_regrid-8D_025.zarr for time 2024-06-21 00:00:00\u001b[0m\n"
     ]
    },
    {
     "name": "stderr",
     "output_type": "stream",
     "text": [
      "\n",
      "Saving ../data/8D_025/sss_multiobs_sigma_regrid-8D_025.zarr/2024:2024-06-21 00:00: 100%|██████████| 194/194 [00:11<00:00, 17.27it/s]"
     ]
    },
    {
     "name": "stdout",
     "output_type": "stream",
     "text": [
      "\u001b[32m2025-05-30 13:58:58.401\u001b[0m | \u001b[32m\u001b[1mSUCCESS \u001b[0m | \u001b[36moceansoda_ethzv2.data.utils.zarr_utils\u001b[0m:\u001b[36msave_to_zarr\u001b[0m:\u001b[36m329\u001b[0m - \u001b[32m\u001b[1mSaved to: ../data/8D_025/sss_multiobs_sigma_regrid-8D_025.zarr/2024:2024-06-21 00:00\u001b[0m\n"
     ]
    },
    {
     "name": "stderr",
     "output_type": "stream",
     "text": [
      "\n"
     ]
    },
    {
     "name": "stdout",
     "output_type": "stream",
     "text": [
      "\u001b[32m2025-05-30 13:59:01.416\u001b[0m | \u001b[33m\u001b[1mWARNING \u001b[0m | \u001b[36moceansoda_ethzv2.data.utils.checker\u001b[0m:\u001b[36mfix_timestep\u001b[0m:\u001b[36m240\u001b[0m - \u001b[33m\u001b[1mTime fixed. Time coordinate 2024-06-28 12:00:00 did not match expected time 2024-06-29 00:00:00. Adjusted to 2024-06-29 00:00:00.\u001b[0m\n",
      "\u001b[32m2025-05-30 13:59:01.417\u001b[0m | \u001b[33m\u001b[1mWARNING \u001b[0m | \u001b[36moceansoda_ethzv2.data.utils.checker\u001b[0m:\u001b[36madd_time_bnds\u001b[0m:\u001b[36m70\u001b[0m - \u001b[33m\u001b[1mTime bounds are missing, adding them.\u001b[0m\n",
      "\u001b[32m2025-05-30 13:59:01.434\u001b[0m | \u001b[1mINFO    \u001b[0m | \u001b[36moceansoda_ethzv2.data.utils.zarr_utils\u001b[0m:\u001b[36msave_to_zarr\u001b[0m:\u001b[36m321\u001b[0m - \u001b[1mStarting to write ../data/8D_025/sss_multiobs-8D_025.zarr for time 2024-06-29 00:00:00\u001b[0m\n"
     ]
    },
    {
     "name": "stderr",
     "output_type": "stream",
     "text": [
      "Saving ../data/8D_025/sss_multiobs-8D_025.zarr/2024:2024-06-29 00:00: 100%|██████████| 194/194 [00:04<00:00, 45.15it/s]"
     ]
    },
    {
     "name": "stdout",
     "output_type": "stream",
     "text": [
      "\u001b[32m2025-05-30 13:59:05.892\u001b[0m | \u001b[32m\u001b[1mSUCCESS \u001b[0m | \u001b[36moceansoda_ethzv2.data.utils.zarr_utils\u001b[0m:\u001b[36msave_to_zarr\u001b[0m:\u001b[36m329\u001b[0m - \u001b[32m\u001b[1mSaved to: ../data/8D_025/sss_multiobs-8D_025.zarr/2024:2024-06-29 00:00\u001b[0m\n",
      "\u001b[32m2025-05-30 13:59:05.909\u001b[0m | \u001b[1mINFO    \u001b[0m | \u001b[36moceansoda_ethzv2.data.utils.zarr_utils\u001b[0m:\u001b[36msave_to_zarr\u001b[0m:\u001b[36m321\u001b[0m - \u001b[1mStarting to write ../data/8D_025/flag_multiobs-8D_025.zarr for time 2024-06-29 00:00:00\u001b[0m\n"
     ]
    },
    {
     "name": "stderr",
     "output_type": "stream",
     "text": [
      "\n",
      "Saving ../data/8D_025/flag_multiobs-8D_025.zarr/2024:2024-06-29 00:00: 100%|██████████| 20/20 [00:00<00:00, 1701.16it/s]"
     ]
    },
    {
     "name": "stdout",
     "output_type": "stream",
     "text": [
      "\u001b[32m2025-05-30 13:59:05.953\u001b[0m | \u001b[32m\u001b[1mSUCCESS \u001b[0m | \u001b[36moceansoda_ethzv2.data.utils.zarr_utils\u001b[0m:\u001b[36msave_to_zarr\u001b[0m:\u001b[36m329\u001b[0m - \u001b[32m\u001b[1mSaved to: ../data/8D_025/flag_multiobs-8D_025.zarr/2024:2024-06-29 00:00\u001b[0m\n",
      "\u001b[32m2025-05-30 13:59:05.973\u001b[0m | \u001b[1mINFO    \u001b[0m | \u001b[36moceansoda_ethzv2.data.utils.zarr_utils\u001b[0m:\u001b[36msave_to_zarr\u001b[0m:\u001b[36m321\u001b[0m - \u001b[1mStarting to write ../data/8D_025/sss_multiobs_sigma_regrid-8D_025.zarr for time 2024-06-29 00:00:00\u001b[0m\n"
     ]
    },
    {
     "name": "stderr",
     "output_type": "stream",
     "text": [
      "\n",
      "Saving ../data/8D_025/sss_multiobs_sigma_regrid-8D_025.zarr/2024:2024-06-29 00:00: 100%|██████████| 194/194 [00:11<00:00, 17.02it/s]"
     ]
    },
    {
     "name": "stdout",
     "output_type": "stream",
     "text": [
      "\u001b[32m2025-05-30 13:59:17.575\u001b[0m | \u001b[32m\u001b[1mSUCCESS \u001b[0m | \u001b[36moceansoda_ethzv2.data.utils.zarr_utils\u001b[0m:\u001b[36msave_to_zarr\u001b[0m:\u001b[36m329\u001b[0m - \u001b[32m\u001b[1mSaved to: ../data/8D_025/sss_multiobs_sigma_regrid-8D_025.zarr/2024:2024-06-29 00:00\u001b[0m\n"
     ]
    },
    {
     "name": "stderr",
     "output_type": "stream",
     "text": [
      "\n"
     ]
    },
    {
     "name": "stdout",
     "output_type": "stream",
     "text": [
      "\u001b[32m2025-05-30 13:59:25.416\u001b[0m | \u001b[33m\u001b[1mWARNING \u001b[0m | \u001b[36moceansoda_ethzv2.data.utils.checker\u001b[0m:\u001b[36mfix_timestep\u001b[0m:\u001b[36m240\u001b[0m - \u001b[33m\u001b[1mTime fixed. Time coordinate 2024-07-06 12:00:00 did not match expected time 2024-07-07 00:00:00. Adjusted to 2024-07-07 00:00:00.\u001b[0m\n",
      "\u001b[32m2025-05-30 13:59:25.418\u001b[0m | \u001b[33m\u001b[1mWARNING \u001b[0m | \u001b[36moceansoda_ethzv2.data.utils.checker\u001b[0m:\u001b[36madd_time_bnds\u001b[0m:\u001b[36m70\u001b[0m - \u001b[33m\u001b[1mTime bounds are missing, adding them.\u001b[0m\n",
      "\u001b[32m2025-05-30 13:59:25.444\u001b[0m | \u001b[1mINFO    \u001b[0m | \u001b[36moceansoda_ethzv2.data.utils.zarr_utils\u001b[0m:\u001b[36msave_to_zarr\u001b[0m:\u001b[36m321\u001b[0m - \u001b[1mStarting to write ../data/8D_025/sss_multiobs-8D_025.zarr for time 2024-07-07 00:00:00\u001b[0m\n"
     ]
    },
    {
     "name": "stderr",
     "output_type": "stream",
     "text": [
      "Saving ../data/8D_025/sss_multiobs-8D_025.zarr/2024:2024-07-07 00:00: 100%|██████████| 194/194 [00:05<00:00, 34.95it/s]"
     ]
    },
    {
     "name": "stdout",
     "output_type": "stream",
     "text": [
      "\u001b[32m2025-05-30 13:59:31.175\u001b[0m | \u001b[32m\u001b[1mSUCCESS \u001b[0m | \u001b[36moceansoda_ethzv2.data.utils.zarr_utils\u001b[0m:\u001b[36msave_to_zarr\u001b[0m:\u001b[36m329\u001b[0m - \u001b[32m\u001b[1mSaved to: ../data/8D_025/sss_multiobs-8D_025.zarr/2024:2024-07-07 00:00\u001b[0m\n",
      "\u001b[32m2025-05-30 13:59:31.194\u001b[0m | \u001b[1mINFO    \u001b[0m | \u001b[36moceansoda_ethzv2.data.utils.zarr_utils\u001b[0m:\u001b[36msave_to_zarr\u001b[0m:\u001b[36m321\u001b[0m - \u001b[1mStarting to write ../data/8D_025/flag_multiobs-8D_025.zarr for time 2024-07-07 00:00:00\u001b[0m\n"
     ]
    },
    {
     "name": "stderr",
     "output_type": "stream",
     "text": [
      "\n",
      "Saving ../data/8D_025/flag_multiobs-8D_025.zarr/2024:2024-07-07 00:00: 100%|██████████| 20/20 [00:00<00:00, 1809.41it/s]"
     ]
    },
    {
     "name": "stdout",
     "output_type": "stream",
     "text": [
      "\u001b[32m2025-05-30 13:59:31.238\u001b[0m | \u001b[32m\u001b[1mSUCCESS \u001b[0m | \u001b[36moceansoda_ethzv2.data.utils.zarr_utils\u001b[0m:\u001b[36msave_to_zarr\u001b[0m:\u001b[36m329\u001b[0m - \u001b[32m\u001b[1mSaved to: ../data/8D_025/flag_multiobs-8D_025.zarr/2024:2024-07-07 00:00\u001b[0m\n",
      "\u001b[32m2025-05-30 13:59:31.258\u001b[0m | \u001b[1mINFO    \u001b[0m | \u001b[36moceansoda_ethzv2.data.utils.zarr_utils\u001b[0m:\u001b[36msave_to_zarr\u001b[0m:\u001b[36m321\u001b[0m - \u001b[1mStarting to write ../data/8D_025/sss_multiobs_sigma_regrid-8D_025.zarr for time 2024-07-07 00:00:00\u001b[0m\n"
     ]
    },
    {
     "name": "stderr",
     "output_type": "stream",
     "text": [
      "\n",
      "Saving ../data/8D_025/sss_multiobs_sigma_regrid-8D_025.zarr/2024:2024-07-07 00:00: 100%|██████████| 194/194 [00:12<00:00, 15.87it/s] "
     ]
    },
    {
     "name": "stdout",
     "output_type": "stream",
     "text": [
      "\u001b[32m2025-05-30 13:59:48.497\u001b[0m | \u001b[32m\u001b[1mSUCCESS \u001b[0m | \u001b[36moceansoda_ethzv2.data.utils.zarr_utils\u001b[0m:\u001b[36msave_to_zarr\u001b[0m:\u001b[36m329\u001b[0m - \u001b[32m\u001b[1mSaved to: ../data/8D_025/sss_multiobs_sigma_regrid-8D_025.zarr/2024:2024-07-07 00:00\u001b[0m\n"
     ]
    },
    {
     "name": "stderr",
     "output_type": "stream",
     "text": [
      "\n"
     ]
    },
    {
     "name": "stdout",
     "output_type": "stream",
     "text": [
      "\u001b[32m2025-05-30 13:59:52.165\u001b[0m | \u001b[33m\u001b[1mWARNING \u001b[0m | \u001b[36moceansoda_ethzv2.data.utils.checker\u001b[0m:\u001b[36mfix_timestep\u001b[0m:\u001b[36m240\u001b[0m - \u001b[33m\u001b[1mTime fixed. Time coordinate 2024-07-14 12:00:00 did not match expected time 2024-07-15 00:00:00. Adjusted to 2024-07-15 00:00:00.\u001b[0m\n",
      "\u001b[32m2025-05-30 13:59:52.167\u001b[0m | \u001b[33m\u001b[1mWARNING \u001b[0m | \u001b[36moceansoda_ethzv2.data.utils.checker\u001b[0m:\u001b[36madd_time_bnds\u001b[0m:\u001b[36m70\u001b[0m - \u001b[33m\u001b[1mTime bounds are missing, adding them.\u001b[0m\n",
      "\u001b[32m2025-05-30 13:59:52.185\u001b[0m | \u001b[1mINFO    \u001b[0m | \u001b[36moceansoda_ethzv2.data.utils.zarr_utils\u001b[0m:\u001b[36msave_to_zarr\u001b[0m:\u001b[36m321\u001b[0m - \u001b[1mStarting to write ../data/8D_025/sss_multiobs-8D_025.zarr for time 2024-07-15 00:00:00\u001b[0m\n"
     ]
    },
    {
     "name": "stderr",
     "output_type": "stream",
     "text": [
      "Saving ../data/8D_025/sss_multiobs-8D_025.zarr/2024:2024-07-15 00:00: 100%|██████████| 194/194 [00:04<00:00, 39.86it/s]"
     ]
    },
    {
     "name": "stdout",
     "output_type": "stream",
     "text": [
      "\u001b[32m2025-05-30 13:59:57.217\u001b[0m | \u001b[32m\u001b[1mSUCCESS \u001b[0m | \u001b[36moceansoda_ethzv2.data.utils.zarr_utils\u001b[0m:\u001b[36msave_to_zarr\u001b[0m:\u001b[36m329\u001b[0m - \u001b[32m\u001b[1mSaved to: ../data/8D_025/sss_multiobs-8D_025.zarr/2024:2024-07-15 00:00\u001b[0m\n",
      "\u001b[32m2025-05-30 13:59:57.235\u001b[0m | \u001b[1mINFO    \u001b[0m | \u001b[36moceansoda_ethzv2.data.utils.zarr_utils\u001b[0m:\u001b[36msave_to_zarr\u001b[0m:\u001b[36m321\u001b[0m - \u001b[1mStarting to write ../data/8D_025/flag_multiobs-8D_025.zarr for time 2024-07-15 00:00:00\u001b[0m\n"
     ]
    },
    {
     "name": "stderr",
     "output_type": "stream",
     "text": [
      "\n",
      "Saving ../data/8D_025/flag_multiobs-8D_025.zarr/2024:2024-07-15 00:00: 100%|██████████| 20/20 [00:00<00:00, 1870.83it/s]"
     ]
    },
    {
     "name": "stdout",
     "output_type": "stream",
     "text": [
      "\u001b[32m2025-05-30 13:59:57.277\u001b[0m | \u001b[32m\u001b[1mSUCCESS \u001b[0m | \u001b[36moceansoda_ethzv2.data.utils.zarr_utils\u001b[0m:\u001b[36msave_to_zarr\u001b[0m:\u001b[36m329\u001b[0m - \u001b[32m\u001b[1mSaved to: ../data/8D_025/flag_multiobs-8D_025.zarr/2024:2024-07-15 00:00\u001b[0m\n",
      "\u001b[32m2025-05-30 13:59:57.297\u001b[0m | \u001b[1mINFO    \u001b[0m | \u001b[36moceansoda_ethzv2.data.utils.zarr_utils\u001b[0m:\u001b[36msave_to_zarr\u001b[0m:\u001b[36m321\u001b[0m - \u001b[1mStarting to write ../data/8D_025/sss_multiobs_sigma_regrid-8D_025.zarr for time 2024-07-15 00:00:00\u001b[0m\n"
     ]
    },
    {
     "name": "stderr",
     "output_type": "stream",
     "text": [
      "\n",
      "Saving ../data/8D_025/sss_multiobs_sigma_regrid-8D_025.zarr/2024:2024-07-15 00:00: 100%|██████████| 194/194 [00:13<00:00, 14.30it/s]"
     ]
    },
    {
     "name": "stdout",
     "output_type": "stream",
     "text": [
      "\u001b[32m2025-05-30 14:00:11.064\u001b[0m | \u001b[32m\u001b[1mSUCCESS \u001b[0m | \u001b[36moceansoda_ethzv2.data.utils.zarr_utils\u001b[0m:\u001b[36msave_to_zarr\u001b[0m:\u001b[36m329\u001b[0m - \u001b[32m\u001b[1mSaved to: ../data/8D_025/sss_multiobs_sigma_regrid-8D_025.zarr/2024:2024-07-15 00:00\u001b[0m\n"
     ]
    },
    {
     "name": "stderr",
     "output_type": "stream",
     "text": [
      "\n"
     ]
    },
    {
     "name": "stdout",
     "output_type": "stream",
     "text": [
      "\u001b[32m2025-05-30 14:00:19.378\u001b[0m | \u001b[33m\u001b[1mWARNING \u001b[0m | \u001b[36moceansoda_ethzv2.data.utils.checker\u001b[0m:\u001b[36mfix_timestep\u001b[0m:\u001b[36m240\u001b[0m - \u001b[33m\u001b[1mTime fixed. Time coordinate 2024-07-22 12:00:00 did not match expected time 2024-07-23 00:00:00. Adjusted to 2024-07-23 00:00:00.\u001b[0m\n",
      "\u001b[32m2025-05-30 14:00:19.379\u001b[0m | \u001b[33m\u001b[1mWARNING \u001b[0m | \u001b[36moceansoda_ethzv2.data.utils.checker\u001b[0m:\u001b[36madd_time_bnds\u001b[0m:\u001b[36m70\u001b[0m - \u001b[33m\u001b[1mTime bounds are missing, adding them.\u001b[0m\n",
      "\u001b[32m2025-05-30 14:00:19.398\u001b[0m | \u001b[1mINFO    \u001b[0m | \u001b[36moceansoda_ethzv2.data.utils.zarr_utils\u001b[0m:\u001b[36msave_to_zarr\u001b[0m:\u001b[36m321\u001b[0m - \u001b[1mStarting to write ../data/8D_025/sss_multiobs-8D_025.zarr for time 2024-07-23 00:00:00\u001b[0m\n"
     ]
    },
    {
     "name": "stderr",
     "output_type": "stream",
     "text": [
      "Saving ../data/8D_025/sss_multiobs-8D_025.zarr/2024:2024-07-23 00:00: 100%|██████████| 194/194 [00:06<00:00, 31.19it/s]"
     ]
    },
    {
     "name": "stdout",
     "output_type": "stream",
     "text": [
      "\u001b[32m2025-05-30 14:00:25.775\u001b[0m | \u001b[32m\u001b[1mSUCCESS \u001b[0m | \u001b[36moceansoda_ethzv2.data.utils.zarr_utils\u001b[0m:\u001b[36msave_to_zarr\u001b[0m:\u001b[36m329\u001b[0m - \u001b[32m\u001b[1mSaved to: ../data/8D_025/sss_multiobs-8D_025.zarr/2024:2024-07-23 00:00\u001b[0m\n",
      "\u001b[32m2025-05-30 14:00:25.793\u001b[0m | \u001b[1mINFO    \u001b[0m | \u001b[36moceansoda_ethzv2.data.utils.zarr_utils\u001b[0m:\u001b[36msave_to_zarr\u001b[0m:\u001b[36m321\u001b[0m - \u001b[1mStarting to write ../data/8D_025/flag_multiobs-8D_025.zarr for time 2024-07-23 00:00:00\u001b[0m\n"
     ]
    },
    {
     "name": "stderr",
     "output_type": "stream",
     "text": [
      "\n",
      "Saving ../data/8D_025/flag_multiobs-8D_025.zarr/2024:2024-07-23 00:00: 100%|██████████| 20/20 [00:00<00:00, 1737.20it/s]"
     ]
    },
    {
     "name": "stdout",
     "output_type": "stream",
     "text": [
      "\u001b[32m2025-05-30 14:00:25.836\u001b[0m | \u001b[32m\u001b[1mSUCCESS \u001b[0m | \u001b[36moceansoda_ethzv2.data.utils.zarr_utils\u001b[0m:\u001b[36msave_to_zarr\u001b[0m:\u001b[36m329\u001b[0m - \u001b[32m\u001b[1mSaved to: ../data/8D_025/flag_multiobs-8D_025.zarr/2024:2024-07-23 00:00\u001b[0m\n",
      "\u001b[32m2025-05-30 14:00:25.857\u001b[0m | \u001b[1mINFO    \u001b[0m | \u001b[36moceansoda_ethzv2.data.utils.zarr_utils\u001b[0m:\u001b[36msave_to_zarr\u001b[0m:\u001b[36m321\u001b[0m - \u001b[1mStarting to write ../data/8D_025/sss_multiobs_sigma_regrid-8D_025.zarr for time 2024-07-23 00:00:00\u001b[0m\n"
     ]
    },
    {
     "name": "stderr",
     "output_type": "stream",
     "text": [
      "\n",
      "Saving ../data/8D_025/sss_multiobs_sigma_regrid-8D_025.zarr/2024:2024-07-23 00:00: 100%|██████████| 194/194 [00:12<00:00, 15.64it/s]"
     ]
    },
    {
     "name": "stdout",
     "output_type": "stream",
     "text": [
      "\u001b[32m2025-05-30 14:00:38.463\u001b[0m | \u001b[32m\u001b[1mSUCCESS \u001b[0m | \u001b[36moceansoda_ethzv2.data.utils.zarr_utils\u001b[0m:\u001b[36msave_to_zarr\u001b[0m:\u001b[36m329\u001b[0m - \u001b[32m\u001b[1mSaved to: ../data/8D_025/sss_multiobs_sigma_regrid-8D_025.zarr/2024:2024-07-23 00:00\u001b[0m\n"
     ]
    },
    {
     "name": "stderr",
     "output_type": "stream",
     "text": [
      "\n"
     ]
    },
    {
     "name": "stdout",
     "output_type": "stream",
     "text": [
      "\u001b[32m2025-05-30 14:00:46.454\u001b[0m | \u001b[33m\u001b[1mWARNING \u001b[0m | \u001b[36moceansoda_ethzv2.data.utils.checker\u001b[0m:\u001b[36mfix_timestep\u001b[0m:\u001b[36m240\u001b[0m - \u001b[33m\u001b[1mTime fixed. Time coordinate 2024-07-30 12:00:00 did not match expected time 2024-07-31 00:00:00. Adjusted to 2024-07-31 00:00:00.\u001b[0m\n",
      "\u001b[32m2025-05-30 14:00:46.456\u001b[0m | \u001b[33m\u001b[1mWARNING \u001b[0m | \u001b[36moceansoda_ethzv2.data.utils.checker\u001b[0m:\u001b[36madd_time_bnds\u001b[0m:\u001b[36m70\u001b[0m - \u001b[33m\u001b[1mTime bounds are missing, adding them.\u001b[0m\n",
      "\u001b[32m2025-05-30 14:00:46.475\u001b[0m | \u001b[1mINFO    \u001b[0m | \u001b[36moceansoda_ethzv2.data.utils.zarr_utils\u001b[0m:\u001b[36msave_to_zarr\u001b[0m:\u001b[36m321\u001b[0m - \u001b[1mStarting to write ../data/8D_025/sss_multiobs-8D_025.zarr for time 2024-07-31 00:00:00\u001b[0m\n"
     ]
    },
    {
     "name": "stderr",
     "output_type": "stream",
     "text": [
      "Saving ../data/8D_025/sss_multiobs-8D_025.zarr/2024:2024-07-31 00:00: 100%|██████████| 194/194 [00:04<00:00, 44.94it/s]"
     ]
    },
    {
     "name": "stdout",
     "output_type": "stream",
     "text": [
      "\u001b[32m2025-05-30 14:00:54.734\u001b[0m | \u001b[32m\u001b[1mSUCCESS \u001b[0m | \u001b[36moceansoda_ethzv2.data.utils.zarr_utils\u001b[0m:\u001b[36msave_to_zarr\u001b[0m:\u001b[36m329\u001b[0m - \u001b[32m\u001b[1mSaved to: ../data/8D_025/sss_multiobs-8D_025.zarr/2024:2024-07-31 00:00\u001b[0m\n",
      "\u001b[32m2025-05-30 14:00:54.751\u001b[0m | \u001b[1mINFO    \u001b[0m | \u001b[36moceansoda_ethzv2.data.utils.zarr_utils\u001b[0m:\u001b[36msave_to_zarr\u001b[0m:\u001b[36m321\u001b[0m - \u001b[1mStarting to write ../data/8D_025/flag_multiobs-8D_025.zarr for time 2024-07-31 00:00:00\u001b[0m\n"
     ]
    },
    {
     "name": "stderr",
     "output_type": "stream",
     "text": [
      "\n",
      "Saving ../data/8D_025/flag_multiobs-8D_025.zarr/2024:2024-07-31 00:00: 100%|██████████| 20/20 [00:00<00:00, 1473.57it/s]"
     ]
    },
    {
     "name": "stdout",
     "output_type": "stream",
     "text": [
      "\u001b[32m2025-05-30 14:00:54.798\u001b[0m | \u001b[32m\u001b[1mSUCCESS \u001b[0m | \u001b[36moceansoda_ethzv2.data.utils.zarr_utils\u001b[0m:\u001b[36msave_to_zarr\u001b[0m:\u001b[36m329\u001b[0m - \u001b[32m\u001b[1mSaved to: ../data/8D_025/flag_multiobs-8D_025.zarr/2024:2024-07-31 00:00\u001b[0m\n",
      "\u001b[32m2025-05-30 14:00:54.818\u001b[0m | \u001b[1mINFO    \u001b[0m | \u001b[36moceansoda_ethzv2.data.utils.zarr_utils\u001b[0m:\u001b[36msave_to_zarr\u001b[0m:\u001b[36m321\u001b[0m - \u001b[1mStarting to write ../data/8D_025/sss_multiobs_sigma_regrid-8D_025.zarr for time 2024-07-31 00:00:00\u001b[0m\n"
     ]
    },
    {
     "name": "stderr",
     "output_type": "stream",
     "text": [
      "\n",
      "Saving ../data/8D_025/sss_multiobs_sigma_regrid-8D_025.zarr/2024:2024-07-31 00:00: 100%|██████████| 194/194 [00:10<00:00, 17.72it/s]"
     ]
    },
    {
     "name": "stdout",
     "output_type": "stream",
     "text": [
      "\u001b[32m2025-05-30 14:01:05.977\u001b[0m | \u001b[32m\u001b[1mSUCCESS \u001b[0m | \u001b[36moceansoda_ethzv2.data.utils.zarr_utils\u001b[0m:\u001b[36msave_to_zarr\u001b[0m:\u001b[36m329\u001b[0m - \u001b[32m\u001b[1mSaved to: ../data/8D_025/sss_multiobs_sigma_regrid-8D_025.zarr/2024:2024-07-31 00:00\u001b[0m\n"
     ]
    },
    {
     "name": "stderr",
     "output_type": "stream",
     "text": [
      "\n"
     ]
    },
    {
     "name": "stdout",
     "output_type": "stream",
     "text": [
      "\u001b[32m2025-05-30 14:01:10.062\u001b[0m | \u001b[33m\u001b[1mWARNING \u001b[0m | \u001b[36moceansoda_ethzv2.data.utils.checker\u001b[0m:\u001b[36mfix_timestep\u001b[0m:\u001b[36m240\u001b[0m - \u001b[33m\u001b[1mTime fixed. Time coordinate 2024-08-07 12:00:00 did not match expected time 2024-08-08 00:00:00. Adjusted to 2024-08-08 00:00:00.\u001b[0m\n",
      "\u001b[32m2025-05-30 14:01:10.064\u001b[0m | \u001b[33m\u001b[1mWARNING \u001b[0m | \u001b[36moceansoda_ethzv2.data.utils.checker\u001b[0m:\u001b[36madd_time_bnds\u001b[0m:\u001b[36m70\u001b[0m - \u001b[33m\u001b[1mTime bounds are missing, adding them.\u001b[0m\n",
      "\u001b[32m2025-05-30 14:01:10.084\u001b[0m | \u001b[1mINFO    \u001b[0m | \u001b[36moceansoda_ethzv2.data.utils.zarr_utils\u001b[0m:\u001b[36msave_to_zarr\u001b[0m:\u001b[36m321\u001b[0m - \u001b[1mStarting to write ../data/8D_025/sss_multiobs-8D_025.zarr for time 2024-08-08 00:00:00\u001b[0m\n"
     ]
    },
    {
     "name": "stderr",
     "output_type": "stream",
     "text": [
      "Saving ../data/8D_025/sss_multiobs-8D_025.zarr/2024:2024-08-08 00:00: 100%|██████████| 194/194 [00:04<00:00, 41.29it/s]"
     ]
    },
    {
     "name": "stdout",
     "output_type": "stream",
     "text": [
      "\u001b[32m2025-05-30 14:01:14.944\u001b[0m | \u001b[32m\u001b[1mSUCCESS \u001b[0m | \u001b[36moceansoda_ethzv2.data.utils.zarr_utils\u001b[0m:\u001b[36msave_to_zarr\u001b[0m:\u001b[36m329\u001b[0m - \u001b[32m\u001b[1mSaved to: ../data/8D_025/sss_multiobs-8D_025.zarr/2024:2024-08-08 00:00\u001b[0m\n",
      "\u001b[32m2025-05-30 14:01:14.962\u001b[0m | \u001b[1mINFO    \u001b[0m | \u001b[36moceansoda_ethzv2.data.utils.zarr_utils\u001b[0m:\u001b[36msave_to_zarr\u001b[0m:\u001b[36m321\u001b[0m - \u001b[1mStarting to write ../data/8D_025/flag_multiobs-8D_025.zarr for time 2024-08-08 00:00:00\u001b[0m\n"
     ]
    },
    {
     "name": "stderr",
     "output_type": "stream",
     "text": [
      "\n",
      "Saving ../data/8D_025/flag_multiobs-8D_025.zarr/2024:2024-08-08 00:00: 100%|██████████| 20/20 [00:00<00:00, 1813.32it/s]"
     ]
    },
    {
     "name": "stdout",
     "output_type": "stream",
     "text": [
      "\u001b[32m2025-05-30 14:01:15.009\u001b[0m | \u001b[32m\u001b[1mSUCCESS \u001b[0m | \u001b[36moceansoda_ethzv2.data.utils.zarr_utils\u001b[0m:\u001b[36msave_to_zarr\u001b[0m:\u001b[36m329\u001b[0m - \u001b[32m\u001b[1mSaved to: ../data/8D_025/flag_multiobs-8D_025.zarr/2024:2024-08-08 00:00\u001b[0m\n",
      "\u001b[32m2025-05-30 14:01:15.029\u001b[0m | \u001b[1mINFO    \u001b[0m | \u001b[36moceansoda_ethzv2.data.utils.zarr_utils\u001b[0m:\u001b[36msave_to_zarr\u001b[0m:\u001b[36m321\u001b[0m - \u001b[1mStarting to write ../data/8D_025/sss_multiobs_sigma_regrid-8D_025.zarr for time 2024-08-08 00:00:00\u001b[0m\n"
     ]
    },
    {
     "name": "stderr",
     "output_type": "stream",
     "text": [
      "\n",
      "Saving ../data/8D_025/sss_multiobs_sigma_regrid-8D_025.zarr/2024:2024-08-08 00:00: 100%|██████████| 194/194 [00:10<00:00, 18.41it/s]"
     ]
    },
    {
     "name": "stdout",
     "output_type": "stream",
     "text": [
      "\u001b[32m2025-05-30 14:01:25.782\u001b[0m | \u001b[32m\u001b[1mSUCCESS \u001b[0m | \u001b[36moceansoda_ethzv2.data.utils.zarr_utils\u001b[0m:\u001b[36msave_to_zarr\u001b[0m:\u001b[36m329\u001b[0m - \u001b[32m\u001b[1mSaved to: ../data/8D_025/sss_multiobs_sigma_regrid-8D_025.zarr/2024:2024-08-08 00:00\u001b[0m\n"
     ]
    },
    {
     "name": "stderr",
     "output_type": "stream",
     "text": [
      "\n"
     ]
    },
    {
     "name": "stdout",
     "output_type": "stream",
     "text": [
      "\u001b[32m2025-05-30 14:01:33.496\u001b[0m | \u001b[33m\u001b[1mWARNING \u001b[0m | \u001b[36moceansoda_ethzv2.data.utils.checker\u001b[0m:\u001b[36mfix_timestep\u001b[0m:\u001b[36m240\u001b[0m - \u001b[33m\u001b[1mTime fixed. Time coordinate 2024-08-15 12:00:00 did not match expected time 2024-08-16 00:00:00. Adjusted to 2024-08-16 00:00:00.\u001b[0m\n",
      "\u001b[32m2025-05-30 14:01:33.498\u001b[0m | \u001b[33m\u001b[1mWARNING \u001b[0m | \u001b[36moceansoda_ethzv2.data.utils.checker\u001b[0m:\u001b[36madd_time_bnds\u001b[0m:\u001b[36m70\u001b[0m - \u001b[33m\u001b[1mTime bounds are missing, adding them.\u001b[0m\n",
      "\u001b[32m2025-05-30 14:01:33.539\u001b[0m | \u001b[1mINFO    \u001b[0m | \u001b[36moceansoda_ethzv2.data.utils.zarr_utils\u001b[0m:\u001b[36msave_to_zarr\u001b[0m:\u001b[36m321\u001b[0m - \u001b[1mStarting to write ../data/8D_025/sss_multiobs-8D_025.zarr for time 2024-08-16 00:00:00\u001b[0m\n"
     ]
    },
    {
     "name": "stderr",
     "output_type": "stream",
     "text": [
      "Saving ../data/8D_025/sss_multiobs-8D_025.zarr/2024:2024-08-16 00:00: 100%|██████████| 194/194 [00:04<00:00, 48.11it/s]"
     ]
    },
    {
     "name": "stdout",
     "output_type": "stream",
     "text": [
      "\u001b[32m2025-05-30 14:01:41.471\u001b[0m | \u001b[32m\u001b[1mSUCCESS \u001b[0m | \u001b[36moceansoda_ethzv2.data.utils.zarr_utils\u001b[0m:\u001b[36msave_to_zarr\u001b[0m:\u001b[36m329\u001b[0m - \u001b[32m\u001b[1mSaved to: ../data/8D_025/sss_multiobs-8D_025.zarr/2024:2024-08-16 00:00\u001b[0m\n",
      "\u001b[32m2025-05-30 14:01:41.489\u001b[0m | \u001b[1mINFO    \u001b[0m | \u001b[36moceansoda_ethzv2.data.utils.zarr_utils\u001b[0m:\u001b[36msave_to_zarr\u001b[0m:\u001b[36m321\u001b[0m - \u001b[1mStarting to write ../data/8D_025/flag_multiobs-8D_025.zarr for time 2024-08-16 00:00:00\u001b[0m\n"
     ]
    },
    {
     "name": "stderr",
     "output_type": "stream",
     "text": [
      "\n",
      "Saving ../data/8D_025/flag_multiobs-8D_025.zarr/2024:2024-08-16 00:00: 100%|██████████| 20/20 [00:00<00:00, 1325.17it/s]"
     ]
    },
    {
     "name": "stdout",
     "output_type": "stream",
     "text": [
      "\u001b[32m2025-05-30 14:01:41.536\u001b[0m | \u001b[32m\u001b[1mSUCCESS \u001b[0m | \u001b[36moceansoda_ethzv2.data.utils.zarr_utils\u001b[0m:\u001b[36msave_to_zarr\u001b[0m:\u001b[36m329\u001b[0m - \u001b[32m\u001b[1mSaved to: ../data/8D_025/flag_multiobs-8D_025.zarr/2024:2024-08-16 00:00\u001b[0m\n",
      "\u001b[32m2025-05-30 14:01:41.555\u001b[0m | \u001b[1mINFO    \u001b[0m | \u001b[36moceansoda_ethzv2.data.utils.zarr_utils\u001b[0m:\u001b[36msave_to_zarr\u001b[0m:\u001b[36m321\u001b[0m - \u001b[1mStarting to write ../data/8D_025/sss_multiobs_sigma_regrid-8D_025.zarr for time 2024-08-16 00:00:00\u001b[0m\n"
     ]
    },
    {
     "name": "stderr",
     "output_type": "stream",
     "text": [
      "\n",
      "Saving ../data/8D_025/sss_multiobs_sigma_regrid-8D_025.zarr/2024:2024-08-16 00:00: 100%|██████████| 194/194 [00:13<00:00, 14.12it/s] "
     ]
    },
    {
     "name": "stdout",
     "output_type": "stream",
     "text": [
      "\u001b[32m2025-05-30 14:01:55.492\u001b[0m | \u001b[32m\u001b[1mSUCCESS \u001b[0m | \u001b[36moceansoda_ethzv2.data.utils.zarr_utils\u001b[0m:\u001b[36msave_to_zarr\u001b[0m:\u001b[36m329\u001b[0m - \u001b[32m\u001b[1mSaved to: ../data/8D_025/sss_multiobs_sigma_regrid-8D_025.zarr/2024:2024-08-16 00:00\u001b[0m\n"
     ]
    },
    {
     "name": "stderr",
     "output_type": "stream",
     "text": [
      "\n"
     ]
    },
    {
     "name": "stdout",
     "output_type": "stream",
     "text": [
      "\u001b[32m2025-05-30 14:02:03.263\u001b[0m | \u001b[33m\u001b[1mWARNING \u001b[0m | \u001b[36moceansoda_ethzv2.data.utils.checker\u001b[0m:\u001b[36mfix_timestep\u001b[0m:\u001b[36m240\u001b[0m - \u001b[33m\u001b[1mTime fixed. Time coordinate 2024-08-23 12:00:00 did not match expected time 2024-08-24 00:00:00. Adjusted to 2024-08-24 00:00:00.\u001b[0m\n",
      "\u001b[32m2025-05-30 14:02:03.264\u001b[0m | \u001b[33m\u001b[1mWARNING \u001b[0m | \u001b[36moceansoda_ethzv2.data.utils.checker\u001b[0m:\u001b[36madd_time_bnds\u001b[0m:\u001b[36m70\u001b[0m - \u001b[33m\u001b[1mTime bounds are missing, adding them.\u001b[0m\n",
      "\u001b[32m2025-05-30 14:02:03.284\u001b[0m | \u001b[1mINFO    \u001b[0m | \u001b[36moceansoda_ethzv2.data.utils.zarr_utils\u001b[0m:\u001b[36msave_to_zarr\u001b[0m:\u001b[36m321\u001b[0m - \u001b[1mStarting to write ../data/8D_025/sss_multiobs-8D_025.zarr for time 2024-08-24 00:00:00\u001b[0m\n"
     ]
    },
    {
     "name": "stderr",
     "output_type": "stream",
     "text": [
      "Saving ../data/8D_025/sss_multiobs-8D_025.zarr/2024:2024-08-24 00:00: 100%|██████████| 194/194 [00:05<00:00, 33.94it/s]"
     ]
    },
    {
     "name": "stdout",
     "output_type": "stream",
     "text": [
      "\u001b[32m2025-05-30 14:02:09.171\u001b[0m | \u001b[32m\u001b[1mSUCCESS \u001b[0m | \u001b[36moceansoda_ethzv2.data.utils.zarr_utils\u001b[0m:\u001b[36msave_to_zarr\u001b[0m:\u001b[36m329\u001b[0m - \u001b[32m\u001b[1mSaved to: ../data/8D_025/sss_multiobs-8D_025.zarr/2024:2024-08-24 00:00\u001b[0m\n",
      "\u001b[32m2025-05-30 14:02:09.189\u001b[0m | \u001b[1mINFO    \u001b[0m | \u001b[36moceansoda_ethzv2.data.utils.zarr_utils\u001b[0m:\u001b[36msave_to_zarr\u001b[0m:\u001b[36m321\u001b[0m - \u001b[1mStarting to write ../data/8D_025/flag_multiobs-8D_025.zarr for time 2024-08-24 00:00:00\u001b[0m\n"
     ]
    },
    {
     "name": "stderr",
     "output_type": "stream",
     "text": [
      "\n",
      "Saving ../data/8D_025/flag_multiobs-8D_025.zarr/2024:2024-08-24 00:00: 100%|██████████| 20/20 [00:00<00:00, 1699.30it/s]"
     ]
    },
    {
     "name": "stdout",
     "output_type": "stream",
     "text": [
      "\u001b[32m2025-05-30 14:02:09.236\u001b[0m | \u001b[32m\u001b[1mSUCCESS \u001b[0m | \u001b[36moceansoda_ethzv2.data.utils.zarr_utils\u001b[0m:\u001b[36msave_to_zarr\u001b[0m:\u001b[36m329\u001b[0m - \u001b[32m\u001b[1mSaved to: ../data/8D_025/flag_multiobs-8D_025.zarr/2024:2024-08-24 00:00\u001b[0m\n",
      "\u001b[32m2025-05-30 14:02:09.257\u001b[0m | \u001b[1mINFO    \u001b[0m | \u001b[36moceansoda_ethzv2.data.utils.zarr_utils\u001b[0m:\u001b[36msave_to_zarr\u001b[0m:\u001b[36m321\u001b[0m - \u001b[1mStarting to write ../data/8D_025/sss_multiobs_sigma_regrid-8D_025.zarr for time 2024-08-24 00:00:00\u001b[0m\n"
     ]
    },
    {
     "name": "stderr",
     "output_type": "stream",
     "text": [
      "\n",
      "Saving ../data/8D_025/sss_multiobs_sigma_regrid-8D_025.zarr/2024:2024-08-24 00:00: 100%|██████████| 194/194 [00:11<00:00, 16.79it/s] "
     ]
    },
    {
     "name": "stdout",
     "output_type": "stream",
     "text": [
      "\u001b[32m2025-05-30 14:02:21.011\u001b[0m | \u001b[32m\u001b[1mSUCCESS \u001b[0m | \u001b[36moceansoda_ethzv2.data.utils.zarr_utils\u001b[0m:\u001b[36msave_to_zarr\u001b[0m:\u001b[36m329\u001b[0m - \u001b[32m\u001b[1mSaved to: ../data/8D_025/sss_multiobs_sigma_regrid-8D_025.zarr/2024:2024-08-24 00:00\u001b[0m\n"
     ]
    },
    {
     "name": "stderr",
     "output_type": "stream",
     "text": [
      "\n"
     ]
    },
    {
     "name": "stdout",
     "output_type": "stream",
     "text": [
      "\u001b[32m2025-05-30 14:02:25.008\u001b[0m | \u001b[33m\u001b[1mWARNING \u001b[0m | \u001b[36moceansoda_ethzv2.data.utils.checker\u001b[0m:\u001b[36mfix_timestep\u001b[0m:\u001b[36m240\u001b[0m - \u001b[33m\u001b[1mTime fixed. Time coordinate 2024-08-31 12:00:00 did not match expected time 2024-09-01 00:00:00. Adjusted to 2024-09-01 00:00:00.\u001b[0m\n",
      "\u001b[32m2025-05-30 14:02:25.009\u001b[0m | \u001b[33m\u001b[1mWARNING \u001b[0m | \u001b[36moceansoda_ethzv2.data.utils.checker\u001b[0m:\u001b[36madd_time_bnds\u001b[0m:\u001b[36m70\u001b[0m - \u001b[33m\u001b[1mTime bounds are missing, adding them.\u001b[0m\n",
      "\u001b[32m2025-05-30 14:02:25.028\u001b[0m | \u001b[1mINFO    \u001b[0m | \u001b[36moceansoda_ethzv2.data.utils.zarr_utils\u001b[0m:\u001b[36msave_to_zarr\u001b[0m:\u001b[36m321\u001b[0m - \u001b[1mStarting to write ../data/8D_025/sss_multiobs-8D_025.zarr for time 2024-09-01 00:00:00\u001b[0m\n"
     ]
    },
    {
     "name": "stderr",
     "output_type": "stream",
     "text": [
      "Saving ../data/8D_025/sss_multiobs-8D_025.zarr/2024:2024-09-01 00:00: 100%|██████████| 194/194 [00:05<00:00, 34.12it/s]"
     ]
    },
    {
     "name": "stdout",
     "output_type": "stream",
     "text": [
      "\u001b[32m2025-05-30 14:02:30.881\u001b[0m | \u001b[32m\u001b[1mSUCCESS \u001b[0m | \u001b[36moceansoda_ethzv2.data.utils.zarr_utils\u001b[0m:\u001b[36msave_to_zarr\u001b[0m:\u001b[36m329\u001b[0m - \u001b[32m\u001b[1mSaved to: ../data/8D_025/sss_multiobs-8D_025.zarr/2024:2024-09-01 00:00\u001b[0m\n",
      "\u001b[32m2025-05-30 14:02:30.900\u001b[0m | \u001b[1mINFO    \u001b[0m | \u001b[36moceansoda_ethzv2.data.utils.zarr_utils\u001b[0m:\u001b[36msave_to_zarr\u001b[0m:\u001b[36m321\u001b[0m - \u001b[1mStarting to write ../data/8D_025/flag_multiobs-8D_025.zarr for time 2024-09-01 00:00:00\u001b[0m\n"
     ]
    },
    {
     "name": "stderr",
     "output_type": "stream",
     "text": [
      "\n",
      "Saving ../data/8D_025/flag_multiobs-8D_025.zarr/2024:2024-09-01 00:00: 100%|██████████| 20/20 [00:00<00:00, 1786.44it/s]"
     ]
    },
    {
     "name": "stdout",
     "output_type": "stream",
     "text": [
      "\u001b[32m2025-05-30 14:02:30.964\u001b[0m | \u001b[32m\u001b[1mSUCCESS \u001b[0m | \u001b[36moceansoda_ethzv2.data.utils.zarr_utils\u001b[0m:\u001b[36msave_to_zarr\u001b[0m:\u001b[36m329\u001b[0m - \u001b[32m\u001b[1mSaved to: ../data/8D_025/flag_multiobs-8D_025.zarr/2024:2024-09-01 00:00\u001b[0m\n"
     ]
    },
    {
     "name": "stderr",
     "output_type": "stream",
     "text": [
      "\n"
     ]
    },
    {
     "name": "stdout",
     "output_type": "stream",
     "text": [
      "\u001b[32m2025-05-30 14:02:30.985\u001b[0m | \u001b[1mINFO    \u001b[0m | \u001b[36moceansoda_ethzv2.data.utils.zarr_utils\u001b[0m:\u001b[36msave_to_zarr\u001b[0m:\u001b[36m321\u001b[0m - \u001b[1mStarting to write ../data/8D_025/sss_multiobs_sigma_regrid-8D_025.zarr for time 2024-09-01 00:00:00\u001b[0m\n"
     ]
    },
    {
     "name": "stderr",
     "output_type": "stream",
     "text": [
      "Saving ../data/8D_025/sss_multiobs_sigma_regrid-8D_025.zarr/2024:2024-09-01 00:00: 100%|██████████| 194/194 [00:10<00:00, 18.82it/s]"
     ]
    },
    {
     "name": "stdout",
     "output_type": "stream",
     "text": [
      "\u001b[32m2025-05-30 14:02:41.495\u001b[0m | \u001b[32m\u001b[1mSUCCESS \u001b[0m | \u001b[36moceansoda_ethzv2.data.utils.zarr_utils\u001b[0m:\u001b[36msave_to_zarr\u001b[0m:\u001b[36m329\u001b[0m - \u001b[32m\u001b[1mSaved to: ../data/8D_025/sss_multiobs_sigma_regrid-8D_025.zarr/2024:2024-09-01 00:00\u001b[0m\n"
     ]
    },
    {
     "name": "stderr",
     "output_type": "stream",
     "text": [
      "\n"
     ]
    },
    {
     "name": "stdout",
     "output_type": "stream",
     "text": [
      "\u001b[32m2025-05-30 14:02:45.283\u001b[0m | \u001b[33m\u001b[1mWARNING \u001b[0m | \u001b[36moceansoda_ethzv2.data.utils.checker\u001b[0m:\u001b[36mfix_timestep\u001b[0m:\u001b[36m240\u001b[0m - \u001b[33m\u001b[1mTime fixed. Time coordinate 2024-09-08 12:00:00 did not match expected time 2024-09-09 00:00:00. Adjusted to 2024-09-09 00:00:00.\u001b[0m\n",
      "\u001b[32m2025-05-30 14:02:45.284\u001b[0m | \u001b[33m\u001b[1mWARNING \u001b[0m | \u001b[36moceansoda_ethzv2.data.utils.checker\u001b[0m:\u001b[36madd_time_bnds\u001b[0m:\u001b[36m70\u001b[0m - \u001b[33m\u001b[1mTime bounds are missing, adding them.\u001b[0m\n",
      "\u001b[32m2025-05-30 14:02:45.305\u001b[0m | \u001b[1mINFO    \u001b[0m | \u001b[36moceansoda_ethzv2.data.utils.zarr_utils\u001b[0m:\u001b[36msave_to_zarr\u001b[0m:\u001b[36m321\u001b[0m - \u001b[1mStarting to write ../data/8D_025/sss_multiobs-8D_025.zarr for time 2024-09-09 00:00:00\u001b[0m\n"
     ]
    },
    {
     "name": "stderr",
     "output_type": "stream",
     "text": [
      "Saving ../data/8D_025/sss_multiobs-8D_025.zarr/2024:2024-09-09 00:00: 100%|██████████| 194/194 [00:05<00:00, 38.44it/s]"
     ]
    },
    {
     "name": "stdout",
     "output_type": "stream",
     "text": [
      "\u001b[32m2025-05-30 14:02:50.516\u001b[0m | \u001b[32m\u001b[1mSUCCESS \u001b[0m | \u001b[36moceansoda_ethzv2.data.utils.zarr_utils\u001b[0m:\u001b[36msave_to_zarr\u001b[0m:\u001b[36m329\u001b[0m - \u001b[32m\u001b[1mSaved to: ../data/8D_025/sss_multiobs-8D_025.zarr/2024:2024-09-09 00:00\u001b[0m\n",
      "\u001b[32m2025-05-30 14:02:50.534\u001b[0m | \u001b[1mINFO    \u001b[0m | \u001b[36moceansoda_ethzv2.data.utils.zarr_utils\u001b[0m:\u001b[36msave_to_zarr\u001b[0m:\u001b[36m321\u001b[0m - \u001b[1mStarting to write ../data/8D_025/flag_multiobs-8D_025.zarr for time 2024-09-09 00:00:00\u001b[0m\n"
     ]
    },
    {
     "name": "stderr",
     "output_type": "stream",
     "text": [
      "\n",
      "Saving ../data/8D_025/flag_multiobs-8D_025.zarr/2024:2024-09-09 00:00: 100%|██████████| 20/20 [00:00<00:00, 2007.08it/s]"
     ]
    },
    {
     "name": "stdout",
     "output_type": "stream",
     "text": [
      "\u001b[32m2025-05-30 14:02:50.576\u001b[0m | \u001b[32m\u001b[1mSUCCESS \u001b[0m | \u001b[36moceansoda_ethzv2.data.utils.zarr_utils\u001b[0m:\u001b[36msave_to_zarr\u001b[0m:\u001b[36m329\u001b[0m - \u001b[32m\u001b[1mSaved to: ../data/8D_025/flag_multiobs-8D_025.zarr/2024:2024-09-09 00:00\u001b[0m\n",
      "\u001b[32m2025-05-30 14:02:50.597\u001b[0m | \u001b[1mINFO    \u001b[0m | \u001b[36moceansoda_ethzv2.data.utils.zarr_utils\u001b[0m:\u001b[36msave_to_zarr\u001b[0m:\u001b[36m321\u001b[0m - \u001b[1mStarting to write ../data/8D_025/sss_multiobs_sigma_regrid-8D_025.zarr for time 2024-09-09 00:00:00\u001b[0m\n"
     ]
    },
    {
     "name": "stderr",
     "output_type": "stream",
     "text": [
      "\n",
      "Saving ../data/8D_025/sss_multiobs_sigma_regrid-8D_025.zarr/2024:2024-09-09 00:00: 100%|██████████| 194/194 [00:10<00:00, 18.11it/s]"
     ]
    },
    {
     "name": "stdout",
     "output_type": "stream",
     "text": [
      "\u001b[32m2025-05-30 14:03:05.133\u001b[0m | \u001b[32m\u001b[1mSUCCESS \u001b[0m | \u001b[36moceansoda_ethzv2.data.utils.zarr_utils\u001b[0m:\u001b[36msave_to_zarr\u001b[0m:\u001b[36m329\u001b[0m - \u001b[32m\u001b[1mSaved to: ../data/8D_025/sss_multiobs_sigma_regrid-8D_025.zarr/2024:2024-09-09 00:00\u001b[0m\n"
     ]
    },
    {
     "name": "stderr",
     "output_type": "stream",
     "text": [
      "\n"
     ]
    },
    {
     "name": "stdout",
     "output_type": "stream",
     "text": [
      "\u001b[32m2025-05-30 14:03:13.029\u001b[0m | \u001b[33m\u001b[1mWARNING \u001b[0m | \u001b[36moceansoda_ethzv2.data.utils.checker\u001b[0m:\u001b[36mfix_timestep\u001b[0m:\u001b[36m240\u001b[0m - \u001b[33m\u001b[1mTime fixed. Time coordinate 2024-09-16 12:00:00 did not match expected time 2024-09-17 00:00:00. Adjusted to 2024-09-17 00:00:00.\u001b[0m\n",
      "\u001b[32m2025-05-30 14:03:13.031\u001b[0m | \u001b[33m\u001b[1mWARNING \u001b[0m | \u001b[36moceansoda_ethzv2.data.utils.checker\u001b[0m:\u001b[36madd_time_bnds\u001b[0m:\u001b[36m70\u001b[0m - \u001b[33m\u001b[1mTime bounds are missing, adding them.\u001b[0m\n",
      "\u001b[32m2025-05-30 14:03:13.054\u001b[0m | \u001b[1mINFO    \u001b[0m | \u001b[36moceansoda_ethzv2.data.utils.zarr_utils\u001b[0m:\u001b[36msave_to_zarr\u001b[0m:\u001b[36m321\u001b[0m - \u001b[1mStarting to write ../data/8D_025/sss_multiobs-8D_025.zarr for time 2024-09-17 00:00:00\u001b[0m\n"
     ]
    },
    {
     "name": "stderr",
     "output_type": "stream",
     "text": [
      "Saving ../data/8D_025/sss_multiobs-8D_025.zarr/2024:2024-09-17 00:00: 100%|██████████| 194/194 [00:03<00:00, 50.36it/s]"
     ]
    },
    {
     "name": "stdout",
     "output_type": "stream",
     "text": [
      "\u001b[32m2025-05-30 14:03:17.067\u001b[0m | \u001b[32m\u001b[1mSUCCESS \u001b[0m | \u001b[36moceansoda_ethzv2.data.utils.zarr_utils\u001b[0m:\u001b[36msave_to_zarr\u001b[0m:\u001b[36m329\u001b[0m - \u001b[32m\u001b[1mSaved to: ../data/8D_025/sss_multiobs-8D_025.zarr/2024:2024-09-17 00:00\u001b[0m\n",
      "\u001b[32m2025-05-30 14:03:17.076\u001b[0m | \u001b[1mINFO    \u001b[0m | \u001b[36moceansoda_ethzv2.data.utils.zarr_utils\u001b[0m:\u001b[36msave_to_zarr\u001b[0m:\u001b[36m321\u001b[0m - \u001b[1mStarting to write ../data/8D_025/flag_multiobs-8D_025.zarr for time 2024-09-17 00:00:00\u001b[0m\n"
     ]
    },
    {
     "name": "stderr",
     "output_type": "stream",
     "text": [
      "\n",
      "Saving ../data/8D_025/flag_multiobs-8D_025.zarr/2024:2024-09-17 00:00: 100%|██████████| 20/20 [00:00<00:00, 1917.00it/s]"
     ]
    },
    {
     "name": "stdout",
     "output_type": "stream",
     "text": [
      "\u001b[32m2025-05-30 14:03:17.105\u001b[0m | \u001b[32m\u001b[1mSUCCESS \u001b[0m | \u001b[36moceansoda_ethzv2.data.utils.zarr_utils\u001b[0m:\u001b[36msave_to_zarr\u001b[0m:\u001b[36m329\u001b[0m - \u001b[32m\u001b[1mSaved to: ../data/8D_025/flag_multiobs-8D_025.zarr/2024:2024-09-17 00:00\u001b[0m\n",
      "\u001b[32m2025-05-30 14:03:17.119\u001b[0m | \u001b[1mINFO    \u001b[0m | \u001b[36moceansoda_ethzv2.data.utils.zarr_utils\u001b[0m:\u001b[36msave_to_zarr\u001b[0m:\u001b[36m321\u001b[0m - \u001b[1mStarting to write ../data/8D_025/sss_multiobs_sigma_regrid-8D_025.zarr for time 2024-09-17 00:00:00\u001b[0m\n"
     ]
    },
    {
     "name": "stderr",
     "output_type": "stream",
     "text": [
      "\n",
      "Saving ../data/8D_025/sss_multiobs_sigma_regrid-8D_025.zarr/2024:2024-09-17 00:00: 100%|██████████| 194/194 [00:11<00:00, 17.49it/s]"
     ]
    },
    {
     "name": "stdout",
     "output_type": "stream",
     "text": [
      "\u001b[32m2025-05-30 14:03:28.401\u001b[0m | \u001b[32m\u001b[1mSUCCESS \u001b[0m | \u001b[36moceansoda_ethzv2.data.utils.zarr_utils\u001b[0m:\u001b[36msave_to_zarr\u001b[0m:\u001b[36m329\u001b[0m - \u001b[32m\u001b[1mSaved to: ../data/8D_025/sss_multiobs_sigma_regrid-8D_025.zarr/2024:2024-09-17 00:00\u001b[0m\n"
     ]
    },
    {
     "name": "stderr",
     "output_type": "stream",
     "text": [
      "\n"
     ]
    },
    {
     "name": "stdout",
     "output_type": "stream",
     "text": [
      "\u001b[32m2025-05-30 14:03:32.380\u001b[0m | \u001b[33m\u001b[1mWARNING \u001b[0m | \u001b[36moceansoda_ethzv2.data.utils.checker\u001b[0m:\u001b[36mfix_timestep\u001b[0m:\u001b[36m240\u001b[0m - \u001b[33m\u001b[1mTime fixed. Time coordinate 2024-09-24 12:00:00 did not match expected time 2024-09-25 00:00:00. Adjusted to 2024-09-25 00:00:00.\u001b[0m\n",
      "\u001b[32m2025-05-30 14:03:32.382\u001b[0m | \u001b[33m\u001b[1mWARNING \u001b[0m | \u001b[36moceansoda_ethzv2.data.utils.checker\u001b[0m:\u001b[36madd_time_bnds\u001b[0m:\u001b[36m70\u001b[0m - \u001b[33m\u001b[1mTime bounds are missing, adding them.\u001b[0m\n",
      "\u001b[32m2025-05-30 14:03:32.403\u001b[0m | \u001b[1mINFO    \u001b[0m | \u001b[36moceansoda_ethzv2.data.utils.zarr_utils\u001b[0m:\u001b[36msave_to_zarr\u001b[0m:\u001b[36m321\u001b[0m - \u001b[1mStarting to write ../data/8D_025/sss_multiobs-8D_025.zarr for time 2024-09-25 00:00:00\u001b[0m\n"
     ]
    },
    {
     "name": "stderr",
     "output_type": "stream",
     "text": [
      "Saving ../data/8D_025/sss_multiobs-8D_025.zarr/2024:2024-09-25 00:00: 100%|██████████| 194/194 [00:04<00:00, 43.96it/s]"
     ]
    },
    {
     "name": "stdout",
     "output_type": "stream",
     "text": [
      "\u001b[32m2025-05-30 14:03:40.720\u001b[0m | \u001b[32m\u001b[1mSUCCESS \u001b[0m | \u001b[36moceansoda_ethzv2.data.utils.zarr_utils\u001b[0m:\u001b[36msave_to_zarr\u001b[0m:\u001b[36m329\u001b[0m - \u001b[32m\u001b[1mSaved to: ../data/8D_025/sss_multiobs-8D_025.zarr/2024:2024-09-25 00:00\u001b[0m\n",
      "\u001b[32m2025-05-30 14:03:40.740\u001b[0m | \u001b[1mINFO    \u001b[0m | \u001b[36moceansoda_ethzv2.data.utils.zarr_utils\u001b[0m:\u001b[36msave_to_zarr\u001b[0m:\u001b[36m321\u001b[0m - \u001b[1mStarting to write ../data/8D_025/flag_multiobs-8D_025.zarr for time 2024-09-25 00:00:00\u001b[0m\n"
     ]
    },
    {
     "name": "stderr",
     "output_type": "stream",
     "text": [
      "\n",
      "Saving ../data/8D_025/flag_multiobs-8D_025.zarr/2024:2024-09-25 00:00: 100%|██████████| 20/20 [00:00<00:00, 1218.60it/s]"
     ]
    },
    {
     "name": "stdout",
     "output_type": "stream",
     "text": [
      "\u001b[32m2025-05-30 14:03:40.790\u001b[0m | \u001b[32m\u001b[1mSUCCESS \u001b[0m | \u001b[36moceansoda_ethzv2.data.utils.zarr_utils\u001b[0m:\u001b[36msave_to_zarr\u001b[0m:\u001b[36m329\u001b[0m - \u001b[32m\u001b[1mSaved to: ../data/8D_025/flag_multiobs-8D_025.zarr/2024:2024-09-25 00:00\u001b[0m\n"
     ]
    },
    {
     "name": "stderr",
     "output_type": "stream",
     "text": [
      "\n"
     ]
    },
    {
     "name": "stdout",
     "output_type": "stream",
     "text": [
      "\u001b[32m2025-05-30 14:03:40.812\u001b[0m | \u001b[1mINFO    \u001b[0m | \u001b[36moceansoda_ethzv2.data.utils.zarr_utils\u001b[0m:\u001b[36msave_to_zarr\u001b[0m:\u001b[36m321\u001b[0m - \u001b[1mStarting to write ../data/8D_025/sss_multiobs_sigma_regrid-8D_025.zarr for time 2024-09-25 00:00:00\u001b[0m\n"
     ]
    },
    {
     "name": "stderr",
     "output_type": "stream",
     "text": [
      "Saving ../data/8D_025/sss_multiobs_sigma_regrid-8D_025.zarr/2024:2024-09-25 00:00: 100%|██████████| 194/194 [00:11<00:00, 16.62it/s]"
     ]
    },
    {
     "name": "stdout",
     "output_type": "stream",
     "text": [
      "\u001b[32m2025-05-30 14:03:52.688\u001b[0m | \u001b[32m\u001b[1mSUCCESS \u001b[0m | \u001b[36moceansoda_ethzv2.data.utils.zarr_utils\u001b[0m:\u001b[36msave_to_zarr\u001b[0m:\u001b[36m329\u001b[0m - \u001b[32m\u001b[1mSaved to: ../data/8D_025/sss_multiobs_sigma_regrid-8D_025.zarr/2024:2024-09-25 00:00\u001b[0m\n"
     ]
    },
    {
     "name": "stderr",
     "output_type": "stream",
     "text": [
      "\n"
     ]
    },
    {
     "name": "stdout",
     "output_type": "stream",
     "text": [
      "\u001b[32m2025-05-30 14:04:00.686\u001b[0m | \u001b[33m\u001b[1mWARNING \u001b[0m | \u001b[36moceansoda_ethzv2.data.utils.checker\u001b[0m:\u001b[36mfix_timestep\u001b[0m:\u001b[36m240\u001b[0m - \u001b[33m\u001b[1mTime fixed. Time coordinate 2024-10-02 12:00:00 did not match expected time 2024-10-03 00:00:00. Adjusted to 2024-10-03 00:00:00.\u001b[0m\n",
      "\u001b[32m2025-05-30 14:04:00.689\u001b[0m | \u001b[33m\u001b[1mWARNING \u001b[0m | \u001b[36moceansoda_ethzv2.data.utils.checker\u001b[0m:\u001b[36madd_time_bnds\u001b[0m:\u001b[36m70\u001b[0m - \u001b[33m\u001b[1mTime bounds are missing, adding them.\u001b[0m\n",
      "\u001b[32m2025-05-30 14:04:00.710\u001b[0m | \u001b[1mINFO    \u001b[0m | \u001b[36moceansoda_ethzv2.data.utils.zarr_utils\u001b[0m:\u001b[36msave_to_zarr\u001b[0m:\u001b[36m321\u001b[0m - \u001b[1mStarting to write ../data/8D_025/sss_multiobs-8D_025.zarr for time 2024-10-03 00:00:00\u001b[0m\n"
     ]
    },
    {
     "name": "stderr",
     "output_type": "stream",
     "text": [
      "Saving ../data/8D_025/sss_multiobs-8D_025.zarr/2024:2024-10-03 00:00: 100%|██████████| 194/194 [00:05<00:00, 37.73it/s]"
     ]
    },
    {
     "name": "stdout",
     "output_type": "stream",
     "text": [
      "\u001b[32m2025-05-30 14:04:06.026\u001b[0m | \u001b[32m\u001b[1mSUCCESS \u001b[0m | \u001b[36moceansoda_ethzv2.data.utils.zarr_utils\u001b[0m:\u001b[36msave_to_zarr\u001b[0m:\u001b[36m329\u001b[0m - \u001b[32m\u001b[1mSaved to: ../data/8D_025/sss_multiobs-8D_025.zarr/2024:2024-10-03 00:00\u001b[0m\n",
      "\u001b[32m2025-05-30 14:04:06.045\u001b[0m | \u001b[1mINFO    \u001b[0m | \u001b[36moceansoda_ethzv2.data.utils.zarr_utils\u001b[0m:\u001b[36msave_to_zarr\u001b[0m:\u001b[36m321\u001b[0m - \u001b[1mStarting to write ../data/8D_025/flag_multiobs-8D_025.zarr for time 2024-10-03 00:00:00\u001b[0m\n"
     ]
    },
    {
     "name": "stderr",
     "output_type": "stream",
     "text": [
      "\n",
      "Saving ../data/8D_025/flag_multiobs-8D_025.zarr/2024:2024-10-03 00:00: 100%|██████████| 20/20 [00:00<00:00, 1771.09it/s]"
     ]
    },
    {
     "name": "stdout",
     "output_type": "stream",
     "text": [
      "\u001b[32m2025-05-30 14:04:06.090\u001b[0m | \u001b[32m\u001b[1mSUCCESS \u001b[0m | \u001b[36moceansoda_ethzv2.data.utils.zarr_utils\u001b[0m:\u001b[36msave_to_zarr\u001b[0m:\u001b[36m329\u001b[0m - \u001b[32m\u001b[1mSaved to: ../data/8D_025/flag_multiobs-8D_025.zarr/2024:2024-10-03 00:00\u001b[0m\n",
      "\u001b[32m2025-05-30 14:04:06.111\u001b[0m | \u001b[1mINFO    \u001b[0m | \u001b[36moceansoda_ethzv2.data.utils.zarr_utils\u001b[0m:\u001b[36msave_to_zarr\u001b[0m:\u001b[36m321\u001b[0m - \u001b[1mStarting to write ../data/8D_025/sss_multiobs_sigma_regrid-8D_025.zarr for time 2024-10-03 00:00:00\u001b[0m\n"
     ]
    },
    {
     "name": "stderr",
     "output_type": "stream",
     "text": [
      "\n",
      "Saving ../data/8D_025/sss_multiobs_sigma_regrid-8D_025.zarr/2024:2024-10-03 00:00: 100%|██████████| 194/194 [00:11<00:00, 16.39it/s]"
     ]
    },
    {
     "name": "stdout",
     "output_type": "stream",
     "text": [
      "\u001b[32m2025-05-30 14:04:18.157\u001b[0m | \u001b[32m\u001b[1mSUCCESS \u001b[0m | \u001b[36moceansoda_ethzv2.data.utils.zarr_utils\u001b[0m:\u001b[36msave_to_zarr\u001b[0m:\u001b[36m329\u001b[0m - \u001b[32m\u001b[1mSaved to: ../data/8D_025/sss_multiobs_sigma_regrid-8D_025.zarr/2024:2024-10-03 00:00\u001b[0m\n"
     ]
    },
    {
     "name": "stderr",
     "output_type": "stream",
     "text": [
      "\n"
     ]
    },
    {
     "name": "stdout",
     "output_type": "stream",
     "text": [
      "\u001b[32m2025-05-30 14:04:26.234\u001b[0m | \u001b[33m\u001b[1mWARNING \u001b[0m | \u001b[36moceansoda_ethzv2.data.utils.checker\u001b[0m:\u001b[36mfix_timestep\u001b[0m:\u001b[36m240\u001b[0m - \u001b[33m\u001b[1mTime fixed. Time coordinate 2024-10-10 12:00:00 did not match expected time 2024-10-11 00:00:00. Adjusted to 2024-10-11 00:00:00.\u001b[0m\n",
      "\u001b[32m2025-05-30 14:04:26.237\u001b[0m | \u001b[33m\u001b[1mWARNING \u001b[0m | \u001b[36moceansoda_ethzv2.data.utils.checker\u001b[0m:\u001b[36madd_time_bnds\u001b[0m:\u001b[36m70\u001b[0m - \u001b[33m\u001b[1mTime bounds are missing, adding them.\u001b[0m\n",
      "\u001b[32m2025-05-30 14:04:26.258\u001b[0m | \u001b[1mINFO    \u001b[0m | \u001b[36moceansoda_ethzv2.data.utils.zarr_utils\u001b[0m:\u001b[36msave_to_zarr\u001b[0m:\u001b[36m321\u001b[0m - \u001b[1mStarting to write ../data/8D_025/sss_multiobs-8D_025.zarr for time 2024-10-11 00:00:00\u001b[0m\n"
     ]
    },
    {
     "name": "stderr",
     "output_type": "stream",
     "text": [
      "Saving ../data/8D_025/sss_multiobs-8D_025.zarr/2024:2024-10-11 00:00: 100%|██████████| 194/194 [00:04<00:00, 42.23it/s]"
     ]
    },
    {
     "name": "stdout",
     "output_type": "stream",
     "text": [
      "\u001b[32m2025-05-30 14:04:35.117\u001b[0m | \u001b[32m\u001b[1mSUCCESS \u001b[0m | \u001b[36moceansoda_ethzv2.data.utils.zarr_utils\u001b[0m:\u001b[36msave_to_zarr\u001b[0m:\u001b[36m329\u001b[0m - \u001b[32m\u001b[1mSaved to: ../data/8D_025/sss_multiobs-8D_025.zarr/2024:2024-10-11 00:00\u001b[0m\n",
      "\u001b[32m2025-05-30 14:04:35.137\u001b[0m | \u001b[1mINFO    \u001b[0m | \u001b[36moceansoda_ethzv2.data.utils.zarr_utils\u001b[0m:\u001b[36msave_to_zarr\u001b[0m:\u001b[36m321\u001b[0m - \u001b[1mStarting to write ../data/8D_025/flag_multiobs-8D_025.zarr for time 2024-10-11 00:00:00\u001b[0m\n"
     ]
    },
    {
     "name": "stderr",
     "output_type": "stream",
     "text": [
      "\n",
      "Saving ../data/8D_025/flag_multiobs-8D_025.zarr/2024:2024-10-11 00:00: 100%|██████████| 20/20 [00:00<00:00, 1246.32it/s]"
     ]
    },
    {
     "name": "stdout",
     "output_type": "stream",
     "text": [
      "\u001b[32m2025-05-30 14:04:35.205\u001b[0m | \u001b[32m\u001b[1mSUCCESS \u001b[0m | \u001b[36moceansoda_ethzv2.data.utils.zarr_utils\u001b[0m:\u001b[36msave_to_zarr\u001b[0m:\u001b[36m329\u001b[0m - \u001b[32m\u001b[1mSaved to: ../data/8D_025/flag_multiobs-8D_025.zarr/2024:2024-10-11 00:00\u001b[0m\n",
      "\u001b[32m2025-05-30 14:04:35.225\u001b[0m | \u001b[1mINFO    \u001b[0m | \u001b[36moceansoda_ethzv2.data.utils.zarr_utils\u001b[0m:\u001b[36msave_to_zarr\u001b[0m:\u001b[36m321\u001b[0m - \u001b[1mStarting to write ../data/8D_025/sss_multiobs_sigma_regrid-8D_025.zarr for time 2024-10-11 00:00:00\u001b[0m\n"
     ]
    },
    {
     "name": "stderr",
     "output_type": "stream",
     "text": [
      "\n",
      "Saving ../data/8D_025/sss_multiobs_sigma_regrid-8D_025.zarr/2024:2024-10-11 00:00: 100%|██████████| 194/194 [00:14<00:00, 13.02it/s]"
     ]
    },
    {
     "name": "stdout",
     "output_type": "stream",
     "text": [
      "\u001b[32m2025-05-30 14:04:54.127\u001b[0m | \u001b[32m\u001b[1mSUCCESS \u001b[0m | \u001b[36moceansoda_ethzv2.data.utils.zarr_utils\u001b[0m:\u001b[36msave_to_zarr\u001b[0m:\u001b[36m329\u001b[0m - \u001b[32m\u001b[1mSaved to: ../data/8D_025/sss_multiobs_sigma_regrid-8D_025.zarr/2024:2024-10-11 00:00\u001b[0m\n"
     ]
    },
    {
     "name": "stderr",
     "output_type": "stream",
     "text": [
      "\n"
     ]
    },
    {
     "name": "stdout",
     "output_type": "stream",
     "text": [
      "\u001b[32m2025-05-30 14:04:58.346\u001b[0m | \u001b[33m\u001b[1mWARNING \u001b[0m | \u001b[36moceansoda_ethzv2.data.utils.checker\u001b[0m:\u001b[36mfix_timestep\u001b[0m:\u001b[36m240\u001b[0m - \u001b[33m\u001b[1mTime fixed. Time coordinate 2024-10-18 12:00:00 did not match expected time 2024-10-19 00:00:00. Adjusted to 2024-10-19 00:00:00.\u001b[0m\n",
      "\u001b[32m2025-05-30 14:04:58.347\u001b[0m | \u001b[33m\u001b[1mWARNING \u001b[0m | \u001b[36moceansoda_ethzv2.data.utils.checker\u001b[0m:\u001b[36madd_time_bnds\u001b[0m:\u001b[36m70\u001b[0m - \u001b[33m\u001b[1mTime bounds are missing, adding them.\u001b[0m\n",
      "\u001b[32m2025-05-30 14:04:58.369\u001b[0m | \u001b[1mINFO    \u001b[0m | \u001b[36moceansoda_ethzv2.data.utils.zarr_utils\u001b[0m:\u001b[36msave_to_zarr\u001b[0m:\u001b[36m321\u001b[0m - \u001b[1mStarting to write ../data/8D_025/sss_multiobs-8D_025.zarr for time 2024-10-19 00:00:00\u001b[0m\n"
     ]
    },
    {
     "name": "stderr",
     "output_type": "stream",
     "text": [
      "Saving ../data/8D_025/sss_multiobs-8D_025.zarr/2024:2024-10-19 00:00: 100%|██████████| 194/194 [00:04<00:00, 44.28it/s]"
     ]
    },
    {
     "name": "stdout",
     "output_type": "stream",
     "text": [
      "\u001b[32m2025-05-30 14:05:02.910\u001b[0m | \u001b[32m\u001b[1mSUCCESS \u001b[0m | \u001b[36moceansoda_ethzv2.data.utils.zarr_utils\u001b[0m:\u001b[36msave_to_zarr\u001b[0m:\u001b[36m329\u001b[0m - \u001b[32m\u001b[1mSaved to: ../data/8D_025/sss_multiobs-8D_025.zarr/2024:2024-10-19 00:00\u001b[0m\n",
      "\u001b[32m2025-05-30 14:05:02.928\u001b[0m | \u001b[1mINFO    \u001b[0m | \u001b[36moceansoda_ethzv2.data.utils.zarr_utils\u001b[0m:\u001b[36msave_to_zarr\u001b[0m:\u001b[36m321\u001b[0m - \u001b[1mStarting to write ../data/8D_025/flag_multiobs-8D_025.zarr for time 2024-10-19 00:00:00\u001b[0m\n"
     ]
    },
    {
     "name": "stderr",
     "output_type": "stream",
     "text": [
      "\n",
      "Saving ../data/8D_025/flag_multiobs-8D_025.zarr/2024:2024-10-19 00:00: 100%|██████████| 20/20 [00:00<00:00, 1823.45it/s]"
     ]
    },
    {
     "name": "stdout",
     "output_type": "stream",
     "text": [
      "\u001b[32m2025-05-30 14:05:02.971\u001b[0m | \u001b[32m\u001b[1mSUCCESS \u001b[0m | \u001b[36moceansoda_ethzv2.data.utils.zarr_utils\u001b[0m:\u001b[36msave_to_zarr\u001b[0m:\u001b[36m329\u001b[0m - \u001b[32m\u001b[1mSaved to: ../data/8D_025/flag_multiobs-8D_025.zarr/2024:2024-10-19 00:00\u001b[0m\n",
      "\u001b[32m2025-05-30 14:05:02.993\u001b[0m | \u001b[1mINFO    \u001b[0m | \u001b[36moceansoda_ethzv2.data.utils.zarr_utils\u001b[0m:\u001b[36msave_to_zarr\u001b[0m:\u001b[36m321\u001b[0m - \u001b[1mStarting to write ../data/8D_025/sss_multiobs_sigma_regrid-8D_025.zarr for time 2024-10-19 00:00:00\u001b[0m\n"
     ]
    },
    {
     "name": "stderr",
     "output_type": "stream",
     "text": [
      "\n",
      "Saving ../data/8D_025/sss_multiobs_sigma_regrid-8D_025.zarr/2024:2024-10-19 00:00: 100%|██████████| 194/194 [00:15<00:00, 12.22it/s]"
     ]
    },
    {
     "name": "stdout",
     "output_type": "stream",
     "text": [
      "\u001b[32m2025-05-30 14:05:19.071\u001b[0m | \u001b[32m\u001b[1mSUCCESS \u001b[0m | \u001b[36moceansoda_ethzv2.data.utils.zarr_utils\u001b[0m:\u001b[36msave_to_zarr\u001b[0m:\u001b[36m329\u001b[0m - \u001b[32m\u001b[1mSaved to: ../data/8D_025/sss_multiobs_sigma_regrid-8D_025.zarr/2024:2024-10-19 00:00\u001b[0m\n"
     ]
    },
    {
     "name": "stderr",
     "output_type": "stream",
     "text": [
      "\n"
     ]
    },
    {
     "name": "stdout",
     "output_type": "stream",
     "text": [
      "\u001b[32m2025-05-30 14:05:23.212\u001b[0m | \u001b[33m\u001b[1mWARNING \u001b[0m | \u001b[36moceansoda_ethzv2.data.utils.checker\u001b[0m:\u001b[36mfix_timestep\u001b[0m:\u001b[36m240\u001b[0m - \u001b[33m\u001b[1mTime fixed. Time coordinate 2024-10-26 12:00:00 did not match expected time 2024-10-27 00:00:00. Adjusted to 2024-10-27 00:00:00.\u001b[0m\n",
      "\u001b[32m2025-05-30 14:05:23.213\u001b[0m | \u001b[33m\u001b[1mWARNING \u001b[0m | \u001b[36moceansoda_ethzv2.data.utils.checker\u001b[0m:\u001b[36madd_time_bnds\u001b[0m:\u001b[36m70\u001b[0m - \u001b[33m\u001b[1mTime bounds are missing, adding them.\u001b[0m\n",
      "\u001b[32m2025-05-30 14:05:23.233\u001b[0m | \u001b[1mINFO    \u001b[0m | \u001b[36moceansoda_ethzv2.data.utils.zarr_utils\u001b[0m:\u001b[36msave_to_zarr\u001b[0m:\u001b[36m321\u001b[0m - \u001b[1mStarting to write ../data/8D_025/sss_multiobs-8D_025.zarr for time 2024-10-27 00:00:00\u001b[0m\n"
     ]
    },
    {
     "name": "stderr",
     "output_type": "stream",
     "text": [
      "Saving ../data/8D_025/sss_multiobs-8D_025.zarr/2024:2024-10-27 00:00: 100%|██████████| 194/194 [00:05<00:00, 37.60it/s] "
     ]
    },
    {
     "name": "stdout",
     "output_type": "stream",
     "text": [
      "\u001b[32m2025-05-30 14:05:28.548\u001b[0m | \u001b[32m\u001b[1mSUCCESS \u001b[0m | \u001b[36moceansoda_ethzv2.data.utils.zarr_utils\u001b[0m:\u001b[36msave_to_zarr\u001b[0m:\u001b[36m329\u001b[0m - \u001b[32m\u001b[1mSaved to: ../data/8D_025/sss_multiobs-8D_025.zarr/2024:2024-10-27 00:00\u001b[0m\n",
      "\u001b[32m2025-05-30 14:05:28.568\u001b[0m | \u001b[1mINFO    \u001b[0m | \u001b[36moceansoda_ethzv2.data.utils.zarr_utils\u001b[0m:\u001b[36msave_to_zarr\u001b[0m:\u001b[36m321\u001b[0m - \u001b[1mStarting to write ../data/8D_025/flag_multiobs-8D_025.zarr for time 2024-10-27 00:00:00\u001b[0m\n"
     ]
    },
    {
     "name": "stderr",
     "output_type": "stream",
     "text": [
      "\n",
      "Saving ../data/8D_025/flag_multiobs-8D_025.zarr/2024:2024-10-27 00:00: 100%|██████████| 20/20 [00:00<00:00, 1875.35it/s]"
     ]
    },
    {
     "name": "stdout",
     "output_type": "stream",
     "text": [
      "\u001b[32m2025-05-30 14:05:28.611\u001b[0m | \u001b[32m\u001b[1mSUCCESS \u001b[0m | \u001b[36moceansoda_ethzv2.data.utils.zarr_utils\u001b[0m:\u001b[36msave_to_zarr\u001b[0m:\u001b[36m329\u001b[0m - \u001b[32m\u001b[1mSaved to: ../data/8D_025/flag_multiobs-8D_025.zarr/2024:2024-10-27 00:00\u001b[0m\n",
      "\u001b[32m2025-05-30 14:05:28.632\u001b[0m | \u001b[1mINFO    \u001b[0m | \u001b[36moceansoda_ethzv2.data.utils.zarr_utils\u001b[0m:\u001b[36msave_to_zarr\u001b[0m:\u001b[36m321\u001b[0m - \u001b[1mStarting to write ../data/8D_025/sss_multiobs_sigma_regrid-8D_025.zarr for time 2024-10-27 00:00:00\u001b[0m\n"
     ]
    },
    {
     "name": "stderr",
     "output_type": "stream",
     "text": [
      "\n",
      "Saving ../data/8D_025/sss_multiobs_sigma_regrid-8D_025.zarr/2024:2024-10-27 00:00: 100%|██████████| 194/194 [00:14<00:00, 13.45it/s]"
     ]
    },
    {
     "name": "stdout",
     "output_type": "stream",
     "text": [
      "\u001b[32m2025-05-30 14:05:43.244\u001b[0m | \u001b[32m\u001b[1mSUCCESS \u001b[0m | \u001b[36moceansoda_ethzv2.data.utils.zarr_utils\u001b[0m:\u001b[36msave_to_zarr\u001b[0m:\u001b[36m329\u001b[0m - \u001b[32m\u001b[1mSaved to: ../data/8D_025/sss_multiobs_sigma_regrid-8D_025.zarr/2024:2024-10-27 00:00\u001b[0m\n"
     ]
    },
    {
     "name": "stderr",
     "output_type": "stream",
     "text": [
      "\n"
     ]
    },
    {
     "name": "stdout",
     "output_type": "stream",
     "text": [
      "\u001b[32m2025-05-30 14:05:47.236\u001b[0m | \u001b[33m\u001b[1mWARNING \u001b[0m | \u001b[36moceansoda_ethzv2.data.utils.checker\u001b[0m:\u001b[36mfix_timestep\u001b[0m:\u001b[36m240\u001b[0m - \u001b[33m\u001b[1mTime fixed. Time coordinate 2024-11-03 12:00:00 did not match expected time 2024-11-04 00:00:00. Adjusted to 2024-11-04 00:00:00.\u001b[0m\n",
      "\u001b[32m2025-05-30 14:05:47.238\u001b[0m | \u001b[33m\u001b[1mWARNING \u001b[0m | \u001b[36moceansoda_ethzv2.data.utils.checker\u001b[0m:\u001b[36madd_time_bnds\u001b[0m:\u001b[36m70\u001b[0m - \u001b[33m\u001b[1mTime bounds are missing, adding them.\u001b[0m\n",
      "\u001b[32m2025-05-30 14:05:47.259\u001b[0m | \u001b[1mINFO    \u001b[0m | \u001b[36moceansoda_ethzv2.data.utils.zarr_utils\u001b[0m:\u001b[36msave_to_zarr\u001b[0m:\u001b[36m321\u001b[0m - \u001b[1mStarting to write ../data/8D_025/sss_multiobs-8D_025.zarr for time 2024-11-04 00:00:00\u001b[0m\n"
     ]
    },
    {
     "name": "stderr",
     "output_type": "stream",
     "text": [
      "Saving ../data/8D_025/sss_multiobs-8D_025.zarr/2024:2024-11-04 00:00: 100%|██████████| 194/194 [00:05<00:00, 35.97it/s] "
     ]
    },
    {
     "name": "stdout",
     "output_type": "stream",
     "text": [
      "\u001b[32m2025-05-30 14:05:52.814\u001b[0m | \u001b[32m\u001b[1mSUCCESS \u001b[0m | \u001b[36moceansoda_ethzv2.data.utils.zarr_utils\u001b[0m:\u001b[36msave_to_zarr\u001b[0m:\u001b[36m329\u001b[0m - \u001b[32m\u001b[1mSaved to: ../data/8D_025/sss_multiobs-8D_025.zarr/2024:2024-11-04 00:00\u001b[0m\n",
      "\u001b[32m2025-05-30 14:05:52.835\u001b[0m | \u001b[1mINFO    \u001b[0m | \u001b[36moceansoda_ethzv2.data.utils.zarr_utils\u001b[0m:\u001b[36msave_to_zarr\u001b[0m:\u001b[36m321\u001b[0m - \u001b[1mStarting to write ../data/8D_025/flag_multiobs-8D_025.zarr for time 2024-11-04 00:00:00\u001b[0m\n"
     ]
    },
    {
     "name": "stderr",
     "output_type": "stream",
     "text": [
      "\n",
      "Saving ../data/8D_025/flag_multiobs-8D_025.zarr/2024:2024-11-04 00:00: 100%|██████████| 20/20 [00:00<00:00, 1848.20it/s]"
     ]
    },
    {
     "name": "stdout",
     "output_type": "stream",
     "text": [
      "\u001b[32m2025-05-30 14:05:52.878\u001b[0m | \u001b[32m\u001b[1mSUCCESS \u001b[0m | \u001b[36moceansoda_ethzv2.data.utils.zarr_utils\u001b[0m:\u001b[36msave_to_zarr\u001b[0m:\u001b[36m329\u001b[0m - \u001b[32m\u001b[1mSaved to: ../data/8D_025/flag_multiobs-8D_025.zarr/2024:2024-11-04 00:00\u001b[0m\n",
      "\u001b[32m2025-05-30 14:05:52.898\u001b[0m | \u001b[1mINFO    \u001b[0m | \u001b[36moceansoda_ethzv2.data.utils.zarr_utils\u001b[0m:\u001b[36msave_to_zarr\u001b[0m:\u001b[36m321\u001b[0m - \u001b[1mStarting to write ../data/8D_025/sss_multiobs_sigma_regrid-8D_025.zarr for time 2024-11-04 00:00:00\u001b[0m\n"
     ]
    },
    {
     "name": "stderr",
     "output_type": "stream",
     "text": [
      "\n",
      "Saving ../data/8D_025/sss_multiobs_sigma_regrid-8D_025.zarr/2024:2024-11-04 00:00: 100%|██████████| 194/194 [00:12<00:00, 15.40it/s]"
     ]
    },
    {
     "name": "stdout",
     "output_type": "stream",
     "text": [
      "\u001b[32m2025-05-30 14:06:05.693\u001b[0m | \u001b[32m\u001b[1mSUCCESS \u001b[0m | \u001b[36moceansoda_ethzv2.data.utils.zarr_utils\u001b[0m:\u001b[36msave_to_zarr\u001b[0m:\u001b[36m329\u001b[0m - \u001b[32m\u001b[1mSaved to: ../data/8D_025/sss_multiobs_sigma_regrid-8D_025.zarr/2024:2024-11-04 00:00\u001b[0m\n"
     ]
    },
    {
     "name": "stderr",
     "output_type": "stream",
     "text": [
      "\n"
     ]
    },
    {
     "name": "stdout",
     "output_type": "stream",
     "text": [
      "\u001b[32m2025-05-30 14:06:10.313\u001b[0m | \u001b[33m\u001b[1mWARNING \u001b[0m | \u001b[36moceansoda_ethzv2.data.utils.checker\u001b[0m:\u001b[36mfix_timestep\u001b[0m:\u001b[36m240\u001b[0m - \u001b[33m\u001b[1mTime fixed. Time coordinate 2024-11-11 12:00:00 did not match expected time 2024-11-12 00:00:00. Adjusted to 2024-11-12 00:00:00.\u001b[0m\n",
      "\u001b[32m2025-05-30 14:06:10.315\u001b[0m | \u001b[33m\u001b[1mWARNING \u001b[0m | \u001b[36moceansoda_ethzv2.data.utils.checker\u001b[0m:\u001b[36madd_time_bnds\u001b[0m:\u001b[36m70\u001b[0m - \u001b[33m\u001b[1mTime bounds are missing, adding them.\u001b[0m\n",
      "\u001b[32m2025-05-30 14:06:10.335\u001b[0m | \u001b[1mINFO    \u001b[0m | \u001b[36moceansoda_ethzv2.data.utils.zarr_utils\u001b[0m:\u001b[36msave_to_zarr\u001b[0m:\u001b[36m321\u001b[0m - \u001b[1mStarting to write ../data/8D_025/sss_multiobs-8D_025.zarr for time 2024-11-12 00:00:00\u001b[0m\n"
     ]
    },
    {
     "name": "stderr",
     "output_type": "stream",
     "text": [
      "Saving ../data/8D_025/sss_multiobs-8D_025.zarr/2024:2024-11-12 00:00: 100%|██████████| 194/194 [00:05<00:00, 36.97it/s]"
     ]
    },
    {
     "name": "stdout",
     "output_type": "stream",
     "text": [
      "\u001b[32m2025-05-30 14:06:15.753\u001b[0m | \u001b[32m\u001b[1mSUCCESS \u001b[0m | \u001b[36moceansoda_ethzv2.data.utils.zarr_utils\u001b[0m:\u001b[36msave_to_zarr\u001b[0m:\u001b[36m329\u001b[0m - \u001b[32m\u001b[1mSaved to: ../data/8D_025/sss_multiobs-8D_025.zarr/2024:2024-11-12 00:00\u001b[0m\n",
      "\u001b[32m2025-05-30 14:06:15.771\u001b[0m | \u001b[1mINFO    \u001b[0m | \u001b[36moceansoda_ethzv2.data.utils.zarr_utils\u001b[0m:\u001b[36msave_to_zarr\u001b[0m:\u001b[36m321\u001b[0m - \u001b[1mStarting to write ../data/8D_025/flag_multiobs-8D_025.zarr for time 2024-11-12 00:00:00\u001b[0m\n"
     ]
    },
    {
     "name": "stderr",
     "output_type": "stream",
     "text": [
      "\n",
      "Saving ../data/8D_025/flag_multiobs-8D_025.zarr/2024:2024-11-12 00:00: 100%|██████████| 20/20 [00:00<00:00, 1866.33it/s]"
     ]
    },
    {
     "name": "stdout",
     "output_type": "stream",
     "text": [
      "\u001b[32m2025-05-30 14:06:15.814\u001b[0m | \u001b[32m\u001b[1mSUCCESS \u001b[0m | \u001b[36moceansoda_ethzv2.data.utils.zarr_utils\u001b[0m:\u001b[36msave_to_zarr\u001b[0m:\u001b[36m329\u001b[0m - \u001b[32m\u001b[1mSaved to: ../data/8D_025/flag_multiobs-8D_025.zarr/2024:2024-11-12 00:00\u001b[0m\n",
      "\u001b[32m2025-05-30 14:06:15.835\u001b[0m | \u001b[1mINFO    \u001b[0m | \u001b[36moceansoda_ethzv2.data.utils.zarr_utils\u001b[0m:\u001b[36msave_to_zarr\u001b[0m:\u001b[36m321\u001b[0m - \u001b[1mStarting to write ../data/8D_025/sss_multiobs_sigma_regrid-8D_025.zarr for time 2024-11-12 00:00:00\u001b[0m\n"
     ]
    },
    {
     "name": "stderr",
     "output_type": "stream",
     "text": [
      "\n",
      "Saving ../data/8D_025/sss_multiobs_sigma_regrid-8D_025.zarr/2024:2024-11-12 00:00: 100%|██████████| 194/194 [00:16<00:00, 11.85it/s] "
     ]
    },
    {
     "name": "stdout",
     "output_type": "stream",
     "text": [
      "\u001b[32m2025-05-30 14:06:32.435\u001b[0m | \u001b[32m\u001b[1mSUCCESS \u001b[0m | \u001b[36moceansoda_ethzv2.data.utils.zarr_utils\u001b[0m:\u001b[36msave_to_zarr\u001b[0m:\u001b[36m329\u001b[0m - \u001b[32m\u001b[1mSaved to: ../data/8D_025/sss_multiobs_sigma_regrid-8D_025.zarr/2024:2024-11-12 00:00\u001b[0m\n"
     ]
    },
    {
     "name": "stderr",
     "output_type": "stream",
     "text": [
      "\n"
     ]
    },
    {
     "name": "stdout",
     "output_type": "stream",
     "text": [
      "\u001b[32m2025-05-30 14:06:36.443\u001b[0m | \u001b[33m\u001b[1mWARNING \u001b[0m | \u001b[36moceansoda_ethzv2.data.utils.checker\u001b[0m:\u001b[36mfix_timestep\u001b[0m:\u001b[36m240\u001b[0m - \u001b[33m\u001b[1mTime fixed. Time coordinate 2024-11-19 12:00:00 did not match expected time 2024-11-20 00:00:00. Adjusted to 2024-11-20 00:00:00.\u001b[0m\n",
      "\u001b[32m2025-05-30 14:06:36.445\u001b[0m | \u001b[33m\u001b[1mWARNING \u001b[0m | \u001b[36moceansoda_ethzv2.data.utils.checker\u001b[0m:\u001b[36madd_time_bnds\u001b[0m:\u001b[36m70\u001b[0m - \u001b[33m\u001b[1mTime bounds are missing, adding them.\u001b[0m\n",
      "\u001b[32m2025-05-30 14:06:36.464\u001b[0m | \u001b[1mINFO    \u001b[0m | \u001b[36moceansoda_ethzv2.data.utils.zarr_utils\u001b[0m:\u001b[36msave_to_zarr\u001b[0m:\u001b[36m321\u001b[0m - \u001b[1mStarting to write ../data/8D_025/sss_multiobs-8D_025.zarr for time 2024-11-20 00:00:00\u001b[0m\n"
     ]
    },
    {
     "name": "stderr",
     "output_type": "stream",
     "text": [
      "Saving ../data/8D_025/sss_multiobs-8D_025.zarr/2024:2024-11-20 00:00: 100%|██████████| 194/194 [00:05<00:00, 34.59it/s]"
     ]
    },
    {
     "name": "stdout",
     "output_type": "stream",
     "text": [
      "\u001b[32m2025-05-30 14:06:42.240\u001b[0m | \u001b[32m\u001b[1mSUCCESS \u001b[0m | \u001b[36moceansoda_ethzv2.data.utils.zarr_utils\u001b[0m:\u001b[36msave_to_zarr\u001b[0m:\u001b[36m329\u001b[0m - \u001b[32m\u001b[1mSaved to: ../data/8D_025/sss_multiobs-8D_025.zarr/2024:2024-11-20 00:00\u001b[0m\n",
      "\u001b[32m2025-05-30 14:06:42.259\u001b[0m | \u001b[1mINFO    \u001b[0m | \u001b[36moceansoda_ethzv2.data.utils.zarr_utils\u001b[0m:\u001b[36msave_to_zarr\u001b[0m:\u001b[36m321\u001b[0m - \u001b[1mStarting to write ../data/8D_025/flag_multiobs-8D_025.zarr for time 2024-11-20 00:00:00\u001b[0m\n"
     ]
    },
    {
     "name": "stderr",
     "output_type": "stream",
     "text": [
      "\n",
      "Saving ../data/8D_025/flag_multiobs-8D_025.zarr/2024:2024-11-20 00:00: 100%|██████████| 20/20 [00:00<00:00, 2491.86it/s]"
     ]
    },
    {
     "name": "stdout",
     "output_type": "stream",
     "text": [
      "\u001b[32m2025-05-30 14:06:42.319\u001b[0m | \u001b[32m\u001b[1mSUCCESS \u001b[0m | \u001b[36moceansoda_ethzv2.data.utils.zarr_utils\u001b[0m:\u001b[36msave_to_zarr\u001b[0m:\u001b[36m329\u001b[0m - \u001b[32m\u001b[1mSaved to: ../data/8D_025/flag_multiobs-8D_025.zarr/2024:2024-11-20 00:00\u001b[0m\n",
      "\u001b[32m2025-05-30 14:06:42.340\u001b[0m | \u001b[1mINFO    \u001b[0m | \u001b[36moceansoda_ethzv2.data.utils.zarr_utils\u001b[0m:\u001b[36msave_to_zarr\u001b[0m:\u001b[36m321\u001b[0m - \u001b[1mStarting to write ../data/8D_025/sss_multiobs_sigma_regrid-8D_025.zarr for time 2024-11-20 00:00:00\u001b[0m\n"
     ]
    },
    {
     "name": "stderr",
     "output_type": "stream",
     "text": [
      "\n",
      "Saving ../data/8D_025/sss_multiobs_sigma_regrid-8D_025.zarr/2024:2024-11-20 00:00: 100%|██████████| 194/194 [00:16<00:00, 11.89it/s]"
     ]
    },
    {
     "name": "stdout",
     "output_type": "stream",
     "text": [
      "\u001b[32m2025-05-30 14:06:58.874\u001b[0m | \u001b[32m\u001b[1mSUCCESS \u001b[0m | \u001b[36moceansoda_ethzv2.data.utils.zarr_utils\u001b[0m:\u001b[36msave_to_zarr\u001b[0m:\u001b[36m329\u001b[0m - \u001b[32m\u001b[1mSaved to: ../data/8D_025/sss_multiobs_sigma_regrid-8D_025.zarr/2024:2024-11-20 00:00\u001b[0m\n"
     ]
    },
    {
     "name": "stderr",
     "output_type": "stream",
     "text": [
      "\n"
     ]
    },
    {
     "name": "stdout",
     "output_type": "stream",
     "text": [
      "\u001b[32m2025-05-30 14:07:06.472\u001b[0m | \u001b[33m\u001b[1mWARNING \u001b[0m | \u001b[36moceansoda_ethzv2.data.utils.checker\u001b[0m:\u001b[36mfix_timestep\u001b[0m:\u001b[36m240\u001b[0m - \u001b[33m\u001b[1mTime fixed. Time coordinate 2024-11-27 12:00:00 did not match expected time 2024-11-28 00:00:00. Adjusted to 2024-11-28 00:00:00.\u001b[0m\n",
      "\u001b[32m2025-05-30 14:07:06.474\u001b[0m | \u001b[33m\u001b[1mWARNING \u001b[0m | \u001b[36moceansoda_ethzv2.data.utils.checker\u001b[0m:\u001b[36madd_time_bnds\u001b[0m:\u001b[36m70\u001b[0m - \u001b[33m\u001b[1mTime bounds are missing, adding them.\u001b[0m\n",
      "\u001b[32m2025-05-30 14:07:06.494\u001b[0m | \u001b[1mINFO    \u001b[0m | \u001b[36moceansoda_ethzv2.data.utils.zarr_utils\u001b[0m:\u001b[36msave_to_zarr\u001b[0m:\u001b[36m321\u001b[0m - \u001b[1mStarting to write ../data/8D_025/sss_multiobs-8D_025.zarr for time 2024-11-28 00:00:00\u001b[0m\n"
     ]
    },
    {
     "name": "stderr",
     "output_type": "stream",
     "text": [
      "Saving ../data/8D_025/sss_multiobs-8D_025.zarr/2024:2024-11-28 00:00: 100%|██████████| 194/194 [00:03<00:00, 51.87it/s] "
     ]
    },
    {
     "name": "stdout",
     "output_type": "stream",
     "text": [
      "\u001b[32m2025-05-30 14:07:10.395\u001b[0m | \u001b[32m\u001b[1mSUCCESS \u001b[0m | \u001b[36moceansoda_ethzv2.data.utils.zarr_utils\u001b[0m:\u001b[36msave_to_zarr\u001b[0m:\u001b[36m329\u001b[0m - \u001b[32m\u001b[1mSaved to: ../data/8D_025/sss_multiobs-8D_025.zarr/2024:2024-11-28 00:00\u001b[0m\n"
     ]
    },
    {
     "name": "stderr",
     "output_type": "stream",
     "text": [
      "\n"
     ]
    },
    {
     "name": "stdout",
     "output_type": "stream",
     "text": [
      "\u001b[32m2025-05-30 14:07:10.414\u001b[0m | \u001b[1mINFO    \u001b[0m | \u001b[36moceansoda_ethzv2.data.utils.zarr_utils\u001b[0m:\u001b[36msave_to_zarr\u001b[0m:\u001b[36m321\u001b[0m - \u001b[1mStarting to write ../data/8D_025/flag_multiobs-8D_025.zarr for time 2024-11-28 00:00:00\u001b[0m\n"
     ]
    },
    {
     "name": "stderr",
     "output_type": "stream",
     "text": [
      "Saving ../data/8D_025/flag_multiobs-8D_025.zarr/2024:2024-11-28 00:00: 100%|██████████| 20/20 [00:00<00:00, 1792.44it/s]"
     ]
    },
    {
     "name": "stdout",
     "output_type": "stream",
     "text": [
      "\u001b[32m2025-05-30 14:07:10.457\u001b[0m | \u001b[32m\u001b[1mSUCCESS \u001b[0m | \u001b[36moceansoda_ethzv2.data.utils.zarr_utils\u001b[0m:\u001b[36msave_to_zarr\u001b[0m:\u001b[36m329\u001b[0m - \u001b[32m\u001b[1mSaved to: ../data/8D_025/flag_multiobs-8D_025.zarr/2024:2024-11-28 00:00\u001b[0m\n",
      "\u001b[32m2025-05-30 14:07:10.478\u001b[0m | \u001b[1mINFO    \u001b[0m | \u001b[36moceansoda_ethzv2.data.utils.zarr_utils\u001b[0m:\u001b[36msave_to_zarr\u001b[0m:\u001b[36m321\u001b[0m - \u001b[1mStarting to write ../data/8D_025/sss_multiobs_sigma_regrid-8D_025.zarr for time 2024-11-28 00:00:00\u001b[0m\n"
     ]
    },
    {
     "name": "stderr",
     "output_type": "stream",
     "text": [
      "\n",
      "Saving ../data/8D_025/sss_multiobs_sigma_regrid-8D_025.zarr/2024:2024-11-28 00:00: 100%|██████████| 194/194 [00:12<00:00, 15.94it/s]"
     ]
    },
    {
     "name": "stdout",
     "output_type": "stream",
     "text": [
      "\u001b[32m2025-05-30 14:07:22.855\u001b[0m | \u001b[32m\u001b[1mSUCCESS \u001b[0m | \u001b[36moceansoda_ethzv2.data.utils.zarr_utils\u001b[0m:\u001b[36msave_to_zarr\u001b[0m:\u001b[36m329\u001b[0m - \u001b[32m\u001b[1mSaved to: ../data/8D_025/sss_multiobs_sigma_regrid-8D_025.zarr/2024:2024-11-28 00:00\u001b[0m\n"
     ]
    },
    {
     "name": "stderr",
     "output_type": "stream",
     "text": [
      "\n"
     ]
    },
    {
     "name": "stdout",
     "output_type": "stream",
     "text": [
      "\u001b[32m2025-05-30 14:07:30.981\u001b[0m | \u001b[33m\u001b[1mWARNING \u001b[0m | \u001b[36moceansoda_ethzv2.data.utils.checker\u001b[0m:\u001b[36mfix_timestep\u001b[0m:\u001b[36m240\u001b[0m - \u001b[33m\u001b[1mTime fixed. Time coordinate 2024-12-05 12:00:00 did not match expected time 2024-12-06 00:00:00. Adjusted to 2024-12-06 00:00:00.\u001b[0m\n",
      "\u001b[32m2025-05-30 14:07:30.982\u001b[0m | \u001b[33m\u001b[1mWARNING \u001b[0m | \u001b[36moceansoda_ethzv2.data.utils.checker\u001b[0m:\u001b[36madd_time_bnds\u001b[0m:\u001b[36m70\u001b[0m - \u001b[33m\u001b[1mTime bounds are missing, adding them.\u001b[0m\n",
      "\u001b[32m2025-05-30 14:07:31.003\u001b[0m | \u001b[1mINFO    \u001b[0m | \u001b[36moceansoda_ethzv2.data.utils.zarr_utils\u001b[0m:\u001b[36msave_to_zarr\u001b[0m:\u001b[36m321\u001b[0m - \u001b[1mStarting to write ../data/8D_025/sss_multiobs-8D_025.zarr for time 2024-12-06 00:00:00\u001b[0m\n"
     ]
    },
    {
     "name": "stderr",
     "output_type": "stream",
     "text": [
      "Saving ../data/8D_025/sss_multiobs-8D_025.zarr/2024:2024-12-06 00:00: 100%|██████████| 194/194 [00:04<00:00, 45.05it/s]"
     ]
    },
    {
     "name": "stdout",
     "output_type": "stream",
     "text": [
      "\u001b[32m2025-05-30 14:07:35.483\u001b[0m | \u001b[32m\u001b[1mSUCCESS \u001b[0m | \u001b[36moceansoda_ethzv2.data.utils.zarr_utils\u001b[0m:\u001b[36msave_to_zarr\u001b[0m:\u001b[36m329\u001b[0m - \u001b[32m\u001b[1mSaved to: ../data/8D_025/sss_multiobs-8D_025.zarr/2024:2024-12-06 00:00\u001b[0m\n",
      "\u001b[32m2025-05-30 14:07:35.502\u001b[0m | \u001b[1mINFO    \u001b[0m | \u001b[36moceansoda_ethzv2.data.utils.zarr_utils\u001b[0m:\u001b[36msave_to_zarr\u001b[0m:\u001b[36m321\u001b[0m - \u001b[1mStarting to write ../data/8D_025/flag_multiobs-8D_025.zarr for time 2024-12-06 00:00:00\u001b[0m\n"
     ]
    },
    {
     "name": "stderr",
     "output_type": "stream",
     "text": [
      "\n",
      "Saving ../data/8D_025/flag_multiobs-8D_025.zarr/2024:2024-12-06 00:00: 100%|██████████| 20/20 [00:00<00:00, 1814.89it/s]"
     ]
    },
    {
     "name": "stdout",
     "output_type": "stream",
     "text": [
      "\u001b[32m2025-05-30 14:07:35.543\u001b[0m | \u001b[32m\u001b[1mSUCCESS \u001b[0m | \u001b[36moceansoda_ethzv2.data.utils.zarr_utils\u001b[0m:\u001b[36msave_to_zarr\u001b[0m:\u001b[36m329\u001b[0m - \u001b[32m\u001b[1mSaved to: ../data/8D_025/flag_multiobs-8D_025.zarr/2024:2024-12-06 00:00\u001b[0m\n",
      "\u001b[32m2025-05-30 14:07:35.565\u001b[0m | \u001b[1mINFO    \u001b[0m | \u001b[36moceansoda_ethzv2.data.utils.zarr_utils\u001b[0m:\u001b[36msave_to_zarr\u001b[0m:\u001b[36m321\u001b[0m - \u001b[1mStarting to write ../data/8D_025/sss_multiobs_sigma_regrid-8D_025.zarr for time 2024-12-06 00:00:00\u001b[0m\n"
     ]
    },
    {
     "name": "stderr",
     "output_type": "stream",
     "text": [
      "\n",
      "Saving ../data/8D_025/sss_multiobs_sigma_regrid-8D_025.zarr/2024:2024-12-06 00:00: 100%|██████████| 194/194 [00:16<00:00, 11.71it/s]"
     ]
    },
    {
     "name": "stdout",
     "output_type": "stream",
     "text": [
      "\u001b[32m2025-05-30 14:07:52.342\u001b[0m | \u001b[32m\u001b[1mSUCCESS \u001b[0m | \u001b[36moceansoda_ethzv2.data.utils.zarr_utils\u001b[0m:\u001b[36msave_to_zarr\u001b[0m:\u001b[36m329\u001b[0m - \u001b[32m\u001b[1mSaved to: ../data/8D_025/sss_multiobs_sigma_regrid-8D_025.zarr/2024:2024-12-06 00:00\u001b[0m\n"
     ]
    },
    {
     "name": "stderr",
     "output_type": "stream",
     "text": [
      "\n"
     ]
    },
    {
     "name": "stdout",
     "output_type": "stream",
     "text": [
      "\u001b[32m2025-05-30 14:07:59.942\u001b[0m | \u001b[33m\u001b[1mWARNING \u001b[0m | \u001b[36moceansoda_ethzv2.data.utils.checker\u001b[0m:\u001b[36mfix_timestep\u001b[0m:\u001b[36m240\u001b[0m - \u001b[33m\u001b[1mTime fixed. Time coordinate 2024-12-13 12:00:00 did not match expected time 2024-12-14 00:00:00. Adjusted to 2024-12-14 00:00:00.\u001b[0m\n",
      "\u001b[32m2025-05-30 14:07:59.944\u001b[0m | \u001b[33m\u001b[1mWARNING \u001b[0m | \u001b[36moceansoda_ethzv2.data.utils.checker\u001b[0m:\u001b[36madd_time_bnds\u001b[0m:\u001b[36m70\u001b[0m - \u001b[33m\u001b[1mTime bounds are missing, adding them.\u001b[0m\n",
      "\u001b[32m2025-05-30 14:07:59.969\u001b[0m | \u001b[1mINFO    \u001b[0m | \u001b[36moceansoda_ethzv2.data.utils.zarr_utils\u001b[0m:\u001b[36msave_to_zarr\u001b[0m:\u001b[36m321\u001b[0m - \u001b[1mStarting to write ../data/8D_025/sss_multiobs-8D_025.zarr for time 2024-12-14 00:00:00\u001b[0m\n"
     ]
    },
    {
     "name": "stderr",
     "output_type": "stream",
     "text": [
      "Saving ../data/8D_025/sss_multiobs-8D_025.zarr/2024:2024-12-14 00:00: 100%|██████████| 194/194 [00:04<00:00, 45.36it/s] "
     ]
    },
    {
     "name": "stdout",
     "output_type": "stream",
     "text": [
      "\u001b[32m2025-05-30 14:08:04.422\u001b[0m | \u001b[32m\u001b[1mSUCCESS \u001b[0m | \u001b[36moceansoda_ethzv2.data.utils.zarr_utils\u001b[0m:\u001b[36msave_to_zarr\u001b[0m:\u001b[36m329\u001b[0m - \u001b[32m\u001b[1mSaved to: ../data/8D_025/sss_multiobs-8D_025.zarr/2024:2024-12-14 00:00\u001b[0m\n",
      "\u001b[32m2025-05-30 14:08:04.482\u001b[0m | \u001b[1mINFO    \u001b[0m | \u001b[36moceansoda_ethzv2.data.utils.zarr_utils\u001b[0m:\u001b[36msave_to_zarr\u001b[0m:\u001b[36m321\u001b[0m - \u001b[1mStarting to write ../data/8D_025/flag_multiobs-8D_025.zarr for time 2024-12-14 00:00:00\u001b[0m\n"
     ]
    },
    {
     "name": "stderr",
     "output_type": "stream",
     "text": [
      "\n",
      "Saving ../data/8D_025/flag_multiobs-8D_025.zarr/2024:2024-12-14 00:00: 100%|██████████| 20/20 [00:00<00:00, 1806.33it/s]"
     ]
    },
    {
     "name": "stdout",
     "output_type": "stream",
     "text": [
      "\u001b[32m2025-05-30 14:08:04.525\u001b[0m | \u001b[32m\u001b[1mSUCCESS \u001b[0m | \u001b[36moceansoda_ethzv2.data.utils.zarr_utils\u001b[0m:\u001b[36msave_to_zarr\u001b[0m:\u001b[36m329\u001b[0m - \u001b[32m\u001b[1mSaved to: ../data/8D_025/flag_multiobs-8D_025.zarr/2024:2024-12-14 00:00\u001b[0m\n",
      "\u001b[32m2025-05-30 14:08:04.548\u001b[0m | \u001b[1mINFO    \u001b[0m | \u001b[36moceansoda_ethzv2.data.utils.zarr_utils\u001b[0m:\u001b[36msave_to_zarr\u001b[0m:\u001b[36m321\u001b[0m - \u001b[1mStarting to write ../data/8D_025/sss_multiobs_sigma_regrid-8D_025.zarr for time 2024-12-14 00:00:00\u001b[0m\n"
     ]
    },
    {
     "name": "stderr",
     "output_type": "stream",
     "text": [
      "\n",
      "Saving ../data/8D_025/sss_multiobs_sigma_regrid-8D_025.zarr/2024:2024-12-14 00:00: 100%|██████████| 194/194 [00:16<00:00, 11.57it/s]"
     ]
    },
    {
     "name": "stdout",
     "output_type": "stream",
     "text": [
      "\u001b[32m2025-05-30 14:08:21.519\u001b[0m | \u001b[32m\u001b[1mSUCCESS \u001b[0m | \u001b[36moceansoda_ethzv2.data.utils.zarr_utils\u001b[0m:\u001b[36msave_to_zarr\u001b[0m:\u001b[36m329\u001b[0m - \u001b[32m\u001b[1mSaved to: ../data/8D_025/sss_multiobs_sigma_regrid-8D_025.zarr/2024:2024-12-14 00:00\u001b[0m\n"
     ]
    },
    {
     "name": "stderr",
     "output_type": "stream",
     "text": [
      "\n"
     ]
    },
    {
     "name": "stdout",
     "output_type": "stream",
     "text": [
      "\u001b[32m2025-05-30 14:08:29.181\u001b[0m | \u001b[33m\u001b[1mWARNING \u001b[0m | \u001b[36moceansoda_ethzv2.data.utils.checker\u001b[0m:\u001b[36mfix_timestep\u001b[0m:\u001b[36m240\u001b[0m - \u001b[33m\u001b[1mTime fixed. Time coordinate 2024-12-21 12:00:00 did not match expected time 2024-12-22 00:00:00. Adjusted to 2024-12-22 00:00:00.\u001b[0m\n",
      "\u001b[32m2025-05-30 14:08:29.183\u001b[0m | \u001b[33m\u001b[1mWARNING \u001b[0m | \u001b[36moceansoda_ethzv2.data.utils.checker\u001b[0m:\u001b[36madd_time_bnds\u001b[0m:\u001b[36m70\u001b[0m - \u001b[33m\u001b[1mTime bounds are missing, adding them.\u001b[0m\n",
      "\u001b[32m2025-05-30 14:08:29.218\u001b[0m | \u001b[1mINFO    \u001b[0m | \u001b[36moceansoda_ethzv2.data.utils.zarr_utils\u001b[0m:\u001b[36msave_to_zarr\u001b[0m:\u001b[36m321\u001b[0m - \u001b[1mStarting to write ../data/8D_025/sss_multiobs-8D_025.zarr for time 2024-12-22 00:00:00\u001b[0m\n"
     ]
    },
    {
     "name": "stderr",
     "output_type": "stream",
     "text": [
      "Saving ../data/8D_025/sss_multiobs-8D_025.zarr/2024:2024-12-22 00:00: 100%|██████████| 194/194 [00:05<00:00, 34.77it/s]"
     ]
    },
    {
     "name": "stdout",
     "output_type": "stream",
     "text": [
      "\u001b[32m2025-05-30 14:08:34.956\u001b[0m | \u001b[32m\u001b[1mSUCCESS \u001b[0m | \u001b[36moceansoda_ethzv2.data.utils.zarr_utils\u001b[0m:\u001b[36msave_to_zarr\u001b[0m:\u001b[36m329\u001b[0m - \u001b[32m\u001b[1mSaved to: ../data/8D_025/sss_multiobs-8D_025.zarr/2024:2024-12-22 00:00\u001b[0m\n"
     ]
    },
    {
     "name": "stderr",
     "output_type": "stream",
     "text": [
      "\n"
     ]
    },
    {
     "name": "stdout",
     "output_type": "stream",
     "text": [
      "\u001b[32m2025-05-30 14:08:34.975\u001b[0m | \u001b[1mINFO    \u001b[0m | \u001b[36moceansoda_ethzv2.data.utils.zarr_utils\u001b[0m:\u001b[36msave_to_zarr\u001b[0m:\u001b[36m321\u001b[0m - \u001b[1mStarting to write ../data/8D_025/flag_multiobs-8D_025.zarr for time 2024-12-22 00:00:00\u001b[0m\n"
     ]
    },
    {
     "name": "stderr",
     "output_type": "stream",
     "text": [
      "Saving ../data/8D_025/flag_multiobs-8D_025.zarr/2024:2024-12-22 00:00: 100%|██████████| 20/20 [00:00<00:00, 1914.81it/s]"
     ]
    },
    {
     "name": "stdout",
     "output_type": "stream",
     "text": [
      "\u001b[32m2025-05-30 14:08:35.017\u001b[0m | \u001b[32m\u001b[1mSUCCESS \u001b[0m | \u001b[36moceansoda_ethzv2.data.utils.zarr_utils\u001b[0m:\u001b[36msave_to_zarr\u001b[0m:\u001b[36m329\u001b[0m - \u001b[32m\u001b[1mSaved to: ../data/8D_025/flag_multiobs-8D_025.zarr/2024:2024-12-22 00:00\u001b[0m\n",
      "\u001b[32m2025-05-30 14:08:35.039\u001b[0m | \u001b[1mINFO    \u001b[0m | \u001b[36moceansoda_ethzv2.data.utils.zarr_utils\u001b[0m:\u001b[36msave_to_zarr\u001b[0m:\u001b[36m321\u001b[0m - \u001b[1mStarting to write ../data/8D_025/sss_multiobs_sigma_regrid-8D_025.zarr for time 2024-12-22 00:00:00\u001b[0m\n"
     ]
    },
    {
     "name": "stderr",
     "output_type": "stream",
     "text": [
      "\n",
      "Saving ../data/8D_025/sss_multiobs_sigma_regrid-8D_025.zarr/2024:2024-12-22 00:00: 100%|██████████| 194/194 [00:16<00:00, 11.52it/s]"
     ]
    },
    {
     "name": "stdout",
     "output_type": "stream",
     "text": [
      "\u001b[32m2025-05-30 14:08:52.083\u001b[0m | \u001b[32m\u001b[1mSUCCESS \u001b[0m | \u001b[36moceansoda_ethzv2.data.utils.zarr_utils\u001b[0m:\u001b[36msave_to_zarr\u001b[0m:\u001b[36m329\u001b[0m - \u001b[32m\u001b[1mSaved to: ../data/8D_025/sss_multiobs_sigma_regrid-8D_025.zarr/2024:2024-12-22 00:00\u001b[0m\n"
     ]
    },
    {
     "name": "stderr",
     "output_type": "stream",
     "text": [
      "\n"
     ]
    },
    {
     "name": "stdout",
     "output_type": "stream",
     "text": [
      "\u001b[32m2025-05-30 14:08:56.243\u001b[0m | \u001b[33m\u001b[1mWARNING \u001b[0m | \u001b[36moceansoda_ethzv2.data.utils.checker\u001b[0m:\u001b[36mfix_timestep\u001b[0m:\u001b[36m240\u001b[0m - \u001b[33m\u001b[1mTime fixed. Time coordinate 2024-12-28 12:00:00 did not match expected time 2024-12-29 00:00:00. Adjusted to 2024-12-29 00:00:00.\u001b[0m\n",
      "\u001b[32m2025-05-30 14:08:56.245\u001b[0m | \u001b[33m\u001b[1mWARNING \u001b[0m | \u001b[36moceansoda_ethzv2.data.utils.checker\u001b[0m:\u001b[36madd_time_bnds\u001b[0m:\u001b[36m70\u001b[0m - \u001b[33m\u001b[1mTime bounds are missing, adding them.\u001b[0m\n",
      "\u001b[32m2025-05-30 14:08:56.281\u001b[0m | \u001b[1mINFO    \u001b[0m | \u001b[36moceansoda_ethzv2.data.utils.zarr_utils\u001b[0m:\u001b[36msave_to_zarr\u001b[0m:\u001b[36m321\u001b[0m - \u001b[1mStarting to write ../data/8D_025/sss_multiobs-8D_025.zarr for time 2024-12-29 00:00:00\u001b[0m\n"
     ]
    },
    {
     "name": "stderr",
     "output_type": "stream",
     "text": [
      "Saving ../data/8D_025/sss_multiobs-8D_025.zarr/2024:2024-12-29 00:00: 100%|██████████| 158/158 [00:04<00:00, 32.89it/s]"
     ]
    },
    {
     "name": "stdout",
     "output_type": "stream",
     "text": [
      "\u001b[32m2025-05-30 14:09:01.288\u001b[0m | \u001b[32m\u001b[1mSUCCESS \u001b[0m | \u001b[36moceansoda_ethzv2.data.utils.zarr_utils\u001b[0m:\u001b[36msave_to_zarr\u001b[0m:\u001b[36m329\u001b[0m - \u001b[32m\u001b[1mSaved to: ../data/8D_025/sss_multiobs-8D_025.zarr/2024:2024-12-29 00:00\u001b[0m\n",
      "\u001b[32m2025-05-30 14:09:01.319\u001b[0m | \u001b[1mINFO    \u001b[0m | \u001b[36moceansoda_ethzv2.data.utils.zarr_utils\u001b[0m:\u001b[36msave_to_zarr\u001b[0m:\u001b[36m321\u001b[0m - \u001b[1mStarting to write ../data/8D_025/flag_multiobs-8D_025.zarr for time 2024-12-29 00:00:00\u001b[0m\n"
     ]
    },
    {
     "name": "stderr",
     "output_type": "stream",
     "text": [
      "\n",
      "Saving ../data/8D_025/flag_multiobs-8D_025.zarr/2024:2024-12-29 00:00: 100%|██████████| 20/20 [00:00<00:00, 1728.33it/s]"
     ]
    },
    {
     "name": "stdout",
     "output_type": "stream",
     "text": [
      "\u001b[32m2025-05-30 14:09:01.378\u001b[0m | \u001b[32m\u001b[1mSUCCESS \u001b[0m | \u001b[36moceansoda_ethzv2.data.utils.zarr_utils\u001b[0m:\u001b[36msave_to_zarr\u001b[0m:\u001b[36m329\u001b[0m - \u001b[32m\u001b[1mSaved to: ../data/8D_025/flag_multiobs-8D_025.zarr/2024:2024-12-29 00:00\u001b[0m\n",
      "\u001b[32m2025-05-30 14:09:01.400\u001b[0m | \u001b[1mINFO    \u001b[0m | \u001b[36moceansoda_ethzv2.data.utils.zarr_utils\u001b[0m:\u001b[36msave_to_zarr\u001b[0m:\u001b[36m321\u001b[0m - \u001b[1mStarting to write ../data/8D_025/sss_multiobs_sigma_regrid-8D_025.zarr for time 2024-12-29 00:00:00\u001b[0m\n"
     ]
    },
    {
     "name": "stderr",
     "output_type": "stream",
     "text": [
      "\n",
      "Saving ../data/8D_025/sss_multiobs_sigma_regrid-8D_025.zarr/2024:2024-12-29 00:00: 100%|██████████| 158/158 [00:12<00:00, 12.37it/s]"
     ]
    },
    {
     "name": "stdout",
     "output_type": "stream",
     "text": [
      "\u001b[32m2025-05-30 14:09:18.008\u001b[0m | \u001b[32m\u001b[1mSUCCESS \u001b[0m | \u001b[36moceansoda_ethzv2.data.utils.zarr_utils\u001b[0m:\u001b[36msave_to_zarr\u001b[0m:\u001b[36m329\u001b[0m - \u001b[32m\u001b[1mSaved to: ../data/8D_025/sss_multiobs_sigma_regrid-8D_025.zarr/2024:2024-12-29 00:00\u001b[0m\n"
     ]
    },
    {
     "name": "stderr",
     "output_type": "stream",
     "text": [
      "\n"
     ]
    }
   ],
   "source": [
    "t0 = 2024\n",
    "t1 = 2025\n",
    "\n",
    "for year in range(t0, t1):\n",
    "    for index in range(0, 46):\n",
    "        for key in datasets:\n",
    "            dataset = datasets[key]\n",
    "            try:\n",
    "                dataset.get_timestep_unprocessed(year=year, index=index).persist()\n",
    "                dataset.write_timestep_to_disk(year=year, index=index, progress=True)\n",
    "            except Exception as e:\n",
    "                logger.error(str(e))\n",
    "                continue"
   ]
  },
  {
   "cell_type": "markdown",
   "metadata": {
    "execution": {
     "iopub.execute_input": "2025-05-28T11:54:01.863920Z",
     "iopub.status.busy": "2025-05-28T11:54:01.862166Z",
     "iopub.status.idle": "2025-05-28T11:54:01.872442Z",
     "shell.execute_reply": "2025-05-28T11:54:01.870353Z",
     "shell.execute_reply.started": "2025-05-28T11:54:01.863841Z"
    }
   },
   "source": [
    "# Processing data\n",
    "\n",
    "## Chlorophyll"
   ]
  },
  {
   "cell_type": "code",
   "execution_count": 44,
   "metadata": {
    "execution": {
     "iopub.execute_input": "2025-05-30T10:16:36.825593Z",
     "iopub.status.busy": "2025-05-30T10:16:36.824367Z",
     "iopub.status.idle": "2025-05-30T10:16:37.748170Z",
     "shell.execute_reply": "2025-05-30T10:16:37.745927Z",
     "shell.execute_reply.started": "2025-05-30T10:16:36.825520Z"
    }
   },
   "outputs": [],
   "source": [
    "ds_clim = xr.open_zarr('/home/gregorl/projects/OceanSODA-ETHZ/data-in/inference/clims_8daily_25km_v01.zarr/')\n",
    "ds_chl = xr.open_zarr('../data/8D_025/chl_occci-8D_025.zarr/2024', consolidated=False)\n",
    "da_chl = np.log10(ds_chl.chl_occci).persist()"
   ]
  },
  {
   "cell_type": "code",
   "execution_count": 45,
   "metadata": {
    "execution": {
     "iopub.execute_input": "2025-05-30T10:16:40.736781Z",
     "iopub.status.busy": "2025-05-30T10:16:40.736154Z",
     "iopub.status.idle": "2025-05-30T10:16:40.787000Z",
     "shell.execute_reply": "2025-05-30T10:16:40.785229Z",
     "shell.execute_reply.started": "2025-05-30T10:16:40.736731Z"
    }
   },
   "outputs": [],
   "source": [
    "chl_filler = ocn.feature_engineering.ChlorophyllFillingSVD(clim=ds_clim.chl_filled)"
   ]
  },
  {
   "cell_type": "code",
   "execution_count": null,
   "metadata": {
    "scrolled": true
   },
   "outputs": [],
   "source": [
    "ds_chl_filled = chl_filler(da_chl)\n",
    "units = da_chl.attrs['units']\n",
    "ds_chl_filled.chl_occci_filled.attrs['units'] = f\"log10{units}\""
   ]
  },
  {
   "cell_type": "code",
   "execution_count": 58,
   "metadata": {
    "execution": {
     "iopub.execute_input": "2025-05-30T10:28:09.428505Z",
     "iopub.status.busy": "2025-05-30T10:28:09.427895Z",
     "iopub.status.idle": "2025-05-30T10:28:21.835095Z",
     "shell.execute_reply": "2025-05-30T10:28:21.832905Z",
     "shell.execute_reply.started": "2025-05-30T10:28:09.428452Z"
    },
    "scrolled": true
   },
   "outputs": [
    {
     "name": "stdout",
     "output_type": "stream",
     "text": [
      "\u001b[32m2025-05-30 12:28:09.488\u001b[0m | \u001b[1mINFO    \u001b[0m | \u001b[36moceansoda_ethzv2.data.utils.zarr_utils\u001b[0m:\u001b[36msave_to_zarr\u001b[0m:\u001b[36m321\u001b[0m - \u001b[1mStarting to write ../data/8D_025/chl_occci_filled-8D_025.zarr for time 2024-01-05 00:00:00\u001b[0m\n"
     ]
    },
    {
     "name": "stderr",
     "output_type": "stream",
     "text": [
      "Saving ../data/8D_025/chl_occci_filled-8D_025.zarr/2024:2024-01-05 00:00: 100%|██████████| 41/41 [00:00<00:00, 809.94it/s]"
     ]
    },
    {
     "name": "stdout",
     "output_type": "stream",
     "text": [
      "\u001b[32m2025-05-30 12:28:09.843\u001b[0m | \u001b[32m\u001b[1mSUCCESS \u001b[0m | \u001b[36moceansoda_ethzv2.data.utils.zarr_utils\u001b[0m:\u001b[36msave_to_zarr\u001b[0m:\u001b[36m329\u001b[0m - \u001b[32m\u001b[1mSaved to: ../data/8D_025/chl_occci_filled-8D_025.zarr/2024:2024-01-05 00:00\u001b[0m\n",
      "\u001b[32m2025-05-30 12:28:09.849\u001b[0m | \u001b[1mINFO    \u001b[0m | \u001b[36moceansoda_ethzv2.data.utils.zarr_utils\u001b[0m:\u001b[36msave_to_zarr\u001b[0m:\u001b[36m321\u001b[0m - \u001b[1mStarting to write ../data/8D_025/chl_occci_filled_flag-8D_025.zarr for time 2024-01-05 00:00:00\u001b[0m\n"
     ]
    },
    {
     "name": "stderr",
     "output_type": "stream",
     "text": [
      "\n",
      "Saving ../data/8D_025/chl_occci_filled_flag-8D_025.zarr/2024:2024-01-05 00:00: 100%|██████████| 41/41 [00:00<00:00, 546.94it/s]"
     ]
    },
    {
     "name": "stdout",
     "output_type": "stream",
     "text": [
      "\u001b[32m2025-05-30 12:28:10.049\u001b[0m | \u001b[32m\u001b[1mSUCCESS \u001b[0m | \u001b[36moceansoda_ethzv2.data.utils.zarr_utils\u001b[0m:\u001b[36msave_to_zarr\u001b[0m:\u001b[36m329\u001b[0m - \u001b[32m\u001b[1mSaved to: ../data/8D_025/chl_occci_filled_flag-8D_025.zarr/2024:2024-01-05 00:00\u001b[0m\n",
      "\u001b[32m2025-05-30 12:28:10.076\u001b[0m | \u001b[1mINFO    \u001b[0m | \u001b[36moceansoda_ethzv2.data.utils.zarr_utils\u001b[0m:\u001b[36msave_to_zarr\u001b[0m:\u001b[36m321\u001b[0m - \u001b[1mStarting to write ../data/8D_025/chl_occci_filled-8D_025.zarr for time 2024-01-13 00:00:00\u001b[0m\n"
     ]
    },
    {
     "name": "stderr",
     "output_type": "stream",
     "text": [
      "\n",
      "Saving ../data/8D_025/chl_occci_filled-8D_025.zarr/2024:2024-01-13 00:00: 100%|██████████| 41/41 [00:00<00:00, 800.57it/s]"
     ]
    },
    {
     "name": "stdout",
     "output_type": "stream",
     "text": [
      "\u001b[32m2025-05-30 12:28:10.165\u001b[0m | \u001b[32m\u001b[1mSUCCESS \u001b[0m | \u001b[36moceansoda_ethzv2.data.utils.zarr_utils\u001b[0m:\u001b[36msave_to_zarr\u001b[0m:\u001b[36m329\u001b[0m - \u001b[32m\u001b[1mSaved to: ../data/8D_025/chl_occci_filled-8D_025.zarr/2024:2024-01-13 00:00\u001b[0m\n"
     ]
    },
    {
     "name": "stderr",
     "output_type": "stream",
     "text": [
      "\n"
     ]
    },
    {
     "name": "stdout",
     "output_type": "stream",
     "text": [
      "\u001b[32m2025-05-30 12:28:10.182\u001b[0m | \u001b[1mINFO    \u001b[0m | \u001b[36moceansoda_ethzv2.data.utils.zarr_utils\u001b[0m:\u001b[36msave_to_zarr\u001b[0m:\u001b[36m321\u001b[0m - \u001b[1mStarting to write ../data/8D_025/chl_occci_filled_flag-8D_025.zarr for time 2024-01-13 00:00:00\u001b[0m\n"
     ]
    },
    {
     "name": "stderr",
     "output_type": "stream",
     "text": [
      "Saving ../data/8D_025/chl_occci_filled_flag-8D_025.zarr/2024:2024-01-13 00:00: 100%|██████████| 41/41 [00:00<00:00, 386.00it/s]"
     ]
    },
    {
     "name": "stdout",
     "output_type": "stream",
     "text": [
      "\u001b[32m2025-05-30 12:28:10.328\u001b[0m | \u001b[32m\u001b[1mSUCCESS \u001b[0m | \u001b[36moceansoda_ethzv2.data.utils.zarr_utils\u001b[0m:\u001b[36msave_to_zarr\u001b[0m:\u001b[36m329\u001b[0m - \u001b[32m\u001b[1mSaved to: ../data/8D_025/chl_occci_filled_flag-8D_025.zarr/2024:2024-01-13 00:00\u001b[0m\n",
      "\u001b[32m2025-05-30 12:28:10.354\u001b[0m | \u001b[1mINFO    \u001b[0m | \u001b[36moceansoda_ethzv2.data.utils.zarr_utils\u001b[0m:\u001b[36msave_to_zarr\u001b[0m:\u001b[36m321\u001b[0m - \u001b[1mStarting to write ../data/8D_025/chl_occci_filled-8D_025.zarr for time 2024-01-21 00:00:00\u001b[0m\n"
     ]
    },
    {
     "name": "stderr",
     "output_type": "stream",
     "text": [
      "\n",
      "Saving ../data/8D_025/chl_occci_filled-8D_025.zarr/2024:2024-01-21 00:00: 100%|██████████| 41/41 [00:00<00:00, 866.96it/s]"
     ]
    },
    {
     "name": "stdout",
     "output_type": "stream",
     "text": [
      "\u001b[32m2025-05-30 12:28:10.456\u001b[0m | \u001b[32m\u001b[1mSUCCESS \u001b[0m | \u001b[36moceansoda_ethzv2.data.utils.zarr_utils\u001b[0m:\u001b[36msave_to_zarr\u001b[0m:\u001b[36m329\u001b[0m - \u001b[32m\u001b[1mSaved to: ../data/8D_025/chl_occci_filled-8D_025.zarr/2024:2024-01-21 00:00\u001b[0m\n",
      "\u001b[32m2025-05-30 12:28:10.473\u001b[0m | \u001b[1mINFO    \u001b[0m | \u001b[36moceansoda_ethzv2.data.utils.zarr_utils\u001b[0m:\u001b[36msave_to_zarr\u001b[0m:\u001b[36m321\u001b[0m - \u001b[1mStarting to write ../data/8D_025/chl_occci_filled_flag-8D_025.zarr for time 2024-01-21 00:00:00\u001b[0m\n"
     ]
    },
    {
     "name": "stderr",
     "output_type": "stream",
     "text": [
      "\n",
      "Saving ../data/8D_025/chl_occci_filled_flag-8D_025.zarr/2024:2024-01-21 00:00: 100%|██████████| 41/41 [00:00<00:00, 590.78it/s]"
     ]
    },
    {
     "name": "stdout",
     "output_type": "stream",
     "text": [
      "\u001b[32m2025-05-30 12:28:10.583\u001b[0m | \u001b[32m\u001b[1mSUCCESS \u001b[0m | \u001b[36moceansoda_ethzv2.data.utils.zarr_utils\u001b[0m:\u001b[36msave_to_zarr\u001b[0m:\u001b[36m329\u001b[0m - \u001b[32m\u001b[1mSaved to: ../data/8D_025/chl_occci_filled_flag-8D_025.zarr/2024:2024-01-21 00:00\u001b[0m\n"
     ]
    },
    {
     "name": "stderr",
     "output_type": "stream",
     "text": [
      "\n"
     ]
    },
    {
     "name": "stdout",
     "output_type": "stream",
     "text": [
      "\u001b[32m2025-05-30 12:28:10.676\u001b[0m | \u001b[1mINFO    \u001b[0m | \u001b[36moceansoda_ethzv2.data.utils.zarr_utils\u001b[0m:\u001b[36msave_to_zarr\u001b[0m:\u001b[36m321\u001b[0m - \u001b[1mStarting to write ../data/8D_025/chl_occci_filled-8D_025.zarr for time 2024-01-29 00:00:00\u001b[0m\n"
     ]
    },
    {
     "name": "stderr",
     "output_type": "stream",
     "text": [
      "Saving ../data/8D_025/chl_occci_filled-8D_025.zarr/2024:2024-01-29 00:00: 100%|██████████| 41/41 [00:00<00:00, 759.82it/s]"
     ]
    },
    {
     "name": "stdout",
     "output_type": "stream",
     "text": [
      "\u001b[32m2025-05-30 12:28:10.770\u001b[0m | \u001b[32m\u001b[1mSUCCESS \u001b[0m | \u001b[36moceansoda_ethzv2.data.utils.zarr_utils\u001b[0m:\u001b[36msave_to_zarr\u001b[0m:\u001b[36m329\u001b[0m - \u001b[32m\u001b[1mSaved to: ../data/8D_025/chl_occci_filled-8D_025.zarr/2024:2024-01-29 00:00\u001b[0m\n"
     ]
    },
    {
     "name": "stderr",
     "output_type": "stream",
     "text": [
      "\n"
     ]
    },
    {
     "name": "stdout",
     "output_type": "stream",
     "text": [
      "\u001b[32m2025-05-30 12:28:10.788\u001b[0m | \u001b[1mINFO    \u001b[0m | \u001b[36moceansoda_ethzv2.data.utils.zarr_utils\u001b[0m:\u001b[36msave_to_zarr\u001b[0m:\u001b[36m321\u001b[0m - \u001b[1mStarting to write ../data/8D_025/chl_occci_filled_flag-8D_025.zarr for time 2024-01-29 00:00:00\u001b[0m\n"
     ]
    },
    {
     "name": "stderr",
     "output_type": "stream",
     "text": [
      "Saving ../data/8D_025/chl_occci_filled_flag-8D_025.zarr/2024:2024-01-29 00:00: 100%|██████████| 41/41 [00:00<00:00, 580.68it/s]"
     ]
    },
    {
     "name": "stdout",
     "output_type": "stream",
     "text": [
      "\u001b[32m2025-05-30 12:28:10.988\u001b[0m | \u001b[32m\u001b[1mSUCCESS \u001b[0m | \u001b[36moceansoda_ethzv2.data.utils.zarr_utils\u001b[0m:\u001b[36msave_to_zarr\u001b[0m:\u001b[36m329\u001b[0m - \u001b[32m\u001b[1mSaved to: ../data/8D_025/chl_occci_filled_flag-8D_025.zarr/2024:2024-01-29 00:00\u001b[0m\n",
      "\u001b[32m2025-05-30 12:28:11.015\u001b[0m | \u001b[1mINFO    \u001b[0m | \u001b[36moceansoda_ethzv2.data.utils.zarr_utils\u001b[0m:\u001b[36msave_to_zarr\u001b[0m:\u001b[36m321\u001b[0m - \u001b[1mStarting to write ../data/8D_025/chl_occci_filled-8D_025.zarr for time 2024-02-06 00:00:00\u001b[0m\n"
     ]
    },
    {
     "name": "stderr",
     "output_type": "stream",
     "text": [
      "\n",
      "Saving ../data/8D_025/chl_occci_filled-8D_025.zarr/2024:2024-02-06 00:00: 100%|██████████| 41/41 [00:00<00:00, 772.90it/s]"
     ]
    },
    {
     "name": "stdout",
     "output_type": "stream",
     "text": [
      "\u001b[32m2025-05-30 12:28:11.105\u001b[0m | \u001b[32m\u001b[1mSUCCESS \u001b[0m | \u001b[36moceansoda_ethzv2.data.utils.zarr_utils\u001b[0m:\u001b[36msave_to_zarr\u001b[0m:\u001b[36m329\u001b[0m - \u001b[32m\u001b[1mSaved to: ../data/8D_025/chl_occci_filled-8D_025.zarr/2024:2024-02-06 00:00\u001b[0m\n"
     ]
    },
    {
     "name": "stderr",
     "output_type": "stream",
     "text": [
      "\n"
     ]
    },
    {
     "name": "stdout",
     "output_type": "stream",
     "text": [
      "\u001b[32m2025-05-30 12:28:11.123\u001b[0m | \u001b[1mINFO    \u001b[0m | \u001b[36moceansoda_ethzv2.data.utils.zarr_utils\u001b[0m:\u001b[36msave_to_zarr\u001b[0m:\u001b[36m321\u001b[0m - \u001b[1mStarting to write ../data/8D_025/chl_occci_filled_flag-8D_025.zarr for time 2024-02-06 00:00:00\u001b[0m\n"
     ]
    },
    {
     "name": "stderr",
     "output_type": "stream",
     "text": [
      "Saving ../data/8D_025/chl_occci_filled_flag-8D_025.zarr/2024:2024-02-06 00:00: 100%|██████████| 41/41 [00:00<00:00, 519.44it/s]"
     ]
    },
    {
     "name": "stdout",
     "output_type": "stream",
     "text": [
      "\u001b[32m2025-05-30 12:28:11.243\u001b[0m | \u001b[32m\u001b[1mSUCCESS \u001b[0m | \u001b[36moceansoda_ethzv2.data.utils.zarr_utils\u001b[0m:\u001b[36msave_to_zarr\u001b[0m:\u001b[36m329\u001b[0m - \u001b[32m\u001b[1mSaved to: ../data/8D_025/chl_occci_filled_flag-8D_025.zarr/2024:2024-02-06 00:00\u001b[0m\n"
     ]
    },
    {
     "name": "stderr",
     "output_type": "stream",
     "text": [
      "\n"
     ]
    },
    {
     "name": "stdout",
     "output_type": "stream",
     "text": [
      "\u001b[32m2025-05-30 12:28:11.271\u001b[0m | \u001b[1mINFO    \u001b[0m | \u001b[36moceansoda_ethzv2.data.utils.zarr_utils\u001b[0m:\u001b[36msave_to_zarr\u001b[0m:\u001b[36m321\u001b[0m - \u001b[1mStarting to write ../data/8D_025/chl_occci_filled-8D_025.zarr for time 2024-02-14 00:00:00\u001b[0m\n"
     ]
    },
    {
     "name": "stderr",
     "output_type": "stream",
     "text": [
      "Saving ../data/8D_025/chl_occci_filled-8D_025.zarr/2024:2024-02-14 00:00: 100%|██████████| 41/41 [00:00<00:00, 765.76it/s]"
     ]
    },
    {
     "name": "stdout",
     "output_type": "stream",
     "text": [
      "\u001b[32m2025-05-30 12:28:11.364\u001b[0m | \u001b[32m\u001b[1mSUCCESS \u001b[0m | \u001b[36moceansoda_ethzv2.data.utils.zarr_utils\u001b[0m:\u001b[36msave_to_zarr\u001b[0m:\u001b[36m329\u001b[0m - \u001b[32m\u001b[1mSaved to: ../data/8D_025/chl_occci_filled-8D_025.zarr/2024:2024-02-14 00:00\u001b[0m\n",
      "\u001b[32m2025-05-30 12:28:11.382\u001b[0m | \u001b[1mINFO    \u001b[0m | \u001b[36moceansoda_ethzv2.data.utils.zarr_utils\u001b[0m:\u001b[36msave_to_zarr\u001b[0m:\u001b[36m321\u001b[0m - \u001b[1mStarting to write ../data/8D_025/chl_occci_filled_flag-8D_025.zarr for time 2024-02-14 00:00:00\u001b[0m\n"
     ]
    },
    {
     "name": "stderr",
     "output_type": "stream",
     "text": [
      "\n",
      "Saving ../data/8D_025/chl_occci_filled_flag-8D_025.zarr/2024:2024-02-14 00:00: 100%|██████████| 41/41 [00:00<00:00, 609.86it/s]"
     ]
    },
    {
     "name": "stdout",
     "output_type": "stream",
     "text": [
      "\u001b[32m2025-05-30 12:28:11.489\u001b[0m | \u001b[32m\u001b[1mSUCCESS \u001b[0m | \u001b[36moceansoda_ethzv2.data.utils.zarr_utils\u001b[0m:\u001b[36msave_to_zarr\u001b[0m:\u001b[36m329\u001b[0m - \u001b[32m\u001b[1mSaved to: ../data/8D_025/chl_occci_filled_flag-8D_025.zarr/2024:2024-02-14 00:00\u001b[0m\n"
     ]
    },
    {
     "name": "stderr",
     "output_type": "stream",
     "text": [
      "\n"
     ]
    },
    {
     "name": "stdout",
     "output_type": "stream",
     "text": [
      "\u001b[32m2025-05-30 12:28:11.515\u001b[0m | \u001b[1mINFO    \u001b[0m | \u001b[36moceansoda_ethzv2.data.utils.zarr_utils\u001b[0m:\u001b[36msave_to_zarr\u001b[0m:\u001b[36m321\u001b[0m - \u001b[1mStarting to write ../data/8D_025/chl_occci_filled-8D_025.zarr for time 2024-02-22 00:00:00\u001b[0m\n"
     ]
    },
    {
     "name": "stderr",
     "output_type": "stream",
     "text": [
      "Saving ../data/8D_025/chl_occci_filled-8D_025.zarr/2024:2024-02-22 00:00: 100%|██████████| 41/41 [00:00<00:00, 787.48it/s]"
     ]
    },
    {
     "name": "stdout",
     "output_type": "stream",
     "text": [
      "\u001b[32m2025-05-30 12:28:11.604\u001b[0m | \u001b[32m\u001b[1mSUCCESS \u001b[0m | \u001b[36moceansoda_ethzv2.data.utils.zarr_utils\u001b[0m:\u001b[36msave_to_zarr\u001b[0m:\u001b[36m329\u001b[0m - \u001b[32m\u001b[1mSaved to: ../data/8D_025/chl_occci_filled-8D_025.zarr/2024:2024-02-22 00:00\u001b[0m\n"
     ]
    },
    {
     "name": "stderr",
     "output_type": "stream",
     "text": [
      "\n"
     ]
    },
    {
     "name": "stdout",
     "output_type": "stream",
     "text": [
      "\u001b[32m2025-05-30 12:28:11.621\u001b[0m | \u001b[1mINFO    \u001b[0m | \u001b[36moceansoda_ethzv2.data.utils.zarr_utils\u001b[0m:\u001b[36msave_to_zarr\u001b[0m:\u001b[36m321\u001b[0m - \u001b[1mStarting to write ../data/8D_025/chl_occci_filled_flag-8D_025.zarr for time 2024-02-22 00:00:00\u001b[0m\n"
     ]
    },
    {
     "name": "stderr",
     "output_type": "stream",
     "text": [
      "Saving ../data/8D_025/chl_occci_filled_flag-8D_025.zarr/2024:2024-02-22 00:00: 100%|██████████| 41/41 [00:00<00:00, 598.73it/s]"
     ]
    },
    {
     "name": "stdout",
     "output_type": "stream",
     "text": [
      "\u001b[32m2025-05-30 12:28:11.730\u001b[0m | \u001b[32m\u001b[1mSUCCESS \u001b[0m | \u001b[36moceansoda_ethzv2.data.utils.zarr_utils\u001b[0m:\u001b[36msave_to_zarr\u001b[0m:\u001b[36m329\u001b[0m - \u001b[32m\u001b[1mSaved to: ../data/8D_025/chl_occci_filled_flag-8D_025.zarr/2024:2024-02-22 00:00\u001b[0m\n"
     ]
    },
    {
     "name": "stderr",
     "output_type": "stream",
     "text": [
      "\n"
     ]
    },
    {
     "name": "stdout",
     "output_type": "stream",
     "text": [
      "\u001b[32m2025-05-30 12:28:11.758\u001b[0m | \u001b[1mINFO    \u001b[0m | \u001b[36moceansoda_ethzv2.data.utils.zarr_utils\u001b[0m:\u001b[36msave_to_zarr\u001b[0m:\u001b[36m321\u001b[0m - \u001b[1mStarting to write ../data/8D_025/chl_occci_filled-8D_025.zarr for time 2024-03-01 00:00:00\u001b[0m\n"
     ]
    },
    {
     "name": "stderr",
     "output_type": "stream",
     "text": [
      "Saving ../data/8D_025/chl_occci_filled-8D_025.zarr/2024:2024-03-01 00:00: 100%|██████████| 41/41 [00:00<00:00, 762.90it/s]"
     ]
    },
    {
     "name": "stdout",
     "output_type": "stream",
     "text": [
      "\u001b[32m2025-05-30 12:28:11.849\u001b[0m | \u001b[32m\u001b[1mSUCCESS \u001b[0m | \u001b[36moceansoda_ethzv2.data.utils.zarr_utils\u001b[0m:\u001b[36msave_to_zarr\u001b[0m:\u001b[36m329\u001b[0m - \u001b[32m\u001b[1mSaved to: ../data/8D_025/chl_occci_filled-8D_025.zarr/2024:2024-03-01 00:00\u001b[0m\n"
     ]
    },
    {
     "name": "stderr",
     "output_type": "stream",
     "text": [
      "\n"
     ]
    },
    {
     "name": "stdout",
     "output_type": "stream",
     "text": [
      "\u001b[32m2025-05-30 12:28:11.868\u001b[0m | \u001b[1mINFO    \u001b[0m | \u001b[36moceansoda_ethzv2.data.utils.zarr_utils\u001b[0m:\u001b[36msave_to_zarr\u001b[0m:\u001b[36m321\u001b[0m - \u001b[1mStarting to write ../data/8D_025/chl_occci_filled_flag-8D_025.zarr for time 2024-03-01 00:00:00\u001b[0m\n"
     ]
    },
    {
     "name": "stderr",
     "output_type": "stream",
     "text": [
      "Saving ../data/8D_025/chl_occci_filled_flag-8D_025.zarr/2024:2024-03-01 00:00: 100%|██████████| 41/41 [00:00<00:00, 368.81it/s]"
     ]
    },
    {
     "name": "stdout",
     "output_type": "stream",
     "text": [
      "\u001b[32m2025-05-30 12:28:12.019\u001b[0m | \u001b[32m\u001b[1mSUCCESS \u001b[0m | \u001b[36moceansoda_ethzv2.data.utils.zarr_utils\u001b[0m:\u001b[36msave_to_zarr\u001b[0m:\u001b[36m329\u001b[0m - \u001b[32m\u001b[1mSaved to: ../data/8D_025/chl_occci_filled_flag-8D_025.zarr/2024:2024-03-01 00:00\u001b[0m\n",
      "\u001b[32m2025-05-30 12:28:12.046\u001b[0m | \u001b[1mINFO    \u001b[0m | \u001b[36moceansoda_ethzv2.data.utils.zarr_utils\u001b[0m:\u001b[36msave_to_zarr\u001b[0m:\u001b[36m321\u001b[0m - \u001b[1mStarting to write ../data/8D_025/chl_occci_filled-8D_025.zarr for time 2024-03-09 00:00:00\u001b[0m\n"
     ]
    },
    {
     "name": "stderr",
     "output_type": "stream",
     "text": [
      "\n",
      "Saving ../data/8D_025/chl_occci_filled-8D_025.zarr/2024:2024-03-09 00:00: 100%|██████████| 41/41 [00:00<00:00, 568.28it/s]"
     ]
    },
    {
     "name": "stdout",
     "output_type": "stream",
     "text": [
      "\u001b[32m2025-05-30 12:28:12.157\u001b[0m | \u001b[32m\u001b[1mSUCCESS \u001b[0m | \u001b[36moceansoda_ethzv2.data.utils.zarr_utils\u001b[0m:\u001b[36msave_to_zarr\u001b[0m:\u001b[36m329\u001b[0m - \u001b[32m\u001b[1mSaved to: ../data/8D_025/chl_occci_filled-8D_025.zarr/2024:2024-03-09 00:00\u001b[0m\n",
      "\u001b[32m2025-05-30 12:28:12.174\u001b[0m | \u001b[1mINFO    \u001b[0m | \u001b[36moceansoda_ethzv2.data.utils.zarr_utils\u001b[0m:\u001b[36msave_to_zarr\u001b[0m:\u001b[36m321\u001b[0m - \u001b[1mStarting to write ../data/8D_025/chl_occci_filled_flag-8D_025.zarr for time 2024-03-09 00:00:00\u001b[0m\n"
     ]
    },
    {
     "name": "stderr",
     "output_type": "stream",
     "text": [
      "\n",
      "Saving ../data/8D_025/chl_occci_filled_flag-8D_025.zarr/2024:2024-03-09 00:00: 100%|██████████| 41/41 [00:00<00:00, 592.26it/s]"
     ]
    },
    {
     "name": "stdout",
     "output_type": "stream",
     "text": [
      "\u001b[32m2025-05-30 12:28:12.285\u001b[0m | \u001b[32m\u001b[1mSUCCESS \u001b[0m | \u001b[36moceansoda_ethzv2.data.utils.zarr_utils\u001b[0m:\u001b[36msave_to_zarr\u001b[0m:\u001b[36m329\u001b[0m - \u001b[32m\u001b[1mSaved to: ../data/8D_025/chl_occci_filled_flag-8D_025.zarr/2024:2024-03-09 00:00\u001b[0m\n",
      "\u001b[32m2025-05-30 12:28:12.312\u001b[0m | \u001b[1mINFO    \u001b[0m | \u001b[36moceansoda_ethzv2.data.utils.zarr_utils\u001b[0m:\u001b[36msave_to_zarr\u001b[0m:\u001b[36m321\u001b[0m - \u001b[1mStarting to write ../data/8D_025/chl_occci_filled-8D_025.zarr for time 2024-03-17 00:00:00\u001b[0m\n"
     ]
    },
    {
     "name": "stderr",
     "output_type": "stream",
     "text": [
      "\n",
      "Saving ../data/8D_025/chl_occci_filled-8D_025.zarr/2024:2024-03-17 00:00: 100%|██████████| 41/41 [00:00<00:00, 803.56it/s]"
     ]
    },
    {
     "name": "stdout",
     "output_type": "stream",
     "text": [
      "\u001b[32m2025-05-30 12:28:12.400\u001b[0m | \u001b[32m\u001b[1mSUCCESS \u001b[0m | \u001b[36moceansoda_ethzv2.data.utils.zarr_utils\u001b[0m:\u001b[36msave_to_zarr\u001b[0m:\u001b[36m329\u001b[0m - \u001b[32m\u001b[1mSaved to: ../data/8D_025/chl_occci_filled-8D_025.zarr/2024:2024-03-17 00:00\u001b[0m\n"
     ]
    },
    {
     "name": "stderr",
     "output_type": "stream",
     "text": [
      "\n"
     ]
    },
    {
     "name": "stdout",
     "output_type": "stream",
     "text": [
      "\u001b[32m2025-05-30 12:28:12.417\u001b[0m | \u001b[1mINFO    \u001b[0m | \u001b[36moceansoda_ethzv2.data.utils.zarr_utils\u001b[0m:\u001b[36msave_to_zarr\u001b[0m:\u001b[36m321\u001b[0m - \u001b[1mStarting to write ../data/8D_025/chl_occci_filled_flag-8D_025.zarr for time 2024-03-17 00:00:00\u001b[0m\n"
     ]
    },
    {
     "name": "stderr",
     "output_type": "stream",
     "text": [
      "Saving ../data/8D_025/chl_occci_filled_flag-8D_025.zarr/2024:2024-03-17 00:00: 100%|██████████| 41/41 [00:00<00:00, 591.74it/s]"
     ]
    },
    {
     "name": "stdout",
     "output_type": "stream",
     "text": [
      "\u001b[32m2025-05-30 12:28:12.526\u001b[0m | \u001b[32m\u001b[1mSUCCESS \u001b[0m | \u001b[36moceansoda_ethzv2.data.utils.zarr_utils\u001b[0m:\u001b[36msave_to_zarr\u001b[0m:\u001b[36m329\u001b[0m - \u001b[32m\u001b[1mSaved to: ../data/8D_025/chl_occci_filled_flag-8D_025.zarr/2024:2024-03-17 00:00\u001b[0m\n"
     ]
    },
    {
     "name": "stderr",
     "output_type": "stream",
     "text": [
      "\n"
     ]
    },
    {
     "name": "stdout",
     "output_type": "stream",
     "text": [
      "\u001b[32m2025-05-30 12:28:12.554\u001b[0m | \u001b[1mINFO    \u001b[0m | \u001b[36moceansoda_ethzv2.data.utils.zarr_utils\u001b[0m:\u001b[36msave_to_zarr\u001b[0m:\u001b[36m321\u001b[0m - \u001b[1mStarting to write ../data/8D_025/chl_occci_filled-8D_025.zarr for time 2024-03-25 00:00:00\u001b[0m\n"
     ]
    },
    {
     "name": "stderr",
     "output_type": "stream",
     "text": [
      "Saving ../data/8D_025/chl_occci_filled-8D_025.zarr/2024:2024-03-25 00:00: 100%|██████████| 41/41 [00:00<00:00, 770.00it/s]"
     ]
    },
    {
     "name": "stdout",
     "output_type": "stream",
     "text": [
      "\u001b[32m2025-05-30 12:28:12.646\u001b[0m | \u001b[32m\u001b[1mSUCCESS \u001b[0m | \u001b[36moceansoda_ethzv2.data.utils.zarr_utils\u001b[0m:\u001b[36msave_to_zarr\u001b[0m:\u001b[36m329\u001b[0m - \u001b[32m\u001b[1mSaved to: ../data/8D_025/chl_occci_filled-8D_025.zarr/2024:2024-03-25 00:00\u001b[0m\n"
     ]
    },
    {
     "name": "stderr",
     "output_type": "stream",
     "text": [
      "\n"
     ]
    },
    {
     "name": "stdout",
     "output_type": "stream",
     "text": [
      "\u001b[32m2025-05-30 12:28:12.664\u001b[0m | \u001b[1mINFO    \u001b[0m | \u001b[36moceansoda_ethzv2.data.utils.zarr_utils\u001b[0m:\u001b[36msave_to_zarr\u001b[0m:\u001b[36m321\u001b[0m - \u001b[1mStarting to write ../data/8D_025/chl_occci_filled_flag-8D_025.zarr for time 2024-03-25 00:00:00\u001b[0m\n"
     ]
    },
    {
     "name": "stderr",
     "output_type": "stream",
     "text": [
      "Saving ../data/8D_025/chl_occci_filled_flag-8D_025.zarr/2024:2024-03-25 00:00: 100%|██████████| 41/41 [00:00<00:00, 573.37it/s]"
     ]
    },
    {
     "name": "stdout",
     "output_type": "stream",
     "text": [
      "\u001b[32m2025-05-30 12:28:12.776\u001b[0m | \u001b[32m\u001b[1mSUCCESS \u001b[0m | \u001b[36moceansoda_ethzv2.data.utils.zarr_utils\u001b[0m:\u001b[36msave_to_zarr\u001b[0m:\u001b[36m329\u001b[0m - \u001b[32m\u001b[1mSaved to: ../data/8D_025/chl_occci_filled_flag-8D_025.zarr/2024:2024-03-25 00:00\u001b[0m\n"
     ]
    },
    {
     "name": "stderr",
     "output_type": "stream",
     "text": [
      "\n"
     ]
    },
    {
     "name": "stdout",
     "output_type": "stream",
     "text": [
      "\u001b[32m2025-05-30 12:28:12.804\u001b[0m | \u001b[1mINFO    \u001b[0m | \u001b[36moceansoda_ethzv2.data.utils.zarr_utils\u001b[0m:\u001b[36msave_to_zarr\u001b[0m:\u001b[36m321\u001b[0m - \u001b[1mStarting to write ../data/8D_025/chl_occci_filled-8D_025.zarr for time 2024-04-02 00:00:00\u001b[0m\n"
     ]
    },
    {
     "name": "stderr",
     "output_type": "stream",
     "text": [
      "Saving ../data/8D_025/chl_occci_filled-8D_025.zarr/2024:2024-04-02 00:00: 100%|██████████| 41/41 [00:00<00:00, 856.74it/s]"
     ]
    },
    {
     "name": "stdout",
     "output_type": "stream",
     "text": [
      "\u001b[32m2025-05-30 12:28:13.038\u001b[0m | \u001b[32m\u001b[1mSUCCESS \u001b[0m | \u001b[36moceansoda_ethzv2.data.utils.zarr_utils\u001b[0m:\u001b[36msave_to_zarr\u001b[0m:\u001b[36m329\u001b[0m - \u001b[32m\u001b[1mSaved to: ../data/8D_025/chl_occci_filled-8D_025.zarr/2024:2024-04-02 00:00\u001b[0m\n",
      "\u001b[32m2025-05-30 12:28:13.055\u001b[0m | \u001b[1mINFO    \u001b[0m | \u001b[36moceansoda_ethzv2.data.utils.zarr_utils\u001b[0m:\u001b[36msave_to_zarr\u001b[0m:\u001b[36m321\u001b[0m - \u001b[1mStarting to write ../data/8D_025/chl_occci_filled_flag-8D_025.zarr for time 2024-04-02 00:00:00\u001b[0m\n"
     ]
    },
    {
     "name": "stderr",
     "output_type": "stream",
     "text": [
      "\n",
      "Saving ../data/8D_025/chl_occci_filled_flag-8D_025.zarr/2024:2024-04-02 00:00: 100%|██████████| 41/41 [00:00<00:00, 611.64it/s]"
     ]
    },
    {
     "name": "stdout",
     "output_type": "stream",
     "text": [
      "\u001b[32m2025-05-30 12:28:13.162\u001b[0m | \u001b[32m\u001b[1mSUCCESS \u001b[0m | \u001b[36moceansoda_ethzv2.data.utils.zarr_utils\u001b[0m:\u001b[36msave_to_zarr\u001b[0m:\u001b[36m329\u001b[0m - \u001b[32m\u001b[1mSaved to: ../data/8D_025/chl_occci_filled_flag-8D_025.zarr/2024:2024-04-02 00:00\u001b[0m\n"
     ]
    },
    {
     "name": "stderr",
     "output_type": "stream",
     "text": [
      "\n"
     ]
    },
    {
     "name": "stdout",
     "output_type": "stream",
     "text": [
      "\u001b[32m2025-05-30 12:28:13.189\u001b[0m | \u001b[1mINFO    \u001b[0m | \u001b[36moceansoda_ethzv2.data.utils.zarr_utils\u001b[0m:\u001b[36msave_to_zarr\u001b[0m:\u001b[36m321\u001b[0m - \u001b[1mStarting to write ../data/8D_025/chl_occci_filled-8D_025.zarr for time 2024-04-10 00:00:00\u001b[0m\n"
     ]
    },
    {
     "name": "stderr",
     "output_type": "stream",
     "text": [
      "Saving ../data/8D_025/chl_occci_filled-8D_025.zarr/2024:2024-04-10 00:00: 100%|██████████| 41/41 [00:00<00:00, 832.47it/s]"
     ]
    },
    {
     "name": "stdout",
     "output_type": "stream",
     "text": [
      "\u001b[32m2025-05-30 12:28:13.271\u001b[0m | \u001b[32m\u001b[1mSUCCESS \u001b[0m | \u001b[36moceansoda_ethzv2.data.utils.zarr_utils\u001b[0m:\u001b[36msave_to_zarr\u001b[0m:\u001b[36m329\u001b[0m - \u001b[32m\u001b[1mSaved to: ../data/8D_025/chl_occci_filled-8D_025.zarr/2024:2024-04-10 00:00\u001b[0m\n",
      "\u001b[32m2025-05-30 12:28:13.289\u001b[0m | \u001b[1mINFO    \u001b[0m | \u001b[36moceansoda_ethzv2.data.utils.zarr_utils\u001b[0m:\u001b[36msave_to_zarr\u001b[0m:\u001b[36m321\u001b[0m - \u001b[1mStarting to write ../data/8D_025/chl_occci_filled_flag-8D_025.zarr for time 2024-04-10 00:00:00\u001b[0m\n"
     ]
    },
    {
     "name": "stderr",
     "output_type": "stream",
     "text": [
      "\n",
      "Saving ../data/8D_025/chl_occci_filled_flag-8D_025.zarr/2024:2024-04-10 00:00: 100%|██████████| 41/41 [00:00<00:00, 593.00it/s]"
     ]
    },
    {
     "name": "stdout",
     "output_type": "stream",
     "text": [
      "\u001b[32m2025-05-30 12:28:13.398\u001b[0m | \u001b[32m\u001b[1mSUCCESS \u001b[0m | \u001b[36moceansoda_ethzv2.data.utils.zarr_utils\u001b[0m:\u001b[36msave_to_zarr\u001b[0m:\u001b[36m329\u001b[0m - \u001b[32m\u001b[1mSaved to: ../data/8D_025/chl_occci_filled_flag-8D_025.zarr/2024:2024-04-10 00:00\u001b[0m\n"
     ]
    },
    {
     "name": "stderr",
     "output_type": "stream",
     "text": [
      "\n"
     ]
    },
    {
     "name": "stdout",
     "output_type": "stream",
     "text": [
      "\u001b[32m2025-05-30 12:28:13.427\u001b[0m | \u001b[1mINFO    \u001b[0m | \u001b[36moceansoda_ethzv2.data.utils.zarr_utils\u001b[0m:\u001b[36msave_to_zarr\u001b[0m:\u001b[36m321\u001b[0m - \u001b[1mStarting to write ../data/8D_025/chl_occci_filled-8D_025.zarr for time 2024-04-18 00:00:00\u001b[0m\n"
     ]
    },
    {
     "name": "stderr",
     "output_type": "stream",
     "text": [
      "Saving ../data/8D_025/chl_occci_filled-8D_025.zarr/2024:2024-04-18 00:00: 100%|██████████| 41/41 [00:00<00:00, 817.82it/s]"
     ]
    },
    {
     "name": "stdout",
     "output_type": "stream",
     "text": [
      "\u001b[32m2025-05-30 12:28:13.520\u001b[0m | \u001b[32m\u001b[1mSUCCESS \u001b[0m | \u001b[36moceansoda_ethzv2.data.utils.zarr_utils\u001b[0m:\u001b[36msave_to_zarr\u001b[0m:\u001b[36m329\u001b[0m - \u001b[32m\u001b[1mSaved to: ../data/8D_025/chl_occci_filled-8D_025.zarr/2024:2024-04-18 00:00\u001b[0m\n"
     ]
    },
    {
     "name": "stderr",
     "output_type": "stream",
     "text": [
      "\n"
     ]
    },
    {
     "name": "stdout",
     "output_type": "stream",
     "text": [
      "\u001b[32m2025-05-30 12:28:13.541\u001b[0m | \u001b[1mINFO    \u001b[0m | \u001b[36moceansoda_ethzv2.data.utils.zarr_utils\u001b[0m:\u001b[36msave_to_zarr\u001b[0m:\u001b[36m321\u001b[0m - \u001b[1mStarting to write ../data/8D_025/chl_occci_filled_flag-8D_025.zarr for time 2024-04-18 00:00:00\u001b[0m\n"
     ]
    },
    {
     "name": "stderr",
     "output_type": "stream",
     "text": [
      "Saving ../data/8D_025/chl_occci_filled_flag-8D_025.zarr/2024:2024-04-18 00:00: 100%|██████████| 41/41 [00:00<00:00, 470.42it/s]"
     ]
    },
    {
     "name": "stdout",
     "output_type": "stream",
     "text": [
      "\u001b[32m2025-05-30 12:28:13.666\u001b[0m | \u001b[32m\u001b[1mSUCCESS \u001b[0m | \u001b[36moceansoda_ethzv2.data.utils.zarr_utils\u001b[0m:\u001b[36msave_to_zarr\u001b[0m:\u001b[36m329\u001b[0m - \u001b[32m\u001b[1mSaved to: ../data/8D_025/chl_occci_filled_flag-8D_025.zarr/2024:2024-04-18 00:00\u001b[0m\n"
     ]
    },
    {
     "name": "stderr",
     "output_type": "stream",
     "text": [
      "\n"
     ]
    },
    {
     "name": "stdout",
     "output_type": "stream",
     "text": [
      "\u001b[32m2025-05-30 12:28:13.694\u001b[0m | \u001b[1mINFO    \u001b[0m | \u001b[36moceansoda_ethzv2.data.utils.zarr_utils\u001b[0m:\u001b[36msave_to_zarr\u001b[0m:\u001b[36m321\u001b[0m - \u001b[1mStarting to write ../data/8D_025/chl_occci_filled-8D_025.zarr for time 2024-04-26 00:00:00\u001b[0m\n"
     ]
    },
    {
     "name": "stderr",
     "output_type": "stream",
     "text": [
      "Saving ../data/8D_025/chl_occci_filled-8D_025.zarr/2024:2024-04-26 00:00: 100%|██████████| 41/41 [00:00<00:00, 889.64it/s]\n"
     ]
    },
    {
     "name": "stdout",
     "output_type": "stream",
     "text": [
      "\u001b[32m2025-05-30 12:28:13.777\u001b[0m | \u001b[32m\u001b[1mSUCCESS \u001b[0m | \u001b[36moceansoda_ethzv2.data.utils.zarr_utils\u001b[0m:\u001b[36msave_to_zarr\u001b[0m:\u001b[36m329\u001b[0m - \u001b[32m\u001b[1mSaved to: ../data/8D_025/chl_occci_filled-8D_025.zarr/2024:2024-04-26 00:00\u001b[0m\n",
      "\u001b[32m2025-05-30 12:28:13.796\u001b[0m | \u001b[1mINFO    \u001b[0m | \u001b[36moceansoda_ethzv2.data.utils.zarr_utils\u001b[0m:\u001b[36msave_to_zarr\u001b[0m:\u001b[36m321\u001b[0m - \u001b[1mStarting to write ../data/8D_025/chl_occci_filled_flag-8D_025.zarr for time 2024-04-26 00:00:00\u001b[0m\n"
     ]
    },
    {
     "name": "stderr",
     "output_type": "stream",
     "text": [
      "Saving ../data/8D_025/chl_occci_filled_flag-8D_025.zarr/2024:2024-04-26 00:00: 100%|██████████| 41/41 [00:00<00:00, 520.10it/s]"
     ]
    },
    {
     "name": "stdout",
     "output_type": "stream",
     "text": [
      "\u001b[32m2025-05-30 12:28:13.915\u001b[0m | \u001b[32m\u001b[1mSUCCESS \u001b[0m | \u001b[36moceansoda_ethzv2.data.utils.zarr_utils\u001b[0m:\u001b[36msave_to_zarr\u001b[0m:\u001b[36m329\u001b[0m - \u001b[32m\u001b[1mSaved to: ../data/8D_025/chl_occci_filled_flag-8D_025.zarr/2024:2024-04-26 00:00\u001b[0m\n"
     ]
    },
    {
     "name": "stderr",
     "output_type": "stream",
     "text": [
      "\n"
     ]
    },
    {
     "name": "stdout",
     "output_type": "stream",
     "text": [
      "\u001b[32m2025-05-30 12:28:13.943\u001b[0m | \u001b[1mINFO    \u001b[0m | \u001b[36moceansoda_ethzv2.data.utils.zarr_utils\u001b[0m:\u001b[36msave_to_zarr\u001b[0m:\u001b[36m321\u001b[0m - \u001b[1mStarting to write ../data/8D_025/chl_occci_filled-8D_025.zarr for time 2024-05-04 00:00:00\u001b[0m\n"
     ]
    },
    {
     "name": "stderr",
     "output_type": "stream",
     "text": [
      "Saving ../data/8D_025/chl_occci_filled-8D_025.zarr/2024:2024-05-04 00:00: 100%|██████████| 41/41 [00:00<00:00, 798.51it/s]"
     ]
    },
    {
     "name": "stdout",
     "output_type": "stream",
     "text": [
      "\u001b[32m2025-05-30 12:28:14.033\u001b[0m | \u001b[32m\u001b[1mSUCCESS \u001b[0m | \u001b[36moceansoda_ethzv2.data.utils.zarr_utils\u001b[0m:\u001b[36msave_to_zarr\u001b[0m:\u001b[36m329\u001b[0m - \u001b[32m\u001b[1mSaved to: ../data/8D_025/chl_occci_filled-8D_025.zarr/2024:2024-05-04 00:00\u001b[0m\n"
     ]
    },
    {
     "name": "stderr",
     "output_type": "stream",
     "text": [
      "\n"
     ]
    },
    {
     "name": "stdout",
     "output_type": "stream",
     "text": [
      "\u001b[32m2025-05-30 12:28:14.052\u001b[0m | \u001b[1mINFO    \u001b[0m | \u001b[36moceansoda_ethzv2.data.utils.zarr_utils\u001b[0m:\u001b[36msave_to_zarr\u001b[0m:\u001b[36m321\u001b[0m - \u001b[1mStarting to write ../data/8D_025/chl_occci_filled_flag-8D_025.zarr for time 2024-05-04 00:00:00\u001b[0m\n"
     ]
    },
    {
     "name": "stderr",
     "output_type": "stream",
     "text": [
      "Saving ../data/8D_025/chl_occci_filled_flag-8D_025.zarr/2024:2024-05-04 00:00: 100%|██████████| 41/41 [00:00<00:00, 514.25it/s]"
     ]
    },
    {
     "name": "stdout",
     "output_type": "stream",
     "text": [
      "\u001b[32m2025-05-30 12:28:14.174\u001b[0m | \u001b[32m\u001b[1mSUCCESS \u001b[0m | \u001b[36moceansoda_ethzv2.data.utils.zarr_utils\u001b[0m:\u001b[36msave_to_zarr\u001b[0m:\u001b[36m329\u001b[0m - \u001b[32m\u001b[1mSaved to: ../data/8D_025/chl_occci_filled_flag-8D_025.zarr/2024:2024-05-04 00:00\u001b[0m\n"
     ]
    },
    {
     "name": "stderr",
     "output_type": "stream",
     "text": [
      "\n"
     ]
    },
    {
     "name": "stdout",
     "output_type": "stream",
     "text": [
      "\u001b[32m2025-05-30 12:28:14.202\u001b[0m | \u001b[1mINFO    \u001b[0m | \u001b[36moceansoda_ethzv2.data.utils.zarr_utils\u001b[0m:\u001b[36msave_to_zarr\u001b[0m:\u001b[36m321\u001b[0m - \u001b[1mStarting to write ../data/8D_025/chl_occci_filled-8D_025.zarr for time 2024-05-12 00:00:00\u001b[0m\n"
     ]
    },
    {
     "name": "stderr",
     "output_type": "stream",
     "text": [
      "Saving ../data/8D_025/chl_occci_filled-8D_025.zarr/2024:2024-05-12 00:00: 100%|██████████| 41/41 [00:00<00:00, 831.78it/s]"
     ]
    },
    {
     "name": "stdout",
     "output_type": "stream",
     "text": [
      "\u001b[32m2025-05-30 12:28:14.290\u001b[0m | \u001b[32m\u001b[1mSUCCESS \u001b[0m | \u001b[36moceansoda_ethzv2.data.utils.zarr_utils\u001b[0m:\u001b[36msave_to_zarr\u001b[0m:\u001b[36m329\u001b[0m - \u001b[32m\u001b[1mSaved to: ../data/8D_025/chl_occci_filled-8D_025.zarr/2024:2024-05-12 00:00\u001b[0m\n"
     ]
    },
    {
     "name": "stderr",
     "output_type": "stream",
     "text": [
      "\n"
     ]
    },
    {
     "name": "stdout",
     "output_type": "stream",
     "text": [
      "\u001b[32m2025-05-30 12:28:14.309\u001b[0m | \u001b[1mINFO    \u001b[0m | \u001b[36moceansoda_ethzv2.data.utils.zarr_utils\u001b[0m:\u001b[36msave_to_zarr\u001b[0m:\u001b[36m321\u001b[0m - \u001b[1mStarting to write ../data/8D_025/chl_occci_filled_flag-8D_025.zarr for time 2024-05-12 00:00:00\u001b[0m\n"
     ]
    },
    {
     "name": "stderr",
     "output_type": "stream",
     "text": [
      "Saving ../data/8D_025/chl_occci_filled_flag-8D_025.zarr/2024:2024-05-12 00:00: 100%|██████████| 41/41 [00:00<00:00, 630.17it/s]"
     ]
    },
    {
     "name": "stdout",
     "output_type": "stream",
     "text": [
      "\u001b[32m2025-05-30 12:28:14.414\u001b[0m | \u001b[32m\u001b[1mSUCCESS \u001b[0m | \u001b[36moceansoda_ethzv2.data.utils.zarr_utils\u001b[0m:\u001b[36msave_to_zarr\u001b[0m:\u001b[36m329\u001b[0m - \u001b[32m\u001b[1mSaved to: ../data/8D_025/chl_occci_filled_flag-8D_025.zarr/2024:2024-05-12 00:00\u001b[0m\n"
     ]
    },
    {
     "name": "stderr",
     "output_type": "stream",
     "text": [
      "\n"
     ]
    },
    {
     "name": "stdout",
     "output_type": "stream",
     "text": [
      "\u001b[32m2025-05-30 12:28:14.441\u001b[0m | \u001b[1mINFO    \u001b[0m | \u001b[36moceansoda_ethzv2.data.utils.zarr_utils\u001b[0m:\u001b[36msave_to_zarr\u001b[0m:\u001b[36m321\u001b[0m - \u001b[1mStarting to write ../data/8D_025/chl_occci_filled-8D_025.zarr for time 2024-05-20 00:00:00\u001b[0m\n"
     ]
    },
    {
     "name": "stderr",
     "output_type": "stream",
     "text": [
      "Saving ../data/8D_025/chl_occci_filled-8D_025.zarr/2024:2024-05-20 00:00: 100%|██████████| 41/41 [00:00<00:00, 747.95it/s]"
     ]
    },
    {
     "name": "stdout",
     "output_type": "stream",
     "text": [
      "\u001b[32m2025-05-30 12:28:14.557\u001b[0m | \u001b[32m\u001b[1mSUCCESS \u001b[0m | \u001b[36moceansoda_ethzv2.data.utils.zarr_utils\u001b[0m:\u001b[36msave_to_zarr\u001b[0m:\u001b[36m329\u001b[0m - \u001b[32m\u001b[1mSaved to: ../data/8D_025/chl_occci_filled-8D_025.zarr/2024:2024-05-20 00:00\u001b[0m\n",
      "\u001b[32m2025-05-30 12:28:14.576\u001b[0m | \u001b[1mINFO    \u001b[0m | \u001b[36moceansoda_ethzv2.data.utils.zarr_utils\u001b[0m:\u001b[36msave_to_zarr\u001b[0m:\u001b[36m321\u001b[0m - \u001b[1mStarting to write ../data/8D_025/chl_occci_filled_flag-8D_025.zarr for time 2024-05-20 00:00:00\u001b[0m\n"
     ]
    },
    {
     "name": "stderr",
     "output_type": "stream",
     "text": [
      "\n",
      "Saving ../data/8D_025/chl_occci_filled_flag-8D_025.zarr/2024:2024-05-20 00:00: 100%|██████████| 41/41 [00:00<00:00, 605.24it/s]"
     ]
    },
    {
     "name": "stdout",
     "output_type": "stream",
     "text": [
      "\u001b[32m2025-05-30 12:28:14.683\u001b[0m | \u001b[32m\u001b[1mSUCCESS \u001b[0m | \u001b[36moceansoda_ethzv2.data.utils.zarr_utils\u001b[0m:\u001b[36msave_to_zarr\u001b[0m:\u001b[36m329\u001b[0m - \u001b[32m\u001b[1mSaved to: ../data/8D_025/chl_occci_filled_flag-8D_025.zarr/2024:2024-05-20 00:00\u001b[0m\n"
     ]
    },
    {
     "name": "stderr",
     "output_type": "stream",
     "text": [
      "\n"
     ]
    },
    {
     "name": "stdout",
     "output_type": "stream",
     "text": [
      "\u001b[32m2025-05-30 12:28:14.711\u001b[0m | \u001b[1mINFO    \u001b[0m | \u001b[36moceansoda_ethzv2.data.utils.zarr_utils\u001b[0m:\u001b[36msave_to_zarr\u001b[0m:\u001b[36m321\u001b[0m - \u001b[1mStarting to write ../data/8D_025/chl_occci_filled-8D_025.zarr for time 2024-05-28 00:00:00\u001b[0m\n"
     ]
    },
    {
     "name": "stderr",
     "output_type": "stream",
     "text": [
      "Saving ../data/8D_025/chl_occci_filled-8D_025.zarr/2024:2024-05-28 00:00: 100%|██████████| 41/41 [00:00<00:00, 508.51it/s]"
     ]
    },
    {
     "name": "stdout",
     "output_type": "stream",
     "text": [
      "\u001b[32m2025-05-30 12:28:14.827\u001b[0m | \u001b[32m\u001b[1mSUCCESS \u001b[0m | \u001b[36moceansoda_ethzv2.data.utils.zarr_utils\u001b[0m:\u001b[36msave_to_zarr\u001b[0m:\u001b[36m329\u001b[0m - \u001b[32m\u001b[1mSaved to: ../data/8D_025/chl_occci_filled-8D_025.zarr/2024:2024-05-28 00:00\u001b[0m\n",
      "\u001b[32m2025-05-30 12:28:14.845\u001b[0m | \u001b[1mINFO    \u001b[0m | \u001b[36moceansoda_ethzv2.data.utils.zarr_utils\u001b[0m:\u001b[36msave_to_zarr\u001b[0m:\u001b[36m321\u001b[0m - \u001b[1mStarting to write ../data/8D_025/chl_occci_filled_flag-8D_025.zarr for time 2024-05-28 00:00:00\u001b[0m\n"
     ]
    },
    {
     "name": "stderr",
     "output_type": "stream",
     "text": [
      "\n",
      "Saving ../data/8D_025/chl_occci_filled_flag-8D_025.zarr/2024:2024-05-28 00:00: 100%|██████████| 41/41 [00:00<00:00, 608.89it/s]"
     ]
    },
    {
     "name": "stdout",
     "output_type": "stream",
     "text": [
      "\u001b[32m2025-05-30 12:28:14.990\u001b[0m | \u001b[32m\u001b[1mSUCCESS \u001b[0m | \u001b[36moceansoda_ethzv2.data.utils.zarr_utils\u001b[0m:\u001b[36msave_to_zarr\u001b[0m:\u001b[36m329\u001b[0m - \u001b[32m\u001b[1mSaved to: ../data/8D_025/chl_occci_filled_flag-8D_025.zarr/2024:2024-05-28 00:00\u001b[0m\n",
      "\u001b[32m2025-05-30 12:28:15.018\u001b[0m | \u001b[1mINFO    \u001b[0m | \u001b[36moceansoda_ethzv2.data.utils.zarr_utils\u001b[0m:\u001b[36msave_to_zarr\u001b[0m:\u001b[36m321\u001b[0m - \u001b[1mStarting to write ../data/8D_025/chl_occci_filled-8D_025.zarr for time 2024-06-05 00:00:00\u001b[0m\n"
     ]
    },
    {
     "name": "stderr",
     "output_type": "stream",
     "text": [
      "\n",
      "Saving ../data/8D_025/chl_occci_filled-8D_025.zarr/2024:2024-06-05 00:00: 100%|██████████| 41/41 [00:00<00:00, 785.29it/s]"
     ]
    },
    {
     "name": "stdout",
     "output_type": "stream",
     "text": [
      "\u001b[32m2025-05-30 12:28:15.111\u001b[0m | \u001b[32m\u001b[1mSUCCESS \u001b[0m | \u001b[36moceansoda_ethzv2.data.utils.zarr_utils\u001b[0m:\u001b[36msave_to_zarr\u001b[0m:\u001b[36m329\u001b[0m - \u001b[32m\u001b[1mSaved to: ../data/8D_025/chl_occci_filled-8D_025.zarr/2024:2024-06-05 00:00\u001b[0m\n"
     ]
    },
    {
     "name": "stderr",
     "output_type": "stream",
     "text": [
      "\n"
     ]
    },
    {
     "name": "stdout",
     "output_type": "stream",
     "text": [
      "\u001b[32m2025-05-30 12:28:15.130\u001b[0m | \u001b[1mINFO    \u001b[0m | \u001b[36moceansoda_ethzv2.data.utils.zarr_utils\u001b[0m:\u001b[36msave_to_zarr\u001b[0m:\u001b[36m321\u001b[0m - \u001b[1mStarting to write ../data/8D_025/chl_occci_filled_flag-8D_025.zarr for time 2024-06-05 00:00:00\u001b[0m\n"
     ]
    },
    {
     "name": "stderr",
     "output_type": "stream",
     "text": [
      "Saving ../data/8D_025/chl_occci_filled_flag-8D_025.zarr/2024:2024-06-05 00:00: 100%|██████████| 41/41 [00:00<00:00, 620.14it/s]"
     ]
    },
    {
     "name": "stdout",
     "output_type": "stream",
     "text": [
      "\u001b[32m2025-05-30 12:28:15.236\u001b[0m | \u001b[32m\u001b[1mSUCCESS \u001b[0m | \u001b[36moceansoda_ethzv2.data.utils.zarr_utils\u001b[0m:\u001b[36msave_to_zarr\u001b[0m:\u001b[36m329\u001b[0m - \u001b[32m\u001b[1mSaved to: ../data/8D_025/chl_occci_filled_flag-8D_025.zarr/2024:2024-06-05 00:00\u001b[0m\n"
     ]
    },
    {
     "name": "stderr",
     "output_type": "stream",
     "text": [
      "\n"
     ]
    },
    {
     "name": "stdout",
     "output_type": "stream",
     "text": [
      "\u001b[32m2025-05-30 12:28:15.266\u001b[0m | \u001b[1mINFO    \u001b[0m | \u001b[36moceansoda_ethzv2.data.utils.zarr_utils\u001b[0m:\u001b[36msave_to_zarr\u001b[0m:\u001b[36m321\u001b[0m - \u001b[1mStarting to write ../data/8D_025/chl_occci_filled-8D_025.zarr for time 2024-06-13 00:00:00\u001b[0m\n"
     ]
    },
    {
     "name": "stderr",
     "output_type": "stream",
     "text": [
      "Saving ../data/8D_025/chl_occci_filled-8D_025.zarr/2024:2024-06-13 00:00: 100%|██████████| 41/41 [00:00<00:00, 825.22it/s]"
     ]
    },
    {
     "name": "stdout",
     "output_type": "stream",
     "text": [
      "\u001b[32m2025-05-30 12:28:15.353\u001b[0m | \u001b[32m\u001b[1mSUCCESS \u001b[0m | \u001b[36moceansoda_ethzv2.data.utils.zarr_utils\u001b[0m:\u001b[36msave_to_zarr\u001b[0m:\u001b[36m329\u001b[0m - \u001b[32m\u001b[1mSaved to: ../data/8D_025/chl_occci_filled-8D_025.zarr/2024:2024-06-13 00:00\u001b[0m\n"
     ]
    },
    {
     "name": "stderr",
     "output_type": "stream",
     "text": [
      "\n"
     ]
    },
    {
     "name": "stdout",
     "output_type": "stream",
     "text": [
      "\u001b[32m2025-05-30 12:28:15.371\u001b[0m | \u001b[1mINFO    \u001b[0m | \u001b[36moceansoda_ethzv2.data.utils.zarr_utils\u001b[0m:\u001b[36msave_to_zarr\u001b[0m:\u001b[36m321\u001b[0m - \u001b[1mStarting to write ../data/8D_025/chl_occci_filled_flag-8D_025.zarr for time 2024-06-13 00:00:00\u001b[0m\n"
     ]
    },
    {
     "name": "stderr",
     "output_type": "stream",
     "text": [
      "Saving ../data/8D_025/chl_occci_filled_flag-8D_025.zarr/2024:2024-06-13 00:00: 100%|██████████| 41/41 [00:00<00:00, 667.80it/s]"
     ]
    },
    {
     "name": "stdout",
     "output_type": "stream",
     "text": [
      "\u001b[32m2025-05-30 12:28:15.498\u001b[0m | \u001b[32m\u001b[1mSUCCESS \u001b[0m | \u001b[36moceansoda_ethzv2.data.utils.zarr_utils\u001b[0m:\u001b[36msave_to_zarr\u001b[0m:\u001b[36m329\u001b[0m - \u001b[32m\u001b[1mSaved to: ../data/8D_025/chl_occci_filled_flag-8D_025.zarr/2024:2024-06-13 00:00\u001b[0m\n"
     ]
    },
    {
     "name": "stderr",
     "output_type": "stream",
     "text": [
      "\n"
     ]
    },
    {
     "name": "stdout",
     "output_type": "stream",
     "text": [
      "\u001b[32m2025-05-30 12:28:15.527\u001b[0m | \u001b[1mINFO    \u001b[0m | \u001b[36moceansoda_ethzv2.data.utils.zarr_utils\u001b[0m:\u001b[36msave_to_zarr\u001b[0m:\u001b[36m321\u001b[0m - \u001b[1mStarting to write ../data/8D_025/chl_occci_filled-8D_025.zarr for time 2024-06-21 00:00:00\u001b[0m\n"
     ]
    },
    {
     "name": "stderr",
     "output_type": "stream",
     "text": [
      "Saving ../data/8D_025/chl_occci_filled-8D_025.zarr/2024:2024-06-21 00:00: 100%|██████████| 41/41 [00:00<00:00, 822.44it/s]"
     ]
    },
    {
     "name": "stdout",
     "output_type": "stream",
     "text": [
      "\u001b[32m2025-05-30 12:28:15.613\u001b[0m | \u001b[32m\u001b[1mSUCCESS \u001b[0m | \u001b[36moceansoda_ethzv2.data.utils.zarr_utils\u001b[0m:\u001b[36msave_to_zarr\u001b[0m:\u001b[36m329\u001b[0m - \u001b[32m\u001b[1mSaved to: ../data/8D_025/chl_occci_filled-8D_025.zarr/2024:2024-06-21 00:00\u001b[0m\n",
      "\u001b[32m2025-05-30 12:28:15.632\u001b[0m | \u001b[1mINFO    \u001b[0m | \u001b[36moceansoda_ethzv2.data.utils.zarr_utils\u001b[0m:\u001b[36msave_to_zarr\u001b[0m:\u001b[36m321\u001b[0m - \u001b[1mStarting to write ../data/8D_025/chl_occci_filled_flag-8D_025.zarr for time 2024-06-21 00:00:00\u001b[0m\n"
     ]
    },
    {
     "name": "stderr",
     "output_type": "stream",
     "text": [
      "\n",
      "Saving ../data/8D_025/chl_occci_filled_flag-8D_025.zarr/2024:2024-06-21 00:00: 100%|██████████| 41/41 [00:00<00:00, 592.93it/s]"
     ]
    },
    {
     "name": "stdout",
     "output_type": "stream",
     "text": [
      "\u001b[32m2025-05-30 12:28:15.741\u001b[0m | \u001b[32m\u001b[1mSUCCESS \u001b[0m | \u001b[36moceansoda_ethzv2.data.utils.zarr_utils\u001b[0m:\u001b[36msave_to_zarr\u001b[0m:\u001b[36m329\u001b[0m - \u001b[32m\u001b[1mSaved to: ../data/8D_025/chl_occci_filled_flag-8D_025.zarr/2024:2024-06-21 00:00\u001b[0m\n"
     ]
    },
    {
     "name": "stderr",
     "output_type": "stream",
     "text": [
      "\n"
     ]
    },
    {
     "name": "stdout",
     "output_type": "stream",
     "text": [
      "\u001b[32m2025-05-30 12:28:15.770\u001b[0m | \u001b[1mINFO    \u001b[0m | \u001b[36moceansoda_ethzv2.data.utils.zarr_utils\u001b[0m:\u001b[36msave_to_zarr\u001b[0m:\u001b[36m321\u001b[0m - \u001b[1mStarting to write ../data/8D_025/chl_occci_filled-8D_025.zarr for time 2024-06-29 00:00:00\u001b[0m\n"
     ]
    },
    {
     "name": "stderr",
     "output_type": "stream",
     "text": [
      "Saving ../data/8D_025/chl_occci_filled-8D_025.zarr/2024:2024-06-29 00:00: 100%|██████████| 41/41 [00:00<00:00, 807.52it/s]"
     ]
    },
    {
     "name": "stdout",
     "output_type": "stream",
     "text": [
      "\u001b[32m2025-05-30 12:28:15.858\u001b[0m | \u001b[32m\u001b[1mSUCCESS \u001b[0m | \u001b[36moceansoda_ethzv2.data.utils.zarr_utils\u001b[0m:\u001b[36msave_to_zarr\u001b[0m:\u001b[36m329\u001b[0m - \u001b[32m\u001b[1mSaved to: ../data/8D_025/chl_occci_filled-8D_025.zarr/2024:2024-06-29 00:00\u001b[0m\n"
     ]
    },
    {
     "name": "stderr",
     "output_type": "stream",
     "text": [
      "\n"
     ]
    },
    {
     "name": "stdout",
     "output_type": "stream",
     "text": [
      "\u001b[32m2025-05-30 12:28:15.874\u001b[0m | \u001b[1mINFO    \u001b[0m | \u001b[36moceansoda_ethzv2.data.utils.zarr_utils\u001b[0m:\u001b[36msave_to_zarr\u001b[0m:\u001b[36m321\u001b[0m - \u001b[1mStarting to write ../data/8D_025/chl_occci_filled_flag-8D_025.zarr for time 2024-06-29 00:00:00\u001b[0m\n"
     ]
    },
    {
     "name": "stderr",
     "output_type": "stream",
     "text": [
      "Saving ../data/8D_025/chl_occci_filled_flag-8D_025.zarr/2024:2024-06-29 00:00: 100%|██████████| 41/41 [00:00<00:00, 603.96it/s]"
     ]
    },
    {
     "name": "stdout",
     "output_type": "stream",
     "text": [
      "\u001b[32m2025-05-30 12:28:15.967\u001b[0m | \u001b[32m\u001b[1mSUCCESS \u001b[0m | \u001b[36moceansoda_ethzv2.data.utils.zarr_utils\u001b[0m:\u001b[36msave_to_zarr\u001b[0m:\u001b[36m329\u001b[0m - \u001b[32m\u001b[1mSaved to: ../data/8D_025/chl_occci_filled_flag-8D_025.zarr/2024:2024-06-29 00:00\u001b[0m\n",
      "\u001b[32m2025-05-30 12:28:15.995\u001b[0m | \u001b[1mINFO    \u001b[0m | \u001b[36moceansoda_ethzv2.data.utils.zarr_utils\u001b[0m:\u001b[36msave_to_zarr\u001b[0m:\u001b[36m321\u001b[0m - \u001b[1mStarting to write ../data/8D_025/chl_occci_filled-8D_025.zarr for time 2024-07-07 00:00:00\u001b[0m\n"
     ]
    },
    {
     "name": "stderr",
     "output_type": "stream",
     "text": [
      "\n",
      "Saving ../data/8D_025/chl_occci_filled-8D_025.zarr/2024:2024-07-07 00:00: 100%|██████████| 41/41 [00:00<00:00, 840.76it/s]"
     ]
    },
    {
     "name": "stdout",
     "output_type": "stream",
     "text": [
      "\u001b[32m2025-05-30 12:28:16.085\u001b[0m | \u001b[32m\u001b[1mSUCCESS \u001b[0m | \u001b[36moceansoda_ethzv2.data.utils.zarr_utils\u001b[0m:\u001b[36msave_to_zarr\u001b[0m:\u001b[36m329\u001b[0m - \u001b[32m\u001b[1mSaved to: ../data/8D_025/chl_occci_filled-8D_025.zarr/2024:2024-07-07 00:00\u001b[0m\n"
     ]
    },
    {
     "name": "stderr",
     "output_type": "stream",
     "text": [
      "\n"
     ]
    },
    {
     "name": "stdout",
     "output_type": "stream",
     "text": [
      "\u001b[32m2025-05-30 12:28:16.105\u001b[0m | \u001b[1mINFO    \u001b[0m | \u001b[36moceansoda_ethzv2.data.utils.zarr_utils\u001b[0m:\u001b[36msave_to_zarr\u001b[0m:\u001b[36m321\u001b[0m - \u001b[1mStarting to write ../data/8D_025/chl_occci_filled_flag-8D_025.zarr for time 2024-07-07 00:00:00\u001b[0m\n"
     ]
    },
    {
     "name": "stderr",
     "output_type": "stream",
     "text": [
      "Saving ../data/8D_025/chl_occci_filled_flag-8D_025.zarr/2024:2024-07-07 00:00: 100%|██████████| 41/41 [00:00<00:00, 587.09it/s]"
     ]
    },
    {
     "name": "stdout",
     "output_type": "stream",
     "text": [
      "\u001b[32m2025-05-30 12:28:16.214\u001b[0m | \u001b[32m\u001b[1mSUCCESS \u001b[0m | \u001b[36moceansoda_ethzv2.data.utils.zarr_utils\u001b[0m:\u001b[36msave_to_zarr\u001b[0m:\u001b[36m329\u001b[0m - \u001b[32m\u001b[1mSaved to: ../data/8D_025/chl_occci_filled_flag-8D_025.zarr/2024:2024-07-07 00:00\u001b[0m\n"
     ]
    },
    {
     "name": "stderr",
     "output_type": "stream",
     "text": [
      "\n"
     ]
    },
    {
     "name": "stdout",
     "output_type": "stream",
     "text": [
      "\u001b[32m2025-05-30 12:28:16.243\u001b[0m | \u001b[1mINFO    \u001b[0m | \u001b[36moceansoda_ethzv2.data.utils.zarr_utils\u001b[0m:\u001b[36msave_to_zarr\u001b[0m:\u001b[36m321\u001b[0m - \u001b[1mStarting to write ../data/8D_025/chl_occci_filled-8D_025.zarr for time 2024-07-15 00:00:00\u001b[0m\n"
     ]
    },
    {
     "name": "stderr",
     "output_type": "stream",
     "text": [
      "Saving ../data/8D_025/chl_occci_filled-8D_025.zarr/2024:2024-07-15 00:00: 100%|██████████| 41/41 [00:00<00:00, 789.57it/s]"
     ]
    },
    {
     "name": "stdout",
     "output_type": "stream",
     "text": [
      "\u001b[32m2025-05-30 12:28:16.333\u001b[0m | \u001b[32m\u001b[1mSUCCESS \u001b[0m | \u001b[36moceansoda_ethzv2.data.utils.zarr_utils\u001b[0m:\u001b[36msave_to_zarr\u001b[0m:\u001b[36m329\u001b[0m - \u001b[32m\u001b[1mSaved to: ../data/8D_025/chl_occci_filled-8D_025.zarr/2024:2024-07-15 00:00\u001b[0m\n"
     ]
    },
    {
     "name": "stderr",
     "output_type": "stream",
     "text": [
      "\n"
     ]
    },
    {
     "name": "stdout",
     "output_type": "stream",
     "text": [
      "\u001b[32m2025-05-30 12:28:16.353\u001b[0m | \u001b[1mINFO    \u001b[0m | \u001b[36moceansoda_ethzv2.data.utils.zarr_utils\u001b[0m:\u001b[36msave_to_zarr\u001b[0m:\u001b[36m321\u001b[0m - \u001b[1mStarting to write ../data/8D_025/chl_occci_filled_flag-8D_025.zarr for time 2024-07-15 00:00:00\u001b[0m\n"
     ]
    },
    {
     "name": "stderr",
     "output_type": "stream",
     "text": [
      "Saving ../data/8D_025/chl_occci_filled_flag-8D_025.zarr/2024:2024-07-15 00:00: 100%|██████████| 41/41 [00:00<00:00, 609.85it/s]"
     ]
    },
    {
     "name": "stdout",
     "output_type": "stream",
     "text": [
      "\u001b[32m2025-05-30 12:28:16.488\u001b[0m | \u001b[32m\u001b[1mSUCCESS \u001b[0m | \u001b[36moceansoda_ethzv2.data.utils.zarr_utils\u001b[0m:\u001b[36msave_to_zarr\u001b[0m:\u001b[36m329\u001b[0m - \u001b[32m\u001b[1mSaved to: ../data/8D_025/chl_occci_filled_flag-8D_025.zarr/2024:2024-07-15 00:00\u001b[0m\n",
      "\u001b[32m2025-05-30 12:28:16.516\u001b[0m | \u001b[1mINFO    \u001b[0m | \u001b[36moceansoda_ethzv2.data.utils.zarr_utils\u001b[0m:\u001b[36msave_to_zarr\u001b[0m:\u001b[36m321\u001b[0m - \u001b[1mStarting to write ../data/8D_025/chl_occci_filled-8D_025.zarr for time 2024-07-23 00:00:00\u001b[0m\n"
     ]
    },
    {
     "name": "stderr",
     "output_type": "stream",
     "text": [
      "\n",
      "Saving ../data/8D_025/chl_occci_filled-8D_025.zarr/2024:2024-07-23 00:00: 100%|██████████| 41/41 [00:00<00:00, 809.17it/s]"
     ]
    },
    {
     "name": "stdout",
     "output_type": "stream",
     "text": [
      "\u001b[32m2025-05-30 12:28:16.606\u001b[0m | \u001b[32m\u001b[1mSUCCESS \u001b[0m | \u001b[36moceansoda_ethzv2.data.utils.zarr_utils\u001b[0m:\u001b[36msave_to_zarr\u001b[0m:\u001b[36m329\u001b[0m - \u001b[32m\u001b[1mSaved to: ../data/8D_025/chl_occci_filled-8D_025.zarr/2024:2024-07-23 00:00\u001b[0m\n"
     ]
    },
    {
     "name": "stderr",
     "output_type": "stream",
     "text": [
      "\n"
     ]
    },
    {
     "name": "stdout",
     "output_type": "stream",
     "text": [
      "\u001b[32m2025-05-30 12:28:16.626\u001b[0m | \u001b[1mINFO    \u001b[0m | \u001b[36moceansoda_ethzv2.data.utils.zarr_utils\u001b[0m:\u001b[36msave_to_zarr\u001b[0m:\u001b[36m321\u001b[0m - \u001b[1mStarting to write ../data/8D_025/chl_occci_filled_flag-8D_025.zarr for time 2024-07-23 00:00:00\u001b[0m\n"
     ]
    },
    {
     "name": "stderr",
     "output_type": "stream",
     "text": [
      "Saving ../data/8D_025/chl_occci_filled_flag-8D_025.zarr/2024:2024-07-23 00:00: 100%|██████████| 41/41 [00:00<00:00, 462.75it/s]"
     ]
    },
    {
     "name": "stdout",
     "output_type": "stream",
     "text": [
      "\u001b[32m2025-05-30 12:28:16.756\u001b[0m | \u001b[32m\u001b[1mSUCCESS \u001b[0m | \u001b[36moceansoda_ethzv2.data.utils.zarr_utils\u001b[0m:\u001b[36msave_to_zarr\u001b[0m:\u001b[36m329\u001b[0m - \u001b[32m\u001b[1mSaved to: ../data/8D_025/chl_occci_filled_flag-8D_025.zarr/2024:2024-07-23 00:00\u001b[0m\n",
      "\u001b[32m2025-05-30 12:28:16.784\u001b[0m | \u001b[1mINFO    \u001b[0m | \u001b[36moceansoda_ethzv2.data.utils.zarr_utils\u001b[0m:\u001b[36msave_to_zarr\u001b[0m:\u001b[36m321\u001b[0m - \u001b[1mStarting to write ../data/8D_025/chl_occci_filled-8D_025.zarr for time 2024-07-31 00:00:00\u001b[0m\n"
     ]
    },
    {
     "name": "stderr",
     "output_type": "stream",
     "text": [
      "\n",
      "Saving ../data/8D_025/chl_occci_filled-8D_025.zarr/2024:2024-07-31 00:00: 100%|██████████| 41/41 [00:00<00:00, 786.24it/s]"
     ]
    },
    {
     "name": "stdout",
     "output_type": "stream",
     "text": [
      "\u001b[32m2025-05-30 12:28:16.877\u001b[0m | \u001b[32m\u001b[1mSUCCESS \u001b[0m | \u001b[36moceansoda_ethzv2.data.utils.zarr_utils\u001b[0m:\u001b[36msave_to_zarr\u001b[0m:\u001b[36m329\u001b[0m - \u001b[32m\u001b[1mSaved to: ../data/8D_025/chl_occci_filled-8D_025.zarr/2024:2024-07-31 00:00\u001b[0m\n",
      "\u001b[32m2025-05-30 12:28:16.896\u001b[0m | \u001b[1mINFO    \u001b[0m | \u001b[36moceansoda_ethzv2.data.utils.zarr_utils\u001b[0m:\u001b[36msave_to_zarr\u001b[0m:\u001b[36m321\u001b[0m - \u001b[1mStarting to write ../data/8D_025/chl_occci_filled_flag-8D_025.zarr for time 2024-07-31 00:00:00\u001b[0m\n"
     ]
    },
    {
     "name": "stderr",
     "output_type": "stream",
     "text": [
      "\n",
      "Saving ../data/8D_025/chl_occci_filled_flag-8D_025.zarr/2024:2024-07-31 00:00: 100%|██████████| 41/41 [00:00<00:00, 441.97it/s]"
     ]
    },
    {
     "name": "stdout",
     "output_type": "stream",
     "text": [
      "\u001b[32m2025-05-30 12:28:17.030\u001b[0m | \u001b[32m\u001b[1mSUCCESS \u001b[0m | \u001b[36moceansoda_ethzv2.data.utils.zarr_utils\u001b[0m:\u001b[36msave_to_zarr\u001b[0m:\u001b[36m329\u001b[0m - \u001b[32m\u001b[1mSaved to: ../data/8D_025/chl_occci_filled_flag-8D_025.zarr/2024:2024-07-31 00:00\u001b[0m\n",
      "\u001b[32m2025-05-30 12:28:17.058\u001b[0m | \u001b[1mINFO    \u001b[0m | \u001b[36moceansoda_ethzv2.data.utils.zarr_utils\u001b[0m:\u001b[36msave_to_zarr\u001b[0m:\u001b[36m321\u001b[0m - \u001b[1mStarting to write ../data/8D_025/chl_occci_filled-8D_025.zarr for time 2024-08-08 00:00:00\u001b[0m\n"
     ]
    },
    {
     "name": "stderr",
     "output_type": "stream",
     "text": [
      "\n",
      "Saving ../data/8D_025/chl_occci_filled-8D_025.zarr/2024:2024-08-08 00:00: 100%|██████████| 41/41 [00:00<00:00, 814.83it/s]"
     ]
    },
    {
     "name": "stdout",
     "output_type": "stream",
     "text": [
      "\u001b[32m2025-05-30 12:28:17.147\u001b[0m | \u001b[32m\u001b[1mSUCCESS \u001b[0m | \u001b[36moceansoda_ethzv2.data.utils.zarr_utils\u001b[0m:\u001b[36msave_to_zarr\u001b[0m:\u001b[36m329\u001b[0m - \u001b[32m\u001b[1mSaved to: ../data/8D_025/chl_occci_filled-8D_025.zarr/2024:2024-08-08 00:00\u001b[0m\n",
      "\u001b[32m2025-05-30 12:28:17.166\u001b[0m | \u001b[1mINFO    \u001b[0m | \u001b[36moceansoda_ethzv2.data.utils.zarr_utils\u001b[0m:\u001b[36msave_to_zarr\u001b[0m:\u001b[36m321\u001b[0m - \u001b[1mStarting to write ../data/8D_025/chl_occci_filled_flag-8D_025.zarr for time 2024-08-08 00:00:00\u001b[0m\n"
     ]
    },
    {
     "name": "stderr",
     "output_type": "stream",
     "text": [
      "\n",
      "Saving ../data/8D_025/chl_occci_filled_flag-8D_025.zarr/2024:2024-08-08 00:00: 100%|██████████| 41/41 [00:00<00:00, 593.32it/s]"
     ]
    },
    {
     "name": "stdout",
     "output_type": "stream",
     "text": [
      "\u001b[32m2025-05-30 12:28:17.276\u001b[0m | \u001b[32m\u001b[1mSUCCESS \u001b[0m | \u001b[36moceansoda_ethzv2.data.utils.zarr_utils\u001b[0m:\u001b[36msave_to_zarr\u001b[0m:\u001b[36m329\u001b[0m - \u001b[32m\u001b[1mSaved to: ../data/8D_025/chl_occci_filled_flag-8D_025.zarr/2024:2024-08-08 00:00\u001b[0m\n"
     ]
    },
    {
     "name": "stderr",
     "output_type": "stream",
     "text": [
      "\n"
     ]
    },
    {
     "name": "stdout",
     "output_type": "stream",
     "text": [
      "\u001b[32m2025-05-30 12:28:17.305\u001b[0m | \u001b[1mINFO    \u001b[0m | \u001b[36moceansoda_ethzv2.data.utils.zarr_utils\u001b[0m:\u001b[36msave_to_zarr\u001b[0m:\u001b[36m321\u001b[0m - \u001b[1mStarting to write ../data/8D_025/chl_occci_filled-8D_025.zarr for time 2024-08-16 00:00:00\u001b[0m\n"
     ]
    },
    {
     "name": "stderr",
     "output_type": "stream",
     "text": [
      "Saving ../data/8D_025/chl_occci_filled-8D_025.zarr/2024:2024-08-16 00:00: 100%|██████████| 41/41 [00:00<00:00, 815.34it/s]"
     ]
    },
    {
     "name": "stdout",
     "output_type": "stream",
     "text": [
      "\u001b[32m2025-05-30 12:28:17.395\u001b[0m | \u001b[32m\u001b[1mSUCCESS \u001b[0m | \u001b[36moceansoda_ethzv2.data.utils.zarr_utils\u001b[0m:\u001b[36msave_to_zarr\u001b[0m:\u001b[36m329\u001b[0m - \u001b[32m\u001b[1mSaved to: ../data/8D_025/chl_occci_filled-8D_025.zarr/2024:2024-08-16 00:00\u001b[0m\n"
     ]
    },
    {
     "name": "stderr",
     "output_type": "stream",
     "text": [
      "\n"
     ]
    },
    {
     "name": "stdout",
     "output_type": "stream",
     "text": [
      "\u001b[32m2025-05-30 12:28:17.415\u001b[0m | \u001b[1mINFO    \u001b[0m | \u001b[36moceansoda_ethzv2.data.utils.zarr_utils\u001b[0m:\u001b[36msave_to_zarr\u001b[0m:\u001b[36m321\u001b[0m - \u001b[1mStarting to write ../data/8D_025/chl_occci_filled_flag-8D_025.zarr for time 2024-08-16 00:00:00\u001b[0m\n"
     ]
    },
    {
     "name": "stderr",
     "output_type": "stream",
     "text": [
      "Saving ../data/8D_025/chl_occci_filled_flag-8D_025.zarr/2024:2024-08-16 00:00: 100%|██████████| 41/41 [00:00<00:00, 599.81it/s]"
     ]
    },
    {
     "name": "stdout",
     "output_type": "stream",
     "text": [
      "\u001b[32m2025-05-30 12:28:17.523\u001b[0m | \u001b[32m\u001b[1mSUCCESS \u001b[0m | \u001b[36moceansoda_ethzv2.data.utils.zarr_utils\u001b[0m:\u001b[36msave_to_zarr\u001b[0m:\u001b[36m329\u001b[0m - \u001b[32m\u001b[1mSaved to: ../data/8D_025/chl_occci_filled_flag-8D_025.zarr/2024:2024-08-16 00:00\u001b[0m\n"
     ]
    },
    {
     "name": "stderr",
     "output_type": "stream",
     "text": [
      "\n"
     ]
    },
    {
     "name": "stdout",
     "output_type": "stream",
     "text": [
      "\u001b[32m2025-05-30 12:28:17.553\u001b[0m | \u001b[1mINFO    \u001b[0m | \u001b[36moceansoda_ethzv2.data.utils.zarr_utils\u001b[0m:\u001b[36msave_to_zarr\u001b[0m:\u001b[36m321\u001b[0m - \u001b[1mStarting to write ../data/8D_025/chl_occci_filled-8D_025.zarr for time 2024-08-24 00:00:00\u001b[0m\n"
     ]
    },
    {
     "name": "stderr",
     "output_type": "stream",
     "text": [
      "Saving ../data/8D_025/chl_occci_filled-8D_025.zarr/2024:2024-08-24 00:00: 100%|██████████| 41/41 [00:00<00:00, 845.98it/s]"
     ]
    },
    {
     "name": "stdout",
     "output_type": "stream",
     "text": [
      "\u001b[32m2025-05-30 12:28:17.639\u001b[0m | \u001b[32m\u001b[1mSUCCESS \u001b[0m | \u001b[36moceansoda_ethzv2.data.utils.zarr_utils\u001b[0m:\u001b[36msave_to_zarr\u001b[0m:\u001b[36m329\u001b[0m - \u001b[32m\u001b[1mSaved to: ../data/8D_025/chl_occci_filled-8D_025.zarr/2024:2024-08-24 00:00\u001b[0m\n"
     ]
    },
    {
     "name": "stderr",
     "output_type": "stream",
     "text": [
      "\n"
     ]
    },
    {
     "name": "stdout",
     "output_type": "stream",
     "text": [
      "\u001b[32m2025-05-30 12:28:17.660\u001b[0m | \u001b[1mINFO    \u001b[0m | \u001b[36moceansoda_ethzv2.data.utils.zarr_utils\u001b[0m:\u001b[36msave_to_zarr\u001b[0m:\u001b[36m321\u001b[0m - \u001b[1mStarting to write ../data/8D_025/chl_occci_filled_flag-8D_025.zarr for time 2024-08-24 00:00:00\u001b[0m\n"
     ]
    },
    {
     "name": "stderr",
     "output_type": "stream",
     "text": [
      "Saving ../data/8D_025/chl_occci_filled_flag-8D_025.zarr/2024:2024-08-24 00:00: 100%|██████████| 41/41 [00:00<00:00, 593.90it/s]"
     ]
    },
    {
     "name": "stdout",
     "output_type": "stream",
     "text": [
      "\u001b[32m2025-05-30 12:28:17.769\u001b[0m | \u001b[32m\u001b[1mSUCCESS \u001b[0m | \u001b[36moceansoda_ethzv2.data.utils.zarr_utils\u001b[0m:\u001b[36msave_to_zarr\u001b[0m:\u001b[36m329\u001b[0m - \u001b[32m\u001b[1mSaved to: ../data/8D_025/chl_occci_filled_flag-8D_025.zarr/2024:2024-08-24 00:00\u001b[0m\n"
     ]
    },
    {
     "name": "stderr",
     "output_type": "stream",
     "text": [
      "\n"
     ]
    },
    {
     "name": "stdout",
     "output_type": "stream",
     "text": [
      "\u001b[32m2025-05-30 12:28:17.799\u001b[0m | \u001b[1mINFO    \u001b[0m | \u001b[36moceansoda_ethzv2.data.utils.zarr_utils\u001b[0m:\u001b[36msave_to_zarr\u001b[0m:\u001b[36m321\u001b[0m - \u001b[1mStarting to write ../data/8D_025/chl_occci_filled-8D_025.zarr for time 2024-09-01 00:00:00\u001b[0m\n"
     ]
    },
    {
     "name": "stderr",
     "output_type": "stream",
     "text": [
      "Saving ../data/8D_025/chl_occci_filled-8D_025.zarr/2024:2024-09-01 00:00: 100%|██████████| 41/41 [00:00<00:00, 803.34it/s]"
     ]
    },
    {
     "name": "stdout",
     "output_type": "stream",
     "text": [
      "\u001b[32m2025-05-30 12:28:17.889\u001b[0m | \u001b[32m\u001b[1mSUCCESS \u001b[0m | \u001b[36moceansoda_ethzv2.data.utils.zarr_utils\u001b[0m:\u001b[36msave_to_zarr\u001b[0m:\u001b[36m329\u001b[0m - \u001b[32m\u001b[1mSaved to: ../data/8D_025/chl_occci_filled-8D_025.zarr/2024:2024-09-01 00:00\u001b[0m\n"
     ]
    },
    {
     "name": "stderr",
     "output_type": "stream",
     "text": [
      "\n"
     ]
    },
    {
     "name": "stdout",
     "output_type": "stream",
     "text": [
      "\u001b[32m2025-05-30 12:28:17.909\u001b[0m | \u001b[1mINFO    \u001b[0m | \u001b[36moceansoda_ethzv2.data.utils.zarr_utils\u001b[0m:\u001b[36msave_to_zarr\u001b[0m:\u001b[36m321\u001b[0m - \u001b[1mStarting to write ../data/8D_025/chl_occci_filled_flag-8D_025.zarr for time 2024-09-01 00:00:00\u001b[0m\n"
     ]
    },
    {
     "name": "stderr",
     "output_type": "stream",
     "text": [
      "Saving ../data/8D_025/chl_occci_filled_flag-8D_025.zarr/2024:2024-09-01 00:00: 100%|██████████| 41/41 [00:00<00:00, 593.10it/s]"
     ]
    },
    {
     "name": "stdout",
     "output_type": "stream",
     "text": [
      "\u001b[32m2025-05-30 12:28:18.018\u001b[0m | \u001b[32m\u001b[1mSUCCESS \u001b[0m | \u001b[36moceansoda_ethzv2.data.utils.zarr_utils\u001b[0m:\u001b[36msave_to_zarr\u001b[0m:\u001b[36m329\u001b[0m - \u001b[32m\u001b[1mSaved to: ../data/8D_025/chl_occci_filled_flag-8D_025.zarr/2024:2024-09-01 00:00\u001b[0m\n"
     ]
    },
    {
     "name": "stderr",
     "output_type": "stream",
     "text": [
      "\n"
     ]
    },
    {
     "name": "stdout",
     "output_type": "stream",
     "text": [
      "\u001b[32m2025-05-30 12:28:18.048\u001b[0m | \u001b[1mINFO    \u001b[0m | \u001b[36moceansoda_ethzv2.data.utils.zarr_utils\u001b[0m:\u001b[36msave_to_zarr\u001b[0m:\u001b[36m321\u001b[0m - \u001b[1mStarting to write ../data/8D_025/chl_occci_filled-8D_025.zarr for time 2024-09-09 00:00:00\u001b[0m\n"
     ]
    },
    {
     "name": "stderr",
     "output_type": "stream",
     "text": [
      "Saving ../data/8D_025/chl_occci_filled-8D_025.zarr/2024:2024-09-09 00:00: 100%|██████████| 41/41 [00:00<00:00, 824.15it/s]"
     ]
    },
    {
     "name": "stdout",
     "output_type": "stream",
     "text": [
      "\u001b[32m2025-05-30 12:28:18.136\u001b[0m | \u001b[32m\u001b[1mSUCCESS \u001b[0m | \u001b[36moceansoda_ethzv2.data.utils.zarr_utils\u001b[0m:\u001b[36msave_to_zarr\u001b[0m:\u001b[36m329\u001b[0m - \u001b[32m\u001b[1mSaved to: ../data/8D_025/chl_occci_filled-8D_025.zarr/2024:2024-09-09 00:00\u001b[0m\n"
     ]
    },
    {
     "name": "stderr",
     "output_type": "stream",
     "text": [
      "\n"
     ]
    },
    {
     "name": "stdout",
     "output_type": "stream",
     "text": [
      "\u001b[32m2025-05-30 12:28:18.156\u001b[0m | \u001b[1mINFO    \u001b[0m | \u001b[36moceansoda_ethzv2.data.utils.zarr_utils\u001b[0m:\u001b[36msave_to_zarr\u001b[0m:\u001b[36m321\u001b[0m - \u001b[1mStarting to write ../data/8D_025/chl_occci_filled_flag-8D_025.zarr for time 2024-09-09 00:00:00\u001b[0m\n"
     ]
    },
    {
     "name": "stderr",
     "output_type": "stream",
     "text": [
      "Saving ../data/8D_025/chl_occci_filled_flag-8D_025.zarr/2024:2024-09-09 00:00: 100%|██████████| 41/41 [00:00<00:00, 590.16it/s]"
     ]
    },
    {
     "name": "stdout",
     "output_type": "stream",
     "text": [
      "\u001b[32m2025-05-30 12:28:18.266\u001b[0m | \u001b[32m\u001b[1mSUCCESS \u001b[0m | \u001b[36moceansoda_ethzv2.data.utils.zarr_utils\u001b[0m:\u001b[36msave_to_zarr\u001b[0m:\u001b[36m329\u001b[0m - \u001b[32m\u001b[1mSaved to: ../data/8D_025/chl_occci_filled_flag-8D_025.zarr/2024:2024-09-09 00:00\u001b[0m\n"
     ]
    },
    {
     "name": "stderr",
     "output_type": "stream",
     "text": [
      "\n"
     ]
    },
    {
     "name": "stdout",
     "output_type": "stream",
     "text": [
      "\u001b[32m2025-05-30 12:28:18.296\u001b[0m | \u001b[1mINFO    \u001b[0m | \u001b[36moceansoda_ethzv2.data.utils.zarr_utils\u001b[0m:\u001b[36msave_to_zarr\u001b[0m:\u001b[36m321\u001b[0m - \u001b[1mStarting to write ../data/8D_025/chl_occci_filled-8D_025.zarr for time 2024-09-17 00:00:00\u001b[0m\n"
     ]
    },
    {
     "name": "stderr",
     "output_type": "stream",
     "text": [
      "Saving ../data/8D_025/chl_occci_filled-8D_025.zarr/2024:2024-09-17 00:00: 100%|██████████| 41/41 [00:00<00:00, 792.66it/s]"
     ]
    },
    {
     "name": "stdout",
     "output_type": "stream",
     "text": [
      "\u001b[32m2025-05-30 12:28:18.385\u001b[0m | \u001b[32m\u001b[1mSUCCESS \u001b[0m | \u001b[36moceansoda_ethzv2.data.utils.zarr_utils\u001b[0m:\u001b[36msave_to_zarr\u001b[0m:\u001b[36m329\u001b[0m - \u001b[32m\u001b[1mSaved to: ../data/8D_025/chl_occci_filled-8D_025.zarr/2024:2024-09-17 00:00\u001b[0m\n"
     ]
    },
    {
     "name": "stderr",
     "output_type": "stream",
     "text": [
      "\n"
     ]
    },
    {
     "name": "stdout",
     "output_type": "stream",
     "text": [
      "\u001b[32m2025-05-30 12:28:18.406\u001b[0m | \u001b[1mINFO    \u001b[0m | \u001b[36moceansoda_ethzv2.data.utils.zarr_utils\u001b[0m:\u001b[36msave_to_zarr\u001b[0m:\u001b[36m321\u001b[0m - \u001b[1mStarting to write ../data/8D_025/chl_occci_filled_flag-8D_025.zarr for time 2024-09-17 00:00:00\u001b[0m\n"
     ]
    },
    {
     "name": "stderr",
     "output_type": "stream",
     "text": [
      "Saving ../data/8D_025/chl_occci_filled_flag-8D_025.zarr/2024:2024-09-17 00:00: 100%|██████████| 41/41 [00:00<00:00, 613.69it/s]"
     ]
    },
    {
     "name": "stdout",
     "output_type": "stream",
     "text": [
      "\u001b[32m2025-05-30 12:28:18.513\u001b[0m | \u001b[32m\u001b[1mSUCCESS \u001b[0m | \u001b[36moceansoda_ethzv2.data.utils.zarr_utils\u001b[0m:\u001b[36msave_to_zarr\u001b[0m:\u001b[36m329\u001b[0m - \u001b[32m\u001b[1mSaved to: ../data/8D_025/chl_occci_filled_flag-8D_025.zarr/2024:2024-09-17 00:00\u001b[0m\n"
     ]
    },
    {
     "name": "stderr",
     "output_type": "stream",
     "text": [
      "\n"
     ]
    },
    {
     "name": "stdout",
     "output_type": "stream",
     "text": [
      "\u001b[32m2025-05-30 12:28:18.543\u001b[0m | \u001b[1mINFO    \u001b[0m | \u001b[36moceansoda_ethzv2.data.utils.zarr_utils\u001b[0m:\u001b[36msave_to_zarr\u001b[0m:\u001b[36m321\u001b[0m - \u001b[1mStarting to write ../data/8D_025/chl_occci_filled-8D_025.zarr for time 2024-09-25 00:00:00\u001b[0m\n"
     ]
    },
    {
     "name": "stderr",
     "output_type": "stream",
     "text": [
      "Saving ../data/8D_025/chl_occci_filled-8D_025.zarr/2024:2024-09-25 00:00: 100%|██████████| 41/41 [00:00<00:00, 821.64it/s]"
     ]
    },
    {
     "name": "stdout",
     "output_type": "stream",
     "text": [
      "\u001b[32m2025-05-30 12:28:18.630\u001b[0m | \u001b[32m\u001b[1mSUCCESS \u001b[0m | \u001b[36moceansoda_ethzv2.data.utils.zarr_utils\u001b[0m:\u001b[36msave_to_zarr\u001b[0m:\u001b[36m329\u001b[0m - \u001b[32m\u001b[1mSaved to: ../data/8D_025/chl_occci_filled-8D_025.zarr/2024:2024-09-25 00:00\u001b[0m\n"
     ]
    },
    {
     "name": "stderr",
     "output_type": "stream",
     "text": [
      "\n"
     ]
    },
    {
     "name": "stdout",
     "output_type": "stream",
     "text": [
      "\u001b[32m2025-05-30 12:28:18.650\u001b[0m | \u001b[1mINFO    \u001b[0m | \u001b[36moceansoda_ethzv2.data.utils.zarr_utils\u001b[0m:\u001b[36msave_to_zarr\u001b[0m:\u001b[36m321\u001b[0m - \u001b[1mStarting to write ../data/8D_025/chl_occci_filled_flag-8D_025.zarr for time 2024-09-25 00:00:00\u001b[0m\n"
     ]
    },
    {
     "name": "stderr",
     "output_type": "stream",
     "text": [
      "Saving ../data/8D_025/chl_occci_filled_flag-8D_025.zarr/2024:2024-09-25 00:00: 100%|██████████| 41/41 [00:00<00:00, 459.13it/s]"
     ]
    },
    {
     "name": "stdout",
     "output_type": "stream",
     "text": [
      "\u001b[32m2025-05-30 12:28:18.780\u001b[0m | \u001b[32m\u001b[1mSUCCESS \u001b[0m | \u001b[36moceansoda_ethzv2.data.utils.zarr_utils\u001b[0m:\u001b[36msave_to_zarr\u001b[0m:\u001b[36m329\u001b[0m - \u001b[32m\u001b[1mSaved to: ../data/8D_025/chl_occci_filled_flag-8D_025.zarr/2024:2024-09-25 00:00\u001b[0m\n",
      "\u001b[32m2025-05-30 12:28:18.809\u001b[0m | \u001b[1mINFO    \u001b[0m | \u001b[36moceansoda_ethzv2.data.utils.zarr_utils\u001b[0m:\u001b[36msave_to_zarr\u001b[0m:\u001b[36m321\u001b[0m - \u001b[1mStarting to write ../data/8D_025/chl_occci_filled-8D_025.zarr for time 2024-10-03 00:00:00\u001b[0m\n"
     ]
    },
    {
     "name": "stderr",
     "output_type": "stream",
     "text": [
      "\n",
      "Saving ../data/8D_025/chl_occci_filled-8D_025.zarr/2024:2024-10-03 00:00: 100%|██████████| 41/41 [00:00<00:00, 911.75it/s]"
     ]
    },
    {
     "name": "stdout",
     "output_type": "stream",
     "text": [
      "\u001b[32m2025-05-30 12:28:18.891\u001b[0m | \u001b[32m\u001b[1mSUCCESS \u001b[0m | \u001b[36moceansoda_ethzv2.data.utils.zarr_utils\u001b[0m:\u001b[36msave_to_zarr\u001b[0m:\u001b[36m329\u001b[0m - \u001b[32m\u001b[1mSaved to: ../data/8D_025/chl_occci_filled-8D_025.zarr/2024:2024-10-03 00:00\u001b[0m\n",
      "\u001b[32m2025-05-30 12:28:18.911\u001b[0m | \u001b[1mINFO    \u001b[0m | \u001b[36moceansoda_ethzv2.data.utils.zarr_utils\u001b[0m:\u001b[36msave_to_zarr\u001b[0m:\u001b[36m321\u001b[0m - \u001b[1mStarting to write ../data/8D_025/chl_occci_filled_flag-8D_025.zarr for time 2024-10-03 00:00:00\u001b[0m\n"
     ]
    },
    {
     "name": "stderr",
     "output_type": "stream",
     "text": [
      "\n",
      "Saving ../data/8D_025/chl_occci_filled_flag-8D_025.zarr/2024:2024-10-03 00:00: 100%|██████████| 41/41 [00:00<00:00, 501.06it/s]"
     ]
    },
    {
     "name": "stdout",
     "output_type": "stream",
     "text": [
      "\u001b[32m2025-05-30 12:28:19.050\u001b[0m | \u001b[32m\u001b[1mSUCCESS \u001b[0m | \u001b[36moceansoda_ethzv2.data.utils.zarr_utils\u001b[0m:\u001b[36msave_to_zarr\u001b[0m:\u001b[36m329\u001b[0m - \u001b[32m\u001b[1mSaved to: ../data/8D_025/chl_occci_filled_flag-8D_025.zarr/2024:2024-10-03 00:00\u001b[0m\n",
      "\u001b[32m2025-05-30 12:28:19.079\u001b[0m | \u001b[1mINFO    \u001b[0m | \u001b[36moceansoda_ethzv2.data.utils.zarr_utils\u001b[0m:\u001b[36msave_to_zarr\u001b[0m:\u001b[36m321\u001b[0m - \u001b[1mStarting to write ../data/8D_025/chl_occci_filled-8D_025.zarr for time 2024-10-11 00:00:00\u001b[0m\n"
     ]
    },
    {
     "name": "stderr",
     "output_type": "stream",
     "text": [
      "\n",
      "Saving ../data/8D_025/chl_occci_filled-8D_025.zarr/2024:2024-10-11 00:00: 100%|██████████| 41/41 [00:00<00:00, 794.60it/s]"
     ]
    },
    {
     "name": "stdout",
     "output_type": "stream",
     "text": [
      "\u001b[32m2025-05-30 12:28:19.172\u001b[0m | \u001b[32m\u001b[1mSUCCESS \u001b[0m | \u001b[36moceansoda_ethzv2.data.utils.zarr_utils\u001b[0m:\u001b[36msave_to_zarr\u001b[0m:\u001b[36m329\u001b[0m - \u001b[32m\u001b[1mSaved to: ../data/8D_025/chl_occci_filled-8D_025.zarr/2024:2024-10-11 00:00\u001b[0m\n",
      "\u001b[32m2025-05-30 12:28:19.191\u001b[0m | \u001b[1mINFO    \u001b[0m | \u001b[36moceansoda_ethzv2.data.utils.zarr_utils\u001b[0m:\u001b[36msave_to_zarr\u001b[0m:\u001b[36m321\u001b[0m - \u001b[1mStarting to write ../data/8D_025/chl_occci_filled_flag-8D_025.zarr for time 2024-10-11 00:00:00\u001b[0m\n"
     ]
    },
    {
     "name": "stderr",
     "output_type": "stream",
     "text": [
      "\n",
      "Saving ../data/8D_025/chl_occci_filled_flag-8D_025.zarr/2024:2024-10-11 00:00: 100%|██████████| 41/41 [00:00<00:00, 585.90it/s]"
     ]
    },
    {
     "name": "stdout",
     "output_type": "stream",
     "text": [
      "\u001b[32m2025-05-30 12:28:19.300\u001b[0m | \u001b[32m\u001b[1mSUCCESS \u001b[0m | \u001b[36moceansoda_ethzv2.data.utils.zarr_utils\u001b[0m:\u001b[36msave_to_zarr\u001b[0m:\u001b[36m329\u001b[0m - \u001b[32m\u001b[1mSaved to: ../data/8D_025/chl_occci_filled_flag-8D_025.zarr/2024:2024-10-11 00:00\u001b[0m\n"
     ]
    },
    {
     "name": "stderr",
     "output_type": "stream",
     "text": [
      "\n"
     ]
    },
    {
     "name": "stdout",
     "output_type": "stream",
     "text": [
      "\u001b[32m2025-05-30 12:28:19.330\u001b[0m | \u001b[1mINFO    \u001b[0m | \u001b[36moceansoda_ethzv2.data.utils.zarr_utils\u001b[0m:\u001b[36msave_to_zarr\u001b[0m:\u001b[36m321\u001b[0m - \u001b[1mStarting to write ../data/8D_025/chl_occci_filled-8D_025.zarr for time 2024-10-19 00:00:00\u001b[0m\n"
     ]
    },
    {
     "name": "stderr",
     "output_type": "stream",
     "text": [
      "Saving ../data/8D_025/chl_occci_filled-8D_025.zarr/2024:2024-10-19 00:00: 100%|██████████| 41/41 [00:00<00:00, 800.59it/s]"
     ]
    },
    {
     "name": "stdout",
     "output_type": "stream",
     "text": [
      "\u001b[32m2025-05-30 12:28:19.419\u001b[0m | \u001b[32m\u001b[1mSUCCESS \u001b[0m | \u001b[36moceansoda_ethzv2.data.utils.zarr_utils\u001b[0m:\u001b[36msave_to_zarr\u001b[0m:\u001b[36m329\u001b[0m - \u001b[32m\u001b[1mSaved to: ../data/8D_025/chl_occci_filled-8D_025.zarr/2024:2024-10-19 00:00\u001b[0m\n"
     ]
    },
    {
     "name": "stderr",
     "output_type": "stream",
     "text": [
      "\n"
     ]
    },
    {
     "name": "stdout",
     "output_type": "stream",
     "text": [
      "\u001b[32m2025-05-30 12:28:19.440\u001b[0m | \u001b[1mINFO    \u001b[0m | \u001b[36moceansoda_ethzv2.data.utils.zarr_utils\u001b[0m:\u001b[36msave_to_zarr\u001b[0m:\u001b[36m321\u001b[0m - \u001b[1mStarting to write ../data/8D_025/chl_occci_filled_flag-8D_025.zarr for time 2024-10-19 00:00:00\u001b[0m\n"
     ]
    },
    {
     "name": "stderr",
     "output_type": "stream",
     "text": [
      "Saving ../data/8D_025/chl_occci_filled_flag-8D_025.zarr/2024:2024-10-19 00:00: 100%|██████████| 41/41 [00:00<00:00, 521.50it/s]"
     ]
    },
    {
     "name": "stdout",
     "output_type": "stream",
     "text": [
      "\u001b[32m2025-05-30 12:28:19.559\u001b[0m | \u001b[32m\u001b[1mSUCCESS \u001b[0m | \u001b[36moceansoda_ethzv2.data.utils.zarr_utils\u001b[0m:\u001b[36msave_to_zarr\u001b[0m:\u001b[36m329\u001b[0m - \u001b[32m\u001b[1mSaved to: ../data/8D_025/chl_occci_filled_flag-8D_025.zarr/2024:2024-10-19 00:00\u001b[0m\n"
     ]
    },
    {
     "name": "stderr",
     "output_type": "stream",
     "text": [
      "\n"
     ]
    },
    {
     "name": "stdout",
     "output_type": "stream",
     "text": [
      "\u001b[32m2025-05-30 12:28:19.589\u001b[0m | \u001b[1mINFO    \u001b[0m | \u001b[36moceansoda_ethzv2.data.utils.zarr_utils\u001b[0m:\u001b[36msave_to_zarr\u001b[0m:\u001b[36m321\u001b[0m - \u001b[1mStarting to write ../data/8D_025/chl_occci_filled-8D_025.zarr for time 2024-10-27 00:00:00\u001b[0m\n"
     ]
    },
    {
     "name": "stderr",
     "output_type": "stream",
     "text": [
      "Saving ../data/8D_025/chl_occci_filled-8D_025.zarr/2024:2024-10-27 00:00: 100%|██████████| 41/41 [00:00<00:00, 789.62it/s]\n"
     ]
    },
    {
     "name": "stdout",
     "output_type": "stream",
     "text": [
      "\u001b[32m2025-05-30 12:28:19.678\u001b[0m | \u001b[32m\u001b[1mSUCCESS \u001b[0m | \u001b[36moceansoda_ethzv2.data.utils.zarr_utils\u001b[0m:\u001b[36msave_to_zarr\u001b[0m:\u001b[36m329\u001b[0m - \u001b[32m\u001b[1mSaved to: ../data/8D_025/chl_occci_filled-8D_025.zarr/2024:2024-10-27 00:00\u001b[0m\n",
      "\u001b[32m2025-05-30 12:28:19.699\u001b[0m | \u001b[1mINFO    \u001b[0m | \u001b[36moceansoda_ethzv2.data.utils.zarr_utils\u001b[0m:\u001b[36msave_to_zarr\u001b[0m:\u001b[36m321\u001b[0m - \u001b[1mStarting to write ../data/8D_025/chl_occci_filled_flag-8D_025.zarr for time 2024-10-27 00:00:00\u001b[0m\n"
     ]
    },
    {
     "name": "stderr",
     "output_type": "stream",
     "text": [
      "Saving ../data/8D_025/chl_occci_filled_flag-8D_025.zarr/2024:2024-10-27 00:00: 100%|██████████| 41/41 [00:00<00:00, 534.28it/s]"
     ]
    },
    {
     "name": "stdout",
     "output_type": "stream",
     "text": [
      "\u001b[32m2025-05-30 12:28:19.840\u001b[0m | \u001b[32m\u001b[1mSUCCESS \u001b[0m | \u001b[36moceansoda_ethzv2.data.utils.zarr_utils\u001b[0m:\u001b[36msave_to_zarr\u001b[0m:\u001b[36m329\u001b[0m - \u001b[32m\u001b[1mSaved to: ../data/8D_025/chl_occci_filled_flag-8D_025.zarr/2024:2024-10-27 00:00\u001b[0m\n",
      "\u001b[32m2025-05-30 12:28:19.869\u001b[0m | \u001b[1mINFO    \u001b[0m | \u001b[36moceansoda_ethzv2.data.utils.zarr_utils\u001b[0m:\u001b[36msave_to_zarr\u001b[0m:\u001b[36m321\u001b[0m - \u001b[1mStarting to write ../data/8D_025/chl_occci_filled-8D_025.zarr for time 2024-11-04 00:00:00\u001b[0m\n"
     ]
    },
    {
     "name": "stderr",
     "output_type": "stream",
     "text": [
      "\n",
      "Saving ../data/8D_025/chl_occci_filled-8D_025.zarr/2024:2024-11-04 00:00: 100%|██████████| 41/41 [00:00<00:00, 807.44it/s]\n"
     ]
    },
    {
     "name": "stdout",
     "output_type": "stream",
     "text": [
      "\u001b[32m2025-05-30 12:28:19.960\u001b[0m | \u001b[32m\u001b[1mSUCCESS \u001b[0m | \u001b[36moceansoda_ethzv2.data.utils.zarr_utils\u001b[0m:\u001b[36msave_to_zarr\u001b[0m:\u001b[36m329\u001b[0m - \u001b[32m\u001b[1mSaved to: ../data/8D_025/chl_occci_filled-8D_025.zarr/2024:2024-11-04 00:00\u001b[0m\n",
      "\u001b[32m2025-05-30 12:28:19.981\u001b[0m | \u001b[1mINFO    \u001b[0m | \u001b[36moceansoda_ethzv2.data.utils.zarr_utils\u001b[0m:\u001b[36msave_to_zarr\u001b[0m:\u001b[36m321\u001b[0m - \u001b[1mStarting to write ../data/8D_025/chl_occci_filled_flag-8D_025.zarr for time 2024-11-04 00:00:00\u001b[0m\n"
     ]
    },
    {
     "name": "stderr",
     "output_type": "stream",
     "text": [
      "Saving ../data/8D_025/chl_occci_filled_flag-8D_025.zarr/2024:2024-11-04 00:00: 100%|██████████| 41/41 [00:00<00:00, 607.37it/s]"
     ]
    },
    {
     "name": "stdout",
     "output_type": "stream",
     "text": [
      "\u001b[32m2025-05-30 12:28:20.085\u001b[0m | \u001b[32m\u001b[1mSUCCESS \u001b[0m | \u001b[36moceansoda_ethzv2.data.utils.zarr_utils\u001b[0m:\u001b[36msave_to_zarr\u001b[0m:\u001b[36m329\u001b[0m - \u001b[32m\u001b[1mSaved to: ../data/8D_025/chl_occci_filled_flag-8D_025.zarr/2024:2024-11-04 00:00\u001b[0m\n"
     ]
    },
    {
     "name": "stderr",
     "output_type": "stream",
     "text": [
      "\n"
     ]
    },
    {
     "name": "stdout",
     "output_type": "stream",
     "text": [
      "\u001b[32m2025-05-30 12:28:20.115\u001b[0m | \u001b[1mINFO    \u001b[0m | \u001b[36moceansoda_ethzv2.data.utils.zarr_utils\u001b[0m:\u001b[36msave_to_zarr\u001b[0m:\u001b[36m321\u001b[0m - \u001b[1mStarting to write ../data/8D_025/chl_occci_filled-8D_025.zarr for time 2024-11-12 00:00:00\u001b[0m\n"
     ]
    },
    {
     "name": "stderr",
     "output_type": "stream",
     "text": [
      "Saving ../data/8D_025/chl_occci_filled-8D_025.zarr/2024:2024-11-12 00:00: 100%|██████████| 41/41 [00:00<00:00, 835.92it/s]"
     ]
    },
    {
     "name": "stdout",
     "output_type": "stream",
     "text": [
      "\u001b[32m2025-05-30 12:28:20.205\u001b[0m | \u001b[32m\u001b[1mSUCCESS \u001b[0m | \u001b[36moceansoda_ethzv2.data.utils.zarr_utils\u001b[0m:\u001b[36msave_to_zarr\u001b[0m:\u001b[36m329\u001b[0m - \u001b[32m\u001b[1mSaved to: ../data/8D_025/chl_occci_filled-8D_025.zarr/2024:2024-11-12 00:00\u001b[0m\n"
     ]
    },
    {
     "name": "stderr",
     "output_type": "stream",
     "text": [
      "\n"
     ]
    },
    {
     "name": "stdout",
     "output_type": "stream",
     "text": [
      "\u001b[32m2025-05-30 12:28:20.226\u001b[0m | \u001b[1mINFO    \u001b[0m | \u001b[36moceansoda_ethzv2.data.utils.zarr_utils\u001b[0m:\u001b[36msave_to_zarr\u001b[0m:\u001b[36m321\u001b[0m - \u001b[1mStarting to write ../data/8D_025/chl_occci_filled_flag-8D_025.zarr for time 2024-11-12 00:00:00\u001b[0m\n"
     ]
    },
    {
     "name": "stderr",
     "output_type": "stream",
     "text": [
      "Saving ../data/8D_025/chl_occci_filled_flag-8D_025.zarr/2024:2024-11-12 00:00: 100%|██████████| 41/41 [00:00<00:00, 577.71it/s]"
     ]
    },
    {
     "name": "stdout",
     "output_type": "stream",
     "text": [
      "\u001b[32m2025-05-30 12:28:20.336\u001b[0m | \u001b[32m\u001b[1mSUCCESS \u001b[0m | \u001b[36moceansoda_ethzv2.data.utils.zarr_utils\u001b[0m:\u001b[36msave_to_zarr\u001b[0m:\u001b[36m329\u001b[0m - \u001b[32m\u001b[1mSaved to: ../data/8D_025/chl_occci_filled_flag-8D_025.zarr/2024:2024-11-12 00:00\u001b[0m\n"
     ]
    },
    {
     "name": "stderr",
     "output_type": "stream",
     "text": [
      "\n"
     ]
    },
    {
     "name": "stdout",
     "output_type": "stream",
     "text": [
      "\u001b[32m2025-05-30 12:28:20.367\u001b[0m | \u001b[1mINFO    \u001b[0m | \u001b[36moceansoda_ethzv2.data.utils.zarr_utils\u001b[0m:\u001b[36msave_to_zarr\u001b[0m:\u001b[36m321\u001b[0m - \u001b[1mStarting to write ../data/8D_025/chl_occci_filled-8D_025.zarr for time 2024-11-20 00:00:00\u001b[0m\n"
     ]
    },
    {
     "name": "stderr",
     "output_type": "stream",
     "text": [
      "Saving ../data/8D_025/chl_occci_filled-8D_025.zarr/2024:2024-11-20 00:00: 100%|██████████| 41/41 [00:00<00:00, 781.97it/s]"
     ]
    },
    {
     "name": "stdout",
     "output_type": "stream",
     "text": [
      "\u001b[32m2025-05-30 12:28:20.457\u001b[0m | \u001b[32m\u001b[1mSUCCESS \u001b[0m | \u001b[36moceansoda_ethzv2.data.utils.zarr_utils\u001b[0m:\u001b[36msave_to_zarr\u001b[0m:\u001b[36m329\u001b[0m - \u001b[32m\u001b[1mSaved to: ../data/8D_025/chl_occci_filled-8D_025.zarr/2024:2024-11-20 00:00\u001b[0m\n"
     ]
    },
    {
     "name": "stderr",
     "output_type": "stream",
     "text": [
      "\n"
     ]
    },
    {
     "name": "stdout",
     "output_type": "stream",
     "text": [
      "\u001b[32m2025-05-30 12:28:20.479\u001b[0m | \u001b[1mINFO    \u001b[0m | \u001b[36moceansoda_ethzv2.data.utils.zarr_utils\u001b[0m:\u001b[36msave_to_zarr\u001b[0m:\u001b[36m321\u001b[0m - \u001b[1mStarting to write ../data/8D_025/chl_occci_filled_flag-8D_025.zarr for time 2024-11-20 00:00:00\u001b[0m\n"
     ]
    },
    {
     "name": "stderr",
     "output_type": "stream",
     "text": [
      "Saving ../data/8D_025/chl_occci_filled_flag-8D_025.zarr/2024:2024-11-20 00:00: 100%|██████████| 41/41 [00:00<00:00, 591.53it/s]"
     ]
    },
    {
     "name": "stdout",
     "output_type": "stream",
     "text": [
      "\u001b[32m2025-05-30 12:28:20.587\u001b[0m | \u001b[32m\u001b[1mSUCCESS \u001b[0m | \u001b[36moceansoda_ethzv2.data.utils.zarr_utils\u001b[0m:\u001b[36msave_to_zarr\u001b[0m:\u001b[36m329\u001b[0m - \u001b[32m\u001b[1mSaved to: ../data/8D_025/chl_occci_filled_flag-8D_025.zarr/2024:2024-11-20 00:00\u001b[0m\n"
     ]
    },
    {
     "name": "stderr",
     "output_type": "stream",
     "text": [
      "\n"
     ]
    },
    {
     "name": "stdout",
     "output_type": "stream",
     "text": [
      "\u001b[32m2025-05-30 12:28:20.618\u001b[0m | \u001b[1mINFO    \u001b[0m | \u001b[36moceansoda_ethzv2.data.utils.zarr_utils\u001b[0m:\u001b[36msave_to_zarr\u001b[0m:\u001b[36m321\u001b[0m - \u001b[1mStarting to write ../data/8D_025/chl_occci_filled-8D_025.zarr for time 2024-11-28 00:00:00\u001b[0m\n"
     ]
    },
    {
     "name": "stderr",
     "output_type": "stream",
     "text": [
      "Saving ../data/8D_025/chl_occci_filled-8D_025.zarr/2024:2024-11-28 00:00: 100%|██████████| 41/41 [00:00<00:00, 774.78it/s]"
     ]
    },
    {
     "name": "stdout",
     "output_type": "stream",
     "text": [
      "\u001b[32m2025-05-30 12:28:20.709\u001b[0m | \u001b[32m\u001b[1mSUCCESS \u001b[0m | \u001b[36moceansoda_ethzv2.data.utils.zarr_utils\u001b[0m:\u001b[36msave_to_zarr\u001b[0m:\u001b[36m329\u001b[0m - \u001b[32m\u001b[1mSaved to: ../data/8D_025/chl_occci_filled-8D_025.zarr/2024:2024-11-28 00:00\u001b[0m\n"
     ]
    },
    {
     "name": "stderr",
     "output_type": "stream",
     "text": [
      "\n"
     ]
    },
    {
     "name": "stdout",
     "output_type": "stream",
     "text": [
      "\u001b[32m2025-05-30 12:28:20.730\u001b[0m | \u001b[1mINFO    \u001b[0m | \u001b[36moceansoda_ethzv2.data.utils.zarr_utils\u001b[0m:\u001b[36msave_to_zarr\u001b[0m:\u001b[36m321\u001b[0m - \u001b[1mStarting to write ../data/8D_025/chl_occci_filled_flag-8D_025.zarr for time 2024-11-28 00:00:00\u001b[0m\n"
     ]
    },
    {
     "name": "stderr",
     "output_type": "stream",
     "text": [
      "Saving ../data/8D_025/chl_occci_filled_flag-8D_025.zarr/2024:2024-11-28 00:00: 100%|██████████| 41/41 [00:00<00:00, 613.91it/s]"
     ]
    },
    {
     "name": "stdout",
     "output_type": "stream",
     "text": [
      "\u001b[32m2025-05-30 12:28:20.836\u001b[0m | \u001b[32m\u001b[1mSUCCESS \u001b[0m | \u001b[36moceansoda_ethzv2.data.utils.zarr_utils\u001b[0m:\u001b[36msave_to_zarr\u001b[0m:\u001b[36m329\u001b[0m - \u001b[32m\u001b[1mSaved to: ../data/8D_025/chl_occci_filled_flag-8D_025.zarr/2024:2024-11-28 00:00\u001b[0m\n"
     ]
    },
    {
     "name": "stderr",
     "output_type": "stream",
     "text": [
      "\n"
     ]
    },
    {
     "name": "stdout",
     "output_type": "stream",
     "text": [
      "\u001b[32m2025-05-30 12:28:20.866\u001b[0m | \u001b[1mINFO    \u001b[0m | \u001b[36moceansoda_ethzv2.data.utils.zarr_utils\u001b[0m:\u001b[36msave_to_zarr\u001b[0m:\u001b[36m321\u001b[0m - \u001b[1mStarting to write ../data/8D_025/chl_occci_filled-8D_025.zarr for time 2024-12-06 00:00:00\u001b[0m\n"
     ]
    },
    {
     "name": "stderr",
     "output_type": "stream",
     "text": [
      "Saving ../data/8D_025/chl_occci_filled-8D_025.zarr/2024:2024-12-06 00:00: 100%|██████████| 41/41 [00:00<00:00, 784.04it/s]"
     ]
    },
    {
     "name": "stdout",
     "output_type": "stream",
     "text": [
      "\u001b[32m2025-05-30 12:28:20.956\u001b[0m | \u001b[32m\u001b[1mSUCCESS \u001b[0m | \u001b[36moceansoda_ethzv2.data.utils.zarr_utils\u001b[0m:\u001b[36msave_to_zarr\u001b[0m:\u001b[36m329\u001b[0m - \u001b[32m\u001b[1mSaved to: ../data/8D_025/chl_occci_filled-8D_025.zarr/2024:2024-12-06 00:00\u001b[0m\n"
     ]
    },
    {
     "name": "stderr",
     "output_type": "stream",
     "text": [
      "\n"
     ]
    },
    {
     "name": "stdout",
     "output_type": "stream",
     "text": [
      "\u001b[32m2025-05-30 12:28:20.978\u001b[0m | \u001b[1mINFO    \u001b[0m | \u001b[36moceansoda_ethzv2.data.utils.zarr_utils\u001b[0m:\u001b[36msave_to_zarr\u001b[0m:\u001b[36m321\u001b[0m - \u001b[1mStarting to write ../data/8D_025/chl_occci_filled_flag-8D_025.zarr for time 2024-12-06 00:00:00\u001b[0m\n"
     ]
    },
    {
     "name": "stderr",
     "output_type": "stream",
     "text": [
      "Saving ../data/8D_025/chl_occci_filled_flag-8D_025.zarr/2024:2024-12-06 00:00: 100%|██████████| 41/41 [00:00<00:00, 581.93it/s]"
     ]
    },
    {
     "name": "stdout",
     "output_type": "stream",
     "text": [
      "\u001b[32m2025-05-30 12:28:21.088\u001b[0m | \u001b[32m\u001b[1mSUCCESS \u001b[0m | \u001b[36moceansoda_ethzv2.data.utils.zarr_utils\u001b[0m:\u001b[36msave_to_zarr\u001b[0m:\u001b[36m329\u001b[0m - \u001b[32m\u001b[1mSaved to: ../data/8D_025/chl_occci_filled_flag-8D_025.zarr/2024:2024-12-06 00:00\u001b[0m\n"
     ]
    },
    {
     "name": "stderr",
     "output_type": "stream",
     "text": [
      "\n"
     ]
    },
    {
     "name": "stdout",
     "output_type": "stream",
     "text": [
      "\u001b[32m2025-05-30 12:28:21.119\u001b[0m | \u001b[1mINFO    \u001b[0m | \u001b[36moceansoda_ethzv2.data.utils.zarr_utils\u001b[0m:\u001b[36msave_to_zarr\u001b[0m:\u001b[36m321\u001b[0m - \u001b[1mStarting to write ../data/8D_025/chl_occci_filled-8D_025.zarr for time 2024-12-14 00:00:00\u001b[0m\n"
     ]
    },
    {
     "name": "stderr",
     "output_type": "stream",
     "text": [
      "Saving ../data/8D_025/chl_occci_filled-8D_025.zarr/2024:2024-12-14 00:00: 100%|██████████| 41/41 [00:00<00:00, 870.17it/s]"
     ]
    },
    {
     "name": "stdout",
     "output_type": "stream",
     "text": [
      "\u001b[32m2025-05-30 12:28:21.202\u001b[0m | \u001b[32m\u001b[1mSUCCESS \u001b[0m | \u001b[36moceansoda_ethzv2.data.utils.zarr_utils\u001b[0m:\u001b[36msave_to_zarr\u001b[0m:\u001b[36m329\u001b[0m - \u001b[32m\u001b[1mSaved to: ../data/8D_025/chl_occci_filled-8D_025.zarr/2024:2024-12-14 00:00\u001b[0m\n"
     ]
    },
    {
     "name": "stderr",
     "output_type": "stream",
     "text": [
      "\n"
     ]
    },
    {
     "name": "stdout",
     "output_type": "stream",
     "text": [
      "\u001b[32m2025-05-30 12:28:21.223\u001b[0m | \u001b[1mINFO    \u001b[0m | \u001b[36moceansoda_ethzv2.data.utils.zarr_utils\u001b[0m:\u001b[36msave_to_zarr\u001b[0m:\u001b[36m321\u001b[0m - \u001b[1mStarting to write ../data/8D_025/chl_occci_filled_flag-8D_025.zarr for time 2024-12-14 00:00:00\u001b[0m\n"
     ]
    },
    {
     "name": "stderr",
     "output_type": "stream",
     "text": [
      "Saving ../data/8D_025/chl_occci_filled_flag-8D_025.zarr/2024:2024-12-14 00:00: 100%|██████████| 41/41 [00:00<00:00, 589.58it/s]"
     ]
    },
    {
     "name": "stdout",
     "output_type": "stream",
     "text": [
      "\u001b[32m2025-05-30 12:28:21.333\u001b[0m | \u001b[32m\u001b[1mSUCCESS \u001b[0m | \u001b[36moceansoda_ethzv2.data.utils.zarr_utils\u001b[0m:\u001b[36msave_to_zarr\u001b[0m:\u001b[36m329\u001b[0m - \u001b[32m\u001b[1mSaved to: ../data/8D_025/chl_occci_filled_flag-8D_025.zarr/2024:2024-12-14 00:00\u001b[0m\n"
     ]
    },
    {
     "name": "stderr",
     "output_type": "stream",
     "text": [
      "\n"
     ]
    },
    {
     "name": "stdout",
     "output_type": "stream",
     "text": [
      "\u001b[32m2025-05-30 12:28:21.365\u001b[0m | \u001b[1mINFO    \u001b[0m | \u001b[36moceansoda_ethzv2.data.utils.zarr_utils\u001b[0m:\u001b[36msave_to_zarr\u001b[0m:\u001b[36m321\u001b[0m - \u001b[1mStarting to write ../data/8D_025/chl_occci_filled-8D_025.zarr for time 2024-12-22 00:00:00\u001b[0m\n"
     ]
    },
    {
     "name": "stderr",
     "output_type": "stream",
     "text": [
      "Saving ../data/8D_025/chl_occci_filled-8D_025.zarr/2024:2024-12-22 00:00: 100%|██████████| 41/41 [00:00<00:00, 803.38it/s]"
     ]
    },
    {
     "name": "stdout",
     "output_type": "stream",
     "text": [
      "\u001b[32m2025-05-30 12:28:21.453\u001b[0m | \u001b[32m\u001b[1mSUCCESS \u001b[0m | \u001b[36moceansoda_ethzv2.data.utils.zarr_utils\u001b[0m:\u001b[36msave_to_zarr\u001b[0m:\u001b[36m329\u001b[0m - \u001b[32m\u001b[1mSaved to: ../data/8D_025/chl_occci_filled-8D_025.zarr/2024:2024-12-22 00:00\u001b[0m\n"
     ]
    },
    {
     "name": "stderr",
     "output_type": "stream",
     "text": [
      "\n"
     ]
    },
    {
     "name": "stdout",
     "output_type": "stream",
     "text": [
      "\u001b[32m2025-05-30 12:28:21.474\u001b[0m | \u001b[1mINFO    \u001b[0m | \u001b[36moceansoda_ethzv2.data.utils.zarr_utils\u001b[0m:\u001b[36msave_to_zarr\u001b[0m:\u001b[36m321\u001b[0m - \u001b[1mStarting to write ../data/8D_025/chl_occci_filled_flag-8D_025.zarr for time 2024-12-22 00:00:00\u001b[0m\n"
     ]
    },
    {
     "name": "stderr",
     "output_type": "stream",
     "text": [
      "Saving ../data/8D_025/chl_occci_filled_flag-8D_025.zarr/2024:2024-12-22 00:00: 100%|██████████| 41/41 [00:00<00:00, 628.13it/s]"
     ]
    },
    {
     "name": "stdout",
     "output_type": "stream",
     "text": [
      "\u001b[32m2025-05-30 12:28:21.577\u001b[0m | \u001b[32m\u001b[1mSUCCESS \u001b[0m | \u001b[36moceansoda_ethzv2.data.utils.zarr_utils\u001b[0m:\u001b[36msave_to_zarr\u001b[0m:\u001b[36m329\u001b[0m - \u001b[32m\u001b[1mSaved to: ../data/8D_025/chl_occci_filled_flag-8D_025.zarr/2024:2024-12-22 00:00\u001b[0m\n"
     ]
    },
    {
     "name": "stderr",
     "output_type": "stream",
     "text": [
      "\n"
     ]
    },
    {
     "name": "stdout",
     "output_type": "stream",
     "text": [
      "\u001b[32m2025-05-30 12:28:21.609\u001b[0m | \u001b[1mINFO    \u001b[0m | \u001b[36moceansoda_ethzv2.data.utils.zarr_utils\u001b[0m:\u001b[36msave_to_zarr\u001b[0m:\u001b[36m321\u001b[0m - \u001b[1mStarting to write ../data/8D_025/chl_occci_filled-8D_025.zarr for time 2024-12-29 00:00:00\u001b[0m\n"
     ]
    },
    {
     "name": "stderr",
     "output_type": "stream",
     "text": [
      "Saving ../data/8D_025/chl_occci_filled-8D_025.zarr/2024:2024-12-29 00:00: 100%|██████████| 41/41 [00:00<00:00, 790.75it/s]"
     ]
    },
    {
     "name": "stdout",
     "output_type": "stream",
     "text": [
      "\u001b[32m2025-05-30 12:28:21.698\u001b[0m | \u001b[32m\u001b[1mSUCCESS \u001b[0m | \u001b[36moceansoda_ethzv2.data.utils.zarr_utils\u001b[0m:\u001b[36msave_to_zarr\u001b[0m:\u001b[36m329\u001b[0m - \u001b[32m\u001b[1mSaved to: ../data/8D_025/chl_occci_filled-8D_025.zarr/2024:2024-12-29 00:00\u001b[0m\n"
     ]
    },
    {
     "name": "stderr",
     "output_type": "stream",
     "text": [
      "\n"
     ]
    },
    {
     "name": "stdout",
     "output_type": "stream",
     "text": [
      "\u001b[32m2025-05-30 12:28:21.720\u001b[0m | \u001b[1mINFO    \u001b[0m | \u001b[36moceansoda_ethzv2.data.utils.zarr_utils\u001b[0m:\u001b[36msave_to_zarr\u001b[0m:\u001b[36m321\u001b[0m - \u001b[1mStarting to write ../data/8D_025/chl_occci_filled_flag-8D_025.zarr for time 2024-12-29 00:00:00\u001b[0m\n"
     ]
    },
    {
     "name": "stderr",
     "output_type": "stream",
     "text": [
      "Saving ../data/8D_025/chl_occci_filled_flag-8D_025.zarr/2024:2024-12-29 00:00: 100%|██████████| 41/41 [00:00<00:00, 622.62it/s]"
     ]
    },
    {
     "name": "stdout",
     "output_type": "stream",
     "text": [
      "\u001b[32m2025-05-30 12:28:21.826\u001b[0m | \u001b[32m\u001b[1mSUCCESS \u001b[0m | \u001b[36moceansoda_ethzv2.data.utils.zarr_utils\u001b[0m:\u001b[36msave_to_zarr\u001b[0m:\u001b[36m329\u001b[0m - \u001b[32m\u001b[1mSaved to: ../data/8D_025/chl_occci_filled_flag-8D_025.zarr/2024:2024-12-29 00:00\u001b[0m\n"
     ]
    },
    {
     "name": "stderr",
     "output_type": "stream",
     "text": [
      "\n"
     ]
    }
   ],
   "source": [
    "for i in range(46):\n",
    "    ocn.data.utils.save_vars_to_zarrs(\n",
    "        ds_chl_filled.isel(time=[i]), \n",
    "        fname_fmt=\"../data/8D_025/{var}-8D_025.zarr/\", \n",
    "        progress=True)"
   ]
  },
  {
   "cell_type": "markdown",
   "metadata": {},
   "source": [
    "## Salinity stacking"
   ]
  },
  {
   "cell_type": "code",
   "execution_count": 108,
   "metadata": {
    "execution": {
     "iopub.execute_input": "2025-05-30T12:24:59.912717Z",
     "iopub.status.busy": "2025-05-30T12:24:59.912077Z",
     "iopub.status.idle": "2025-05-30T12:24:59.965362Z",
     "shell.execute_reply": "2025-05-30T12:24:59.964332Z",
     "shell.execute_reply.started": "2025-05-30T12:24:59.912666Z"
    }
   },
   "outputs": [],
   "source": [
    "year_validator = ocn.data.utils.checker.ZarrYearValidator()"
   ]
  },
  {
   "cell_type": "code",
   "execution_count": 94,
   "metadata": {
    "execution": {
     "iopub.execute_input": "2025-05-30T12:18:41.496534Z",
     "iopub.status.busy": "2025-05-30T12:18:41.495877Z",
     "iopub.status.idle": "2025-05-30T12:18:41.678851Z",
     "shell.execute_reply": "2025-05-30T12:18:41.677677Z",
     "shell.execute_reply.started": "2025-05-30T12:18:41.496481Z"
    }
   },
   "outputs": [],
   "source": [
    "sss_soda = xr.open_zarr('../data/8D_025/sss_soda-8D_025.zarr/2024', consolidated=False).sss_soda\n",
    "sss_multi = xr.open_zarr('../data/8D_025/sss_multiobs-8D_025.zarr/2024', consolidated=False).sss_multiobs"
   ]
  },
  {
   "cell_type": "code",
   "execution_count": 112,
   "metadata": {
    "execution": {
     "iopub.execute_input": "2025-05-30T12:25:36.304151Z",
     "iopub.status.busy": "2025-05-30T12:25:36.303305Z",
     "iopub.status.idle": "2025-05-30T12:25:36.369145Z",
     "shell.execute_reply": "2025-05-30T12:25:36.368224Z",
     "shell.execute_reply.started": "2025-05-30T12:25:36.304096Z"
    }
   },
   "outputs": [],
   "source": [
    "sss_merged = xr.concat([\n",
    "    sss_soda,\n",
    "    sss_multi.isel(time=slice(sss_soda.time.size, None))\n",
    "], dim='time').rename('sss_stacked').assign_attrs(description='SODA <= 2024-11-28;  MultiObs > 2024-11-28')\n",
    "\n",
    "assert year_validator(sss_merged)\n",
    "ds_sss_merged = sss_merged.to_dataset()"
   ]
  },
  {
   "cell_type": "code",
   "execution_count": 114,
   "metadata": {
    "execution": {
     "iopub.execute_input": "2025-05-30T12:26:25.458195Z",
     "iopub.status.busy": "2025-05-30T12:26:25.457717Z",
     "iopub.status.idle": "2025-05-30T12:26:27.171280Z",
     "shell.execute_reply": "2025-05-30T12:26:27.169155Z",
     "shell.execute_reply.started": "2025-05-30T12:26:25.458158Z"
    }
   },
   "outputs": [
    {
     "name": "stderr",
     "output_type": "stream",
     "text": [
      "100%|██████████| 737/737 [00:01<00:00, 693.16it/s]\n"
     ]
    }
   ],
   "source": [
    "with ProgressBar():\n",
    "    ds_sss_merged.to_zarr('../data/8D_025/sss_merged-8D_025.zarr/')"
   ]
  },
  {
   "cell_type": "markdown",
   "metadata": {},
   "source": [
    "# Atmospheric CO2"
   ]
  },
  {
   "cell_type": "code",
   "execution_count": null,
   "metadata": {},
   "outputs": [],
   "source": []
  },
  {
   "cell_type": "code",
   "execution_count": 122,
   "metadata": {
    "execution": {
     "iopub.execute_input": "2025-05-30T12:36:13.159829Z",
     "iopub.status.busy": "2025-05-30T12:36:13.159184Z",
     "iopub.status.idle": "2025-05-30T12:36:16.725719Z",
     "shell.execute_reply": "2025-05-30T12:36:16.724078Z",
     "shell.execute_reply.started": "2025-05-30T12:36:13.159776Z"
    }
   },
   "outputs": [],
   "source": [
    "ds_atmospheric_co2 = ocn.data.co2atm.get_co2atm()"
   ]
  },
  {
   "cell_type": "code",
   "execution_count": 123,
   "metadata": {
    "execution": {
     "iopub.execute_input": "2025-05-30T12:36:21.094167Z",
     "iopub.status.busy": "2025-05-30T12:36:21.093497Z",
     "iopub.status.idle": "2025-05-30T12:36:21.172587Z",
     "shell.execute_reply": "2025-05-30T12:36:21.170577Z",
     "shell.execute_reply.started": "2025-05-30T12:36:21.094113Z"
    }
   },
   "outputs": [
    {
     "data": {
      "text/html": [
       "<div><svg style=\"position: absolute; width: 0; height: 0; overflow: hidden\">\n",
       "<defs>\n",
       "<symbol id=\"icon-database\" viewBox=\"0 0 32 32\">\n",
       "<path d=\"M16 0c-8.837 0-16 2.239-16 5v4c0 2.761 7.163 5 16 5s16-2.239 16-5v-4c0-2.761-7.163-5-16-5z\"></path>\n",
       "<path d=\"M16 17c-8.837 0-16-2.239-16-5v6c0 2.761 7.163 5 16 5s16-2.239 16-5v-6c0 2.761-7.163 5-16 5z\"></path>\n",
       "<path d=\"M16 26c-8.837 0-16-2.239-16-5v6c0 2.761 7.163 5 16 5s16-2.239 16-5v-6c0 2.761-7.163 5-16 5z\"></path>\n",
       "</symbol>\n",
       "<symbol id=\"icon-file-text2\" viewBox=\"0 0 32 32\">\n",
       "<path d=\"M28.681 7.159c-0.694-0.947-1.662-2.053-2.724-3.116s-2.169-2.030-3.116-2.724c-1.612-1.182-2.393-1.319-2.841-1.319h-15.5c-1.378 0-2.5 1.121-2.5 2.5v27c0 1.378 1.122 2.5 2.5 2.5h23c1.378 0 2.5-1.122 2.5-2.5v-19.5c0-0.448-0.137-1.23-1.319-2.841zM24.543 5.457c0.959 0.959 1.712 1.825 2.268 2.543h-4.811v-4.811c0.718 0.556 1.584 1.309 2.543 2.268zM28 29.5c0 0.271-0.229 0.5-0.5 0.5h-23c-0.271 0-0.5-0.229-0.5-0.5v-27c0-0.271 0.229-0.5 0.5-0.5 0 0 15.499-0 15.5 0v7c0 0.552 0.448 1 1 1h7v19.5z\"></path>\n",
       "<path d=\"M23 26h-14c-0.552 0-1-0.448-1-1s0.448-1 1-1h14c0.552 0 1 0.448 1 1s-0.448 1-1 1z\"></path>\n",
       "<path d=\"M23 22h-14c-0.552 0-1-0.448-1-1s0.448-1 1-1h14c0.552 0 1 0.448 1 1s-0.448 1-1 1z\"></path>\n",
       "<path d=\"M23 18h-14c-0.552 0-1-0.448-1-1s0.448-1 1-1h14c0.552 0 1 0.448 1 1s-0.448 1-1 1z\"></path>\n",
       "</symbol>\n",
       "</defs>\n",
       "</svg>\n",
       "<style>/* CSS stylesheet for displaying xarray objects in jupyterlab.\n",
       " *\n",
       " */\n",
       "\n",
       ":root {\n",
       "  --xr-font-color0: var(--jp-content-font-color0, rgba(0, 0, 0, 1));\n",
       "  --xr-font-color2: var(--jp-content-font-color2, rgba(0, 0, 0, 0.54));\n",
       "  --xr-font-color3: var(--jp-content-font-color3, rgba(0, 0, 0, 0.38));\n",
       "  --xr-border-color: var(--jp-border-color2, #e0e0e0);\n",
       "  --xr-disabled-color: var(--jp-layout-color3, #bdbdbd);\n",
       "  --xr-background-color: var(--jp-layout-color0, white);\n",
       "  --xr-background-color-row-even: var(--jp-layout-color1, white);\n",
       "  --xr-background-color-row-odd: var(--jp-layout-color2, #eeeeee);\n",
       "}\n",
       "\n",
       "html[theme=\"dark\"],\n",
       "html[data-theme=\"dark\"],\n",
       "body[data-theme=\"dark\"],\n",
       "body.vscode-dark {\n",
       "  --xr-font-color0: rgba(255, 255, 255, 1);\n",
       "  --xr-font-color2: rgba(255, 255, 255, 0.54);\n",
       "  --xr-font-color3: rgba(255, 255, 255, 0.38);\n",
       "  --xr-border-color: #1f1f1f;\n",
       "  --xr-disabled-color: #515151;\n",
       "  --xr-background-color: #111111;\n",
       "  --xr-background-color-row-even: #111111;\n",
       "  --xr-background-color-row-odd: #313131;\n",
       "}\n",
       "\n",
       ".xr-wrap {\n",
       "  display: block !important;\n",
       "  min-width: 300px;\n",
       "  max-width: 700px;\n",
       "}\n",
       "\n",
       ".xr-text-repr-fallback {\n",
       "  /* fallback to plain text repr when CSS is not injected (untrusted notebook) */\n",
       "  display: none;\n",
       "}\n",
       "\n",
       ".xr-header {\n",
       "  padding-top: 6px;\n",
       "  padding-bottom: 6px;\n",
       "  margin-bottom: 4px;\n",
       "  border-bottom: solid 1px var(--xr-border-color);\n",
       "}\n",
       "\n",
       ".xr-header > div,\n",
       ".xr-header > ul {\n",
       "  display: inline;\n",
       "  margin-top: 0;\n",
       "  margin-bottom: 0;\n",
       "}\n",
       "\n",
       ".xr-obj-type,\n",
       ".xr-array-name {\n",
       "  margin-left: 2px;\n",
       "  margin-right: 10px;\n",
       "}\n",
       "\n",
       ".xr-obj-type {\n",
       "  color: var(--xr-font-color2);\n",
       "}\n",
       "\n",
       ".xr-sections {\n",
       "  padding-left: 0 !important;\n",
       "  display: grid;\n",
       "  grid-template-columns: 150px auto auto 1fr 0 20px 0 20px;\n",
       "}\n",
       "\n",
       ".xr-section-item {\n",
       "  display: contents;\n",
       "}\n",
       "\n",
       ".xr-section-item input {\n",
       "  display: inline-block;\n",
       "  opacity: 0;\n",
       "  height: 0;\n",
       "}\n",
       "\n",
       ".xr-section-item input + label {\n",
       "  color: var(--xr-disabled-color);\n",
       "}\n",
       "\n",
       ".xr-section-item input:enabled + label {\n",
       "  cursor: pointer;\n",
       "  color: var(--xr-font-color2);\n",
       "}\n",
       "\n",
       ".xr-section-item input:focus + label {\n",
       "  border: 2px solid var(--xr-font-color0);\n",
       "}\n",
       "\n",
       ".xr-section-item input:enabled + label:hover {\n",
       "  color: var(--xr-font-color0);\n",
       "}\n",
       "\n",
       ".xr-section-summary {\n",
       "  grid-column: 1;\n",
       "  color: var(--xr-font-color2);\n",
       "  font-weight: 500;\n",
       "}\n",
       "\n",
       ".xr-section-summary > span {\n",
       "  display: inline-block;\n",
       "  padding-left: 0.5em;\n",
       "}\n",
       "\n",
       ".xr-section-summary-in:disabled + label {\n",
       "  color: var(--xr-font-color2);\n",
       "}\n",
       "\n",
       ".xr-section-summary-in + label:before {\n",
       "  display: inline-block;\n",
       "  content: \"►\";\n",
       "  font-size: 11px;\n",
       "  width: 15px;\n",
       "  text-align: center;\n",
       "}\n",
       "\n",
       ".xr-section-summary-in:disabled + label:before {\n",
       "  color: var(--xr-disabled-color);\n",
       "}\n",
       "\n",
       ".xr-section-summary-in:checked + label:before {\n",
       "  content: \"▼\";\n",
       "}\n",
       "\n",
       ".xr-section-summary-in:checked + label > span {\n",
       "  display: none;\n",
       "}\n",
       "\n",
       ".xr-section-summary,\n",
       ".xr-section-inline-details {\n",
       "  padding-top: 4px;\n",
       "  padding-bottom: 4px;\n",
       "}\n",
       "\n",
       ".xr-section-inline-details {\n",
       "  grid-column: 2 / -1;\n",
       "}\n",
       "\n",
       ".xr-section-details {\n",
       "  display: none;\n",
       "  grid-column: 1 / -1;\n",
       "  margin-bottom: 5px;\n",
       "}\n",
       "\n",
       ".xr-section-summary-in:checked ~ .xr-section-details {\n",
       "  display: contents;\n",
       "}\n",
       "\n",
       ".xr-array-wrap {\n",
       "  grid-column: 1 / -1;\n",
       "  display: grid;\n",
       "  grid-template-columns: 20px auto;\n",
       "}\n",
       "\n",
       ".xr-array-wrap > label {\n",
       "  grid-column: 1;\n",
       "  vertical-align: top;\n",
       "}\n",
       "\n",
       ".xr-preview {\n",
       "  color: var(--xr-font-color3);\n",
       "}\n",
       "\n",
       ".xr-array-preview,\n",
       ".xr-array-data {\n",
       "  padding: 0 5px !important;\n",
       "  grid-column: 2;\n",
       "}\n",
       "\n",
       ".xr-array-data,\n",
       ".xr-array-in:checked ~ .xr-array-preview {\n",
       "  display: none;\n",
       "}\n",
       "\n",
       ".xr-array-in:checked ~ .xr-array-data,\n",
       ".xr-array-preview {\n",
       "  display: inline-block;\n",
       "}\n",
       "\n",
       ".xr-dim-list {\n",
       "  display: inline-block !important;\n",
       "  list-style: none;\n",
       "  padding: 0 !important;\n",
       "  margin: 0;\n",
       "}\n",
       "\n",
       ".xr-dim-list li {\n",
       "  display: inline-block;\n",
       "  padding: 0;\n",
       "  margin: 0;\n",
       "}\n",
       "\n",
       ".xr-dim-list:before {\n",
       "  content: \"(\";\n",
       "}\n",
       "\n",
       ".xr-dim-list:after {\n",
       "  content: \")\";\n",
       "}\n",
       "\n",
       ".xr-dim-list li:not(:last-child):after {\n",
       "  content: \",\";\n",
       "  padding-right: 5px;\n",
       "}\n",
       "\n",
       ".xr-has-index {\n",
       "  font-weight: bold;\n",
       "}\n",
       "\n",
       ".xr-var-list,\n",
       ".xr-var-item {\n",
       "  display: contents;\n",
       "}\n",
       "\n",
       ".xr-var-item > div,\n",
       ".xr-var-item label,\n",
       ".xr-var-item > .xr-var-name span {\n",
       "  background-color: var(--xr-background-color-row-even);\n",
       "  margin-bottom: 0;\n",
       "}\n",
       "\n",
       ".xr-var-item > .xr-var-name:hover span {\n",
       "  padding-right: 5px;\n",
       "}\n",
       "\n",
       ".xr-var-list > li:nth-child(odd) > div,\n",
       ".xr-var-list > li:nth-child(odd) > label,\n",
       ".xr-var-list > li:nth-child(odd) > .xr-var-name span {\n",
       "  background-color: var(--xr-background-color-row-odd);\n",
       "}\n",
       "\n",
       ".xr-var-name {\n",
       "  grid-column: 1;\n",
       "}\n",
       "\n",
       ".xr-var-dims {\n",
       "  grid-column: 2;\n",
       "}\n",
       "\n",
       ".xr-var-dtype {\n",
       "  grid-column: 3;\n",
       "  text-align: right;\n",
       "  color: var(--xr-font-color2);\n",
       "}\n",
       "\n",
       ".xr-var-preview {\n",
       "  grid-column: 4;\n",
       "}\n",
       "\n",
       ".xr-index-preview {\n",
       "  grid-column: 2 / 5;\n",
       "  color: var(--xr-font-color2);\n",
       "}\n",
       "\n",
       ".xr-var-name,\n",
       ".xr-var-dims,\n",
       ".xr-var-dtype,\n",
       ".xr-preview,\n",
       ".xr-attrs dt {\n",
       "  white-space: nowrap;\n",
       "  overflow: hidden;\n",
       "  text-overflow: ellipsis;\n",
       "  padding-right: 10px;\n",
       "}\n",
       "\n",
       ".xr-var-name:hover,\n",
       ".xr-var-dims:hover,\n",
       ".xr-var-dtype:hover,\n",
       ".xr-attrs dt:hover {\n",
       "  overflow: visible;\n",
       "  width: auto;\n",
       "  z-index: 1;\n",
       "}\n",
       "\n",
       ".xr-var-attrs,\n",
       ".xr-var-data,\n",
       ".xr-index-data {\n",
       "  display: none;\n",
       "  background-color: var(--xr-background-color) !important;\n",
       "  padding-bottom: 5px !important;\n",
       "}\n",
       "\n",
       ".xr-var-attrs-in:checked ~ .xr-var-attrs,\n",
       ".xr-var-data-in:checked ~ .xr-var-data,\n",
       ".xr-index-data-in:checked ~ .xr-index-data {\n",
       "  display: block;\n",
       "}\n",
       "\n",
       ".xr-var-data > table {\n",
       "  float: right;\n",
       "}\n",
       "\n",
       ".xr-var-name span,\n",
       ".xr-var-data,\n",
       ".xr-index-name div,\n",
       ".xr-index-data,\n",
       ".xr-attrs {\n",
       "  padding-left: 25px !important;\n",
       "}\n",
       "\n",
       ".xr-attrs,\n",
       ".xr-var-attrs,\n",
       ".xr-var-data,\n",
       ".xr-index-data {\n",
       "  grid-column: 1 / -1;\n",
       "}\n",
       "\n",
       "dl.xr-attrs {\n",
       "  padding: 0;\n",
       "  margin: 0;\n",
       "  display: grid;\n",
       "  grid-template-columns: 125px auto;\n",
       "}\n",
       "\n",
       ".xr-attrs dt,\n",
       ".xr-attrs dd {\n",
       "  padding: 0;\n",
       "  margin: 0;\n",
       "  float: left;\n",
       "  padding-right: 10px;\n",
       "  width: auto;\n",
       "}\n",
       "\n",
       ".xr-attrs dt {\n",
       "  font-weight: normal;\n",
       "  grid-column: 1;\n",
       "}\n",
       "\n",
       ".xr-attrs dt:hover span {\n",
       "  display: inline-block;\n",
       "  background: var(--xr-background-color);\n",
       "  padding-right: 10px;\n",
       "}\n",
       "\n",
       ".xr-attrs dd {\n",
       "  grid-column: 2;\n",
       "  white-space: pre-wrap;\n",
       "  word-break: break-all;\n",
       "}\n",
       "\n",
       ".xr-icon-database,\n",
       ".xr-icon-file-text2,\n",
       ".xr-no-icon {\n",
       "  display: inline-block;\n",
       "  vertical-align: middle;\n",
       "  width: 1em;\n",
       "  height: 1.5em !important;\n",
       "  stroke-width: 0;\n",
       "  stroke: currentColor;\n",
       "  fill: currentColor;\n",
       "}\n",
       "</style><pre class='xr-text-repr-fallback'>&lt;xarray.Dataset&gt; Size: 20MB\n",
       "Dimensions:               (time: 2364, lat: 720)\n",
       "Coordinates:\n",
       "  * time                  (time) datetime64[ns] 19kB 1974-01-05 ... 2025-05-21\n",
       "  * lat                   (lat) float64 6kB -89.88 -89.62 -89.38 ... 89.62 89.88\n",
       "Data variables:\n",
       "    xco2atm_mauna_loa     (time) float32 9kB nan nan nan nan ... 147.6 147.2 nan\n",
       "    xco2mbl_noaa          (time, lat) float32 7MB nan nan nan ... 433.6 433.6\n",
       "    xco2mbl_noaa_regress  (time, lat) float32 7MB nan nan nan ... 433.6 433.6\n",
       "    xco2mbl_noaa_raw      (time, lat) float32 7MB nan nan nan ... nan nan nan\n",
       "Attributes:\n",
       "    source:   https://gml.noaa.gov/webdata/ccgg/trends/co2/co2_weekly_mlo.csv\n",
       "    units:    ppm</pre><div class='xr-wrap' style='display:none'><div class='xr-header'><div class='xr-obj-type'>xarray.Dataset</div></div><ul class='xr-sections'><li class='xr-section-item'><input id='section-61a41fd1-0731-416c-86d6-6754f949bf01' class='xr-section-summary-in' type='checkbox' disabled ><label for='section-61a41fd1-0731-416c-86d6-6754f949bf01' class='xr-section-summary'  title='Expand/collapse section'>Dimensions:</label><div class='xr-section-inline-details'><ul class='xr-dim-list'><li><span class='xr-has-index'>time</span>: 2364</li><li><span class='xr-has-index'>lat</span>: 720</li></ul></div><div class='xr-section-details'></div></li><li class='xr-section-item'><input id='section-c12c56d9-f717-405f-b975-1ff41ad1418f' class='xr-section-summary-in' type='checkbox'  checked><label for='section-c12c56d9-f717-405f-b975-1ff41ad1418f' class='xr-section-summary' >Coordinates: <span>(2)</span></label><div class='xr-section-inline-details'></div><div class='xr-section-details'><ul class='xr-var-list'><li class='xr-var-item'><div class='xr-var-name'><span class='xr-has-index'>time</span></div><div class='xr-var-dims'>(time)</div><div class='xr-var-dtype'>datetime64[ns]</div><div class='xr-var-preview xr-preview'>1974-01-05 ... 2025-05-21</div><input id='attrs-4f23983c-9cce-4127-a0f0-8f8d566a7fc6' class='xr-var-attrs-in' type='checkbox' disabled><label for='attrs-4f23983c-9cce-4127-a0f0-8f8d566a7fc6' title='Show/Hide attributes'><svg class='icon xr-icon-file-text2'><use xlink:href='#icon-file-text2'></use></svg></label><input id='data-a2f9bbe5-1175-4347-bdfa-a8d798b37587' class='xr-var-data-in' type='checkbox'><label for='data-a2f9bbe5-1175-4347-bdfa-a8d798b37587' title='Show/Hide data repr'><svg class='icon xr-icon-database'><use xlink:href='#icon-database'></use></svg></label><div class='xr-var-attrs'><dl class='xr-attrs'></dl></div><div class='xr-var-data'><pre>array([&#x27;1974-01-05T00:00:00.000000000&#x27;, &#x27;1974-01-13T00:00:00.000000000&#x27;,\n",
       "       &#x27;1974-01-21T00:00:00.000000000&#x27;, ..., &#x27;2025-05-05T00:00:00.000000000&#x27;,\n",
       "       &#x27;2025-05-13T00:00:00.000000000&#x27;, &#x27;2025-05-21T00:00:00.000000000&#x27;],\n",
       "      shape=(2364,), dtype=&#x27;datetime64[ns]&#x27;)</pre></div></li><li class='xr-var-item'><div class='xr-var-name'><span class='xr-has-index'>lat</span></div><div class='xr-var-dims'>(lat)</div><div class='xr-var-dtype'>float64</div><div class='xr-var-preview xr-preview'>-89.88 -89.62 ... 89.62 89.88</div><input id='attrs-dc6b52e9-532d-4a84-923c-7770023230a7' class='xr-var-attrs-in' type='checkbox' disabled><label for='attrs-dc6b52e9-532d-4a84-923c-7770023230a7' title='Show/Hide attributes'><svg class='icon xr-icon-file-text2'><use xlink:href='#icon-file-text2'></use></svg></label><input id='data-1e462f65-e62b-4c11-9ebd-080d1f83f1eb' class='xr-var-data-in' type='checkbox'><label for='data-1e462f65-e62b-4c11-9ebd-080d1f83f1eb' title='Show/Hide data repr'><svg class='icon xr-icon-database'><use xlink:href='#icon-database'></use></svg></label><div class='xr-var-attrs'><dl class='xr-attrs'></dl></div><div class='xr-var-data'><pre>array([-89.875, -89.625, -89.375, ...,  89.375,  89.625,  89.875], shape=(720,))</pre></div></li></ul></div></li><li class='xr-section-item'><input id='section-29682c10-d4f0-4db4-a0ed-5e84889e2ff8' class='xr-section-summary-in' type='checkbox'  checked><label for='section-29682c10-d4f0-4db4-a0ed-5e84889e2ff8' class='xr-section-summary' >Data variables: <span>(4)</span></label><div class='xr-section-inline-details'></div><div class='xr-section-details'><ul class='xr-var-list'><li class='xr-var-item'><div class='xr-var-name'><span>xco2atm_mauna_loa</span></div><div class='xr-var-dims'>(time)</div><div class='xr-var-dtype'>float32</div><div class='xr-var-preview xr-preview'>nan nan nan nan ... 147.6 147.2 nan</div><input id='attrs-b4e47e98-41e1-4442-990d-745614a2fa5c' class='xr-var-attrs-in' type='checkbox' ><label for='attrs-b4e47e98-41e1-4442-990d-745614a2fa5c' title='Show/Hide attributes'><svg class='icon xr-icon-file-text2'><use xlink:href='#icon-file-text2'></use></svg></label><input id='data-85bd6a20-89f2-4739-8278-7cd32ab76ff6' class='xr-var-data-in' type='checkbox'><label for='data-85bd6a20-89f2-4739-8278-7cd32ab76ff6' title='Show/Hide data repr'><svg class='icon xr-icon-database'><use xlink:href='#icon-database'></use></svg></label><div class='xr-var-attrs'><dl class='xr-attrs'><dt><span>source :</span></dt><dd>https://gml.noaa.gov/webdata/ccgg/trends/co2/co2_weekly_mlo.csv</dd><dt><span>units :</span></dt><dd>ppm</dd></dl></div><div class='xr-var-data'><pre>array([      nan,       nan,       nan, ..., 147.58571, 147.18571,\n",
       "             nan], shape=(2364,), dtype=float32)</pre></div></li><li class='xr-var-item'><div class='xr-var-name'><span>xco2mbl_noaa</span></div><div class='xr-var-dims'>(time, lat)</div><div class='xr-var-dtype'>float32</div><div class='xr-var-preview xr-preview'>nan nan nan ... 433.6 433.6 433.6</div><input id='attrs-90e62439-cf0e-4a5b-99a7-72ed404a64bd' class='xr-var-attrs-in' type='checkbox' ><label for='attrs-90e62439-cf0e-4a5b-99a7-72ed404a64bd' title='Show/Hide attributes'><svg class='icon xr-icon-file-text2'><use xlink:href='#icon-file-text2'></use></svg></label><input id='data-d4548ad8-050d-4cc6-bfce-efbca6bd3003' class='xr-var-data-in' type='checkbox'><label for='data-d4548ad8-050d-4cc6-bfce-efbca6bd3003' title='Show/Hide data repr'><svg class='icon xr-icon-database'><use xlink:href='#icon-database'></use></svg></label><div class='xr-var-attrs'><dl class='xr-attrs'><dt><span>source :</span></dt><dd>https://gml.noaa.gov/ccgg/mbl/tmp/co2_GHGreference.683788075_surface.txt</dd><dt><span>date_url_fetched :</span></dt><dd>2025-05-16</dd><dt><span>description :</span></dt><dd>xCO2mbl regressed against Mauna Loa xCO2 for each pixel. The missing times are then computed with the regression. This dataset contains the orginal dataset + the regressed missing data at the end of the time series. </dd><dt><span>r2_excl_seas_resid :</span></dt><dd>0.974</dd><dt><span>r2_incl_seas_resid :</span></dt><dd>0.999</dd><dt><span>interpolated_from :</span></dt><dd>2023-12-29</dd></dl></div><div class='xr-var-data'><pre>array([[      nan,       nan,       nan, ...,       nan,       nan,\n",
       "              nan],\n",
       "       [      nan,       nan,       nan, ...,       nan,       nan,\n",
       "              nan],\n",
       "       [      nan,       nan,       nan, ...,       nan,       nan,\n",
       "              nan],\n",
       "       ...,\n",
       "       [421.99866, 421.99863, 421.9986 , ..., 434.13693, 434.13702,\n",
       "        434.13712],\n",
       "       [421.99158, 421.99155, 421.99152, ..., 433.93246, 433.93314,\n",
       "        433.9338 ],\n",
       "       [421.9803 , 421.98026, 421.98022, ..., 433.59842, 433.59985,\n",
       "        433.6013 ]], shape=(2364, 720), dtype=float32)</pre></div></li><li class='xr-var-item'><div class='xr-var-name'><span>xco2mbl_noaa_regress</span></div><div class='xr-var-dims'>(time, lat)</div><div class='xr-var-dtype'>float32</div><div class='xr-var-preview xr-preview'>nan nan nan ... 433.6 433.6 433.6</div><input id='attrs-cf49ed5f-bbde-46b4-b2e0-7b8ea2fd1891' class='xr-var-attrs-in' type='checkbox' ><label for='attrs-cf49ed5f-bbde-46b4-b2e0-7b8ea2fd1891' title='Show/Hide attributes'><svg class='icon xr-icon-file-text2'><use xlink:href='#icon-file-text2'></use></svg></label><input id='data-8699d989-3f3e-4436-9fa7-78368e3dc768' class='xr-var-data-in' type='checkbox'><label for='data-8699d989-3f3e-4436-9fa7-78368e3dc768' title='Show/Hide data repr'><svg class='icon xr-icon-database'><use xlink:href='#icon-database'></use></svg></label><div class='xr-var-attrs'><dl class='xr-attrs'><dt><span>description :</span></dt><dd>Regression of `xco2atm_mauna_loa` against `xco2mbl_noaa` with seasonal cycle added - only regressed data and no original data</dd><dt><span>r2_excl_seas_resid :</span></dt><dd>0.974</dd><dt><span>r2_incl_seas_resid :</span></dt><dd>0.999</dd><dt><span>interpolated_from :</span></dt><dd>2023-12-29</dd></dl></div><div class='xr-var-data'><pre>array([[      nan,       nan,       nan, ...,       nan,       nan,\n",
       "              nan],\n",
       "       [      nan,       nan,       nan, ...,       nan,       nan,\n",
       "              nan],\n",
       "       [      nan,       nan,       nan, ...,       nan,       nan,\n",
       "              nan],\n",
       "       ...,\n",
       "       [421.99866, 421.99863, 421.9986 , ..., 434.13693, 434.13702,\n",
       "        434.13712],\n",
       "       [421.99158, 421.99155, 421.99152, ..., 433.93246, 433.93314,\n",
       "        433.9338 ],\n",
       "       [421.9803 , 421.98026, 421.98022, ..., 433.59842, 433.59985,\n",
       "        433.6013 ]], shape=(2364, 720), dtype=float32)</pre></div></li><li class='xr-var-item'><div class='xr-var-name'><span>xco2mbl_noaa_raw</span></div><div class='xr-var-dims'>(time, lat)</div><div class='xr-var-dtype'>float32</div><div class='xr-var-preview xr-preview'>nan nan nan nan ... nan nan nan nan</div><input id='attrs-97d7312c-ec5c-438e-835e-00dc62925b45' class='xr-var-attrs-in' type='checkbox' ><label for='attrs-97d7312c-ec5c-438e-835e-00dc62925b45' title='Show/Hide attributes'><svg class='icon xr-icon-file-text2'><use xlink:href='#icon-file-text2'></use></svg></label><input id='data-37a73ecf-f35b-4c11-818a-33670c17c806' class='xr-var-data-in' type='checkbox'><label for='data-37a73ecf-f35b-4c11-818a-33670c17c806' title='Show/Hide data repr'><svg class='icon xr-icon-database'><use xlink:href='#icon-database'></use></svg></label><div class='xr-var-attrs'><dl class='xr-attrs'><dt><span>source :</span></dt><dd>https://gml.noaa.gov/ccgg/mbl/tmp/co2_GHGreference.683788075_surface.txt</dd><dt><span>date_url_fetched :</span></dt><dd>2025-05-16</dd></dl></div><div class='xr-var-data'><pre>array([[nan, nan, nan, ..., nan, nan, nan],\n",
       "       [nan, nan, nan, ..., nan, nan, nan],\n",
       "       [nan, nan, nan, ..., nan, nan, nan],\n",
       "       ...,\n",
       "       [nan, nan, nan, ..., nan, nan, nan],\n",
       "       [nan, nan, nan, ..., nan, nan, nan],\n",
       "       [nan, nan, nan, ..., nan, nan, nan]],\n",
       "      shape=(2364, 720), dtype=float32)</pre></div></li></ul></div></li><li class='xr-section-item'><input id='section-42b3bf1c-8df4-416d-80fc-edadc2003265' class='xr-section-summary-in' type='checkbox'  ><label for='section-42b3bf1c-8df4-416d-80fc-edadc2003265' class='xr-section-summary' >Indexes: <span>(2)</span></label><div class='xr-section-inline-details'></div><div class='xr-section-details'><ul class='xr-var-list'><li class='xr-var-item'><div class='xr-index-name'><div>time</div></div><div class='xr-index-preview'>PandasIndex</div><input type='checkbox' disabled/><label></label><input id='index-0c57d0b0-fc56-48e1-a399-03fe73d55b18' class='xr-index-data-in' type='checkbox'/><label for='index-0c57d0b0-fc56-48e1-a399-03fe73d55b18' title='Show/Hide index repr'><svg class='icon xr-icon-database'><use xlink:href='#icon-database'></use></svg></label><div class='xr-index-data'><pre>PandasIndex(DatetimeIndex([&#x27;1974-01-05 00:00:00&#x27;, &#x27;1974-01-13 00:00:00&#x27;,\n",
       "               &#x27;1974-01-21 00:00:00&#x27;, &#x27;1974-01-29 00:00:00&#x27;,\n",
       "               &#x27;1974-02-06 00:00:00&#x27;, &#x27;1974-02-14 00:00:00&#x27;,\n",
       "               &#x27;1974-02-22 00:00:00&#x27;, &#x27;1974-03-02 00:00:00&#x27;,\n",
       "               &#x27;1974-03-10 00:00:00&#x27;, &#x27;1974-03-18 00:00:00&#x27;,\n",
       "               ...\n",
       "               &#x27;2025-03-10 00:00:00&#x27;, &#x27;2025-03-18 00:00:00&#x27;,\n",
       "               &#x27;2025-03-26 00:00:00&#x27;, &#x27;2025-04-03 00:00:00&#x27;,\n",
       "               &#x27;2025-04-11 00:00:00&#x27;, &#x27;2025-04-19 00:00:00&#x27;,\n",
       "               &#x27;2025-04-27 00:00:00&#x27;, &#x27;2025-05-05 00:00:00&#x27;,\n",
       "               &#x27;2025-05-13 00:00:00&#x27;, &#x27;2025-05-21 00:00:00&#x27;],\n",
       "              dtype=&#x27;datetime64[ns]&#x27;, name=&#x27;time&#x27;, length=2364, freq=None))</pre></div></li><li class='xr-var-item'><div class='xr-index-name'><div>lat</div></div><div class='xr-index-preview'>PandasIndex</div><input type='checkbox' disabled/><label></label><input id='index-f4c43d27-40f0-43da-9e77-13ed6caee39f' class='xr-index-data-in' type='checkbox'/><label for='index-f4c43d27-40f0-43da-9e77-13ed6caee39f' title='Show/Hide index repr'><svg class='icon xr-icon-database'><use xlink:href='#icon-database'></use></svg></label><div class='xr-index-data'><pre>PandasIndex(Index([-89.875, -89.625, -89.375, -89.125, -88.875, -88.625, -88.375, -88.125,\n",
       "       -87.875, -87.625,\n",
       "       ...\n",
       "        87.625,  87.875,  88.125,  88.375,  88.625,  88.875,  89.125,  89.375,\n",
       "        89.625,  89.875],\n",
       "      dtype=&#x27;float64&#x27;, name=&#x27;lat&#x27;, length=720))</pre></div></li></ul></div></li><li class='xr-section-item'><input id='section-b02751dd-cb16-4570-86ef-d2c5894904d2' class='xr-section-summary-in' type='checkbox'  checked><label for='section-b02751dd-cb16-4570-86ef-d2c5894904d2' class='xr-section-summary' >Attributes: <span>(2)</span></label><div class='xr-section-inline-details'></div><div class='xr-section-details'><dl class='xr-attrs'><dt><span>source :</span></dt><dd>https://gml.noaa.gov/webdata/ccgg/trends/co2/co2_weekly_mlo.csv</dd><dt><span>units :</span></dt><dd>ppm</dd></dl></div></li></ul></div></div>"
      ],
      "text/plain": [
       "<xarray.Dataset> Size: 20MB\n",
       "Dimensions:               (time: 2364, lat: 720)\n",
       "Coordinates:\n",
       "  * time                  (time) datetime64[ns] 19kB 1974-01-05 ... 2025-05-21\n",
       "  * lat                   (lat) float64 6kB -89.88 -89.62 -89.38 ... 89.62 89.88\n",
       "Data variables:\n",
       "    xco2atm_mauna_loa     (time) float32 9kB nan nan nan nan ... 147.6 147.2 nan\n",
       "    xco2mbl_noaa          (time, lat) float32 7MB nan nan nan ... 433.6 433.6\n",
       "    xco2mbl_noaa_regress  (time, lat) float32 7MB nan nan nan ... 433.6 433.6\n",
       "    xco2mbl_noaa_raw      (time, lat) float32 7MB nan nan nan ... nan nan nan\n",
       "Attributes:\n",
       "    source:   https://gml.noaa.gov/webdata/ccgg/trends/co2/co2_weekly_mlo.csv\n",
       "    units:    ppm"
      ]
     },
     "execution_count": 123,
     "metadata": {},
     "output_type": "execute_result"
    }
   ],
   "source": [
    "ds_atmospheric_co2"
   ]
  },
  {
   "cell_type": "code",
   "execution_count": 121,
   "metadata": {
    "execution": {
     "iopub.execute_input": "2025-05-30T12:31:49.195760Z",
     "iopub.status.busy": "2025-05-30T12:31:49.195150Z",
     "iopub.status.idle": "2025-05-30T12:32:02.278761Z",
     "shell.execute_reply": "2025-05-30T12:32:02.276933Z",
     "shell.execute_reply.started": "2025-05-30T12:31:49.195703Z"
    }
   },
   "outputs": [
    {
     "data": {
      "text/plain": [
       "<matplotlib.image.AxesImage at 0x7fb1d948bc50>"
      ]
     },
     "execution_count": 121,
     "metadata": {},
     "output_type": "execute_result"
    },
    {
     "data": {
      "image/png": "[encoded data removed]",
      "text/plain": [
       "<Figure size 1600x400 with 2 Axes>"
      ]
     },
     "metadata": {},
     "output_type": "display_data"
    }
   ],
   "source": [
    "ds_atmospheric_co2.xco2mbl_noaa.T.plot.imshow(aspect=4, size=4)"
   ]
  }
 ],
 "metadata": {
  "kernelspec": {
   "display_name": "oceansoda2",
   "language": "python",
   "name": "oceansoda2"
  },
  "language_info": {
   "codemirror_mode": {
    "name": "ipython",
    "version": 3
   },
   "file_extension": ".py",
   "mimetype": "text/x-python",
   "name": "python",
   "nbconvert_exporter": "python",
   "pygments_lexer": "ipython3",
   "version": "3.12.9"
  }
 },
 "nbformat": 4,
 "nbformat_minor": 4
}
